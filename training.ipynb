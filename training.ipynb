{
 "cells": [
  {
   "cell_type": "markdown",
   "metadata": {
    "collapsed": false
   },
   "source": [
    "###### In this project, we intend to develop a model to make predictions for the number of prisoners we have based on the factors like burglary, larceny, man\\_slaughter, etc. depending on how many null values these columns have. Further in the next few cells in this training file, we will show up what visualizations we create to understand the factors we need to be taken into consideration.\n",
    "\n"
   ]
  },
  {
   "cell_type": "markdown",
   "metadata": {
    "collapsed": false
   },
   "source": [
    "## Imports\n",
    "\n"
   ]
  },
  {
   "cell_type": "code",
   "execution_count": 1,
   "metadata": {
    "collapsed": false,
    "scrolled": true
   },
   "outputs": [
   ],
   "source": [
    "import pandas as pd\n",
    "import seaborn as sns\n",
    "import matplotlib.pyplot as plt\n",
    "import numpy as np\n",
    "import plotly.express as px\n",
    "import math\n",
    "\n",
    "from sklearn import tree\n",
    "from sklearn.preprocessing import LabelEncoder\n",
    "from sklearn.model_selection import train_test_split\n",
    "from sklearn.linear_model import LinearRegression\n",
    "from sklearn.tree import DecisionTreeRegressor\n",
    "from sklearn.ensemble import RandomForestRegressor\n",
    "from sklearn.model_selection import GridSearchCV\n",
    "from sklearn.metrics import mean_squared_error, r2_score, mean_absolute_error, accuracy_score\n",
    "\n",
    "from sklearn.metrics import confusion_matrix"
   ]
  },
  {
   "cell_type": "markdown",
   "metadata": {
    "collapsed": false
   },
   "source": [
    "## Data Information and Cleaning\n",
    "\n"
   ]
  },
  {
   "cell_type": "code",
   "execution_count": 2,
   "metadata": {
    "collapsed": false
   },
   "outputs": [
   ],
   "source": [
    "crime_df = pd.read_csv(\"crimes.csv\")"
   ]
  },
  {
   "cell_type": "code",
   "execution_count": 3,
   "metadata": {
    "collapsed": false
   },
   "outputs": [
    {
     "name": "stdout",
     "output_type": "stream",
     "text": [
      "jurisdiction 0\n",
      "includes_jails 0\n",
      "year 0\n",
      "prisoner_count 0\n",
      "crime_reporting_change 17\n",
      "crimes_estimated 17\n",
      "state_population 17\n",
      "violent_crime_total 17\n",
      "murder_manslaughter 17\n",
      "rape_legacy 67\n",
      "rape_revised 617\n",
      "robbery 17\n",
      "agg_assault 17\n",
      "property_crime_total 17\n",
      "burglary 17\n",
      "larceny 17\n",
      "vehicle_theft 17\n"
     ]
    }
   ],
   "source": [
    "for x in range(17):\n",
    "    print(crime_df.columns.values[x], crime_df.iloc[:,x].isna().sum())\n",
    "crime_df = crime_df.dropna(subset=['crime_reporting_change'])"
   ]
  },
  {
   "cell_type": "code",
   "execution_count": 4,
   "metadata": {
    "collapsed": false
   },
   "outputs": [
    {
     "name": "stdout",
     "output_type": "stream",
     "text": [
      "1       19582.0\n",
      "2        3735.0\n",
      "3       28675.0\n",
      "4       12190.0\n",
      "5      212867.0\n",
      "         ...   \n",
      "811     18495.0\n",
      "812     22101.0\n",
      "813      6633.0\n",
      "814     17716.0\n",
      "815      1431.0\n",
      "Name: violent_crime_total, Length: 799, dtype: float64\n"
     ]
    }
   ],
   "source": [
    "print(crime_df ['violent_crime_total'])\n"
   ]
  },
  {
   "cell_type": "code",
   "execution_count": 5,
   "metadata": {
    "collapsed": false
   },
   "outputs": [
    {
     "data": {
      "text/plain": [
       "jurisdiction                0\n",
       "includes_jails              0\n",
       "year                        0\n",
       "prisoner_count              0\n",
       "crime_reporting_change      0\n",
       "crimes_estimated            0\n",
       "state_population            0\n",
       "violent_crime_total         0\n",
       "murder_manslaughter         0\n",
       "rape_legacy                 0\n",
       "rape_revised              600\n",
       "robbery                     0\n",
       "agg_assault                 0\n",
       "property_crime_total        0\n",
       "burglary                    0\n",
       "larceny                     0\n",
       "vehicle_theft               0\n",
       "dtype: int64"
      ]
     },
     "execution_count": 5,
     "metadata": {
     },
     "output_type": "execute_result"
    }
   ],
   "source": [
    "# Check for null values and remove null values from columns\n",
    "\n",
    "crime_df['rape_legacy'] = crime_df['rape_legacy'].fillna(crime_df['rape_legacy'].mean())\n",
    "crime_df.isnull().sum()"
   ]
  },
  {
   "cell_type": "code",
   "execution_count": 6,
   "metadata": {
    "collapsed": false
   },
   "outputs": [
    {
     "data": {
      "text/html": [
       "<div>\n",
       "<style scoped>\n",
       "    .dataframe tbody tr th:only-of-type {\n",
       "        vertical-align: middle;\n",
       "    }\n",
       "\n",
       "    .dataframe tbody tr th {\n",
       "        vertical-align: top;\n",
       "    }\n",
       "\n",
       "    .dataframe thead th {\n",
       "        text-align: right;\n",
       "    }\n",
       "</style>\n",
       "<table border=\"1\" class=\"dataframe\">\n",
       "  <thead>\n",
       "    <tr style=\"text-align: right;\">\n",
       "      <th></th>\n",
       "      <th>jurisdiction</th>\n",
       "      <th>includes_jails</th>\n",
       "      <th>year</th>\n",
       "      <th>prisoner_count</th>\n",
       "      <th>crime_reporting_change</th>\n",
       "      <th>crimes_estimated</th>\n",
       "      <th>state_population</th>\n",
       "      <th>violent_crime_total</th>\n",
       "      <th>murder_manslaughter</th>\n",
       "      <th>rape_legacy</th>\n",
       "      <th>rape_revised</th>\n",
       "      <th>robbery</th>\n",
       "      <th>agg_assault</th>\n",
       "      <th>property_crime_total</th>\n",
       "      <th>burglary</th>\n",
       "      <th>larceny</th>\n",
       "      <th>vehicle_theft</th>\n",
       "    </tr>\n",
       "  </thead>\n",
       "  <tbody>\n",
       "    <tr>\n",
       "      <th>1</th>\n",
       "      <td>ALABAMA</td>\n",
       "      <td>False</td>\n",
       "      <td>2001</td>\n",
       "      <td>24741</td>\n",
       "      <td>False</td>\n",
       "      <td>False</td>\n",
       "      <td>4468912.0</td>\n",
       "      <td>19582.0</td>\n",
       "      <td>379.0</td>\n",
       "      <td>1369.000000</td>\n",
       "      <td>NaN</td>\n",
       "      <td>5584.0</td>\n",
       "      <td>12250.0</td>\n",
       "      <td>173253.0</td>\n",
       "      <td>40642.0</td>\n",
       "      <td>119992.0</td>\n",
       "      <td>12619.0</td>\n",
       "    </tr>\n",
       "    <tr>\n",
       "      <th>2</th>\n",
       "      <td>ALASKA</td>\n",
       "      <td>True</td>\n",
       "      <td>2001</td>\n",
       "      <td>4570</td>\n",
       "      <td>False</td>\n",
       "      <td>False</td>\n",
       "      <td>633630.0</td>\n",
       "      <td>3735.0</td>\n",
       "      <td>39.0</td>\n",
       "      <td>501.000000</td>\n",
       "      <td>NaN</td>\n",
       "      <td>514.0</td>\n",
       "      <td>2681.0</td>\n",
       "      <td>23160.0</td>\n",
       "      <td>3847.0</td>\n",
       "      <td>16695.0</td>\n",
       "      <td>2618.0</td>\n",
       "    </tr>\n",
       "    <tr>\n",
       "      <th>3</th>\n",
       "      <td>ARIZONA</td>\n",
       "      <td>False</td>\n",
       "      <td>2001</td>\n",
       "      <td>27710</td>\n",
       "      <td>False</td>\n",
       "      <td>False</td>\n",
       "      <td>5306966.0</td>\n",
       "      <td>28675.0</td>\n",
       "      <td>400.0</td>\n",
       "      <td>1518.000000</td>\n",
       "      <td>NaN</td>\n",
       "      <td>8868.0</td>\n",
       "      <td>17889.0</td>\n",
       "      <td>293874.0</td>\n",
       "      <td>54821.0</td>\n",
       "      <td>186850.0</td>\n",
       "      <td>52203.0</td>\n",
       "    </tr>\n",
       "    <tr>\n",
       "      <th>4</th>\n",
       "      <td>ARKANSAS</td>\n",
       "      <td>False</td>\n",
       "      <td>2001</td>\n",
       "      <td>11489</td>\n",
       "      <td>False</td>\n",
       "      <td>False</td>\n",
       "      <td>2694698.0</td>\n",
       "      <td>12190.0</td>\n",
       "      <td>148.0</td>\n",
       "      <td>892.000000</td>\n",
       "      <td>NaN</td>\n",
       "      <td>2181.0</td>\n",
       "      <td>8969.0</td>\n",
       "      <td>99106.0</td>\n",
       "      <td>22196.0</td>\n",
       "      <td>69590.0</td>\n",
       "      <td>7320.0</td>\n",
       "    </tr>\n",
       "    <tr>\n",
       "      <th>5</th>\n",
       "      <td>CALIFORNIA</td>\n",
       "      <td>False</td>\n",
       "      <td>2001</td>\n",
       "      <td>157142</td>\n",
       "      <td>False</td>\n",
       "      <td>False</td>\n",
       "      <td>34600463.0</td>\n",
       "      <td>212867.0</td>\n",
       "      <td>2206.0</td>\n",
       "      <td>9960.000000</td>\n",
       "      <td>NaN</td>\n",
       "      <td>64614.0</td>\n",
       "      <td>136087.0</td>\n",
       "      <td>1134189.0</td>\n",
       "      <td>232273.0</td>\n",
       "      <td>697739.0</td>\n",
       "      <td>204177.0</td>\n",
       "    </tr>\n",
       "    <tr>\n",
       "      <th>...</th>\n",
       "      <td>...</td>\n",
       "      <td>...</td>\n",
       "      <td>...</td>\n",
       "      <td>...</td>\n",
       "      <td>...</td>\n",
       "      <td>...</td>\n",
       "      <td>...</td>\n",
       "      <td>...</td>\n",
       "      <td>...</td>\n",
       "      <td>...</td>\n",
       "      <td>...</td>\n",
       "      <td>...</td>\n",
       "      <td>...</td>\n",
       "      <td>...</td>\n",
       "      <td>...</td>\n",
       "      <td>...</td>\n",
       "      <td>...</td>\n",
       "    </tr>\n",
       "    <tr>\n",
       "      <th>811</th>\n",
       "      <td>VIRGINIA</td>\n",
       "      <td>False</td>\n",
       "      <td>2016</td>\n",
       "      <td>29882</td>\n",
       "      <td>False</td>\n",
       "      <td>False</td>\n",
       "      <td>8414380.0</td>\n",
       "      <td>18495.0</td>\n",
       "      <td>482.0</td>\n",
       "      <td>1788.339119</td>\n",
       "      <td>2830.0</td>\n",
       "      <td>4826.0</td>\n",
       "      <td>10357.0</td>\n",
       "      <td>157292.0</td>\n",
       "      <td>20159.0</td>\n",
       "      <td>127285.0</td>\n",
       "      <td>9848.0</td>\n",
       "    </tr>\n",
       "    <tr>\n",
       "      <th>812</th>\n",
       "      <td>WASHINGTON</td>\n",
       "      <td>False</td>\n",
       "      <td>2016</td>\n",
       "      <td>17228</td>\n",
       "      <td>False</td>\n",
       "      <td>False</td>\n",
       "      <td>7280934.0</td>\n",
       "      <td>22101.0</td>\n",
       "      <td>195.0</td>\n",
       "      <td>1788.339119</td>\n",
       "      <td>3133.0</td>\n",
       "      <td>5649.0</td>\n",
       "      <td>13124.0</td>\n",
       "      <td>254994.0</td>\n",
       "      <td>49249.0</td>\n",
       "      <td>173423.0</td>\n",
       "      <td>32322.0</td>\n",
       "    </tr>\n",
       "    <tr>\n",
       "      <th>813</th>\n",
       "      <td>WEST VIRGINIA</td>\n",
       "      <td>False</td>\n",
       "      <td>2016</td>\n",
       "      <td>5899</td>\n",
       "      <td>False</td>\n",
       "      <td>False</td>\n",
       "      <td>1828637.0</td>\n",
       "      <td>6633.0</td>\n",
       "      <td>85.0</td>\n",
       "      <td>1788.339119</td>\n",
       "      <td>684.0</td>\n",
       "      <td>720.0</td>\n",
       "      <td>5144.0</td>\n",
       "      <td>37282.0</td>\n",
       "      <td>9127.0</td>\n",
       "      <td>25657.0</td>\n",
       "      <td>2498.0</td>\n",
       "    </tr>\n",
       "    <tr>\n",
       "      <th>814</th>\n",
       "      <td>WISCONSIN</td>\n",
       "      <td>False</td>\n",
       "      <td>2016</td>\n",
       "      <td>23163</td>\n",
       "      <td>False</td>\n",
       "      <td>False</td>\n",
       "      <td>5772917.0</td>\n",
       "      <td>17716.0</td>\n",
       "      <td>232.0</td>\n",
       "      <td>1788.339119</td>\n",
       "      <td>2005.0</td>\n",
       "      <td>4707.0</td>\n",
       "      <td>10772.0</td>\n",
       "      <td>111911.0</td>\n",
       "      <td>19498.0</td>\n",
       "      <td>82455.0</td>\n",
       "      <td>9958.0</td>\n",
       "    </tr>\n",
       "    <tr>\n",
       "      <th>815</th>\n",
       "      <td>WYOMING</td>\n",
       "      <td>False</td>\n",
       "      <td>2016</td>\n",
       "      <td>2352</td>\n",
       "      <td>False</td>\n",
       "      <td>False</td>\n",
       "      <td>584910.0</td>\n",
       "      <td>1431.0</td>\n",
       "      <td>20.0</td>\n",
       "      <td>1788.339119</td>\n",
       "      <td>206.0</td>\n",
       "      <td>59.0</td>\n",
       "      <td>1146.0</td>\n",
       "      <td>11460.0</td>\n",
       "      <td>1771.0</td>\n",
       "      <td>8889.0</td>\n",
       "      <td>800.0</td>\n",
       "    </tr>\n",
       "  </tbody>\n",
       "</table>\n",
       "<p>799 rows × 17 columns</p>\n",
       "</div>"
      ],
      "text/plain": [
       "      jurisdiction  includes_jails  year  prisoner_count  \\\n",
       "1          ALABAMA           False  2001           24741   \n",
       "2           ALASKA            True  2001            4570   \n",
       "3          ARIZONA           False  2001           27710   \n",
       "4         ARKANSAS           False  2001           11489   \n",
       "5       CALIFORNIA           False  2001          157142   \n",
       "..             ...             ...   ...             ...   \n",
       "811       VIRGINIA           False  2016           29882   \n",
       "812     WASHINGTON           False  2016           17228   \n",
       "813  WEST VIRGINIA           False  2016            5899   \n",
       "814      WISCONSIN           False  2016           23163   \n",
       "815        WYOMING           False  2016            2352   \n",
       "\n",
       "    crime_reporting_change crimes_estimated  state_population  \\\n",
       "1                    False            False         4468912.0   \n",
       "2                    False            False          633630.0   \n",
       "3                    False            False         5306966.0   \n",
       "4                    False            False         2694698.0   \n",
       "5                    False            False        34600463.0   \n",
       "..                     ...              ...               ...   \n",
       "811                  False            False         8414380.0   \n",
       "812                  False            False         7280934.0   \n",
       "813                  False            False         1828637.0   \n",
       "814                  False            False         5772917.0   \n",
       "815                  False            False          584910.0   \n",
       "\n",
       "     violent_crime_total  murder_manslaughter  rape_legacy  rape_revised  \\\n",
       "1                19582.0                379.0  1369.000000           NaN   \n",
       "2                 3735.0                 39.0   501.000000           NaN   \n",
       "3                28675.0                400.0  1518.000000           NaN   \n",
       "4                12190.0                148.0   892.000000           NaN   \n",
       "5               212867.0               2206.0  9960.000000           NaN   \n",
       "..                   ...                  ...          ...           ...   \n",
       "811              18495.0                482.0  1788.339119        2830.0   \n",
       "812              22101.0                195.0  1788.339119        3133.0   \n",
       "813               6633.0                 85.0  1788.339119         684.0   \n",
       "814              17716.0                232.0  1788.339119        2005.0   \n",
       "815               1431.0                 20.0  1788.339119         206.0   \n",
       "\n",
       "     robbery  agg_assault  property_crime_total  burglary   larceny  \\\n",
       "1     5584.0      12250.0              173253.0   40642.0  119992.0   \n",
       "2      514.0       2681.0               23160.0    3847.0   16695.0   \n",
       "3     8868.0      17889.0              293874.0   54821.0  186850.0   \n",
       "4     2181.0       8969.0               99106.0   22196.0   69590.0   \n",
       "5    64614.0     136087.0             1134189.0  232273.0  697739.0   \n",
       "..       ...          ...                   ...       ...       ...   \n",
       "811   4826.0      10357.0              157292.0   20159.0  127285.0   \n",
       "812   5649.0      13124.0              254994.0   49249.0  173423.0   \n",
       "813    720.0       5144.0               37282.0    9127.0   25657.0   \n",
       "814   4707.0      10772.0              111911.0   19498.0   82455.0   \n",
       "815     59.0       1146.0               11460.0    1771.0    8889.0   \n",
       "\n",
       "     vehicle_theft  \n",
       "1          12619.0  \n",
       "2           2618.0  \n",
       "3          52203.0  \n",
       "4           7320.0  \n",
       "5         204177.0  \n",
       "..             ...  \n",
       "811         9848.0  \n",
       "812        32322.0  \n",
       "813         2498.0  \n",
       "814         9958.0  \n",
       "815          800.0  \n",
       "\n",
       "[799 rows x 17 columns]"
      ]
     },
     "execution_count": 6,
     "metadata": {
     },
     "output_type": "execute_result"
    }
   ],
   "source": [
    "crime_df"
   ]
  },
  {
   "cell_type": "code",
   "execution_count": 7,
   "metadata": {
    "collapsed": false
   },
   "outputs": [
    {
     "name": "stdout",
     "output_type": "stream",
     "text": [
      "<class 'pandas.core.frame.DataFrame'>\n",
      "Int64Index: 799 entries, 1 to 815\n",
      "Data columns (total 13 columns):\n",
      " #   Column                  Non-Null Count  Dtype  \n",
      "---  ------                  --------------  -----  \n",
      " 0   jurisdiction            799 non-null    object \n",
      " 1   includes_jails          799 non-null    bool   \n",
      " 2   year                    799 non-null    int64  \n",
      " 3   prisoner_count          799 non-null    int64  \n",
      " 4   crime_reporting_change  799 non-null    object \n",
      " 5   crimes_estimated        799 non-null    object \n",
      " 6   state_population        799 non-null    float64\n",
      " 7   violent_crime_total     799 non-null    float64\n",
      " 8   murder_manslaughter     799 non-null    float64\n",
      " 9   rape_legacy             799 non-null    float64\n",
      " 10  agg_assault             799 non-null    float64\n",
      " 11  property_crime_total    799 non-null    float64\n",
      " 12  burglary                799 non-null    float64\n",
      "dtypes: bool(1), float64(7), int64(2), object(3)\n",
      "memory usage: 81.9+ KB\n"
     ]
    }
   ],
   "source": [
    "# drop any remaining null values in rows\n",
    "crime_df = crime_df.drop('rape_revised', axis = 1)\n",
    "crime_df = crime_df.drop('larceny', axis = 1) \n",
    "crime_df = crime_df.drop('robbery', axis = 1)\n",
    "crime_df = crime_df.drop('vehicle_theft', axis = 1)\n",
    "crime_df.info()"
   ]
  },
  {
   "cell_type": "code",
   "execution_count": 8,
   "metadata": {
    "collapsed": false
   },
   "outputs": [
    {
     "data": {
      "text/plain": [
       "jurisdiction              0\n",
       "includes_jails            0\n",
       "year                      0\n",
       "prisoner_count            0\n",
       "crime_reporting_change    0\n",
       "crimes_estimated          0\n",
       "state_population          0\n",
       "violent_crime_total       0\n",
       "murder_manslaughter       0\n",
       "rape_legacy               0\n",
       "agg_assault               0\n",
       "property_crime_total      0\n",
       "burglary                  0\n",
       "dtype: int64"
      ]
     },
     "execution_count": 8,
     "metadata": {
     },
     "output_type": "execute_result"
    }
   ],
   "source": [
    "# checking for null values in the each column of the dataset\n",
    "crime_df.isnull().sum()"
   ]
  },
  {
   "cell_type": "markdown",
   "metadata": {
    "collapsed": false
   },
   "source": [
    "## Data Visualisation\n",
    "\n"
   ]
  },
  {
   "cell_type": "code",
   "execution_count": 9,
   "metadata": {
    "collapsed": false
   },
   "outputs": [
    {
     "data": {
      "text/html": "<html>\n<head><meta charset=\"utf-8\" /></head>\n<body>\n    <div>            <script src=\"https://cdnjs.cloudflare.com/ajax/libs/mathjax/2.7.5/MathJax.js?config=TeX-AMS-MML_SVG\"></script><script type=\"text/javascript\">if (window.MathJax && window.MathJax.Hub && window.MathJax.Hub.Config) {window.MathJax.Hub.Config({SVG: {font: \"STIX-Web\"}});}</script>                <script type=\"text/javascript\">window.PlotlyConfig = {MathJaxConfig: 'local'};</script>\n        <script src=\"https://cdn.plot.ly/plotly-2.12.1.min.js\"></script>                <div id=\"9c8e03ee-3665-4337-aa61-eafb57ff2680\" class=\"plotly-graph-div\" style=\"height:525px; width:100%;\"></div>            <script type=\"text/javascript\">                                    window.PLOTLYENV=window.PLOTLYENV || {};                                    if (document.getElementById(\"9c8e03ee-3665-4337-aa61-eafb57ff2680\")) {                    Plotly.newPlot(                        \"9c8e03ee-3665-4337-aa61-eafb57ff2680\",                        [{\"hovertemplate\":\"year=2001<br>jurisdiction=%{x}<br>prisoner_count=%{y}<extra></extra>\",\"legendgroup\":\"2001\",\"line\":{\"color\":\"#636efa\",\"dash\":\"solid\"},\"marker\":{\"symbol\":\"circle\"},\"mode\":\"lines\",\"name\":\"2001\",\"orientation\":\"v\",\"showlegend\":true,\"x\":[\"ALABAMA\",\"ALASKA\",\"ARIZONA\",\"ARKANSAS\",\"CALIFORNIA\",\"COLORADO\",\"CONNECTICUT\",\"DELAWARE\",\"FLORIDA\",\"GEORGIA\",\"HAWAII\",\"IDAHO\",\"ILLINOIS\",\"INDIANA\",\"IOWA\",\"KANSAS\",\"KENTUCKY\",\"LOUISIANA\",\"MAINE\",\"MARYLAND\",\"MASSACHUSETTS\",\"MICHIGAN\",\"MINNESOTA\",\"MISSISSIPPI\",\"MISSOURI\",\"MONTANA\",\"NEBRASKA\",\"NEVADA\",\"NEW HAMPSHIRE\",\"NEW JERSEY\",\"NEW MEXICO\",\"NEW YORK\",\"NORTH CAROLINA\",\"NORTH DAKOTA\",\"OHIO\",\"OKLAHOMA\",\"OREGON\",\"PENNSYLVANIA\",\"RHODE ISLAND\",\"SOUTH CAROLINA\",\"SOUTH DAKOTA\",\"TENNESSEE\",\"TEXAS\",\"UTAH\",\"VERMONT\",\"VIRGINIA\",\"WASHINGTON\",\"WEST VIRGINIA\",\"WISCONSIN\",\"WYOMING\"],\"xaxis\":\"x\",\"y\":[24741,4570,27710,11489,157142,17278,17507,6841,72404,45937,5116,5270,44348,19646,7962,8574,10720,19660,1675,23739,10203,48849,6406,15131,28575,2795,3915,9862,2419,26052,5668,67554,32203,1088,44868,21719,10950,37641,3364,21719,2799,17466,148480,4145,1400,31472,15226,3403,20766,1487],\"yaxis\":\"y\",\"type\":\"scatter\"},{\"hovertemplate\":\"year=2002<br>jurisdiction=%{x}<br>prisoner_count=%{y}<extra></extra>\",\"legendgroup\":\"2002\",\"line\":{\"color\":\"#EF553B\",\"dash\":\"solid\"},\"marker\":{\"symbol\":\"circle\"},\"mode\":\"lines\",\"name\":\"2002\",\"orientation\":\"v\",\"showlegend\":true,\"x\":[\"ALABAMA\",\"ALASKA\",\"ARIZONA\",\"ARKANSAS\",\"CALIFORNIA\",\"COLORADO\",\"CONNECTICUT\",\"DELAWARE\",\"FLORIDA\",\"GEORGIA\",\"HAWAII\",\"IDAHO\",\"ILLINOIS\",\"INDIANA\",\"IOWA\",\"KANSAS\",\"KENTUCKY\",\"LOUISIANA\",\"MAINE\",\"MARYLAND\",\"MASSACHUSETTS\",\"MICHIGAN\",\"MINNESOTA\",\"MISSISSIPPI\",\"MISSOURI\",\"MONTANA\",\"NEBRASKA\",\"NEVADA\",\"NEW HAMPSHIRE\",\"NEW JERSEY\",\"NEW MEXICO\",\"NEW YORK\",\"NORTH CAROLINA\",\"NORTH DAKOTA\",\"OHIO\",\"OKLAHOMA\",\"OREGON\",\"PENNSYLVANIA\",\"RHODE ISLAND\",\"SOUTH CAROLINA\",\"SOUTH DAKOTA\",\"TENNESSEE\",\"TEXAS\",\"UTAH\",\"VERMONT\",\"VIRGINIA\",\"WASHINGTON\",\"WEST VIRGINIA\",\"WISCONSIN\",\"WYOMING\"],\"xaxis\":\"x\",\"y\":[25100,4351,29359,11849,159695,18636,18716,6637,75210,47445,5069,5451,42693,20349,8398,8967,11583,20010,1855,24114,9879,50591,6855,15355,29795,2870,4048,10101,2475,26301,5991,66925,32918,1117,45284,21996,11650,39724,3473,22896,2943,18297,152446,4285,1361,30937,16263,3575,21666,1641],\"yaxis\":\"y\",\"type\":\"scatter\"},{\"hovertemplate\":\"year=2003<br>jurisdiction=%{x}<br>prisoner_count=%{y}<extra></extra>\",\"legendgroup\":\"2003\",\"line\":{\"color\":\"#00cc96\",\"dash\":\"solid\"},\"marker\":{\"symbol\":\"circle\"},\"mode\":\"lines\",\"name\":\"2003\",\"orientation\":\"v\",\"showlegend\":true,\"x\":[\"ALABAMA\",\"ALASKA\",\"ARIZONA\",\"ARKANSAS\",\"CALIFORNIA\",\"COLORADO\",\"CONNECTICUT\",\"DELAWARE\",\"FLORIDA\",\"GEORGIA\",\"HAWAII\",\"IDAHO\",\"ILLINOIS\",\"INDIANA\",\"IOWA\",\"KANSAS\",\"KENTUCKY\",\"LOUISIANA\",\"MAINE\",\"MARYLAND\",\"MASSACHUSETTS\",\"MICHIGAN\",\"MINNESOTA\",\"MISSISSIPPI\",\"MISSOURI\",\"MONTANA\",\"NEBRASKA\",\"NEVADA\",\"NEW HAMPSHIRE\",\"NEW JERSEY\",\"NEW MEXICO\",\"NEW YORK\",\"NORTH CAROLINA\",\"NORTH DAKOTA\",\"OHIO\",\"OKLAHOMA\",\"OREGON\",\"PENNSYLVANIA\",\"RHODE ISLAND\",\"SOUTH CAROLINA\",\"SOUTH DAKOTA\",\"TENNESSEE\",\"TEXAS\",\"UTAH\",\"VERMONT\",\"VIRGINIA\",\"WASHINGTON\",\"WEST VIRGINIA\",\"WISCONSIN\",\"WYOMING\"],\"xaxis\":\"x\",\"y\":[27614,4472,31084,12068,161785,19450,18023,6630,79594,47208,5499,5558,43418,21345,8546,9168,11660,19498,1974,23768,9828,49358,7569,15863,29864,3053,4073,10584,2427,25718,6223,65388,33874,1100,44350,22688,12207,40879,3576,22942,3019,19141,153056,4623,1491,30915,16227,3790,22153,1630],\"yaxis\":\"y\",\"type\":\"scatter\"},{\"hovertemplate\":\"year=2004<br>jurisdiction=%{x}<br>prisoner_count=%{y}<extra></extra>\",\"legendgroup\":\"2004\",\"line\":{\"color\":\"#ab63fa\",\"dash\":\"solid\"},\"marker\":{\"symbol\":\"circle\"},\"mode\":\"lines\",\"name\":\"2004\",\"orientation\":\"v\",\"showlegend\":true,\"x\":[\"ALABAMA\",\"ALASKA\",\"ARIZONA\",\"ARKANSAS\",\"CALIFORNIA\",\"COLORADO\",\"CONNECTICUT\",\"DELAWARE\",\"FLORIDA\",\"GEORGIA\",\"HAWAII\",\"IDAHO\",\"ILLINOIS\",\"INDIANA\",\"IOWA\",\"KANSAS\",\"KENTUCKY\",\"LOUISIANA\",\"MAINE\",\"MARYLAND\",\"MASSACHUSETTS\",\"MICHIGAN\",\"MINNESOTA\",\"MISSISSIPPI\",\"MISSOURI\",\"MONTANA\",\"NEBRASKA\",\"NEVADA\",\"NEW HAMPSHIRE\",\"NEW JERSEY\",\"NEW MEXICO\",\"NEW YORK\",\"NORTH CAROLINA\",\"NORTH DAKOTA\",\"OHIO\",\"OKLAHOMA\",\"OREGON\",\"PENNSYLVANIA\",\"RHODE ISLAND\",\"SOUTH CAROLINA\",\"SOUTH DAKOTA\",\"TENNESSEE\",\"TEXAS\",\"UTAH\",\"VERMONT\",\"VIRGINIA\",\"WASHINGTON\",\"WEST VIRGINIA\",\"WISCONSIN\",\"WYOMING\"],\"xaxis\":\"x\",\"y\":[25635,4534,32384,12577,163939,19655,17993,6753,83165,51104,5555,5758,44054,21984,8525,8991,13322,19470,2013,23289,9825,48831,7983,16359,30682,2703,4137,11033,2443,25435,6403,64024,35544,1130,44150,22621,12652,40506,3169,22650,3053,19331,156682,4720,1968,31072,16503,3990,22152,1765],\"yaxis\":\"y\",\"type\":\"scatter\"},{\"hovertemplate\":\"year=2005<br>jurisdiction=%{x}<br>prisoner_count=%{y}<extra></extra>\",\"legendgroup\":\"2005\",\"line\":{\"color\":\"#FFA15A\",\"dash\":\"solid\"},\"marker\":{\"symbol\":\"circle\"},\"mode\":\"lines\",\"name\":\"2005\",\"orientation\":\"v\",\"showlegend\":true,\"x\":[\"ALABAMA\",\"ALASKA\",\"ARIZONA\",\"ARKANSAS\",\"CALIFORNIA\",\"COLORADO\",\"CONNECTICUT\",\"DELAWARE\",\"FLORIDA\",\"GEORGIA\",\"HAWAII\",\"IDAHO\",\"ILLINOIS\",\"INDIANA\",\"IOWA\",\"KANSAS\",\"KENTUCKY\",\"LOUISIANA\",\"MAINE\",\"MARYLAND\",\"MASSACHUSETTS\",\"MICHIGAN\",\"MINNESOTA\",\"MISSISSIPPI\",\"MISSOURI\",\"MONTANA\",\"NEBRASKA\",\"NEVADA\",\"NEW HAMPSHIRE\",\"NEW JERSEY\",\"NEW MEXICO\",\"NEW YORK\",\"NORTH CAROLINA\",\"NORTH DAKOTA\",\"OHIO\",\"OKLAHOMA\",\"OREGON\",\"PENNSYLVANIA\",\"RHODE ISLAND\",\"SOUTH CAROLINA\",\"SOUTH DAKOTA\",\"TENNESSEE\",\"TEXAS\",\"UTAH\",\"VERMONT\",\"VIRGINIA\",\"WASHINGTON\",\"WEST VIRGINIA\",\"WISCONSIN\",\"WYOMING\"],\"xaxis\":\"x\",\"y\":[24315,4798,33345,12455,168035,21063,17928,6788,86559,48749,5739,6249,44919,22760,8737,9090,14904,19371,1970,22553,10348,49493,8718,16089,30415,2822,4405,11662,2423,25619,6571,63032,36646,1318,45189,22907,12887,41941,3414,22456,3346,19270,157081,5058,2078,30722,16781,4036,21921,2096],\"yaxis\":\"y\",\"type\":\"scatter\"},{\"hovertemplate\":\"year=2006<br>jurisdiction=%{x}<br>prisoner_count=%{y}<extra></extra>\",\"legendgroup\":\"2006\",\"line\":{\"color\":\"#19d3f3\",\"dash\":\"solid\"},\"marker\":{\"symbol\":\"circle\"},\"mode\":\"lines\",\"name\":\"2006\",\"orientation\":\"v\",\"showlegend\":true,\"x\":[\"ALABAMA\",\"ALASKA\",\"ARIZONA\",\"ARKANSAS\",\"CALIFORNIA\",\"COLORADO\",\"CONNECTICUT\",\"DELAWARE\",\"FLORIDA\",\"GEORGIA\",\"HAWAII\",\"IDAHO\",\"ILLINOIS\",\"INDIANA\",\"IOWA\",\"KANSAS\",\"KENTUCKY\",\"LOUISIANA\",\"MAINE\",\"MARYLAND\",\"MASSACHUSETTS\",\"MICHIGAN\",\"MINNESOTA\",\"MISSISSIPPI\",\"MISSOURI\",\"MONTANA\",\"NEBRASKA\",\"NEVADA\",\"NEW HAMPSHIRE\",\"NEW JERSEY\",\"NEW MEXICO\",\"NEW YORK\",\"NORTH CAROLINA\",\"NORTH DAKOTA\",\"OHIO\",\"OKLAHOMA\",\"OREGON\",\"PENNSYLVANIA\",\"RHODE ISLAND\",\"SOUTH CAROLINA\",\"SOUTH DAKOTA\",\"TENNESSEE\",\"TEXAS\",\"UTAH\",\"VERMONT\",\"VIRGINIA\",\"WASHINGTON\",\"WEST VIRGINIA\",\"WISCONSIN\",\"WYOMING\"],\"xaxis\":\"x\",\"y\":[24103,5052,35752,12854,172298,22051,18902,7021,90377,52792,5510,6665,45106,24901,8838,8833,15589,20815,2083,22662,10773,51515,8814,16384,30116,2948,4399,12754,2676,25554,6639,63538,37725,1337,48482,22873,13191,43971,3713,22930,3316,19312,158510,5031,2215,30823,16827,4367,22564,2035],\"yaxis\":\"y\",\"type\":\"scatter\"},{\"hovertemplate\":\"year=2007<br>jurisdiction=%{x}<br>prisoner_count=%{y}<extra></extra>\",\"legendgroup\":\"2007\",\"line\":{\"color\":\"#FF6692\",\"dash\":\"solid\"},\"marker\":{\"symbol\":\"circle\"},\"mode\":\"lines\",\"name\":\"2007\",\"orientation\":\"v\",\"showlegend\":true,\"x\":[\"ALABAMA\",\"ALASKA\",\"ARIZONA\",\"ARKANSAS\",\"CALIFORNIA\",\"COLORADO\",\"CONNECTICUT\",\"DELAWARE\",\"FLORIDA\",\"GEORGIA\",\"HAWAII\",\"IDAHO\",\"ILLINOIS\",\"INDIANA\",\"IOWA\",\"KANSAS\",\"KENTUCKY\",\"LOUISIANA\",\"MAINE\",\"MARYLAND\",\"MASSACHUSETTS\",\"MICHIGAN\",\"MINNESOTA\",\"MISSISSIPPI\",\"MISSOURI\",\"MONTANA\",\"NEBRASKA\",\"NEVADA\",\"NEW HAMPSHIRE\",\"NEW JERSEY\",\"NEW MEXICO\",\"NEW YORK\",\"NORTH CAROLINA\",\"NORTH DAKOTA\",\"OHIO\",\"OKLAHOMA\",\"OREGON\",\"PENNSYLVANIA\",\"RHODE ISLAND\",\"SOUTH CAROLINA\",\"SOUTH DAKOTA\",\"TENNESSEE\",\"TEXAS\",\"UTAH\",\"VERMONT\",\"VIRGINIA\",\"WASHINGTON\",\"WEST VIRGINIA\",\"WISCONSIN\",\"WYOMING\"],\"xaxis\":\"x\",\"y\":[25253,5151,37700,13275,171444,22666,19438,7110,95187,54256,5457,7055,45215,25137,8692,8721,15364,20461,2148,23184,11071,50233,9192,17478,29823,2909,4402,13311,2759,25354,6429,62738,38240,1392,49894,23778,13373,45530,3745,23578,3276,19268,158576,5165,2116,32977,16911,4907,22839,1927],\"yaxis\":\"y\",\"type\":\"scatter\"},{\"hovertemplate\":\"year=2008<br>jurisdiction=%{x}<br>prisoner_count=%{y}<extra></extra>\",\"legendgroup\":\"2008\",\"line\":{\"color\":\"#B6E880\",\"dash\":\"solid\"},\"marker\":{\"symbol\":\"circle\"},\"mode\":\"lines\",\"name\":\"2008\",\"orientation\":\"v\",\"showlegend\":true,\"x\":[\"ALABAMA\",\"ALASKA\",\"ARIZONA\",\"ARKANSAS\",\"CALIFORNIA\",\"COLORADO\",\"CONNECTICUT\",\"DELAWARE\",\"FLORIDA\",\"GEORGIA\",\"HAWAII\",\"IDAHO\",\"ILLINOIS\",\"INDIANA\",\"IOWA\",\"KANSAS\",\"KENTUCKY\",\"LOUISIANA\",\"MAINE\",\"MARYLAND\",\"MASSACHUSETTS\",\"MICHIGAN\",\"MINNESOTA\",\"MISSISSIPPI\",\"MISSOURI\",\"MONTANA\",\"NEBRASKA\",\"NEVADA\",\"NEW HAMPSHIRE\",\"NEW JERSEY\",\"NEW MEXICO\",\"NEW YORK\",\"NORTH CAROLINA\",\"NORTH DAKOTA\",\"OHIO\",\"OKLAHOMA\",\"OREGON\",\"PENNSYLVANIA\",\"RHODE ISLAND\",\"SOUTH CAROLINA\",\"SOUTH DAKOTA\",\"TENNESSEE\",\"TEXAS\",\"UTAH\",\"VERMONT\",\"VIRGINIA\",\"WASHINGTON\",\"WEST VIRGINIA\",\"WISCONSIN\",\"WYOMING\"],\"xaxis\":\"x\",\"y\":[25363,4997,39455,13135,171085,23211,19905,6944,99878,52719,5455,7033,45474,26392,8723,8556,15260,20857,2047,23141,11174,48738,9031,17896,30137,2910,4470,12877,2854,24835,6321,60198,39957,1379,50884,23676,13541,48736,3739,23685,3352,19379,159237,5132,2116,32585,17188,4896,22282,1704],\"yaxis\":\"y\",\"type\":\"scatter\"},{\"hovertemplate\":\"year=2009<br>jurisdiction=%{x}<br>prisoner_count=%{y}<extra></extra>\",\"legendgroup\":\"2009\",\"line\":{\"color\":\"#FF97FF\",\"dash\":\"solid\"},\"marker\":{\"symbol\":\"circle\"},\"mode\":\"lines\",\"name\":\"2009\",\"orientation\":\"v\",\"showlegend\":true,\"x\":[\"ALABAMA\",\"ALASKA\",\"ARIZONA\",\"ARKANSAS\",\"CALIFORNIA\",\"COLORADO\",\"CONNECTICUT\",\"DELAWARE\",\"FLORIDA\",\"GEORGIA\",\"HAWAII\",\"IDAHO\",\"ILLINOIS\",\"INDIANA\",\"IOWA\",\"KANSAS\",\"KENTUCKY\",\"LOUISIANA\",\"MAINE\",\"MARYLAND\",\"MASSACHUSETTS\",\"MICHIGAN\",\"MINNESOTA\",\"MISSISSIPPI\",\"MISSOURI\",\"MONTANA\",\"NEBRASKA\",\"NEVADA\",\"NEW HAMPSHIRE\",\"NEW JERSEY\",\"NEW MEXICO\",\"NEW YORK\",\"NORTH CAROLINA\",\"NORTH DAKOTA\",\"OHIO\",\"OKLAHOMA\",\"OREGON\",\"PENNSYLVANIA\",\"RHODE ISLAND\",\"SOUTH CAROLINA\",\"SOUTH DAKOTA\",\"TENNESSEE\",\"TEXAS\",\"UTAH\",\"VERMONT\",\"VIRGINIA\",\"WASHINGTON\",\"WEST VIRGINIA\",\"WISCONSIN\",\"WYOMING\"],\"xaxis\":\"x\",\"y\":[27241,5472,40544,13338,168830,22725,18938,6581,101373,53538,4848,7184,45161,26748,8914,8644,14984,19889,2074,22066,11156,45478,9500,17212,30519,3085,4490,12570,2915,24115,6584,58479,40133,1436,50783,24053,13735,50485,3413,23685,3390,19932,158542,5244,2220,30995,17255,5062,22262,1743],\"yaxis\":\"y\",\"type\":\"scatter\"},{\"hovertemplate\":\"year=2010<br>jurisdiction=%{x}<br>prisoner_count=%{y}<extra></extra>\",\"legendgroup\":\"2010\",\"line\":{\"color\":\"#FECB52\",\"dash\":\"solid\"},\"marker\":{\"symbol\":\"circle\"},\"mode\":\"lines\",\"name\":\"2010\",\"orientation\":\"v\",\"showlegend\":true,\"x\":[\"ALABAMA\",\"ALASKA\",\"ARIZONA\",\"ARKANSAS\",\"CALIFORNIA\",\"COLORADO\",\"CONNECTICUT\",\"DELAWARE\",\"FLORIDA\",\"GEORGIA\",\"HAWAII\",\"IDAHO\",\"ILLINOIS\",\"INDIANA\",\"IOWA\",\"KANSAS\",\"KENTUCKY\",\"LOUISIANA\",\"MAINE\",\"MARYLAND\",\"MASSACHUSETTS\",\"MICHIGAN\",\"MINNESOTA\",\"MISSISSIPPI\",\"MISSOURI\",\"MONTANA\",\"NEBRASKA\",\"NEVADA\",\"NEW HAMPSHIRE\",\"NEW JERSEY\",\"NEW MEXICO\",\"NEW YORK\",\"NORTH CAROLINA\",\"NORTH DAKOTA\",\"OHIO\",\"OKLAHOMA\",\"OREGON\",\"PENNSYLVANIA\",\"RHODE ISLAND\",\"SOUTH CAROLINA\",\"SOUTH DAKOTA\",\"TENNESSEE\",\"TEXAS\",\"UTAH\",\"VERMONT\",\"VIRGINIA\",\"WASHINGTON\",\"WEST VIRGINIA\",\"WISCONSIN\",\"WYOMING\"],\"xaxis\":\"x\",\"y\":[27345,5369,40130,14192,162821,22752,18629,6378,102070,52794,5294,7235,48418,27273,9457,9055,14501,19008,1954,22856,11162,44113,9397,16454,30577,3137,4608,12192,2617,24488,6659,56420,40375,1416,51709,24147,13859,48087,3159,23009,3393,20037,160242,5442,2079,31911,17028,5072,22033,2092],\"yaxis\":\"y\",\"type\":\"scatter\"},{\"hovertemplate\":\"year=2011<br>jurisdiction=%{x}<br>prisoner_count=%{y}<extra></extra>\",\"legendgroup\":\"2011\",\"line\":{\"color\":\"#636efa\",\"dash\":\"solid\"},\"marker\":{\"symbol\":\"circle\"},\"mode\":\"lines\",\"name\":\"2011\",\"orientation\":\"v\",\"showlegend\":true,\"x\":[\"ALABAMA\",\"ALASKA\",\"ARIZONA\",\"ARKANSAS\",\"CALIFORNIA\",\"COLORADO\",\"CONNECTICUT\",\"DELAWARE\",\"FLORIDA\",\"GEORGIA\",\"HAWAII\",\"IDAHO\",\"ILLINOIS\",\"INDIANA\",\"IOWA\",\"KANSAS\",\"KENTUCKY\",\"LOUISIANA\",\"MAINE\",\"MARYLAND\",\"MASSACHUSETTS\",\"MICHIGAN\",\"MINNESOTA\",\"MISSISSIPPI\",\"MISSOURI\",\"MONTANA\",\"NEBRASKA\",\"NEVADA\",\"NEW HAMPSHIRE\",\"NEW JERSEY\",\"NEW MEXICO\",\"NEW YORK\",\"NORTH CAROLINA\",\"NORTH DAKOTA\",\"OHIO\",\"OKLAHOMA\",\"OREGON\",\"PENNSYLVANIA\",\"RHODE ISLAND\",\"SOUTH CAROLINA\",\"SOUTH DAKOTA\",\"TENNESSEE\",\"TEXAS\",\"UTAH\",\"VERMONT\",\"VIRGINIA\",\"WASHINGTON\",\"WEST VIRGINIA\",\"WISCONSIN\",\"WYOMING\"],\"xaxis\":\"x\",\"y\":[26813,6216,39949,14090,147578,21862,17877,6546,100861,52844,5454,7470,48427,27402,9115,9330,14001,18844,1978,23001,11467,42904,9309,15390,30969,3125,4657,12159,2423,23642,6687,55196,39662,1385,50961,23750,13728,49710,3032,22363,3562,19831,159956,5294,2053,30531,17109,5149,22388,2162],\"yaxis\":\"y\",\"type\":\"scatter\"},{\"hovertemplate\":\"year=2012<br>jurisdiction=%{x}<br>prisoner_count=%{y}<extra></extra>\",\"legendgroup\":\"2012\",\"line\":{\"color\":\"#EF553B\",\"dash\":\"solid\"},\"marker\":{\"symbol\":\"circle\"},\"mode\":\"lines\",\"name\":\"2012\",\"orientation\":\"v\",\"showlegend\":true,\"x\":[\"ALABAMA\",\"ALASKA\",\"ARIZONA\",\"ARKANSAS\",\"CALIFORNIA\",\"COLORADO\",\"CONNECTICUT\",\"DELAWARE\",\"FLORIDA\",\"GEORGIA\",\"HAWAII\",\"IDAHO\",\"ILLINOIS\",\"INDIANA\",\"IOWA\",\"KANSAS\",\"KENTUCKY\",\"LOUISIANA\",\"MAINE\",\"MARYLAND\",\"MASSACHUSETTS\",\"MICHIGAN\",\"MINNESOTA\",\"MISSISSIPPI\",\"MISSOURI\",\"MONTANA\",\"NEBRASKA\",\"NEVADA\",\"NEW HAMPSHIRE\",\"NEW JERSEY\",\"NEW MEXICO\",\"NEW YORK\",\"NORTH CAROLINA\",\"NORTH DAKOTA\",\"OHIO\",\"OKLAHOMA\",\"OREGON\",\"PENNSYLVANIA\",\"RHODE ISLAND\",\"SOUTH CAROLINA\",\"SOUTH DAKOTA\",\"TENNESSEE\",\"TEXAS\",\"UTAH\",\"VERMONT\",\"VIRGINIA\",\"WASHINGTON\",\"WEST VIRGINIA\",\"WISCONSIN\",\"WYOMING\"],\"xaxis\":\"x\",\"y\":[26768,6308,40013,14043,132935,20328,17164,6730,99835,55178,5297,7715,49348,28034,8735,9505,12998,18601,1977,21810,11127,43594,9421,15791,31205,3095,4721,12594,2568,23050,6640,54058,37378,1413,50872,24370,14123,50228,3042,21867,3596,19817,155195,5309,2034,29708,16919,5335,22419,2187],\"yaxis\":\"y\",\"type\":\"scatter\"},{\"hovertemplate\":\"year=2013<br>jurisdiction=%{x}<br>prisoner_count=%{y}<extra></extra>\",\"legendgroup\":\"2013\",\"line\":{\"color\":\"#00cc96\",\"dash\":\"solid\"},\"marker\":{\"symbol\":\"circle\"},\"mode\":\"lines\",\"name\":\"2013\",\"orientation\":\"v\",\"showlegend\":true,\"x\":[\"ALABAMA\",\"ALASKA\",\"ARIZONA\",\"ARKANSAS\",\"CALIFORNIA\",\"COLORADO\",\"CONNECTICUT\",\"DELAWARE\",\"FLORIDA\",\"GEORGIA\",\"HAWAII\",\"IDAHO\",\"ILLINOIS\",\"INDIANA\",\"IOWA\",\"KANSAS\",\"KENTUCKY\",\"LOUISIANA\",\"MAINE\",\"MARYLAND\",\"MASSACHUSETTS\",\"MICHIGAN\",\"MINNESOTA\",\"MISSISSIPPI\",\"MISSOURI\",\"MONTANA\",\"NEBRASKA\",\"NEVADA\",\"NEW HAMPSHIRE\",\"NEW JERSEY\",\"NEW MEXICO\",\"NEW YORK\",\"NORTH CAROLINA\",\"NORTH DAKOTA\",\"OHIO\",\"OKLAHOMA\",\"OREGON\",\"PENNSYLVANIA\",\"RHODE ISLAND\",\"SOUTH CAROLINA\",\"SOUTH DAKOTA\",\"TENNESSEE\",\"TEXAS\",\"UTAH\",\"VERMONT\",\"VIRGINIA\",\"WASHINGTON\",\"WEST VIRGINIA\",\"WISCONSIN\",\"WYOMING\"],\"xaxis\":\"x\",\"y\":[26825,5081,41031,14295,134339,20184,17319,6798,100940,53701,5173,7219,48653,28495,8707,9610,12141,18794,2073,21705,10622,43704,9391,15591,31499,3125,5012,12789,2623,22263,6767,53312,37176,1576,51711,25364,14605,49971,3168,21534,3612,20758,155377,5382,2078,29985,17760,5708,22443,2288],\"yaxis\":\"y\",\"type\":\"scatter\"},{\"hovertemplate\":\"year=2014<br>jurisdiction=%{x}<br>prisoner_count=%{y}<extra></extra>\",\"legendgroup\":\"2014\",\"line\":{\"color\":\"#ab63fa\",\"dash\":\"solid\"},\"marker\":{\"symbol\":\"circle\"},\"mode\":\"lines\",\"name\":\"2014\",\"orientation\":\"v\",\"showlegend\":true,\"x\":[\"ALABAMA\",\"ALASKA\",\"ARIZONA\",\"ARKANSAS\",\"CALIFORNIA\",\"COLORADO\",\"CONNECTICUT\",\"DELAWARE\",\"FLORIDA\",\"GEORGIA\",\"HAWAII\",\"IDAHO\",\"ILLINOIS\",\"INDIANA\",\"IOWA\",\"KANSAS\",\"KENTUCKY\",\"LOUISIANA\",\"MAINE\",\"MARYLAND\",\"MASSACHUSETTS\",\"MICHIGAN\",\"MINNESOTA\",\"MISSISSIPPI\",\"MISSOURI\",\"MONTANA\",\"NEBRASKA\",\"NEVADA\",\"NEW HAMPSHIRE\",\"NEW JERSEY\",\"NEW MEXICO\",\"NEW YORK\",\"NORTH CAROLINA\",\"NORTH DAKOTA\",\"OHIO\",\"OKLAHOMA\",\"OREGON\",\"PENNSYLVANIA\",\"RHODE ISLAND\",\"SOUTH CAROLINA\",\"SOUTH DAKOTA\",\"TENNESSEE\",\"TEXAS\",\"UTAH\",\"VERMONT\",\"VIRGINIA\",\"WASHINGTON\",\"WEST VIRGINIA\",\"WISCONSIN\",\"WYOMING\"],\"xaxis\":\"x\",\"y\":[26145,6323,42136,15250,134430,20469,16814,6730,100873,52719,5390,7497,48278,32493,8845,9539,12114,18710,2199,21266,10447,43359,9576,13069,31903,3119,5228,12693,2723,21394,6948,52362,37348,1696,51521,26493,14492,49174,3133,20948,3507,20815,154247,5307,1979,30050,17180,5867,22572,2369],\"yaxis\":\"y\",\"type\":\"scatter\"},{\"hovertemplate\":\"year=2015<br>jurisdiction=%{x}<br>prisoner_count=%{y}<extra></extra>\",\"legendgroup\":\"2015\",\"line\":{\"color\":\"#FFA15A\",\"dash\":\"solid\"},\"marker\":{\"symbol\":\"circle\"},\"mode\":\"lines\",\"name\":\"2015\",\"orientation\":\"v\",\"showlegend\":true,\"x\":[\"ALABAMA\",\"ALASKA\",\"ARIZONA\",\"ARKANSAS\",\"CALIFORNIA\",\"COLORADO\",\"CONNECTICUT\",\"DELAWARE\",\"FLORIDA\",\"GEORGIA\",\"HAWAII\",\"IDAHO\",\"ILLINOIS\",\"INDIANA\",\"IOWA\",\"KANSAS\",\"KENTUCKY\",\"LOUISIANA\",\"MAINE\",\"MARYLAND\",\"MASSACHUSETTS\",\"MICHIGAN\",\"MINNESOTA\",\"MISSISSIPPI\",\"MISSOURI\",\"MONTANA\",\"NEBRASKA\",\"NEVADA\",\"NEW HAMPSHIRE\",\"NEW JERSEY\",\"NEW MEXICO\",\"NORTH CAROLINA\",\"NORTH DAKOTA\",\"OHIO\",\"OKLAHOMA\",\"OREGON\",\"PENNSYLVANIA\",\"RHODE ISLAND\",\"SOUTH CAROLINA\",\"SOUTH DAKOTA\",\"TENNESSEE\",\"TEXAS\",\"UTAH\",\"VERMONT\",\"VIRGINIA\",\"WASHINGTON\",\"WEST VIRGINIA\",\"WISCONSIN\",\"WYOMING\"],\"xaxis\":\"x\",\"y\":[25212,5247,42204,15784,127815,19959,16024,6437,99485,52002,5413,7238,46240,26586,8864,9533,11959,18447,2190,20951,9493,42628,9578,13967,32295,3176,5133,13235,2661,20294,7104,36888,1772,52240,27321,14655,48846,2982,20457,3536,19800,152492,4831,1750,30430,17222,5925,22914,2400],\"yaxis\":\"y\",\"type\":\"scatter\"},{\"hovertemplate\":\"year=2016<br>jurisdiction=%{x}<br>prisoner_count=%{y}<extra></extra>\",\"legendgroup\":\"2016\",\"line\":{\"color\":\"#19d3f3\",\"dash\":\"solid\"},\"marker\":{\"symbol\":\"circle\"},\"mode\":\"lines\",\"name\":\"2016\",\"orientation\":\"v\",\"showlegend\":true,\"x\":[\"ALABAMA\",\"ALASKA\",\"ARIZONA\",\"ARKANSAS\",\"CALIFORNIA\",\"COLORADO\",\"CONNECTICUT\",\"DELAWARE\",\"FLORIDA\",\"GEORGIA\",\"HAWAII\",\"IDAHO\",\"ILLINOIS\",\"INDIANA\",\"IOWA\",\"KANSAS\",\"KENTUCKY\",\"LOUISIANA\",\"MAINE\",\"MARYLAND\",\"MASSACHUSETTS\",\"MICHIGAN\",\"MINNESOTA\",\"MISSISSIPPI\",\"MISSOURI\",\"MONTANA\",\"NEBRASKA\",\"NEVADA\",\"NEW HAMPSHIRE\",\"NEW JERSEY\",\"NEW MEXICO\",\"NEW YORK\",\"NORTH CAROLINA\",\"NORTH DAKOTA\",\"OHIO\",\"OKLAHOMA\",\"OREGON\",\"PENNSYLVANIA\",\"RHODE ISLAND\",\"SOUTH CAROLINA\",\"SOUTH DAKOTA\",\"TENNESSEE\",\"TEXAS\",\"UTAH\",\"VERMONT\",\"VIRGINIA\",\"WASHINGTON\",\"WEST VIRGINIA\",\"WISCONSIN\",\"WYOMING\"],\"xaxis\":\"x\",\"y\":[23745,4378,42248,15833,129416,19486,15040,6334,98010,53433,5182,7221,43616,25143,9049,9653,11867,15059,2356,20236,9038,41122,9509,13720,32427,3199,5167,13932,2599,19458,6996,50611,35970,1639,52172,26367,14579,48287,2887,20376,3770,21539,151276,4502,1735,29882,17228,5899,23163,2352],\"yaxis\":\"y\",\"type\":\"scatter\"}],                        {\"template\":{\"data\":{\"histogram2dcontour\":[{\"type\":\"histogram2dcontour\",\"colorbar\":{\"outlinewidth\":0,\"ticks\":\"\"},\"colorscale\":[[0.0,\"#0d0887\"],[0.1111111111111111,\"#46039f\"],[0.2222222222222222,\"#7201a8\"],[0.3333333333333333,\"#9c179e\"],[0.4444444444444444,\"#bd3786\"],[0.5555555555555556,\"#d8576b\"],[0.6666666666666666,\"#ed7953\"],[0.7777777777777778,\"#fb9f3a\"],[0.8888888888888888,\"#fdca26\"],[1.0,\"#f0f921\"]]}],\"choropleth\":[{\"type\":\"choropleth\",\"colorbar\":{\"outlinewidth\":0,\"ticks\":\"\"}}],\"histogram2d\":[{\"type\":\"histogram2d\",\"colorbar\":{\"outlinewidth\":0,\"ticks\":\"\"},\"colorscale\":[[0.0,\"#0d0887\"],[0.1111111111111111,\"#46039f\"],[0.2222222222222222,\"#7201a8\"],[0.3333333333333333,\"#9c179e\"],[0.4444444444444444,\"#bd3786\"],[0.5555555555555556,\"#d8576b\"],[0.6666666666666666,\"#ed7953\"],[0.7777777777777778,\"#fb9f3a\"],[0.8888888888888888,\"#fdca26\"],[1.0,\"#f0f921\"]]}],\"heatmap\":[{\"type\":\"heatmap\",\"colorbar\":{\"outlinewidth\":0,\"ticks\":\"\"},\"colorscale\":[[0.0,\"#0d0887\"],[0.1111111111111111,\"#46039f\"],[0.2222222222222222,\"#7201a8\"],[0.3333333333333333,\"#9c179e\"],[0.4444444444444444,\"#bd3786\"],[0.5555555555555556,\"#d8576b\"],[0.6666666666666666,\"#ed7953\"],[0.7777777777777778,\"#fb9f3a\"],[0.8888888888888888,\"#fdca26\"],[1.0,\"#f0f921\"]]}],\"heatmapgl\":[{\"type\":\"heatmapgl\",\"colorbar\":{\"outlinewidth\":0,\"ticks\":\"\"},\"colorscale\":[[0.0,\"#0d0887\"],[0.1111111111111111,\"#46039f\"],[0.2222222222222222,\"#7201a8\"],[0.3333333333333333,\"#9c179e\"],[0.4444444444444444,\"#bd3786\"],[0.5555555555555556,\"#d8576b\"],[0.6666666666666666,\"#ed7953\"],[0.7777777777777778,\"#fb9f3a\"],[0.8888888888888888,\"#fdca26\"],[1.0,\"#f0f921\"]]}],\"contourcarpet\":[{\"type\":\"contourcarpet\",\"colorbar\":{\"outlinewidth\":0,\"ticks\":\"\"}}],\"contour\":[{\"type\":\"contour\",\"colorbar\":{\"outlinewidth\":0,\"ticks\":\"\"},\"colorscale\":[[0.0,\"#0d0887\"],[0.1111111111111111,\"#46039f\"],[0.2222222222222222,\"#7201a8\"],[0.3333333333333333,\"#9c179e\"],[0.4444444444444444,\"#bd3786\"],[0.5555555555555556,\"#d8576b\"],[0.6666666666666666,\"#ed7953\"],[0.7777777777777778,\"#fb9f3a\"],[0.8888888888888888,\"#fdca26\"],[1.0,\"#f0f921\"]]}],\"surface\":[{\"type\":\"surface\",\"colorbar\":{\"outlinewidth\":0,\"ticks\":\"\"},\"colorscale\":[[0.0,\"#0d0887\"],[0.1111111111111111,\"#46039f\"],[0.2222222222222222,\"#7201a8\"],[0.3333333333333333,\"#9c179e\"],[0.4444444444444444,\"#bd3786\"],[0.5555555555555556,\"#d8576b\"],[0.6666666666666666,\"#ed7953\"],[0.7777777777777778,\"#fb9f3a\"],[0.8888888888888888,\"#fdca26\"],[1.0,\"#f0f921\"]]}],\"mesh3d\":[{\"type\":\"mesh3d\",\"colorbar\":{\"outlinewidth\":0,\"ticks\":\"\"}}],\"scatter\":[{\"fillpattern\":{\"fillmode\":\"overlay\",\"size\":10,\"solidity\":0.2},\"type\":\"scatter\"}],\"parcoords\":[{\"type\":\"parcoords\",\"line\":{\"colorbar\":{\"outlinewidth\":0,\"ticks\":\"\"}}}],\"scatterpolargl\":[{\"type\":\"scatterpolargl\",\"marker\":{\"colorbar\":{\"outlinewidth\":0,\"ticks\":\"\"}}}],\"bar\":[{\"error_x\":{\"color\":\"#2a3f5f\"},\"error_y\":{\"color\":\"#2a3f5f\"},\"marker\":{\"line\":{\"color\":\"#E5ECF6\",\"width\":0.5},\"pattern\":{\"fillmode\":\"overlay\",\"size\":10,\"solidity\":0.2}},\"type\":\"bar\"}],\"scattergeo\":[{\"type\":\"scattergeo\",\"marker\":{\"colorbar\":{\"outlinewidth\":0,\"ticks\":\"\"}}}],\"scatterpolar\":[{\"type\":\"scatterpolar\",\"marker\":{\"colorbar\":{\"outlinewidth\":0,\"ticks\":\"\"}}}],\"histogram\":[{\"marker\":{\"pattern\":{\"fillmode\":\"overlay\",\"size\":10,\"solidity\":0.2}},\"type\":\"histogram\"}],\"scattergl\":[{\"type\":\"scattergl\",\"marker\":{\"colorbar\":{\"outlinewidth\":0,\"ticks\":\"\"}}}],\"scatter3d\":[{\"type\":\"scatter3d\",\"line\":{\"colorbar\":{\"outlinewidth\":0,\"ticks\":\"\"}},\"marker\":{\"colorbar\":{\"outlinewidth\":0,\"ticks\":\"\"}}}],\"scattermapbox\":[{\"type\":\"scattermapbox\",\"marker\":{\"colorbar\":{\"outlinewidth\":0,\"ticks\":\"\"}}}],\"scatterternary\":[{\"type\":\"scatterternary\",\"marker\":{\"colorbar\":{\"outlinewidth\":0,\"ticks\":\"\"}}}],\"scattercarpet\":[{\"type\":\"scattercarpet\",\"marker\":{\"colorbar\":{\"outlinewidth\":0,\"ticks\":\"\"}}}],\"carpet\":[{\"aaxis\":{\"endlinecolor\":\"#2a3f5f\",\"gridcolor\":\"white\",\"linecolor\":\"white\",\"minorgridcolor\":\"white\",\"startlinecolor\":\"#2a3f5f\"},\"baxis\":{\"endlinecolor\":\"#2a3f5f\",\"gridcolor\":\"white\",\"linecolor\":\"white\",\"minorgridcolor\":\"white\",\"startlinecolor\":\"#2a3f5f\"},\"type\":\"carpet\"}],\"table\":[{\"cells\":{\"fill\":{\"color\":\"#EBF0F8\"},\"line\":{\"color\":\"white\"}},\"header\":{\"fill\":{\"color\":\"#C8D4E3\"},\"line\":{\"color\":\"white\"}},\"type\":\"table\"}],\"barpolar\":[{\"marker\":{\"line\":{\"color\":\"#E5ECF6\",\"width\":0.5},\"pattern\":{\"fillmode\":\"overlay\",\"size\":10,\"solidity\":0.2}},\"type\":\"barpolar\"}],\"pie\":[{\"automargin\":true,\"type\":\"pie\"}]},\"layout\":{\"autotypenumbers\":\"strict\",\"colorway\":[\"#636efa\",\"#EF553B\",\"#00cc96\",\"#ab63fa\",\"#FFA15A\",\"#19d3f3\",\"#FF6692\",\"#B6E880\",\"#FF97FF\",\"#FECB52\"],\"font\":{\"color\":\"#2a3f5f\"},\"hovermode\":\"closest\",\"hoverlabel\":{\"align\":\"left\"},\"paper_bgcolor\":\"white\",\"plot_bgcolor\":\"#E5ECF6\",\"polar\":{\"bgcolor\":\"#E5ECF6\",\"angularaxis\":{\"gridcolor\":\"white\",\"linecolor\":\"white\",\"ticks\":\"\"},\"radialaxis\":{\"gridcolor\":\"white\",\"linecolor\":\"white\",\"ticks\":\"\"}},\"ternary\":{\"bgcolor\":\"#E5ECF6\",\"aaxis\":{\"gridcolor\":\"white\",\"linecolor\":\"white\",\"ticks\":\"\"},\"baxis\":{\"gridcolor\":\"white\",\"linecolor\":\"white\",\"ticks\":\"\"},\"caxis\":{\"gridcolor\":\"white\",\"linecolor\":\"white\",\"ticks\":\"\"}},\"coloraxis\":{\"colorbar\":{\"outlinewidth\":0,\"ticks\":\"\"}},\"colorscale\":{\"sequential\":[[0.0,\"#0d0887\"],[0.1111111111111111,\"#46039f\"],[0.2222222222222222,\"#7201a8\"],[0.3333333333333333,\"#9c179e\"],[0.4444444444444444,\"#bd3786\"],[0.5555555555555556,\"#d8576b\"],[0.6666666666666666,\"#ed7953\"],[0.7777777777777778,\"#fb9f3a\"],[0.8888888888888888,\"#fdca26\"],[1.0,\"#f0f921\"]],\"sequentialminus\":[[0.0,\"#0d0887\"],[0.1111111111111111,\"#46039f\"],[0.2222222222222222,\"#7201a8\"],[0.3333333333333333,\"#9c179e\"],[0.4444444444444444,\"#bd3786\"],[0.5555555555555556,\"#d8576b\"],[0.6666666666666666,\"#ed7953\"],[0.7777777777777778,\"#fb9f3a\"],[0.8888888888888888,\"#fdca26\"],[1.0,\"#f0f921\"]],\"diverging\":[[0,\"#8e0152\"],[0.1,\"#c51b7d\"],[0.2,\"#de77ae\"],[0.3,\"#f1b6da\"],[0.4,\"#fde0ef\"],[0.5,\"#f7f7f7\"],[0.6,\"#e6f5d0\"],[0.7,\"#b8e186\"],[0.8,\"#7fbc41\"],[0.9,\"#4d9221\"],[1,\"#276419\"]]},\"xaxis\":{\"gridcolor\":\"white\",\"linecolor\":\"white\",\"ticks\":\"\",\"title\":{\"standoff\":15},\"zerolinecolor\":\"white\",\"automargin\":true,\"zerolinewidth\":2},\"yaxis\":{\"gridcolor\":\"white\",\"linecolor\":\"white\",\"ticks\":\"\",\"title\":{\"standoff\":15},\"zerolinecolor\":\"white\",\"automargin\":true,\"zerolinewidth\":2},\"scene\":{\"xaxis\":{\"backgroundcolor\":\"#E5ECF6\",\"gridcolor\":\"white\",\"linecolor\":\"white\",\"showbackground\":true,\"ticks\":\"\",\"zerolinecolor\":\"white\",\"gridwidth\":2},\"yaxis\":{\"backgroundcolor\":\"#E5ECF6\",\"gridcolor\":\"white\",\"linecolor\":\"white\",\"showbackground\":true,\"ticks\":\"\",\"zerolinecolor\":\"white\",\"gridwidth\":2},\"zaxis\":{\"backgroundcolor\":\"#E5ECF6\",\"gridcolor\":\"white\",\"linecolor\":\"white\",\"showbackground\":true,\"ticks\":\"\",\"zerolinecolor\":\"white\",\"gridwidth\":2}},\"shapedefaults\":{\"line\":{\"color\":\"#2a3f5f\"}},\"annotationdefaults\":{\"arrowcolor\":\"#2a3f5f\",\"arrowhead\":0,\"arrowwidth\":1},\"geo\":{\"bgcolor\":\"white\",\"landcolor\":\"#E5ECF6\",\"subunitcolor\":\"white\",\"showland\":true,\"showlakes\":true,\"lakecolor\":\"white\"},\"title\":{\"x\":0.05},\"mapbox\":{\"style\":\"light\"}}},\"xaxis\":{\"anchor\":\"y\",\"domain\":[0.0,1.0],\"title\":{\"text\":\"jurisdiction\"}},\"yaxis\":{\"anchor\":\"x\",\"domain\":[0.0,1.0],\"title\":{\"text\":\"prisoner_count\"}},\"legend\":{\"title\":{\"text\":\"year\"},\"tracegroupgap\":0},\"margin\":{\"t\":60}},                        {\"responsive\": true}                    ).then(function(){\n                            \nvar gd = document.getElementById('9c8e03ee-3665-4337-aa61-eafb57ff2680');\nvar x = new MutationObserver(function (mutations, observer) {{\n        var display = window.getComputedStyle(gd).display;\n        if (!display || display === 'none') {{\n            console.log([gd, 'removed!']);\n            Plotly.purge(gd);\n            observer.disconnect();\n        }}\n}});\n\n// Listen for the removal of the full notebook cells\nvar notebookContainer = gd.closest('#notebook-container');\nif (notebookContainer) {{\n    x.observe(notebookContainer, {childList: true});\n}}\n\n// Listen for the clearing of the current output cell\nvar outputEl = gd.closest('.output');\nif (outputEl) {{\n    x.observe(outputEl, {childList: true});\n}}\n\n                        })                };                            </script>        </div>\n</body>\n</html>"
     },
     "execution_count": 9,
     "metadata": {
     },
     "output_type": "execute_result"
    }
   ],
   "source": [
    "# Plot 1: Prisoner Count per state\n",
    "\n",
    "fig = px.line(crime_df, x='jurisdiction', y='prisoner_count', color = 'year')\n",
    "fig.show()\n",
    "fig.write_html(\"prisonerperstate.html\")"
   ]
  },
  {
   "cell_type": "code",
   "execution_count": 10,
   "metadata": {
    "collapsed": false
   },
   "outputs": [
    {
     "data": {
      "text/html": "<html>\n<head><meta charset=\"utf-8\" /></head>\n<body>\n    <div>            <script src=\"https://cdnjs.cloudflare.com/ajax/libs/mathjax/2.7.5/MathJax.js?config=TeX-AMS-MML_SVG\"></script><script type=\"text/javascript\">if (window.MathJax && window.MathJax.Hub && window.MathJax.Hub.Config) {window.MathJax.Hub.Config({SVG: {font: \"STIX-Web\"}});}</script>                <script type=\"text/javascript\">window.PlotlyConfig = {MathJaxConfig: 'local'};</script>\n        <script src=\"https://cdn.plot.ly/plotly-2.12.1.min.js\"></script>                <div id=\"ec933639-f5c4-4d09-b427-efd27868bf4c\" class=\"plotly-graph-div\" style=\"height:525px; width:100%;\"></div>            <script type=\"text/javascript\">                                    window.PLOTLYENV=window.PLOTLYENV || {};                                    if (document.getElementById(\"ec933639-f5c4-4d09-b427-efd27868bf4c\")) {                    Plotly.newPlot(                        \"ec933639-f5c4-4d09-b427-efd27868bf4c\",                        [{\"hovertemplate\":\"jurisdiction=%{x}<br>y=%{y}<br>prisoner_count=%{marker.color}<extra></extra>\",\"legendgroup\":\"\",\"marker\":{\"color\":[24741,4570,27710,11489,157142,17278,17507,6841,72404,45937,5116,5270,44348,19646,7962,8574,10720,19660,1675,23739,10203,48849,6406,15131,28575,2795,3915,9862,2419,26052,5668,67554,32203,1088,44868,21719,10950,37641,3364,21719,2799,17466,148480,4145,1400,31472,15226,3403,20766,1487,25100,4351,29359,11849,159695,18636,18716,6637,75210,47445,5069,5451,42693,20349,8398,8967,11583,20010,1855,24114,9879,50591,6855,15355,29795,2870,4048,10101,2475,26301,5991,66925,32918,1117,45284,21996,11650,39724,3473,22896,2943,18297,152446,4285,1361,30937,16263,3575,21666,1641,27614,4472,31084,12068,161785,19450,18023,6630,79594,47208,5499,5558,43418,21345,8546,9168,11660,19498,1974,23768,9828,49358,7569,15863,29864,3053,4073,10584,2427,25718,6223,65388,33874,1100,44350,22688,12207,40879,3576,22942,3019,19141,153056,4623,1491,30915,16227,3790,22153,1630,25635,4534,32384,12577,163939,19655,17993,6753,83165,51104,5555,5758,44054,21984,8525,8991,13322,19470,2013,23289,9825,48831,7983,16359,30682,2703,4137,11033,2443,25435,6403,64024,35544,1130,44150,22621,12652,40506,3169,22650,3053,19331,156682,4720,1968,31072,16503,3990,22152,1765,24315,4798,33345,12455,168035,21063,17928,6788,86559,48749,5739,6249,44919,22760,8737,9090,14904,19371,1970,22553,10348,49493,8718,16089,30415,2822,4405,11662,2423,25619,6571,63032,36646,1318,45189,22907,12887,41941,3414,22456,3346,19270,157081,5058,2078,30722,16781,4036,21921,2096,24103,5052,35752,12854,172298,22051,18902,7021,90377,52792,5510,6665,45106,24901,8838,8833,15589,20815,2083,22662,10773,51515,8814,16384,30116,2948,4399,12754,2676,25554,6639,63538,37725,1337,48482,22873,13191,43971,3713,22930,3316,19312,158510,5031,2215,30823,16827,4367,22564,2035,25253,5151,37700,13275,171444,22666,19438,7110,95187,54256,5457,7055,45215,25137,8692,8721,15364,20461,2148,23184,11071,50233,9192,17478,29823,2909,4402,13311,2759,25354,6429,62738,38240,1392,49894,23778,13373,45530,3745,23578,3276,19268,158576,5165,2116,32977,16911,4907,22839,1927,25363,4997,39455,13135,171085,23211,19905,6944,99878,52719,5455,7033,45474,26392,8723,8556,15260,20857,2047,23141,11174,48738,9031,17896,30137,2910,4470,12877,2854,24835,6321,60198,39957,1379,50884,23676,13541,48736,3739,23685,3352,19379,159237,5132,2116,32585,17188,4896,22282,1704,27241,5472,40544,13338,168830,22725,18938,6581,101373,53538,4848,7184,45161,26748,8914,8644,14984,19889,2074,22066,11156,45478,9500,17212,30519,3085,4490,12570,2915,24115,6584,58479,40133,1436,50783,24053,13735,50485,3413,23685,3390,19932,158542,5244,2220,30995,17255,5062,22262,1743,27345,5369,40130,14192,162821,22752,18629,6378,102070,52794,5294,7235,48418,27273,9457,9055,14501,19008,1954,22856,11162,44113,9397,16454,30577,3137,4608,12192,2617,24488,6659,56420,40375,1416,51709,24147,13859,48087,3159,23009,3393,20037,160242,5442,2079,31911,17028,5072,22033,2092,26813,6216,39949,14090,147578,21862,17877,6546,100861,52844,5454,7470,48427,27402,9115,9330,14001,18844,1978,23001,11467,42904,9309,15390,30969,3125,4657,12159,2423,23642,6687,55196,39662,1385,50961,23750,13728,49710,3032,22363,3562,19831,159956,5294,2053,30531,17109,5149,22388,2162,26768,6308,40013,14043,132935,20328,17164,6730,99835,55178,5297,7715,49348,28034,8735,9505,12998,18601,1977,21810,11127,43594,9421,15791,31205,3095,4721,12594,2568,23050,6640,54058,37378,1413,50872,24370,14123,50228,3042,21867,3596,19817,155195,5309,2034,29708,16919,5335,22419,2187,26825,5081,41031,14295,134339,20184,17319,6798,100940,53701,5173,7219,48653,28495,8707,9610,12141,18794,2073,21705,10622,43704,9391,15591,31499,3125,5012,12789,2623,22263,6767,53312,37176,1576,51711,25364,14605,49971,3168,21534,3612,20758,155377,5382,2078,29985,17760,5708,22443,2288,26145,6323,42136,15250,134430,20469,16814,6730,100873,52719,5390,7497,48278,32493,8845,9539,12114,18710,2199,21266,10447,43359,9576,13069,31903,3119,5228,12693,2723,21394,6948,52362,37348,1696,51521,26493,14492,49174,3133,20948,3507,20815,154247,5307,1979,30050,17180,5867,22572,2369,25212,5247,42204,15784,127815,19959,16024,6437,99485,52002,5413,7238,46240,26586,8864,9533,11959,18447,2190,20951,9493,42628,9578,13967,32295,3176,5133,13235,2661,20294,7104,36888,1772,52240,27321,14655,48846,2982,20457,3536,19800,152492,4831,1750,30430,17222,5925,22914,2400,23745,4378,42248,15833,129416,19486,15040,6334,98010,53433,5182,7221,43616,25143,9049,9653,11867,15059,2356,20236,9038,41122,9509,13720,32427,3199,5167,13932,2599,19458,6996,50611,35970,1639,52172,26367,14579,48287,2887,20376,3770,21539,151276,4502,1735,29882,17228,5899,23163,2352],\"coloraxis\":\"coloraxis\",\"symbol\":\"circle\"},\"mode\":\"markers\",\"name\":\"\",\"orientation\":\"v\",\"showlegend\":false,\"x\":[\"ALABAMA\",\"ALASKA\",\"ARIZONA\",\"ARKANSAS\",\"CALIFORNIA\",\"COLORADO\",\"CONNECTICUT\",\"DELAWARE\",\"FLORIDA\",\"GEORGIA\",\"HAWAII\",\"IDAHO\",\"ILLINOIS\",\"INDIANA\",\"IOWA\",\"KANSAS\",\"KENTUCKY\",\"LOUISIANA\",\"MAINE\",\"MARYLAND\",\"MASSACHUSETTS\",\"MICHIGAN\",\"MINNESOTA\",\"MISSISSIPPI\",\"MISSOURI\",\"MONTANA\",\"NEBRASKA\",\"NEVADA\",\"NEW HAMPSHIRE\",\"NEW JERSEY\",\"NEW MEXICO\",\"NEW YORK\",\"NORTH CAROLINA\",\"NORTH DAKOTA\",\"OHIO\",\"OKLAHOMA\",\"OREGON\",\"PENNSYLVANIA\",\"RHODE ISLAND\",\"SOUTH CAROLINA\",\"SOUTH DAKOTA\",\"TENNESSEE\",\"TEXAS\",\"UTAH\",\"VERMONT\",\"VIRGINIA\",\"WASHINGTON\",\"WEST VIRGINIA\",\"WISCONSIN\",\"WYOMING\",\"ALABAMA\",\"ALASKA\",\"ARIZONA\",\"ARKANSAS\",\"CALIFORNIA\",\"COLORADO\",\"CONNECTICUT\",\"DELAWARE\",\"FLORIDA\",\"GEORGIA\",\"HAWAII\",\"IDAHO\",\"ILLINOIS\",\"INDIANA\",\"IOWA\",\"KANSAS\",\"KENTUCKY\",\"LOUISIANA\",\"MAINE\",\"MARYLAND\",\"MASSACHUSETTS\",\"MICHIGAN\",\"MINNESOTA\",\"MISSISSIPPI\",\"MISSOURI\",\"MONTANA\",\"NEBRASKA\",\"NEVADA\",\"NEW HAMPSHIRE\",\"NEW JERSEY\",\"NEW MEXICO\",\"NEW YORK\",\"NORTH CAROLINA\",\"NORTH DAKOTA\",\"OHIO\",\"OKLAHOMA\",\"OREGON\",\"PENNSYLVANIA\",\"RHODE ISLAND\",\"SOUTH CAROLINA\",\"SOUTH DAKOTA\",\"TENNESSEE\",\"TEXAS\",\"UTAH\",\"VERMONT\",\"VIRGINIA\",\"WASHINGTON\",\"WEST VIRGINIA\",\"WISCONSIN\",\"WYOMING\",\"ALABAMA\",\"ALASKA\",\"ARIZONA\",\"ARKANSAS\",\"CALIFORNIA\",\"COLORADO\",\"CONNECTICUT\",\"DELAWARE\",\"FLORIDA\",\"GEORGIA\",\"HAWAII\",\"IDAHO\",\"ILLINOIS\",\"INDIANA\",\"IOWA\",\"KANSAS\",\"KENTUCKY\",\"LOUISIANA\",\"MAINE\",\"MARYLAND\",\"MASSACHUSETTS\",\"MICHIGAN\",\"MINNESOTA\",\"MISSISSIPPI\",\"MISSOURI\",\"MONTANA\",\"NEBRASKA\",\"NEVADA\",\"NEW HAMPSHIRE\",\"NEW JERSEY\",\"NEW MEXICO\",\"NEW YORK\",\"NORTH CAROLINA\",\"NORTH DAKOTA\",\"OHIO\",\"OKLAHOMA\",\"OREGON\",\"PENNSYLVANIA\",\"RHODE ISLAND\",\"SOUTH CAROLINA\",\"SOUTH DAKOTA\",\"TENNESSEE\",\"TEXAS\",\"UTAH\",\"VERMONT\",\"VIRGINIA\",\"WASHINGTON\",\"WEST VIRGINIA\",\"WISCONSIN\",\"WYOMING\",\"ALABAMA\",\"ALASKA\",\"ARIZONA\",\"ARKANSAS\",\"CALIFORNIA\",\"COLORADO\",\"CONNECTICUT\",\"DELAWARE\",\"FLORIDA\",\"GEORGIA\",\"HAWAII\",\"IDAHO\",\"ILLINOIS\",\"INDIANA\",\"IOWA\",\"KANSAS\",\"KENTUCKY\",\"LOUISIANA\",\"MAINE\",\"MARYLAND\",\"MASSACHUSETTS\",\"MICHIGAN\",\"MINNESOTA\",\"MISSISSIPPI\",\"MISSOURI\",\"MONTANA\",\"NEBRASKA\",\"NEVADA\",\"NEW HAMPSHIRE\",\"NEW JERSEY\",\"NEW MEXICO\",\"NEW YORK\",\"NORTH CAROLINA\",\"NORTH DAKOTA\",\"OHIO\",\"OKLAHOMA\",\"OREGON\",\"PENNSYLVANIA\",\"RHODE ISLAND\",\"SOUTH CAROLINA\",\"SOUTH DAKOTA\",\"TENNESSEE\",\"TEXAS\",\"UTAH\",\"VERMONT\",\"VIRGINIA\",\"WASHINGTON\",\"WEST VIRGINIA\",\"WISCONSIN\",\"WYOMING\",\"ALABAMA\",\"ALASKA\",\"ARIZONA\",\"ARKANSAS\",\"CALIFORNIA\",\"COLORADO\",\"CONNECTICUT\",\"DELAWARE\",\"FLORIDA\",\"GEORGIA\",\"HAWAII\",\"IDAHO\",\"ILLINOIS\",\"INDIANA\",\"IOWA\",\"KANSAS\",\"KENTUCKY\",\"LOUISIANA\",\"MAINE\",\"MARYLAND\",\"MASSACHUSETTS\",\"MICHIGAN\",\"MINNESOTA\",\"MISSISSIPPI\",\"MISSOURI\",\"MONTANA\",\"NEBRASKA\",\"NEVADA\",\"NEW HAMPSHIRE\",\"NEW JERSEY\",\"NEW MEXICO\",\"NEW YORK\",\"NORTH CAROLINA\",\"NORTH DAKOTA\",\"OHIO\",\"OKLAHOMA\",\"OREGON\",\"PENNSYLVANIA\",\"RHODE ISLAND\",\"SOUTH CAROLINA\",\"SOUTH DAKOTA\",\"TENNESSEE\",\"TEXAS\",\"UTAH\",\"VERMONT\",\"VIRGINIA\",\"WASHINGTON\",\"WEST VIRGINIA\",\"WISCONSIN\",\"WYOMING\",\"ALABAMA\",\"ALASKA\",\"ARIZONA\",\"ARKANSAS\",\"CALIFORNIA\",\"COLORADO\",\"CONNECTICUT\",\"DELAWARE\",\"FLORIDA\",\"GEORGIA\",\"HAWAII\",\"IDAHO\",\"ILLINOIS\",\"INDIANA\",\"IOWA\",\"KANSAS\",\"KENTUCKY\",\"LOUISIANA\",\"MAINE\",\"MARYLAND\",\"MASSACHUSETTS\",\"MICHIGAN\",\"MINNESOTA\",\"MISSISSIPPI\",\"MISSOURI\",\"MONTANA\",\"NEBRASKA\",\"NEVADA\",\"NEW HAMPSHIRE\",\"NEW JERSEY\",\"NEW MEXICO\",\"NEW YORK\",\"NORTH CAROLINA\",\"NORTH DAKOTA\",\"OHIO\",\"OKLAHOMA\",\"OREGON\",\"PENNSYLVANIA\",\"RHODE ISLAND\",\"SOUTH CAROLINA\",\"SOUTH DAKOTA\",\"TENNESSEE\",\"TEXAS\",\"UTAH\",\"VERMONT\",\"VIRGINIA\",\"WASHINGTON\",\"WEST VIRGINIA\",\"WISCONSIN\",\"WYOMING\",\"ALABAMA\",\"ALASKA\",\"ARIZONA\",\"ARKANSAS\",\"CALIFORNIA\",\"COLORADO\",\"CONNECTICUT\",\"DELAWARE\",\"FLORIDA\",\"GEORGIA\",\"HAWAII\",\"IDAHO\",\"ILLINOIS\",\"INDIANA\",\"IOWA\",\"KANSAS\",\"KENTUCKY\",\"LOUISIANA\",\"MAINE\",\"MARYLAND\",\"MASSACHUSETTS\",\"MICHIGAN\",\"MINNESOTA\",\"MISSISSIPPI\",\"MISSOURI\",\"MONTANA\",\"NEBRASKA\",\"NEVADA\",\"NEW HAMPSHIRE\",\"NEW JERSEY\",\"NEW MEXICO\",\"NEW YORK\",\"NORTH CAROLINA\",\"NORTH DAKOTA\",\"OHIO\",\"OKLAHOMA\",\"OREGON\",\"PENNSYLVANIA\",\"RHODE ISLAND\",\"SOUTH CAROLINA\",\"SOUTH DAKOTA\",\"TENNESSEE\",\"TEXAS\",\"UTAH\",\"VERMONT\",\"VIRGINIA\",\"WASHINGTON\",\"WEST VIRGINIA\",\"WISCONSIN\",\"WYOMING\",\"ALABAMA\",\"ALASKA\",\"ARIZONA\",\"ARKANSAS\",\"CALIFORNIA\",\"COLORADO\",\"CONNECTICUT\",\"DELAWARE\",\"FLORIDA\",\"GEORGIA\",\"HAWAII\",\"IDAHO\",\"ILLINOIS\",\"INDIANA\",\"IOWA\",\"KANSAS\",\"KENTUCKY\",\"LOUISIANA\",\"MAINE\",\"MARYLAND\",\"MASSACHUSETTS\",\"MICHIGAN\",\"MINNESOTA\",\"MISSISSIPPI\",\"MISSOURI\",\"MONTANA\",\"NEBRASKA\",\"NEVADA\",\"NEW HAMPSHIRE\",\"NEW JERSEY\",\"NEW MEXICO\",\"NEW YORK\",\"NORTH CAROLINA\",\"NORTH DAKOTA\",\"OHIO\",\"OKLAHOMA\",\"OREGON\",\"PENNSYLVANIA\",\"RHODE ISLAND\",\"SOUTH CAROLINA\",\"SOUTH DAKOTA\",\"TENNESSEE\",\"TEXAS\",\"UTAH\",\"VERMONT\",\"VIRGINIA\",\"WASHINGTON\",\"WEST VIRGINIA\",\"WISCONSIN\",\"WYOMING\",\"ALABAMA\",\"ALASKA\",\"ARIZONA\",\"ARKANSAS\",\"CALIFORNIA\",\"COLORADO\",\"CONNECTICUT\",\"DELAWARE\",\"FLORIDA\",\"GEORGIA\",\"HAWAII\",\"IDAHO\",\"ILLINOIS\",\"INDIANA\",\"IOWA\",\"KANSAS\",\"KENTUCKY\",\"LOUISIANA\",\"MAINE\",\"MARYLAND\",\"MASSACHUSETTS\",\"MICHIGAN\",\"MINNESOTA\",\"MISSISSIPPI\",\"MISSOURI\",\"MONTANA\",\"NEBRASKA\",\"NEVADA\",\"NEW HAMPSHIRE\",\"NEW JERSEY\",\"NEW MEXICO\",\"NEW YORK\",\"NORTH CAROLINA\",\"NORTH DAKOTA\",\"OHIO\",\"OKLAHOMA\",\"OREGON\",\"PENNSYLVANIA\",\"RHODE ISLAND\",\"SOUTH CAROLINA\",\"SOUTH DAKOTA\",\"TENNESSEE\",\"TEXAS\",\"UTAH\",\"VERMONT\",\"VIRGINIA\",\"WASHINGTON\",\"WEST VIRGINIA\",\"WISCONSIN\",\"WYOMING\",\"ALABAMA\",\"ALASKA\",\"ARIZONA\",\"ARKANSAS\",\"CALIFORNIA\",\"COLORADO\",\"CONNECTICUT\",\"DELAWARE\",\"FLORIDA\",\"GEORGIA\",\"HAWAII\",\"IDAHO\",\"ILLINOIS\",\"INDIANA\",\"IOWA\",\"KANSAS\",\"KENTUCKY\",\"LOUISIANA\",\"MAINE\",\"MARYLAND\",\"MASSACHUSETTS\",\"MICHIGAN\",\"MINNESOTA\",\"MISSISSIPPI\",\"MISSOURI\",\"MONTANA\",\"NEBRASKA\",\"NEVADA\",\"NEW HAMPSHIRE\",\"NEW JERSEY\",\"NEW MEXICO\",\"NEW YORK\",\"NORTH CAROLINA\",\"NORTH DAKOTA\",\"OHIO\",\"OKLAHOMA\",\"OREGON\",\"PENNSYLVANIA\",\"RHODE ISLAND\",\"SOUTH CAROLINA\",\"SOUTH DAKOTA\",\"TENNESSEE\",\"TEXAS\",\"UTAH\",\"VERMONT\",\"VIRGINIA\",\"WASHINGTON\",\"WEST VIRGINIA\",\"WISCONSIN\",\"WYOMING\",\"ALABAMA\",\"ALASKA\",\"ARIZONA\",\"ARKANSAS\",\"CALIFORNIA\",\"COLORADO\",\"CONNECTICUT\",\"DELAWARE\",\"FLORIDA\",\"GEORGIA\",\"HAWAII\",\"IDAHO\",\"ILLINOIS\",\"INDIANA\",\"IOWA\",\"KANSAS\",\"KENTUCKY\",\"LOUISIANA\",\"MAINE\",\"MARYLAND\",\"MASSACHUSETTS\",\"MICHIGAN\",\"MINNESOTA\",\"MISSISSIPPI\",\"MISSOURI\",\"MONTANA\",\"NEBRASKA\",\"NEVADA\",\"NEW HAMPSHIRE\",\"NEW JERSEY\",\"NEW MEXICO\",\"NEW YORK\",\"NORTH CAROLINA\",\"NORTH DAKOTA\",\"OHIO\",\"OKLAHOMA\",\"OREGON\",\"PENNSYLVANIA\",\"RHODE ISLAND\",\"SOUTH CAROLINA\",\"SOUTH DAKOTA\",\"TENNESSEE\",\"TEXAS\",\"UTAH\",\"VERMONT\",\"VIRGINIA\",\"WASHINGTON\",\"WEST VIRGINIA\",\"WISCONSIN\",\"WYOMING\",\"ALABAMA\",\"ALASKA\",\"ARIZONA\",\"ARKANSAS\",\"CALIFORNIA\",\"COLORADO\",\"CONNECTICUT\",\"DELAWARE\",\"FLORIDA\",\"GEORGIA\",\"HAWAII\",\"IDAHO\",\"ILLINOIS\",\"INDIANA\",\"IOWA\",\"KANSAS\",\"KENTUCKY\",\"LOUISIANA\",\"MAINE\",\"MARYLAND\",\"MASSACHUSETTS\",\"MICHIGAN\",\"MINNESOTA\",\"MISSISSIPPI\",\"MISSOURI\",\"MONTANA\",\"NEBRASKA\",\"NEVADA\",\"NEW HAMPSHIRE\",\"NEW JERSEY\",\"NEW MEXICO\",\"NEW YORK\",\"NORTH CAROLINA\",\"NORTH DAKOTA\",\"OHIO\",\"OKLAHOMA\",\"OREGON\",\"PENNSYLVANIA\",\"RHODE ISLAND\",\"SOUTH CAROLINA\",\"SOUTH DAKOTA\",\"TENNESSEE\",\"TEXAS\",\"UTAH\",\"VERMONT\",\"VIRGINIA\",\"WASHINGTON\",\"WEST VIRGINIA\",\"WISCONSIN\",\"WYOMING\",\"ALABAMA\",\"ALASKA\",\"ARIZONA\",\"ARKANSAS\",\"CALIFORNIA\",\"COLORADO\",\"CONNECTICUT\",\"DELAWARE\",\"FLORIDA\",\"GEORGIA\",\"HAWAII\",\"IDAHO\",\"ILLINOIS\",\"INDIANA\",\"IOWA\",\"KANSAS\",\"KENTUCKY\",\"LOUISIANA\",\"MAINE\",\"MARYLAND\",\"MASSACHUSETTS\",\"MICHIGAN\",\"MINNESOTA\",\"MISSISSIPPI\",\"MISSOURI\",\"MONTANA\",\"NEBRASKA\",\"NEVADA\",\"NEW HAMPSHIRE\",\"NEW JERSEY\",\"NEW MEXICO\",\"NEW YORK\",\"NORTH CAROLINA\",\"NORTH DAKOTA\",\"OHIO\",\"OKLAHOMA\",\"OREGON\",\"PENNSYLVANIA\",\"RHODE ISLAND\",\"SOUTH CAROLINA\",\"SOUTH DAKOTA\",\"TENNESSEE\",\"TEXAS\",\"UTAH\",\"VERMONT\",\"VIRGINIA\",\"WASHINGTON\",\"WEST VIRGINIA\",\"WISCONSIN\",\"WYOMING\",\"ALABAMA\",\"ALASKA\",\"ARIZONA\",\"ARKANSAS\",\"CALIFORNIA\",\"COLORADO\",\"CONNECTICUT\",\"DELAWARE\",\"FLORIDA\",\"GEORGIA\",\"HAWAII\",\"IDAHO\",\"ILLINOIS\",\"INDIANA\",\"IOWA\",\"KANSAS\",\"KENTUCKY\",\"LOUISIANA\",\"MAINE\",\"MARYLAND\",\"MASSACHUSETTS\",\"MICHIGAN\",\"MINNESOTA\",\"MISSISSIPPI\",\"MISSOURI\",\"MONTANA\",\"NEBRASKA\",\"NEVADA\",\"NEW HAMPSHIRE\",\"NEW JERSEY\",\"NEW MEXICO\",\"NEW YORK\",\"NORTH CAROLINA\",\"NORTH DAKOTA\",\"OHIO\",\"OKLAHOMA\",\"OREGON\",\"PENNSYLVANIA\",\"RHODE ISLAND\",\"SOUTH CAROLINA\",\"SOUTH DAKOTA\",\"TENNESSEE\",\"TEXAS\",\"UTAH\",\"VERMONT\",\"VIRGINIA\",\"WASHINGTON\",\"WEST VIRGINIA\",\"WISCONSIN\",\"WYOMING\",\"ALABAMA\",\"ALASKA\",\"ARIZONA\",\"ARKANSAS\",\"CALIFORNIA\",\"COLORADO\",\"CONNECTICUT\",\"DELAWARE\",\"FLORIDA\",\"GEORGIA\",\"HAWAII\",\"IDAHO\",\"ILLINOIS\",\"INDIANA\",\"IOWA\",\"KANSAS\",\"KENTUCKY\",\"LOUISIANA\",\"MAINE\",\"MARYLAND\",\"MASSACHUSETTS\",\"MICHIGAN\",\"MINNESOTA\",\"MISSISSIPPI\",\"MISSOURI\",\"MONTANA\",\"NEBRASKA\",\"NEVADA\",\"NEW HAMPSHIRE\",\"NEW JERSEY\",\"NEW MEXICO\",\"NORTH CAROLINA\",\"NORTH DAKOTA\",\"OHIO\",\"OKLAHOMA\",\"OREGON\",\"PENNSYLVANIA\",\"RHODE ISLAND\",\"SOUTH CAROLINA\",\"SOUTH DAKOTA\",\"TENNESSEE\",\"TEXAS\",\"UTAH\",\"VERMONT\",\"VIRGINIA\",\"WASHINGTON\",\"WEST VIRGINIA\",\"WISCONSIN\",\"WYOMING\",\"ALABAMA\",\"ALASKA\",\"ARIZONA\",\"ARKANSAS\",\"CALIFORNIA\",\"COLORADO\",\"CONNECTICUT\",\"DELAWARE\",\"FLORIDA\",\"GEORGIA\",\"HAWAII\",\"IDAHO\",\"ILLINOIS\",\"INDIANA\",\"IOWA\",\"KANSAS\",\"KENTUCKY\",\"LOUISIANA\",\"MAINE\",\"MARYLAND\",\"MASSACHUSETTS\",\"MICHIGAN\",\"MINNESOTA\",\"MISSISSIPPI\",\"MISSOURI\",\"MONTANA\",\"NEBRASKA\",\"NEVADA\",\"NEW HAMPSHIRE\",\"NEW JERSEY\",\"NEW MEXICO\",\"NEW YORK\",\"NORTH CAROLINA\",\"NORTH DAKOTA\",\"OHIO\",\"OKLAHOMA\",\"OREGON\",\"PENNSYLVANIA\",\"RHODE ISLAND\",\"SOUTH CAROLINA\",\"SOUTH DAKOTA\",\"TENNESSEE\",\"TEXAS\",\"UTAH\",\"VERMONT\",\"VIRGINIA\",\"WASHINGTON\",\"WEST VIRGINIA\",\"WISCONSIN\",\"WYOMING\"],\"xaxis\":\"x\",\"y\":[0.004381827165090743,0.005894607262913688,0.00540327561925213,0.004523698017365954,0.006152143108605223,0.003496284915173565,0.0033459480894729578,0.006110979300752323,0.007983287455880997,0.004957482901139313,0.0025402926104134884,0.0024314981617995055,0.006331354854828111,0.0037106175336553207,0.002682499496072091,0.004037192949993061,0.002583061018242162,0.006862522280044954,0.0011171923049973919,0.007814218840830221,0.004778037244476161,0.005538929306896299,0.0026371567257527533,0.003498928046779192,0.005405415952895255,0.003520061145461253,0.0030313266152686073,0.005891629110053667,0.001702453390971121,0.0038883267482196222,0.007803663155710061,0.00513625038316736,0.004931084844758872,0.0007933390935511743,0.003513938147208222,0.005108980143688986,0.003066123766029134,0.004099128154976175,0.0030934479865692643,0.008151890943779426,0.0015441948296506507,0.007440083292198592,0.0057159279945148056,0.0023320191406373423,0.0010506086678477857,0.0029095077639212145,0.0035469075097732668,0.0027957078804536433,0.0023096785817545012,0.0025761816613131235,0.004449980530916547,0.005654094736874924,0.005544992993176963,0.004249763881478109,0.005953605032583008,0.0035285092303997444,0.0031246864687804587,0.006000409457221027,0.007711676599047634,0.004596322216571736,0.0026292393663710453,0.0025455579678421354,0.006019093394664912,0.003573381660582178,0.002857103929369448,0.0037720764563648305,0.0027142990575139943,0.006632870082427206,0.0010780805224211403,0.007708431756573908,0.004848640568065029,0.005407229413750827,0.002672349954455817,0.003438757638050003,0.005389675077925139,0.003511751240152377,0.003141996475962685,0.006392750945233004,0.0016133018938249615,0.003761055651775598,0.007407491398692472,0.004966475636178457,0.004709709577139885,0.0007824442232426949,0.003517316041031497,0.005039688225348884,0.0029252731613715094,0.00402130713651834,0.002855869837484064,0.008226825577456826,0.0017752949948516446,0.0071784912629045995,0.005797416147868201,0.0023667526454541573,0.001067474789425186,0.0029166436259687213,0.0034553803654488336,0.002338654450923162,0.0022497597290434827,0.0027343984924723852,0.004292223816457751,0.005980440550379466,0.0051329737371984836,0.004563794507902781,0.00579625720672463,0.0034648794218882658,0.003167515543625393,0.006752908334005568,0.007310940450601708,0.004545056393967125,0.0027227118209736897,0.0024593389776699044,0.005563721713669928,0.0035231470048492065,0.0027787446260608517,0.003974991063518383,0.0024845872785343266,0.006369411159932928,0.0010861553385451475,0.007034800292436383,0.004731356838879832,0.005112888207567194,0.0026294525541391564,0.003238749542946388,0.00490750111379136,0.003649702610773539,0.002938171772255716,0.006160448165579716,0.0015030592726807143,0.003643427320984003,0.006672657064286406,0.0046577149943330945,0.004541282170334596,0.0008020208399115883,0.003338526694224703,0.005064353912725308,0.0029475385275774127,0.00397792827781573,0.0028566543132320524,0.008063886323186005,0.0017374706662918924,0.0069131842699181965,0.005530648850261503,0.002503699855321946,0.0011415322365797304,0.0027819701181923196,0.0034694121864570927,0.002554321423839597,0.0022110629871636323,0.0026169512318989225,0.004270143358285225,0.006323023010087343,0.0050440087674322055,0.005023272727272727,0.005278020184008509,0.0037204836954762037,0.0028902824434418628,0.006150091137001864,0.0071182593700587216,0.004509578186186811,0.0025457086625402894,0.0024743036541135656,0.005456648260983938,0.0032592755812741498,0.0028781836456586466,0.0037787655325370734,0.002451087501071385,0.0064002698213875605,0.0010372741894394233,0.007005695757778892,0.004602347729540708,0.0049224055804087926,0.0026981018124824147,0.0029537005372370353,0.004900745407786605,0.0029376861002028223,0.0030857628065164354,0.006163578519077988,0.0016949296050013509,0.0035627413454158503,0.006873861669379918,0.004404087045058,0.004477974743304465,0.0008769338119275571,0.003387468610654033,0.005004901312484639,0.0029860529275375393,0.004114576572086054,0.0024751925149733866,0.007899202742709912,0.0017116066133676605,0.006976229608616432,0.005409239923780955,0.0023327885891235127,0.001147717523054957,0.0027545896907128302,0.003436417258708893,0.0028192356836894803,0.0020982884994057453,0.0022989323702724126,0.004326425958379862,0.0063233788614601065,0.005119765523541296,0.005285138062072811,0.005260198781622479,0.0039667231002971075,0.0027257397875454087,0.006334490062857815,0.007088903985779982,0.004459322601248523,0.0025548230629917424,0.0025675701202000608,0.005522416132260989,0.0032400157101342975,0.0029327026184917068,0.0038938610829307627,0.00266835513904014,0.0059656146841667495,0.0011250018964967911,0.007043260169468328,0.0046078515340411946,0.005537761093565253,0.002973235033029768,0.0027956029508034393,0.005256737021541117,0.002817904929407951,0.0028734537127672465,0.006074697975086857,0.0013475469824053676,0.003552621751894429,0.006463186369571933,0.004443996680217114,0.004687251908599395,0.0011125030530802626,0.0035012730277224073,0.005092223888524209,0.0028701209798313817,0.004253085040419664,0.002524266961257625,0.007673773049869164,0.001789947643708792,0.007573191934846102,0.005281242024121238,0.0022535129825959088,0.0012564529786129853,0.002833563382439707,0.0034560313190024187,0.0027385737036287757,0.0024182092768637053,0.002303468174010118,0.0042515486961380985,0.006880052771944906,0.0054256040638838285,0.005527821971260164,0.005334505619124313,0.003953820620581957,0.0029973102671215462,0.0070101561145246025,0.007164334019093982,0.004779397905219608,0.002806694370586341,0.0024998891893089847,0.005416003933924409,0.003215797209797387,0.0028573967542843345,0.004326944818791097,0.0027010937040099626,0.0072119107190500974,0.001159980447557231,0.00678647662181584,0.005004821200793576,0.005644117962570586,0.0031046422355591654,0.003118321686010156,0.005459278934289601,0.003772897805706349,0.0029389294198880187,0.007488191882362417,0.0013575228440293712,0.0035016092502086066,0.006547122964863893,0.004351766478127759,0.004752213203741205,0.001973683175884265,0.0036148264777000464,0.005002497756489417,0.0028464438906840167,0.00442325186178407,0.0023042122123247254,0.007711196461948849,0.0026486119406230056,0.007624524264162947,0.005172839990908543,0.0022630813434805336,0.0014505343736576546,0.002837018068048658,0.0034871332709382,0.0028117043448613395,0.002861330483580869,0.0025378443662573496,0.004489124649864483,0.006613234076297994,0.0051800392979378445,0.005371107701891881,0.005240606058865137,0.003517627735387014,0.0030114418801996056,0.007053947666646623,0.007225699641388809,0.004915477094737945,0.0027614408113524514,0.0025616879262532664,0.005331861044206954,0.003358397072221612,0.0030019618171875533,0.004585739826087708,0.0029067725040870227,0.007404493240945457,0.0011881200145459293,0.006418795289145698,0.004416756915572762,0.005338160265342259,0.002896325068718939,0.00291285586297038,0.005607293802836309,0.0037980458542523393,0.003112865024842624,0.007548583407851151,0.0014409178099265253,0.0032862379575220586,0.006757144343791484,0.00414359637862051,0.004660727387343958,0.0020993723767615264,0.003554486354091514,0.005040753973388004,0.002939328157376139,0.004166883834298844,0.0022914791762775185,0.007856689268733485,0.0024189476698475536,0.007549800470023076,0.005104252860772796,0.0023993225797915574,0.0012909373621739256,0.002727535243035903,0.003365271045930199,0.002768158451685536,0.002915217686249027,0.002570625251037622,0.004528196658014972,0.00652053860377419,0.004856327055558461,0.005130297437477892,0.005042051420006374,0.0035388512419181383,0.003066617312892645,0.007086309346552254,0.006888567104276765,0.004888937803848625,0.002724736414743696,0.002414989736293621,0.005253627021780229,0.0033755217356940606,0.002881212833736601,0.004123286038426428,0.002972422524357351,0.006713754161380395,0.0011941151090503594,0.006282487014956874,0.004637912134672275,0.005149437862363499,0.002653631632714242,0.003042926981322513,0.005024185479239563,0.0031144050277019763,0.0031231916888336646,0.00729683901072508,0.001561016834510176,0.003265243224398603,0.006534613748742665,0.003978697707890239,0.004676107578774928,0.0022463642726752624,0.003520487275279016,0.005314959170713721,0.0026144704833168868,0.004100486500985398,0.0025276268857276634,0.007309701325952052,0.0027692322996689853,0.007226678903948068,0.005080163278836077,0.0022529403338079185,0.0013746036344906402,0.0025782945722465016,0.003342075335948198,0.0027589354014510036,0.002755346646488865,0.0024968648388865107,0.004501022361123264,0.006333816768865797,0.004264546199098878,0.005158421152814549,0.004732849689884092,0.003387632573812657,0.003009418217041925,0.006454477461864014,0.006124780983288946,0.004280404602159828,0.0027409359948979985,0.0024615070115752286,0.004971569839499275,0.0033402806396213174,0.002820946215510317,0.004065636256109541,0.0025497709494396647,0.006428653477812931,0.001198512327609552,0.005899663091953333,0.004626161753837479,0.0049976293232502755,0.002444640495050144,0.002862808757193438,0.00492903643876157,0.002869775966703214,0.0028937687957212967,0.007051986598993222,0.0016042881679029122,0.003113667049506192,0.006323920681544392,0.0038436241153613298,0.0040450345617747754,0.002663702531058493,0.0033185634661726145,0.005033834637447282,0.0026055655276989026,0.003822998076838707,0.002542705199063054,0.006752327545874567,0.002187391907511605,0.006659991798297845,0.004910116905201139,0.00215401146028905,0.0013461785898095729,0.0023082514757205436,0.0033630468496194965,0.003052022308227876,0.0025907313006673653,0.0021974387711981187,0.003837295975823134,0.006353042655143346,0.004136495623529001,0.00503527533656354,0.004395846848313355,0.003236924915387072,0.002820026748721437,0.006232551523018653,0.005412765791197048,0.004022587361386353,0.0026427375328141743,0.0022048218384293316,0.004448846673176566,0.0032328180565745473,0.002685395918040838,0.003708104141695606,0.002439258349525663,0.005553156274454975,0.0012212035899317377,0.005462969700541734,0.004688758968469976,0.004929866865347601,0.002356581802104372,0.0026932007035519677,0.0045766017897782,0.002757937268784348,0.002782845693309969,0.0066298534583843485,0.0016737456590069767,0.003074574017230115,0.005879724848045392,0.00394386117889132,0.0036274216718963155,0.00229459451046427,0.0031466545929057874,0.004813594228367548,0.0025135918414561326,0.0036651217883202666,0.0025738032622410045,0.006021643671721112,0.002689205704642921,0.00612023463547254,0.004483780563032417,0.002134766647486794,0.0013100945984160636,0.002141587818373313,0.003134829711031522,0.003012347063797477,0.0024890809516170944,0.0019785529816456885,0.004198023643912002,0.006100627193103639,0.004142213577040858,0.004823074530504849,0.0041116462021095306,0.0031438722733724473,0.002757117441939244,0.005664343595735004,0.005146035621982342,0.003746461132070857,0.002514278416606863,0.002021791400630405,0.004239817377504636,0.003317653294718687,0.0025726992324329157,0.00355666450435586,0.0023964840270274852,0.005546294608292534,0.0012329286798179059,0.004934779466714341,0.004273041801252399,0.004427648182847867,0.0023045279495311558,0.0026898793164771145,0.004474633315715269,0.0027614424452247093,0.002536051337669373,0.005680823873871887,0.002173307623954039,0.0030790830732153503,0.0057267277119933185,0.003972132360723337,0.003462920248597492,0.002481233752957327,0.003051553473626695,0.004574591527901943,0.0024928720610904887,0.0036243870423827845,0.0024613428309820814,0.005968740183696999,0.0025558740785800753,0.006077546018328423,0.004086099684540027,0.0019709723072528014,0.001476239722179664,0.0019759675750803517,0.002953423924345918,0.002963489294347752,0.002498842787796442,0.0021943894133489377,0.004502931794065338,0.006041294962255599,0.004285813068821973,0.00469552801044671,0.00423538201885806,0.0030737313993099086,0.0028350963941126436,0.005504589156788103,0.004869738745635586,0.0037995507302297804,0.002430058485421807,0.00209828339360362,0.00416189003086059,0.003448264258428929,0.0026559012747480602,0.0035669256026378336,0.0022494537334493223,0.004962697739787672,0.0012239358495025597,0.004772579435936371,0.004070092815933299,0.004549649740111807,0.0023085162109179676,0.0026014163973949005,0.0045130551436279925,0.0027876844615681447,0.0025881909073759667,0.006086000564923754,0.0021496394189844713,0.0029011872122226283,0.005596244852510631,0.004062857179344737,0.0035353624464576827,0.0024567081821357532,0.0030145335886314164,0.0047439841919607525,0.002471408156467471,0.003555492881610877,0.002529743769422948,0.005604840732884689,0.0032384266114499544,0.006384748115931521,0.004085638826995154,0.002080304153847932,0.0014234295546151229,0.0019148298908903641,0.0029807182206824977,0.003200874679535515,0.0028393478339098555,0.0020134367857155243,0.0043098918575853185,0.0063871719436453134,0.00415614355213725,0.004632000175749004,0.004026369796171583,0.0030536300052768487,0.0026224244938170627,0.005007349444468462,0.004693445935628266,0.0037538674019053386,0.0025443811759796224,0.002152100359427421,0.004030548885726538,0.0035958045953308265,0.0027302939746942528,0.0034284123805468675,0.0021092908123338055,0.005211821093715573,0.0013253536157844272,0.004754377908972901,0.004063871224888111,0.004521734421626251,0.0023441275087328433,0.002774875793979425,0.004336866825466751,0.0028811742263002726,0.0026479839954541783,0.00604980702089992,0.0022319403364241775,0.002889299693811436,0.006224558494797295,0.003938071698971551,0.0034102226671216744,0.0027339654102951274,0.0029141017481413116,0.0044605433833067145,0.0024276565476972394,0.003350599188063558,0.002572734332427655,0.0050845266138704074,0.003232368629584511,0.005858307544292841,0.004103164922993551,0.002288834833558232,0.0012363305708656706,0.0019775474904614016,0.0028998778561065207,0.003051907239715256,0.0028065700694398857,0.002078107344874945,0.004274157278347301,0.006357807180901604,0.00399852395103368,0.0048014930037362175,0.003961316925455834,0.0030908166858543513,0.002369409318657194,0.004890905865025534,0.005404885876886069,0.0037729727513465673,0.0025923507337831907,0.0021217965033185193,0.0037003768463842466,0.003653104395958377,0.002734681503099649,0.003485856335060938,0.002116254899503949,0.005147455435604545,0.001278109961062756,0.004461041558916586,0.003913625387819387,0.00427331237310009,0.00229147948947193,0.002784829658803258,0.004429060083063018,0.003236682268784334,0.002803609667377623,0.006355889667813626,0.0019610902214554724,0.002611942594545307,0.005973900685279626,0.0038183497029584436,0.003295164785391419,0.0026505040014496634,0.0028488473035957833,0.0040597712613887746,0.002323285827377143,0.003140951242761419,0.002192057605719631,0.004977152527417588,0.0032654496439769097,0.006084266046472994,0.004058840763857702,0.002156374897974856,0.0009927189966834886,0.001962458905762219,0.0028515066848119317,0.0030200083660933265,0.0029029638228945435,0.001954967277408487,0.004723626095111751,0.007301958745016468,0.004102479985178817,0.005213209034706823,0.004263220740993099,0.003209889575400242,0.0021846975927389506,0.0049897772994733245,0.0046186544189234895,0.0037830180736691445,0.002934472755365838,0.0021559824282598055,0.0038377930940097565,0.003875262852585019,0.0028605278211619517,0.003899175756901349,0.002186621204711676,0.005397021960621094,0.00130065717415115,0.004572122307518262,0.003909383314724932,0.004155271776200052,0.0024262267847130407,0.0027583828404124807,0.004974134042729457,0.0034958163471768694,0.0027486697008211203,0.006959210888165917,0.001993073842934959,0.002554026210946557,0.006561287683281785,0.003470346224091643,0.002393890031667519,0.002918863800965486,0.0042200392806758195,0.002598178147951701,0.0031508682325635854,0.002425451908457651,0.005044784203739022,0.0038312391012372024,0.006120934824316292,0.004121974957037202,0.0023602106732525147,0.0011804319837966143,0.0019562225567884882,0.0028442122289410936,0.003378832705755783,0.003057697029301876,0.002221437382593963,0.0053240943145264575,0.008045614290607695,0.004710332363436982,0.005542744185439479,0.004448134229644409,0.0034411643178565324,0.002276955752804385,0.005100252126067233,0.004294029377260689,0.003904351721316085,0.0024162112938979465,0.002307107151913125,0.0043670299599726575,0.003996981010119525,0.002928899292816148,0.004011719103314578,0.0023561167174956997,0.005650045442352871,0.0012396333872587639,0.004816629796545982,0.003806574155068767,0.00460887436332511,0.0024189826336413244,0.002817363750098395,0.005207532995270535,0.0037413734672499845,0.0029675986041120717,0.0067785907580631,0.0019984794178342564,0.002434839285682463,0.00699375477119369,0.003746417046013553,0.0037184361951025577,0.0025213487428991936,0.0030766903728732943,0.004553444895921077,0.002687966120319952,0.003158577580425875,0.002391340114943181,0.00506812542869482,0.00422033980931864,0.006385384314143042,0.00433845542758821,0.0024327263780659137,0.0013651953785489466,0.002198022908402045,0.0030354622085573086,0.003627291802583017,0.003068812525799349,0.002446530235420834],\"yaxis\":\"y\",\"type\":\"scatter\"}],                        {\"template\":{\"data\":{\"histogram2dcontour\":[{\"type\":\"histogram2dcontour\",\"colorbar\":{\"outlinewidth\":0,\"ticks\":\"\"},\"colorscale\":[[0.0,\"#0d0887\"],[0.1111111111111111,\"#46039f\"],[0.2222222222222222,\"#7201a8\"],[0.3333333333333333,\"#9c179e\"],[0.4444444444444444,\"#bd3786\"],[0.5555555555555556,\"#d8576b\"],[0.6666666666666666,\"#ed7953\"],[0.7777777777777778,\"#fb9f3a\"],[0.8888888888888888,\"#fdca26\"],[1.0,\"#f0f921\"]]}],\"choropleth\":[{\"type\":\"choropleth\",\"colorbar\":{\"outlinewidth\":0,\"ticks\":\"\"}}],\"histogram2d\":[{\"type\":\"histogram2d\",\"colorbar\":{\"outlinewidth\":0,\"ticks\":\"\"},\"colorscale\":[[0.0,\"#0d0887\"],[0.1111111111111111,\"#46039f\"],[0.2222222222222222,\"#7201a8\"],[0.3333333333333333,\"#9c179e\"],[0.4444444444444444,\"#bd3786\"],[0.5555555555555556,\"#d8576b\"],[0.6666666666666666,\"#ed7953\"],[0.7777777777777778,\"#fb9f3a\"],[0.8888888888888888,\"#fdca26\"],[1.0,\"#f0f921\"]]}],\"heatmap\":[{\"type\":\"heatmap\",\"colorbar\":{\"outlinewidth\":0,\"ticks\":\"\"},\"colorscale\":[[0.0,\"#0d0887\"],[0.1111111111111111,\"#46039f\"],[0.2222222222222222,\"#7201a8\"],[0.3333333333333333,\"#9c179e\"],[0.4444444444444444,\"#bd3786\"],[0.5555555555555556,\"#d8576b\"],[0.6666666666666666,\"#ed7953\"],[0.7777777777777778,\"#fb9f3a\"],[0.8888888888888888,\"#fdca26\"],[1.0,\"#f0f921\"]]}],\"heatmapgl\":[{\"type\":\"heatmapgl\",\"colorbar\":{\"outlinewidth\":0,\"ticks\":\"\"},\"colorscale\":[[0.0,\"#0d0887\"],[0.1111111111111111,\"#46039f\"],[0.2222222222222222,\"#7201a8\"],[0.3333333333333333,\"#9c179e\"],[0.4444444444444444,\"#bd3786\"],[0.5555555555555556,\"#d8576b\"],[0.6666666666666666,\"#ed7953\"],[0.7777777777777778,\"#fb9f3a\"],[0.8888888888888888,\"#fdca26\"],[1.0,\"#f0f921\"]]}],\"contourcarpet\":[{\"type\":\"contourcarpet\",\"colorbar\":{\"outlinewidth\":0,\"ticks\":\"\"}}],\"contour\":[{\"type\":\"contour\",\"colorbar\":{\"outlinewidth\":0,\"ticks\":\"\"},\"colorscale\":[[0.0,\"#0d0887\"],[0.1111111111111111,\"#46039f\"],[0.2222222222222222,\"#7201a8\"],[0.3333333333333333,\"#9c179e\"],[0.4444444444444444,\"#bd3786\"],[0.5555555555555556,\"#d8576b\"],[0.6666666666666666,\"#ed7953\"],[0.7777777777777778,\"#fb9f3a\"],[0.8888888888888888,\"#fdca26\"],[1.0,\"#f0f921\"]]}],\"surface\":[{\"type\":\"surface\",\"colorbar\":{\"outlinewidth\":0,\"ticks\":\"\"},\"colorscale\":[[0.0,\"#0d0887\"],[0.1111111111111111,\"#46039f\"],[0.2222222222222222,\"#7201a8\"],[0.3333333333333333,\"#9c179e\"],[0.4444444444444444,\"#bd3786\"],[0.5555555555555556,\"#d8576b\"],[0.6666666666666666,\"#ed7953\"],[0.7777777777777778,\"#fb9f3a\"],[0.8888888888888888,\"#fdca26\"],[1.0,\"#f0f921\"]]}],\"mesh3d\":[{\"type\":\"mesh3d\",\"colorbar\":{\"outlinewidth\":0,\"ticks\":\"\"}}],\"scatter\":[{\"fillpattern\":{\"fillmode\":\"overlay\",\"size\":10,\"solidity\":0.2},\"type\":\"scatter\"}],\"parcoords\":[{\"type\":\"parcoords\",\"line\":{\"colorbar\":{\"outlinewidth\":0,\"ticks\":\"\"}}}],\"scatterpolargl\":[{\"type\":\"scatterpolargl\",\"marker\":{\"colorbar\":{\"outlinewidth\":0,\"ticks\":\"\"}}}],\"bar\":[{\"error_x\":{\"color\":\"#2a3f5f\"},\"error_y\":{\"color\":\"#2a3f5f\"},\"marker\":{\"line\":{\"color\":\"#E5ECF6\",\"width\":0.5},\"pattern\":{\"fillmode\":\"overlay\",\"size\":10,\"solidity\":0.2}},\"type\":\"bar\"}],\"scattergeo\":[{\"type\":\"scattergeo\",\"marker\":{\"colorbar\":{\"outlinewidth\":0,\"ticks\":\"\"}}}],\"scatterpolar\":[{\"type\":\"scatterpolar\",\"marker\":{\"colorbar\":{\"outlinewidth\":0,\"ticks\":\"\"}}}],\"histogram\":[{\"marker\":{\"pattern\":{\"fillmode\":\"overlay\",\"size\":10,\"solidity\":0.2}},\"type\":\"histogram\"}],\"scattergl\":[{\"type\":\"scattergl\",\"marker\":{\"colorbar\":{\"outlinewidth\":0,\"ticks\":\"\"}}}],\"scatter3d\":[{\"type\":\"scatter3d\",\"line\":{\"colorbar\":{\"outlinewidth\":0,\"ticks\":\"\"}},\"marker\":{\"colorbar\":{\"outlinewidth\":0,\"ticks\":\"\"}}}],\"scattermapbox\":[{\"type\":\"scattermapbox\",\"marker\":{\"colorbar\":{\"outlinewidth\":0,\"ticks\":\"\"}}}],\"scatterternary\":[{\"type\":\"scatterternary\",\"marker\":{\"colorbar\":{\"outlinewidth\":0,\"ticks\":\"\"}}}],\"scattercarpet\":[{\"type\":\"scattercarpet\",\"marker\":{\"colorbar\":{\"outlinewidth\":0,\"ticks\":\"\"}}}],\"carpet\":[{\"aaxis\":{\"endlinecolor\":\"#2a3f5f\",\"gridcolor\":\"white\",\"linecolor\":\"white\",\"minorgridcolor\":\"white\",\"startlinecolor\":\"#2a3f5f\"},\"baxis\":{\"endlinecolor\":\"#2a3f5f\",\"gridcolor\":\"white\",\"linecolor\":\"white\",\"minorgridcolor\":\"white\",\"startlinecolor\":\"#2a3f5f\"},\"type\":\"carpet\"}],\"table\":[{\"cells\":{\"fill\":{\"color\":\"#EBF0F8\"},\"line\":{\"color\":\"white\"}},\"header\":{\"fill\":{\"color\":\"#C8D4E3\"},\"line\":{\"color\":\"white\"}},\"type\":\"table\"}],\"barpolar\":[{\"marker\":{\"line\":{\"color\":\"#E5ECF6\",\"width\":0.5},\"pattern\":{\"fillmode\":\"overlay\",\"size\":10,\"solidity\":0.2}},\"type\":\"barpolar\"}],\"pie\":[{\"automargin\":true,\"type\":\"pie\"}]},\"layout\":{\"autotypenumbers\":\"strict\",\"colorway\":[\"#636efa\",\"#EF553B\",\"#00cc96\",\"#ab63fa\",\"#FFA15A\",\"#19d3f3\",\"#FF6692\",\"#B6E880\",\"#FF97FF\",\"#FECB52\"],\"font\":{\"color\":\"#2a3f5f\"},\"hovermode\":\"closest\",\"hoverlabel\":{\"align\":\"left\"},\"paper_bgcolor\":\"white\",\"plot_bgcolor\":\"#E5ECF6\",\"polar\":{\"bgcolor\":\"#E5ECF6\",\"angularaxis\":{\"gridcolor\":\"white\",\"linecolor\":\"white\",\"ticks\":\"\"},\"radialaxis\":{\"gridcolor\":\"white\",\"linecolor\":\"white\",\"ticks\":\"\"}},\"ternary\":{\"bgcolor\":\"#E5ECF6\",\"aaxis\":{\"gridcolor\":\"white\",\"linecolor\":\"white\",\"ticks\":\"\"},\"baxis\":{\"gridcolor\":\"white\",\"linecolor\":\"white\",\"ticks\":\"\"},\"caxis\":{\"gridcolor\":\"white\",\"linecolor\":\"white\",\"ticks\":\"\"}},\"coloraxis\":{\"colorbar\":{\"outlinewidth\":0,\"ticks\":\"\"}},\"colorscale\":{\"sequential\":[[0.0,\"#0d0887\"],[0.1111111111111111,\"#46039f\"],[0.2222222222222222,\"#7201a8\"],[0.3333333333333333,\"#9c179e\"],[0.4444444444444444,\"#bd3786\"],[0.5555555555555556,\"#d8576b\"],[0.6666666666666666,\"#ed7953\"],[0.7777777777777778,\"#fb9f3a\"],[0.8888888888888888,\"#fdca26\"],[1.0,\"#f0f921\"]],\"sequentialminus\":[[0.0,\"#0d0887\"],[0.1111111111111111,\"#46039f\"],[0.2222222222222222,\"#7201a8\"],[0.3333333333333333,\"#9c179e\"],[0.4444444444444444,\"#bd3786\"],[0.5555555555555556,\"#d8576b\"],[0.6666666666666666,\"#ed7953\"],[0.7777777777777778,\"#fb9f3a\"],[0.8888888888888888,\"#fdca26\"],[1.0,\"#f0f921\"]],\"diverging\":[[0,\"#8e0152\"],[0.1,\"#c51b7d\"],[0.2,\"#de77ae\"],[0.3,\"#f1b6da\"],[0.4,\"#fde0ef\"],[0.5,\"#f7f7f7\"],[0.6,\"#e6f5d0\"],[0.7,\"#b8e186\"],[0.8,\"#7fbc41\"],[0.9,\"#4d9221\"],[1,\"#276419\"]]},\"xaxis\":{\"gridcolor\":\"white\",\"linecolor\":\"white\",\"ticks\":\"\",\"title\":{\"standoff\":15},\"zerolinecolor\":\"white\",\"automargin\":true,\"zerolinewidth\":2},\"yaxis\":{\"gridcolor\":\"white\",\"linecolor\":\"white\",\"ticks\":\"\",\"title\":{\"standoff\":15},\"zerolinecolor\":\"white\",\"automargin\":true,\"zerolinewidth\":2},\"scene\":{\"xaxis\":{\"backgroundcolor\":\"#E5ECF6\",\"gridcolor\":\"white\",\"linecolor\":\"white\",\"showbackground\":true,\"ticks\":\"\",\"zerolinecolor\":\"white\",\"gridwidth\":2},\"yaxis\":{\"backgroundcolor\":\"#E5ECF6\",\"gridcolor\":\"white\",\"linecolor\":\"white\",\"showbackground\":true,\"ticks\":\"\",\"zerolinecolor\":\"white\",\"gridwidth\":2},\"zaxis\":{\"backgroundcolor\":\"#E5ECF6\",\"gridcolor\":\"white\",\"linecolor\":\"white\",\"showbackground\":true,\"ticks\":\"\",\"zerolinecolor\":\"white\",\"gridwidth\":2}},\"shapedefaults\":{\"line\":{\"color\":\"#2a3f5f\"}},\"annotationdefaults\":{\"arrowcolor\":\"#2a3f5f\",\"arrowhead\":0,\"arrowwidth\":1},\"geo\":{\"bgcolor\":\"white\",\"landcolor\":\"#E5ECF6\",\"subunitcolor\":\"white\",\"showland\":true,\"showlakes\":true,\"lakecolor\":\"white\"},\"title\":{\"x\":0.05},\"mapbox\":{\"style\":\"light\"}}},\"xaxis\":{\"anchor\":\"y\",\"domain\":[0.0,1.0],\"title\":{\"text\":\"jurisdiction\"}},\"yaxis\":{\"anchor\":\"x\",\"domain\":[0.0,1.0],\"title\":{\"text\":\"y\"}},\"coloraxis\":{\"colorbar\":{\"title\":{\"text\":\"prisoner_count\"}},\"colorscale\":[[0.0,\"#0d0887\"],[0.1111111111111111,\"#46039f\"],[0.2222222222222222,\"#7201a8\"],[0.3333333333333333,\"#9c179e\"],[0.4444444444444444,\"#bd3786\"],[0.5555555555555556,\"#d8576b\"],[0.6666666666666666,\"#ed7953\"],[0.7777777777777778,\"#fb9f3a\"],[0.8888888888888888,\"#fdca26\"],[1.0,\"#f0f921\"]]},\"legend\":{\"tracegroupgap\":0},\"title\":{\"text\":\"Crime in states (based on population)\"}},                        {\"responsive\": true}                    ).then(function(){\n                            \nvar gd = document.getElementById('ec933639-f5c4-4d09-b427-efd27868bf4c');\nvar x = new MutationObserver(function (mutations, observer) {{\n        var display = window.getComputedStyle(gd).display;\n        if (!display || display === 'none') {{\n            console.log([gd, 'removed!']);\n            Plotly.purge(gd);\n            observer.disconnect();\n        }}\n}});\n\n// Listen for the removal of the full notebook cells\nvar notebookContainer = gd.closest('#notebook-container');\nif (notebookContainer) {{\n    x.observe(notebookContainer, {childList: true});\n}}\n\n// Listen for the clearing of the current output cell\nvar outputEl = gd.closest('.output');\nif (outputEl) {{\n    x.observe(outputEl, {childList: true});\n}}\n\n                        })                };                            </script>        </div>\n</body>\n</html>"
     },
     "execution_count": 10,
     "metadata": {
     },
     "output_type": "execute_result"
    }
   ],
   "source": [
    "# Extra Plot \n",
    "\n",
    "ans = (crime_df['violent_crime_total']/crime_df['state_population'])\n",
    "fig = px.scatter(crime_df, x='jurisdiction', y=ans, color='prisoner_count', title = \"Crime in states (based on population)\", labels = {\"state_population\":\"Population\", \"violent_crime_total\":\"Crimes in total\"})\n",
    "fig.show()\n",
    "fig.write_html(\"violentcperstate.html\")"
   ]
  },
  {
   "cell_type": "code",
   "execution_count": 11,
   "metadata": {
    "collapsed": false
   },
   "outputs": [
    {
     "data": {
      "text/html": "<html>\n<head><meta charset=\"utf-8\" /></head>\n<body>\n    <div>            <script src=\"https://cdnjs.cloudflare.com/ajax/libs/mathjax/2.7.5/MathJax.js?config=TeX-AMS-MML_SVG\"></script><script type=\"text/javascript\">if (window.MathJax && window.MathJax.Hub && window.MathJax.Hub.Config) {window.MathJax.Hub.Config({SVG: {font: \"STIX-Web\"}});}</script>                <script type=\"text/javascript\">window.PlotlyConfig = {MathJaxConfig: 'local'};</script>\n        <script src=\"https://cdn.plot.ly/plotly-2.12.1.min.js\"></script>                <div id=\"98bbe8de-dcbc-490b-81db-433e1e4b3332\" class=\"plotly-graph-div\" style=\"height:525px; width:100%;\"></div>            <script type=\"text/javascript\">                                    window.PLOTLYENV=window.PLOTLYENV || {};                                    if (document.getElementById(\"98bbe8de-dcbc-490b-81db-433e1e4b3332\")) {                    Plotly.newPlot(                        \"98bbe8de-dcbc-490b-81db-433e1e4b3332\",                        [{\"alignmentgroup\":\"True\",\"hovertemplate\":\"States=%{x}<br>Murder-Manslaughter=%{y}<br>year=%{marker.color}<extra></extra>\",\"legendgroup\":\"\",\"marker\":{\"color\":[2001,2001,2001,2001,2001,2001,2001,2001,2001,2001,2001,2001,2001,2001,2001,2001,2001,2001,2001,2001,2001,2001,2001,2001,2001,2001,2001,2001,2001,2001,2001,2001,2001,2001,2001,2001,2001,2001,2001,2001,2001,2001,2001,2001,2001,2001,2001,2001,2001,2001,2002,2002,2002,2002,2002,2002,2002,2002,2002,2002,2002,2002,2002,2002,2002,2002,2002,2002,2002,2002,2002,2002,2002,2002,2002,2002,2002,2002,2002,2002,2002,2002,2002,2002,2002,2002,2002,2002,2002,2002,2002,2002,2002,2002,2002,2002,2002,2002,2002,2002,2003,2003,2003,2003,2003,2003,2003,2003,2003,2003,2003,2003,2003,2003,2003,2003,2003,2003,2003,2003,2003,2003,2003,2003,2003,2003,2003,2003,2003,2003,2003,2003,2003,2003,2003,2003,2003,2003,2003,2003,2003,2003,2003,2003,2003,2003,2003,2003,2003,2003,2004,2004,2004,2004,2004,2004,2004,2004,2004,2004,2004,2004,2004,2004,2004,2004,2004,2004,2004,2004,2004,2004,2004,2004,2004,2004,2004,2004,2004,2004,2004,2004,2004,2004,2004,2004,2004,2004,2004,2004,2004,2004,2004,2004,2004,2004,2004,2004,2004,2004,2005,2005,2005,2005,2005,2005,2005,2005,2005,2005,2005,2005,2005,2005,2005,2005,2005,2005,2005,2005,2005,2005,2005,2005,2005,2005,2005,2005,2005,2005,2005,2005,2005,2005,2005,2005,2005,2005,2005,2005,2005,2005,2005,2005,2005,2005,2005,2005,2005,2005,2006,2006,2006,2006,2006,2006,2006,2006,2006,2006,2006,2006,2006,2006,2006,2006,2006,2006,2006,2006,2006,2006,2006,2006,2006,2006,2006,2006,2006,2006,2006,2006,2006,2006,2006,2006,2006,2006,2006,2006,2006,2006,2006,2006,2006,2006,2006,2006,2006,2006,2007,2007,2007,2007,2007,2007,2007,2007,2007,2007,2007,2007,2007,2007,2007,2007,2007,2007,2007,2007,2007,2007,2007,2007,2007,2007,2007,2007,2007,2007,2007,2007,2007,2007,2007,2007,2007,2007,2007,2007,2007,2007,2007,2007,2007,2007,2007,2007,2007,2007,2008,2008,2008,2008,2008,2008,2008,2008,2008,2008,2008,2008,2008,2008,2008,2008,2008,2008,2008,2008,2008,2008,2008,2008,2008,2008,2008,2008,2008,2008,2008,2008,2008,2008,2008,2008,2008,2008,2008,2008,2008,2008,2008,2008,2008,2008,2008,2008,2008,2008,2009,2009,2009,2009,2009,2009,2009,2009,2009,2009,2009,2009,2009,2009,2009,2009,2009,2009,2009,2009,2009,2009,2009,2009,2009,2009,2009,2009,2009,2009,2009,2009,2009,2009,2009,2009,2009,2009,2009,2009,2009,2009,2009,2009,2009,2009,2009,2009,2009,2009,2010,2010,2010,2010,2010,2010,2010,2010,2010,2010,2010,2010,2010,2010,2010,2010,2010,2010,2010,2010,2010,2010,2010,2010,2010,2010,2010,2010,2010,2010,2010,2010,2010,2010,2010,2010,2010,2010,2010,2010,2010,2010,2010,2010,2010,2010,2010,2010,2010,2010,2011,2011,2011,2011,2011,2011,2011,2011,2011,2011,2011,2011,2011,2011,2011,2011,2011,2011,2011,2011,2011,2011,2011,2011,2011,2011,2011,2011,2011,2011,2011,2011,2011,2011,2011,2011,2011,2011,2011,2011,2011,2011,2011,2011,2011,2011,2011,2011,2011,2011,2012,2012,2012,2012,2012,2012,2012,2012,2012,2012,2012,2012,2012,2012,2012,2012,2012,2012,2012,2012,2012,2012,2012,2012,2012,2012,2012,2012,2012,2012,2012,2012,2012,2012,2012,2012,2012,2012,2012,2012,2012,2012,2012,2012,2012,2012,2012,2012,2012,2012,2013,2013,2013,2013,2013,2013,2013,2013,2013,2013,2013,2013,2013,2013,2013,2013,2013,2013,2013,2013,2013,2013,2013,2013,2013,2013,2013,2013,2013,2013,2013,2013,2013,2013,2013,2013,2013,2013,2013,2013,2013,2013,2013,2013,2013,2013,2013,2013,2013,2013,2014,2014,2014,2014,2014,2014,2014,2014,2014,2014,2014,2014,2014,2014,2014,2014,2014,2014,2014,2014,2014,2014,2014,2014,2014,2014,2014,2014,2014,2014,2014,2014,2014,2014,2014,2014,2014,2014,2014,2014,2014,2014,2014,2014,2014,2014,2014,2014,2014,2014,2015,2015,2015,2015,2015,2015,2015,2015,2015,2015,2015,2015,2015,2015,2015,2015,2015,2015,2015,2015,2015,2015,2015,2015,2015,2015,2015,2015,2015,2015,2015,2015,2015,2015,2015,2015,2015,2015,2015,2015,2015,2015,2015,2015,2015,2015,2015,2015,2015,2016,2016,2016,2016,2016,2016,2016,2016,2016,2016,2016,2016,2016,2016,2016,2016,2016,2016,2016,2016,2016,2016,2016,2016,2016,2016,2016,2016,2016,2016,2016,2016,2016,2016,2016,2016,2016,2016,2016,2016,2016,2016,2016,2016,2016,2016,2016,2016,2016,2016],\"coloraxis\":\"coloraxis\",\"pattern\":{\"shape\":\"\"}},\"name\":\"\",\"offsetgroup\":\"\",\"orientation\":\"v\",\"showlegend\":false,\"textposition\":\"auto\",\"x\":[\"ALABAMA\",\"ALASKA\",\"ARIZONA\",\"ARKANSAS\",\"CALIFORNIA\",\"COLORADO\",\"CONNECTICUT\",\"DELAWARE\",\"FLORIDA\",\"GEORGIA\",\"HAWAII\",\"IDAHO\",\"ILLINOIS\",\"INDIANA\",\"IOWA\",\"KANSAS\",\"KENTUCKY\",\"LOUISIANA\",\"MAINE\",\"MARYLAND\",\"MASSACHUSETTS\",\"MICHIGAN\",\"MINNESOTA\",\"MISSISSIPPI\",\"MISSOURI\",\"MONTANA\",\"NEBRASKA\",\"NEVADA\",\"NEW HAMPSHIRE\",\"NEW JERSEY\",\"NEW MEXICO\",\"NEW YORK\",\"NORTH CAROLINA\",\"NORTH DAKOTA\",\"OHIO\",\"OKLAHOMA\",\"OREGON\",\"PENNSYLVANIA\",\"RHODE ISLAND\",\"SOUTH CAROLINA\",\"SOUTH DAKOTA\",\"TENNESSEE\",\"TEXAS\",\"UTAH\",\"VERMONT\",\"VIRGINIA\",\"WASHINGTON\",\"WEST VIRGINIA\",\"WISCONSIN\",\"WYOMING\",\"ALABAMA\",\"ALASKA\",\"ARIZONA\",\"ARKANSAS\",\"CALIFORNIA\",\"COLORADO\",\"CONNECTICUT\",\"DELAWARE\",\"FLORIDA\",\"GEORGIA\",\"HAWAII\",\"IDAHO\",\"ILLINOIS\",\"INDIANA\",\"IOWA\",\"KANSAS\",\"KENTUCKY\",\"LOUISIANA\",\"MAINE\",\"MARYLAND\",\"MASSACHUSETTS\",\"MICHIGAN\",\"MINNESOTA\",\"MISSISSIPPI\",\"MISSOURI\",\"MONTANA\",\"NEBRASKA\",\"NEVADA\",\"NEW HAMPSHIRE\",\"NEW JERSEY\",\"NEW MEXICO\",\"NEW YORK\",\"NORTH CAROLINA\",\"NORTH DAKOTA\",\"OHIO\",\"OKLAHOMA\",\"OREGON\",\"PENNSYLVANIA\",\"RHODE ISLAND\",\"SOUTH CAROLINA\",\"SOUTH DAKOTA\",\"TENNESSEE\",\"TEXAS\",\"UTAH\",\"VERMONT\",\"VIRGINIA\",\"WASHINGTON\",\"WEST VIRGINIA\",\"WISCONSIN\",\"WYOMING\",\"ALABAMA\",\"ALASKA\",\"ARIZONA\",\"ARKANSAS\",\"CALIFORNIA\",\"COLORADO\",\"CONNECTICUT\",\"DELAWARE\",\"FLORIDA\",\"GEORGIA\",\"HAWAII\",\"IDAHO\",\"ILLINOIS\",\"INDIANA\",\"IOWA\",\"KANSAS\",\"KENTUCKY\",\"LOUISIANA\",\"MAINE\",\"MARYLAND\",\"MASSACHUSETTS\",\"MICHIGAN\",\"MINNESOTA\",\"MISSISSIPPI\",\"MISSOURI\",\"MONTANA\",\"NEBRASKA\",\"NEVADA\",\"NEW HAMPSHIRE\",\"NEW JERSEY\",\"NEW MEXICO\",\"NEW YORK\",\"NORTH CAROLINA\",\"NORTH DAKOTA\",\"OHIO\",\"OKLAHOMA\",\"OREGON\",\"PENNSYLVANIA\",\"RHODE ISLAND\",\"SOUTH CAROLINA\",\"SOUTH DAKOTA\",\"TENNESSEE\",\"TEXAS\",\"UTAH\",\"VERMONT\",\"VIRGINIA\",\"WASHINGTON\",\"WEST VIRGINIA\",\"WISCONSIN\",\"WYOMING\",\"ALABAMA\",\"ALASKA\",\"ARIZONA\",\"ARKANSAS\",\"CALIFORNIA\",\"COLORADO\",\"CONNECTICUT\",\"DELAWARE\",\"FLORIDA\",\"GEORGIA\",\"HAWAII\",\"IDAHO\",\"ILLINOIS\",\"INDIANA\",\"IOWA\",\"KANSAS\",\"KENTUCKY\",\"LOUISIANA\",\"MAINE\",\"MARYLAND\",\"MASSACHUSETTS\",\"MICHIGAN\",\"MINNESOTA\",\"MISSISSIPPI\",\"MISSOURI\",\"MONTANA\",\"NEBRASKA\",\"NEVADA\",\"NEW HAMPSHIRE\",\"NEW JERSEY\",\"NEW MEXICO\",\"NEW YORK\",\"NORTH CAROLINA\",\"NORTH DAKOTA\",\"OHIO\",\"OKLAHOMA\",\"OREGON\",\"PENNSYLVANIA\",\"RHODE ISLAND\",\"SOUTH CAROLINA\",\"SOUTH DAKOTA\",\"TENNESSEE\",\"TEXAS\",\"UTAH\",\"VERMONT\",\"VIRGINIA\",\"WASHINGTON\",\"WEST VIRGINIA\",\"WISCONSIN\",\"WYOMING\",\"ALABAMA\",\"ALASKA\",\"ARIZONA\",\"ARKANSAS\",\"CALIFORNIA\",\"COLORADO\",\"CONNECTICUT\",\"DELAWARE\",\"FLORIDA\",\"GEORGIA\",\"HAWAII\",\"IDAHO\",\"ILLINOIS\",\"INDIANA\",\"IOWA\",\"KANSAS\",\"KENTUCKY\",\"LOUISIANA\",\"MAINE\",\"MARYLAND\",\"MASSACHUSETTS\",\"MICHIGAN\",\"MINNESOTA\",\"MISSISSIPPI\",\"MISSOURI\",\"MONTANA\",\"NEBRASKA\",\"NEVADA\",\"NEW HAMPSHIRE\",\"NEW JERSEY\",\"NEW MEXICO\",\"NEW YORK\",\"NORTH CAROLINA\",\"NORTH DAKOTA\",\"OHIO\",\"OKLAHOMA\",\"OREGON\",\"PENNSYLVANIA\",\"RHODE ISLAND\",\"SOUTH CAROLINA\",\"SOUTH DAKOTA\",\"TENNESSEE\",\"TEXAS\",\"UTAH\",\"VERMONT\",\"VIRGINIA\",\"WASHINGTON\",\"WEST VIRGINIA\",\"WISCONSIN\",\"WYOMING\",\"ALABAMA\",\"ALASKA\",\"ARIZONA\",\"ARKANSAS\",\"CALIFORNIA\",\"COLORADO\",\"CONNECTICUT\",\"DELAWARE\",\"FLORIDA\",\"GEORGIA\",\"HAWAII\",\"IDAHO\",\"ILLINOIS\",\"INDIANA\",\"IOWA\",\"KANSAS\",\"KENTUCKY\",\"LOUISIANA\",\"MAINE\",\"MARYLAND\",\"MASSACHUSETTS\",\"MICHIGAN\",\"MINNESOTA\",\"MISSISSIPPI\",\"MISSOURI\",\"MONTANA\",\"NEBRASKA\",\"NEVADA\",\"NEW HAMPSHIRE\",\"NEW JERSEY\",\"NEW MEXICO\",\"NEW YORK\",\"NORTH CAROLINA\",\"NORTH DAKOTA\",\"OHIO\",\"OKLAHOMA\",\"OREGON\",\"PENNSYLVANIA\",\"RHODE ISLAND\",\"SOUTH CAROLINA\",\"SOUTH DAKOTA\",\"TENNESSEE\",\"TEXAS\",\"UTAH\",\"VERMONT\",\"VIRGINIA\",\"WASHINGTON\",\"WEST VIRGINIA\",\"WISCONSIN\",\"WYOMING\",\"ALABAMA\",\"ALASKA\",\"ARIZONA\",\"ARKANSAS\",\"CALIFORNIA\",\"COLORADO\",\"CONNECTICUT\",\"DELAWARE\",\"FLORIDA\",\"GEORGIA\",\"HAWAII\",\"IDAHO\",\"ILLINOIS\",\"INDIANA\",\"IOWA\",\"KANSAS\",\"KENTUCKY\",\"LOUISIANA\",\"MAINE\",\"MARYLAND\",\"MASSACHUSETTS\",\"MICHIGAN\",\"MINNESOTA\",\"MISSISSIPPI\",\"MISSOURI\",\"MONTANA\",\"NEBRASKA\",\"NEVADA\",\"NEW HAMPSHIRE\",\"NEW JERSEY\",\"NEW MEXICO\",\"NEW YORK\",\"NORTH CAROLINA\",\"NORTH DAKOTA\",\"OHIO\",\"OKLAHOMA\",\"OREGON\",\"PENNSYLVANIA\",\"RHODE ISLAND\",\"SOUTH CAROLINA\",\"SOUTH DAKOTA\",\"TENNESSEE\",\"TEXAS\",\"UTAH\",\"VERMONT\",\"VIRGINIA\",\"WASHINGTON\",\"WEST VIRGINIA\",\"WISCONSIN\",\"WYOMING\",\"ALABAMA\",\"ALASKA\",\"ARIZONA\",\"ARKANSAS\",\"CALIFORNIA\",\"COLORADO\",\"CONNECTICUT\",\"DELAWARE\",\"FLORIDA\",\"GEORGIA\",\"HAWAII\",\"IDAHO\",\"ILLINOIS\",\"INDIANA\",\"IOWA\",\"KANSAS\",\"KENTUCKY\",\"LOUISIANA\",\"MAINE\",\"MARYLAND\",\"MASSACHUSETTS\",\"MICHIGAN\",\"MINNESOTA\",\"MISSISSIPPI\",\"MISSOURI\",\"MONTANA\",\"NEBRASKA\",\"NEVADA\",\"NEW HAMPSHIRE\",\"NEW JERSEY\",\"NEW MEXICO\",\"NEW YORK\",\"NORTH CAROLINA\",\"NORTH DAKOTA\",\"OHIO\",\"OKLAHOMA\",\"OREGON\",\"PENNSYLVANIA\",\"RHODE ISLAND\",\"SOUTH CAROLINA\",\"SOUTH DAKOTA\",\"TENNESSEE\",\"TEXAS\",\"UTAH\",\"VERMONT\",\"VIRGINIA\",\"WASHINGTON\",\"WEST VIRGINIA\",\"WISCONSIN\",\"WYOMING\",\"ALABAMA\",\"ALASKA\",\"ARIZONA\",\"ARKANSAS\",\"CALIFORNIA\",\"COLORADO\",\"CONNECTICUT\",\"DELAWARE\",\"FLORIDA\",\"GEORGIA\",\"HAWAII\",\"IDAHO\",\"ILLINOIS\",\"INDIANA\",\"IOWA\",\"KANSAS\",\"KENTUCKY\",\"LOUISIANA\",\"MAINE\",\"MARYLAND\",\"MASSACHUSETTS\",\"MICHIGAN\",\"MINNESOTA\",\"MISSISSIPPI\",\"MISSOURI\",\"MONTANA\",\"NEBRASKA\",\"NEVADA\",\"NEW HAMPSHIRE\",\"NEW JERSEY\",\"NEW MEXICO\",\"NEW YORK\",\"NORTH CAROLINA\",\"NORTH DAKOTA\",\"OHIO\",\"OKLAHOMA\",\"OREGON\",\"PENNSYLVANIA\",\"RHODE ISLAND\",\"SOUTH CAROLINA\",\"SOUTH DAKOTA\",\"TENNESSEE\",\"TEXAS\",\"UTAH\",\"VERMONT\",\"VIRGINIA\",\"WASHINGTON\",\"WEST VIRGINIA\",\"WISCONSIN\",\"WYOMING\",\"ALABAMA\",\"ALASKA\",\"ARIZONA\",\"ARKANSAS\",\"CALIFORNIA\",\"COLORADO\",\"CONNECTICUT\",\"DELAWARE\",\"FLORIDA\",\"GEORGIA\",\"HAWAII\",\"IDAHO\",\"ILLINOIS\",\"INDIANA\",\"IOWA\",\"KANSAS\",\"KENTUCKY\",\"LOUISIANA\",\"MAINE\",\"MARYLAND\",\"MASSACHUSETTS\",\"MICHIGAN\",\"MINNESOTA\",\"MISSISSIPPI\",\"MISSOURI\",\"MONTANA\",\"NEBRASKA\",\"NEVADA\",\"NEW HAMPSHIRE\",\"NEW JERSEY\",\"NEW MEXICO\",\"NEW YORK\",\"NORTH CAROLINA\",\"NORTH DAKOTA\",\"OHIO\",\"OKLAHOMA\",\"OREGON\",\"PENNSYLVANIA\",\"RHODE ISLAND\",\"SOUTH CAROLINA\",\"SOUTH DAKOTA\",\"TENNESSEE\",\"TEXAS\",\"UTAH\",\"VERMONT\",\"VIRGINIA\",\"WASHINGTON\",\"WEST VIRGINIA\",\"WISCONSIN\",\"WYOMING\",\"ALABAMA\",\"ALASKA\",\"ARIZONA\",\"ARKANSAS\",\"CALIFORNIA\",\"COLORADO\",\"CONNECTICUT\",\"DELAWARE\",\"FLORIDA\",\"GEORGIA\",\"HAWAII\",\"IDAHO\",\"ILLINOIS\",\"INDIANA\",\"IOWA\",\"KANSAS\",\"KENTUCKY\",\"LOUISIANA\",\"MAINE\",\"MARYLAND\",\"MASSACHUSETTS\",\"MICHIGAN\",\"MINNESOTA\",\"MISSISSIPPI\",\"MISSOURI\",\"MONTANA\",\"NEBRASKA\",\"NEVADA\",\"NEW HAMPSHIRE\",\"NEW JERSEY\",\"NEW MEXICO\",\"NEW YORK\",\"NORTH CAROLINA\",\"NORTH DAKOTA\",\"OHIO\",\"OKLAHOMA\",\"OREGON\",\"PENNSYLVANIA\",\"RHODE ISLAND\",\"SOUTH CAROLINA\",\"SOUTH DAKOTA\",\"TENNESSEE\",\"TEXAS\",\"UTAH\",\"VERMONT\",\"VIRGINIA\",\"WASHINGTON\",\"WEST VIRGINIA\",\"WISCONSIN\",\"WYOMING\",\"ALABAMA\",\"ALASKA\",\"ARIZONA\",\"ARKANSAS\",\"CALIFORNIA\",\"COLORADO\",\"CONNECTICUT\",\"DELAWARE\",\"FLORIDA\",\"GEORGIA\",\"HAWAII\",\"IDAHO\",\"ILLINOIS\",\"INDIANA\",\"IOWA\",\"KANSAS\",\"KENTUCKY\",\"LOUISIANA\",\"MAINE\",\"MARYLAND\",\"MASSACHUSETTS\",\"MICHIGAN\",\"MINNESOTA\",\"MISSISSIPPI\",\"MISSOURI\",\"MONTANA\",\"NEBRASKA\",\"NEVADA\",\"NEW HAMPSHIRE\",\"NEW JERSEY\",\"NEW MEXICO\",\"NEW YORK\",\"NORTH CAROLINA\",\"NORTH DAKOTA\",\"OHIO\",\"OKLAHOMA\",\"OREGON\",\"PENNSYLVANIA\",\"RHODE ISLAND\",\"SOUTH CAROLINA\",\"SOUTH DAKOTA\",\"TENNESSEE\",\"TEXAS\",\"UTAH\",\"VERMONT\",\"VIRGINIA\",\"WASHINGTON\",\"WEST VIRGINIA\",\"WISCONSIN\",\"WYOMING\",\"ALABAMA\",\"ALASKA\",\"ARIZONA\",\"ARKANSAS\",\"CALIFORNIA\",\"COLORADO\",\"CONNECTICUT\",\"DELAWARE\",\"FLORIDA\",\"GEORGIA\",\"HAWAII\",\"IDAHO\",\"ILLINOIS\",\"INDIANA\",\"IOWA\",\"KANSAS\",\"KENTUCKY\",\"LOUISIANA\",\"MAINE\",\"MARYLAND\",\"MASSACHUSETTS\",\"MICHIGAN\",\"MINNESOTA\",\"MISSISSIPPI\",\"MISSOURI\",\"MONTANA\",\"NEBRASKA\",\"NEVADA\",\"NEW HAMPSHIRE\",\"NEW JERSEY\",\"NEW MEXICO\",\"NEW YORK\",\"NORTH CAROLINA\",\"NORTH DAKOTA\",\"OHIO\",\"OKLAHOMA\",\"OREGON\",\"PENNSYLVANIA\",\"RHODE ISLAND\",\"SOUTH CAROLINA\",\"SOUTH DAKOTA\",\"TENNESSEE\",\"TEXAS\",\"UTAH\",\"VERMONT\",\"VIRGINIA\",\"WASHINGTON\",\"WEST VIRGINIA\",\"WISCONSIN\",\"WYOMING\",\"ALABAMA\",\"ALASKA\",\"ARIZONA\",\"ARKANSAS\",\"CALIFORNIA\",\"COLORADO\",\"CONNECTICUT\",\"DELAWARE\",\"FLORIDA\",\"GEORGIA\",\"HAWAII\",\"IDAHO\",\"ILLINOIS\",\"INDIANA\",\"IOWA\",\"KANSAS\",\"KENTUCKY\",\"LOUISIANA\",\"MAINE\",\"MARYLAND\",\"MASSACHUSETTS\",\"MICHIGAN\",\"MINNESOTA\",\"MISSISSIPPI\",\"MISSOURI\",\"MONTANA\",\"NEBRASKA\",\"NEVADA\",\"NEW HAMPSHIRE\",\"NEW JERSEY\",\"NEW MEXICO\",\"NEW YORK\",\"NORTH CAROLINA\",\"NORTH DAKOTA\",\"OHIO\",\"OKLAHOMA\",\"OREGON\",\"PENNSYLVANIA\",\"RHODE ISLAND\",\"SOUTH CAROLINA\",\"SOUTH DAKOTA\",\"TENNESSEE\",\"TEXAS\",\"UTAH\",\"VERMONT\",\"VIRGINIA\",\"WASHINGTON\",\"WEST VIRGINIA\",\"WISCONSIN\",\"WYOMING\",\"ALABAMA\",\"ALASKA\",\"ARIZONA\",\"ARKANSAS\",\"CALIFORNIA\",\"COLORADO\",\"CONNECTICUT\",\"DELAWARE\",\"FLORIDA\",\"GEORGIA\",\"HAWAII\",\"IDAHO\",\"ILLINOIS\",\"INDIANA\",\"IOWA\",\"KANSAS\",\"KENTUCKY\",\"LOUISIANA\",\"MAINE\",\"MARYLAND\",\"MASSACHUSETTS\",\"MICHIGAN\",\"MINNESOTA\",\"MISSISSIPPI\",\"MISSOURI\",\"MONTANA\",\"NEBRASKA\",\"NEVADA\",\"NEW HAMPSHIRE\",\"NEW JERSEY\",\"NEW MEXICO\",\"NORTH CAROLINA\",\"NORTH DAKOTA\",\"OHIO\",\"OKLAHOMA\",\"OREGON\",\"PENNSYLVANIA\",\"RHODE ISLAND\",\"SOUTH CAROLINA\",\"SOUTH DAKOTA\",\"TENNESSEE\",\"TEXAS\",\"UTAH\",\"VERMONT\",\"VIRGINIA\",\"WASHINGTON\",\"WEST VIRGINIA\",\"WISCONSIN\",\"WYOMING\",\"ALABAMA\",\"ALASKA\",\"ARIZONA\",\"ARKANSAS\",\"CALIFORNIA\",\"COLORADO\",\"CONNECTICUT\",\"DELAWARE\",\"FLORIDA\",\"GEORGIA\",\"HAWAII\",\"IDAHO\",\"ILLINOIS\",\"INDIANA\",\"IOWA\",\"KANSAS\",\"KENTUCKY\",\"LOUISIANA\",\"MAINE\",\"MARYLAND\",\"MASSACHUSETTS\",\"MICHIGAN\",\"MINNESOTA\",\"MISSISSIPPI\",\"MISSOURI\",\"MONTANA\",\"NEBRASKA\",\"NEVADA\",\"NEW HAMPSHIRE\",\"NEW JERSEY\",\"NEW MEXICO\",\"NEW YORK\",\"NORTH CAROLINA\",\"NORTH DAKOTA\",\"OHIO\",\"OKLAHOMA\",\"OREGON\",\"PENNSYLVANIA\",\"RHODE ISLAND\",\"SOUTH CAROLINA\",\"SOUTH DAKOTA\",\"TENNESSEE\",\"TEXAS\",\"UTAH\",\"VERMONT\",\"VIRGINIA\",\"WASHINGTON\",\"WEST VIRGINIA\",\"WISCONSIN\",\"WYOMING\"],\"xaxis\":\"x\",\"y\":[379.0,39.0,400.0,148.0,2206.0,158.0,105.0,23.0,874.0,598.0,32.0,30.0,982.0,413.0,50.0,92.0,181.0,501.0,19.0,446.0,143.0,672.0,119.0,282.0,372.0,34.0,43.0,180.0,17.0,336.0,99.0,960.0,505.0,7.0,452.0,185.0,84.0,651.0,39.0,330.0,7.0,423.0,1332.0,67.0,7.0,364.0,179.0,40.0,192.0,9.0,303.0,33.0,387.0,142.0,2395.0,179.0,84.0,26.0,911.0,606.0,24.0,36.0,961.0,362.0,44.0,78.0,191.0,593.0,14.0,513.0,173.0,678.0,112.0,264.0,331.0,16.0,48.0,181.0,12.0,339.0,152.0,909.0,548.0,5.0,526.0,163.0,72.0,624.0,41.0,298.0,11.0,420.0,1302.0,47.0,13.0,388.0,184.0,57.0,154.0,15.0,299.0,39.0,441.0,180.0,2407.0,185.0,112.0,21.0,924.0,657.0,22.0,26.0,895.0,338.0,50.0,125.0,181.0,584.0,16.0,525.0,140.0,612.0,127.0,267.0,289.0,30.0,56.0,197.0,17.0,406.0,116.0,934.0,506.0,9.0,526.0,206.0,68.0,647.0,25.0,303.0,10.0,396.0,1422.0,60.0,15.0,416.0,182.0,73.0,183.0,14.0,254.0,37.0,414.0,176.0,2392.0,201.0,100.0,28.0,946.0,613.0,33.0,31.0,780.0,316.0,44.0,122.0,236.0,574.0,18.0,521.0,171.0,643.0,113.0,227.0,354.0,30.0,40.0,172.0,17.0,392.0,169.0,889.0,532.0,8.0,506.0,186.0,90.0,650.0,26.0,286.0,17.0,357.0,1364.0,46.0,16.0,390.0,190.0,68.0,154.0,11.0,374.0,32.0,445.0,189.0,2503.0,173.0,105.0,37.0,883.0,564.0,24.0,35.0,770.0,356.0,40.0,101.0,190.0,450.0,19.0,552.0,178.0,629.0,115.0,214.0,402.0,18.0,44.0,206.0,19.0,417.0,144.0,874.0,585.0,12.0,590.0,187.0,80.0,756.0,34.0,314.0,18.0,431.0,1407.0,56.0,8.0,458.0,205.0,82.0,206.0,14.0,382.0,36.0,533.0,205.0,2486.0,171.0,137.0,42.0,1129.0,605.0,21.0,35.0,780.0,361.0,55.0,125.0,173.0,555.0,23.0,546.0,188.0,721.0,126.0,231.0,369.0,33.0,51.0,226.0,13.0,427.0,134.0,922.0,539.0,14.0,560.0,210.0,88.0,741.0,27.0,362.0,30.0,419.0,1386.0,51.0,14.0,403.0,197.0,80.0,165.0,13.0,412.0,43.0,548.0,198.0,2262.0,155.0,113.0,39.0,1202.0,720.0,24.0,49.0,752.0,350.0,39.0,106.0,206.0,625.0,20.0,554.0,187.0,661.0,116.0,202.0,367.0,27.0,71.0,193.0,12.0,381.0,183.0,805.0,584.0,17.0,529.0,224.0,76.0,725.0,19.0,364.0,31.0,405.0,1419.0,59.0,13.0,415.0,174.0,65.0,185.0,21.0,351.0,27.0,462.0,165.0,2142.0,165.0,132.0,57.0,1168.0,640.0,26.0,23.0,790.0,322.0,77.0,113.0,201.0,544.0,31.0,493.0,166.0,554.0,110.0,236.0,456.0,40.0,69.0,165.0,14.0,376.0,161.0,836.0,599.0,11.0,547.0,215.0,87.0,705.0,31.0,307.0,37.0,412.0,1370.0,41.0,17.0,370.0,193.0,67.0,146.0,12.0,322.0,22.0,380.0,179.0,1972.0,159.0,106.0,41.0,1017.0,566.0,23.0,24.0,773.0,312.0,38.0,125.0,184.0,529.0,26.0,440.0,173.0,623.0,74.0,194.0,387.0,32.0,41.0,156.0,11.0,319.0,198.0,781.0,489.0,12.0,527.0,234.0,88.0,664.0,32.0,305.0,30.0,468.0,1330.0,39.0,8.0,370.0,190.0,84.0,146.0,11.0,275.0,31.0,408.0,134.0,1809.0,129.0,133.0,51.0,987.0,555.0,25.0,22.0,704.0,268.0,38.0,97.0,188.0,500.0,24.0,426.0,214.0,580.0,96.0,204.0,420.0,25.0,54.0,158.0,13.0,371.0,140.0,868.0,474.0,10.0,479.0,195.0,96.0,653.0,29.0,265.0,23.0,359.0,1249.0,53.0,7.0,376.0,154.0,58.0,155.0,8.0,299.0,30.0,397.0,160.0,1792.0,155.0,129.0,48.0,984.0,549.0,20.0,35.0,781.0,306.0,44.0,111.0,151.0,506.0,26.0,399.0,184.0,617.0,75.0,232.0,366.0,29.0,68.0,139.0,16.0,380.0,158.0,769.0,498.0,24.0,500.0,212.0,84.0,639.0,20.0,320.0,20.0,380.0,1130.0,50.0,11.0,304.0,163.0,87.0,138.0,18.0,342.0,30.0,358.0,174.0,1884.0,152.0,117.0,56.0,1009.0,583.0,21.0,30.0,770.0,307.0,49.0,85.0,201.0,489.0,26.0,373.0,121.0,701.0,99.0,213.0,390.0,29.0,52.0,124.0,15.0,388.0,116.0,683.0,479.0,25.0,478.0,220.0,91.0,707.0,36.0,332.0,23.0,400.0,1148.0,52.0,8.0,322.0,217.0,70.0,169.0,14.0,346.0,34.0,355.0,158.0,1746.0,174.0,91.0,41.0,972.0,563.0,32.0,29.0,722.0,357.0,41.0,117.0,172.0,494.0,24.0,384.0,138.0,625.0,114.0,217.0,369.0,23.0,56.0,163.0,21.0,404.0,123.0,644.0,463.0,16.0,478.0,198.0,82.0,611.0,31.0,305.0,18.0,335.0,1140.0,51.0,10.0,320.0,167.0,62.0,163.0,17.0,276.0,41.0,319.0,165.0,1699.0,151.0,86.0,54.0,1149.0,580.0,26.0,32.0,685.0,330.0,60.0,91.0,160.0,477.0,21.0,365.0,132.0,535.0,88.0,258.0,403.0,37.0,54.0,170.0,12.0,349.0,101.0,617.0,510.0,22.0,464.0,175.0,81.0,614.0,25.0,311.0,20.0,371.0,1184.0,67.0,10.0,338.0,174.0,74.0,165.0,16.0,348.0,59.0,309.0,181.0,1861.0,176.0,117.0,63.0,1041.0,615.0,19.0,32.0,744.0,373.0,72.0,128.0,209.0,481.0,23.0,516.0,128.0,571.0,133.0,259.0,502.0,36.0,62.0,178.0,14.0,363.0,117.0,517.0,21.0,500.0,234.0,99.0,658.0,29.0,399.0,32.0,406.0,1316.0,54.0,10.0,383.0,211.0,70.0,240.0,16.0,407.0,52.0,389.0,217.0,1930.0,189.0,79.0,58.0,1111.0,682.0,35.0,49.0,1061.0,431.0,73.0,132.0,265.0,555.0,20.0,536.0,135.0,612.0,101.0,237.0,538.0,37.0,49.0,228.0,19.0,378.0,139.0,629.0,678.0,16.0,683.0,247.0,116.0,674.0,29.0,358.0,28.0,495.0,1478.0,74.0,14.0,482.0,195.0,85.0,232.0,20.0],\"yaxis\":\"y\",\"type\":\"bar\"}],                        {\"template\":{\"data\":{\"histogram2dcontour\":[{\"type\":\"histogram2dcontour\",\"colorbar\":{\"outlinewidth\":0,\"ticks\":\"\"},\"colorscale\":[[0.0,\"#0d0887\"],[0.1111111111111111,\"#46039f\"],[0.2222222222222222,\"#7201a8\"],[0.3333333333333333,\"#9c179e\"],[0.4444444444444444,\"#bd3786\"],[0.5555555555555556,\"#d8576b\"],[0.6666666666666666,\"#ed7953\"],[0.7777777777777778,\"#fb9f3a\"],[0.8888888888888888,\"#fdca26\"],[1.0,\"#f0f921\"]]}],\"choropleth\":[{\"type\":\"choropleth\",\"colorbar\":{\"outlinewidth\":0,\"ticks\":\"\"}}],\"histogram2d\":[{\"type\":\"histogram2d\",\"colorbar\":{\"outlinewidth\":0,\"ticks\":\"\"},\"colorscale\":[[0.0,\"#0d0887\"],[0.1111111111111111,\"#46039f\"],[0.2222222222222222,\"#7201a8\"],[0.3333333333333333,\"#9c179e\"],[0.4444444444444444,\"#bd3786\"],[0.5555555555555556,\"#d8576b\"],[0.6666666666666666,\"#ed7953\"],[0.7777777777777778,\"#fb9f3a\"],[0.8888888888888888,\"#fdca26\"],[1.0,\"#f0f921\"]]}],\"heatmap\":[{\"type\":\"heatmap\",\"colorbar\":{\"outlinewidth\":0,\"ticks\":\"\"},\"colorscale\":[[0.0,\"#0d0887\"],[0.1111111111111111,\"#46039f\"],[0.2222222222222222,\"#7201a8\"],[0.3333333333333333,\"#9c179e\"],[0.4444444444444444,\"#bd3786\"],[0.5555555555555556,\"#d8576b\"],[0.6666666666666666,\"#ed7953\"],[0.7777777777777778,\"#fb9f3a\"],[0.8888888888888888,\"#fdca26\"],[1.0,\"#f0f921\"]]}],\"heatmapgl\":[{\"type\":\"heatmapgl\",\"colorbar\":{\"outlinewidth\":0,\"ticks\":\"\"},\"colorscale\":[[0.0,\"#0d0887\"],[0.1111111111111111,\"#46039f\"],[0.2222222222222222,\"#7201a8\"],[0.3333333333333333,\"#9c179e\"],[0.4444444444444444,\"#bd3786\"],[0.5555555555555556,\"#d8576b\"],[0.6666666666666666,\"#ed7953\"],[0.7777777777777778,\"#fb9f3a\"],[0.8888888888888888,\"#fdca26\"],[1.0,\"#f0f921\"]]}],\"contourcarpet\":[{\"type\":\"contourcarpet\",\"colorbar\":{\"outlinewidth\":0,\"ticks\":\"\"}}],\"contour\":[{\"type\":\"contour\",\"colorbar\":{\"outlinewidth\":0,\"ticks\":\"\"},\"colorscale\":[[0.0,\"#0d0887\"],[0.1111111111111111,\"#46039f\"],[0.2222222222222222,\"#7201a8\"],[0.3333333333333333,\"#9c179e\"],[0.4444444444444444,\"#bd3786\"],[0.5555555555555556,\"#d8576b\"],[0.6666666666666666,\"#ed7953\"],[0.7777777777777778,\"#fb9f3a\"],[0.8888888888888888,\"#fdca26\"],[1.0,\"#f0f921\"]]}],\"surface\":[{\"type\":\"surface\",\"colorbar\":{\"outlinewidth\":0,\"ticks\":\"\"},\"colorscale\":[[0.0,\"#0d0887\"],[0.1111111111111111,\"#46039f\"],[0.2222222222222222,\"#7201a8\"],[0.3333333333333333,\"#9c179e\"],[0.4444444444444444,\"#bd3786\"],[0.5555555555555556,\"#d8576b\"],[0.6666666666666666,\"#ed7953\"],[0.7777777777777778,\"#fb9f3a\"],[0.8888888888888888,\"#fdca26\"],[1.0,\"#f0f921\"]]}],\"mesh3d\":[{\"type\":\"mesh3d\",\"colorbar\":{\"outlinewidth\":0,\"ticks\":\"\"}}],\"scatter\":[{\"fillpattern\":{\"fillmode\":\"overlay\",\"size\":10,\"solidity\":0.2},\"type\":\"scatter\"}],\"parcoords\":[{\"type\":\"parcoords\",\"line\":{\"colorbar\":{\"outlinewidth\":0,\"ticks\":\"\"}}}],\"scatterpolargl\":[{\"type\":\"scatterpolargl\",\"marker\":{\"colorbar\":{\"outlinewidth\":0,\"ticks\":\"\"}}}],\"bar\":[{\"error_x\":{\"color\":\"#2a3f5f\"},\"error_y\":{\"color\":\"#2a3f5f\"},\"marker\":{\"line\":{\"color\":\"#E5ECF6\",\"width\":0.5},\"pattern\":{\"fillmode\":\"overlay\",\"size\":10,\"solidity\":0.2}},\"type\":\"bar\"}],\"scattergeo\":[{\"type\":\"scattergeo\",\"marker\":{\"colorbar\":{\"outlinewidth\":0,\"ticks\":\"\"}}}],\"scatterpolar\":[{\"type\":\"scatterpolar\",\"marker\":{\"colorbar\":{\"outlinewidth\":0,\"ticks\":\"\"}}}],\"histogram\":[{\"marker\":{\"pattern\":{\"fillmode\":\"overlay\",\"size\":10,\"solidity\":0.2}},\"type\":\"histogram\"}],\"scattergl\":[{\"type\":\"scattergl\",\"marker\":{\"colorbar\":{\"outlinewidth\":0,\"ticks\":\"\"}}}],\"scatter3d\":[{\"type\":\"scatter3d\",\"line\":{\"colorbar\":{\"outlinewidth\":0,\"ticks\":\"\"}},\"marker\":{\"colorbar\":{\"outlinewidth\":0,\"ticks\":\"\"}}}],\"scattermapbox\":[{\"type\":\"scattermapbox\",\"marker\":{\"colorbar\":{\"outlinewidth\":0,\"ticks\":\"\"}}}],\"scatterternary\":[{\"type\":\"scatterternary\",\"marker\":{\"colorbar\":{\"outlinewidth\":0,\"ticks\":\"\"}}}],\"scattercarpet\":[{\"type\":\"scattercarpet\",\"marker\":{\"colorbar\":{\"outlinewidth\":0,\"ticks\":\"\"}}}],\"carpet\":[{\"aaxis\":{\"endlinecolor\":\"#2a3f5f\",\"gridcolor\":\"white\",\"linecolor\":\"white\",\"minorgridcolor\":\"white\",\"startlinecolor\":\"#2a3f5f\"},\"baxis\":{\"endlinecolor\":\"#2a3f5f\",\"gridcolor\":\"white\",\"linecolor\":\"white\",\"minorgridcolor\":\"white\",\"startlinecolor\":\"#2a3f5f\"},\"type\":\"carpet\"}],\"table\":[{\"cells\":{\"fill\":{\"color\":\"#EBF0F8\"},\"line\":{\"color\":\"white\"}},\"header\":{\"fill\":{\"color\":\"#C8D4E3\"},\"line\":{\"color\":\"white\"}},\"type\":\"table\"}],\"barpolar\":[{\"marker\":{\"line\":{\"color\":\"#E5ECF6\",\"width\":0.5},\"pattern\":{\"fillmode\":\"overlay\",\"size\":10,\"solidity\":0.2}},\"type\":\"barpolar\"}],\"pie\":[{\"automargin\":true,\"type\":\"pie\"}]},\"layout\":{\"autotypenumbers\":\"strict\",\"colorway\":[\"#636efa\",\"#EF553B\",\"#00cc96\",\"#ab63fa\",\"#FFA15A\",\"#19d3f3\",\"#FF6692\",\"#B6E880\",\"#FF97FF\",\"#FECB52\"],\"font\":{\"color\":\"#2a3f5f\"},\"hovermode\":\"closest\",\"hoverlabel\":{\"align\":\"left\"},\"paper_bgcolor\":\"white\",\"plot_bgcolor\":\"#E5ECF6\",\"polar\":{\"bgcolor\":\"#E5ECF6\",\"angularaxis\":{\"gridcolor\":\"white\",\"linecolor\":\"white\",\"ticks\":\"\"},\"radialaxis\":{\"gridcolor\":\"white\",\"linecolor\":\"white\",\"ticks\":\"\"}},\"ternary\":{\"bgcolor\":\"#E5ECF6\",\"aaxis\":{\"gridcolor\":\"white\",\"linecolor\":\"white\",\"ticks\":\"\"},\"baxis\":{\"gridcolor\":\"white\",\"linecolor\":\"white\",\"ticks\":\"\"},\"caxis\":{\"gridcolor\":\"white\",\"linecolor\":\"white\",\"ticks\":\"\"}},\"coloraxis\":{\"colorbar\":{\"outlinewidth\":0,\"ticks\":\"\"}},\"colorscale\":{\"sequential\":[[0.0,\"#0d0887\"],[0.1111111111111111,\"#46039f\"],[0.2222222222222222,\"#7201a8\"],[0.3333333333333333,\"#9c179e\"],[0.4444444444444444,\"#bd3786\"],[0.5555555555555556,\"#d8576b\"],[0.6666666666666666,\"#ed7953\"],[0.7777777777777778,\"#fb9f3a\"],[0.8888888888888888,\"#fdca26\"],[1.0,\"#f0f921\"]],\"sequentialminus\":[[0.0,\"#0d0887\"],[0.1111111111111111,\"#46039f\"],[0.2222222222222222,\"#7201a8\"],[0.3333333333333333,\"#9c179e\"],[0.4444444444444444,\"#bd3786\"],[0.5555555555555556,\"#d8576b\"],[0.6666666666666666,\"#ed7953\"],[0.7777777777777778,\"#fb9f3a\"],[0.8888888888888888,\"#fdca26\"],[1.0,\"#f0f921\"]],\"diverging\":[[0,\"#8e0152\"],[0.1,\"#c51b7d\"],[0.2,\"#de77ae\"],[0.3,\"#f1b6da\"],[0.4,\"#fde0ef\"],[0.5,\"#f7f7f7\"],[0.6,\"#e6f5d0\"],[0.7,\"#b8e186\"],[0.8,\"#7fbc41\"],[0.9,\"#4d9221\"],[1,\"#276419\"]]},\"xaxis\":{\"gridcolor\":\"white\",\"linecolor\":\"white\",\"ticks\":\"\",\"title\":{\"standoff\":15},\"zerolinecolor\":\"white\",\"automargin\":true,\"zerolinewidth\":2},\"yaxis\":{\"gridcolor\":\"white\",\"linecolor\":\"white\",\"ticks\":\"\",\"title\":{\"standoff\":15},\"zerolinecolor\":\"white\",\"automargin\":true,\"zerolinewidth\":2},\"scene\":{\"xaxis\":{\"backgroundcolor\":\"#E5ECF6\",\"gridcolor\":\"white\",\"linecolor\":\"white\",\"showbackground\":true,\"ticks\":\"\",\"zerolinecolor\":\"white\",\"gridwidth\":2},\"yaxis\":{\"backgroundcolor\":\"#E5ECF6\",\"gridcolor\":\"white\",\"linecolor\":\"white\",\"showbackground\":true,\"ticks\":\"\",\"zerolinecolor\":\"white\",\"gridwidth\":2},\"zaxis\":{\"backgroundcolor\":\"#E5ECF6\",\"gridcolor\":\"white\",\"linecolor\":\"white\",\"showbackground\":true,\"ticks\":\"\",\"zerolinecolor\":\"white\",\"gridwidth\":2}},\"shapedefaults\":{\"line\":{\"color\":\"#2a3f5f\"}},\"annotationdefaults\":{\"arrowcolor\":\"#2a3f5f\",\"arrowhead\":0,\"arrowwidth\":1},\"geo\":{\"bgcolor\":\"white\",\"landcolor\":\"#E5ECF6\",\"subunitcolor\":\"white\",\"showland\":true,\"showlakes\":true,\"lakecolor\":\"white\"},\"title\":{\"x\":0.05},\"mapbox\":{\"style\":\"light\"}}},\"xaxis\":{\"anchor\":\"y\",\"domain\":[0.0,1.0],\"title\":{\"text\":\"States\"}},\"yaxis\":{\"anchor\":\"x\",\"domain\":[0.0,1.0],\"title\":{\"text\":\"Murder-Manslaughter\"}},\"coloraxis\":{\"colorbar\":{\"title\":{\"text\":\"year\"}},\"colorscale\":[[0.0,\"#0d0887\"],[0.1111111111111111,\"#46039f\"],[0.2222222222222222,\"#7201a8\"],[0.3333333333333333,\"#9c179e\"],[0.4444444444444444,\"#bd3786\"],[0.5555555555555556,\"#d8576b\"],[0.6666666666666666,\"#ed7953\"],[0.7777777777777778,\"#fb9f3a\"],[0.8888888888888888,\"#fdca26\"],[1.0,\"#f0f921\"]]},\"legend\":{\"tracegroupgap\":0},\"title\":{\"text\":\"Murder-Manslaughter per State\"},\"barmode\":\"relative\"},                        {\"responsive\": true}                    ).then(function(){\n                            \nvar gd = document.getElementById('98bbe8de-dcbc-490b-81db-433e1e4b3332');\nvar x = new MutationObserver(function (mutations, observer) {{\n        var display = window.getComputedStyle(gd).display;\n        if (!display || display === 'none') {{\n            console.log([gd, 'removed!']);\n            Plotly.purge(gd);\n            observer.disconnect();\n        }}\n}});\n\n// Listen for the removal of the full notebook cells\nvar notebookContainer = gd.closest('#notebook-container');\nif (notebookContainer) {{\n    x.observe(notebookContainer, {childList: true});\n}}\n\n// Listen for the clearing of the current output cell\nvar outputEl = gd.closest('.output');\nif (outputEl) {{\n    x.observe(outputEl, {childList: true});\n}}\n\n                        })                };                            </script>        </div>\n</body>\n</html>"
     },
     "execution_count": 11,
     "metadata": {
     },
     "output_type": "execute_result"
    }
   ],
   "source": [
    "# Plot 2: Murder-Manslaughter per state\n",
    "\n",
    "fig = px.bar(crime_df, x='jurisdiction', y='murder_manslaughter', color = 'year', title = \"Murder-Manslaughter per State\", labels = {\"jurisdiction\":\"States\", \"murder_manslaughter\":\"Murder-Manslaughter\"})\n",
    "fig.show()\n",
    "fig.write_html(\"manslaughterperstate.html\")"
   ]
  },
  {
   "cell_type": "code",
   "execution_count": 12,
   "metadata": {
    "collapsed": false
   },
   "outputs": [
    {
     "data": {
      "text/html": "<html>\n<head><meta charset=\"utf-8\" /></head>\n<body>\n    <div>            <script src=\"https://cdnjs.cloudflare.com/ajax/libs/mathjax/2.7.5/MathJax.js?config=TeX-AMS-MML_SVG\"></script><script type=\"text/javascript\">if (window.MathJax && window.MathJax.Hub && window.MathJax.Hub.Config) {window.MathJax.Hub.Config({SVG: {font: \"STIX-Web\"}});}</script>                <script type=\"text/javascript\">window.PlotlyConfig = {MathJaxConfig: 'local'};</script>\n        <script src=\"https://cdn.plot.ly/plotly-2.12.1.min.js\"></script>                <div id=\"a04b3a9f-0a4b-4d64-a4aa-c6a25305a1d0\" class=\"plotly-graph-div\" style=\"height:525px; width:100%;\"></div>            <script type=\"text/javascript\">                                    window.PLOTLYENV=window.PLOTLYENV || {};                                    if (document.getElementById(\"a04b3a9f-0a4b-4d64-a4aa-c6a25305a1d0\")) {                    Plotly.newPlot(                        \"a04b3a9f-0a4b-4d64-a4aa-c6a25305a1d0\",                        [{\"hovertemplate\":\"States=%{x}<br>Burglary=%{y}<br>prisoner_count=%{marker.color}<extra></extra>\",\"legendgroup\":\"\",\"marker\":{\"color\":[24741,4570,27710,11489,157142,17278,17507,6841,72404,45937,5116,5270,44348,19646,7962,8574,10720,19660,1675,23739,10203,48849,6406,15131,28575,2795,3915,9862,2419,26052,5668,67554,32203,1088,44868,21719,10950,37641,3364,21719,2799,17466,148480,4145,1400,31472,15226,3403,20766,1487,25100,4351,29359,11849,159695,18636,18716,6637,75210,47445,5069,5451,42693,20349,8398,8967,11583,20010,1855,24114,9879,50591,6855,15355,29795,2870,4048,10101,2475,26301,5991,66925,32918,1117,45284,21996,11650,39724,3473,22896,2943,18297,152446,4285,1361,30937,16263,3575,21666,1641,27614,4472,31084,12068,161785,19450,18023,6630,79594,47208,5499,5558,43418,21345,8546,9168,11660,19498,1974,23768,9828,49358,7569,15863,29864,3053,4073,10584,2427,25718,6223,65388,33874,1100,44350,22688,12207,40879,3576,22942,3019,19141,153056,4623,1491,30915,16227,3790,22153,1630,25635,4534,32384,12577,163939,19655,17993,6753,83165,51104,5555,5758,44054,21984,8525,8991,13322,19470,2013,23289,9825,48831,7983,16359,30682,2703,4137,11033,2443,25435,6403,64024,35544,1130,44150,22621,12652,40506,3169,22650,3053,19331,156682,4720,1968,31072,16503,3990,22152,1765,24315,4798,33345,12455,168035,21063,17928,6788,86559,48749,5739,6249,44919,22760,8737,9090,14904,19371,1970,22553,10348,49493,8718,16089,30415,2822,4405,11662,2423,25619,6571,63032,36646,1318,45189,22907,12887,41941,3414,22456,3346,19270,157081,5058,2078,30722,16781,4036,21921,2096,24103,5052,35752,12854,172298,22051,18902,7021,90377,52792,5510,6665,45106,24901,8838,8833,15589,20815,2083,22662,10773,51515,8814,16384,30116,2948,4399,12754,2676,25554,6639,63538,37725,1337,48482,22873,13191,43971,3713,22930,3316,19312,158510,5031,2215,30823,16827,4367,22564,2035,25253,5151,37700,13275,171444,22666,19438,7110,95187,54256,5457,7055,45215,25137,8692,8721,15364,20461,2148,23184,11071,50233,9192,17478,29823,2909,4402,13311,2759,25354,6429,62738,38240,1392,49894,23778,13373,45530,3745,23578,3276,19268,158576,5165,2116,32977,16911,4907,22839,1927,25363,4997,39455,13135,171085,23211,19905,6944,99878,52719,5455,7033,45474,26392,8723,8556,15260,20857,2047,23141,11174,48738,9031,17896,30137,2910,4470,12877,2854,24835,6321,60198,39957,1379,50884,23676,13541,48736,3739,23685,3352,19379,159237,5132,2116,32585,17188,4896,22282,1704,27241,5472,40544,13338,168830,22725,18938,6581,101373,53538,4848,7184,45161,26748,8914,8644,14984,19889,2074,22066,11156,45478,9500,17212,30519,3085,4490,12570,2915,24115,6584,58479,40133,1436,50783,24053,13735,50485,3413,23685,3390,19932,158542,5244,2220,30995,17255,5062,22262,1743,27345,5369,40130,14192,162821,22752,18629,6378,102070,52794,5294,7235,48418,27273,9457,9055,14501,19008,1954,22856,11162,44113,9397,16454,30577,3137,4608,12192,2617,24488,6659,56420,40375,1416,51709,24147,13859,48087,3159,23009,3393,20037,160242,5442,2079,31911,17028,5072,22033,2092,26813,6216,39949,14090,147578,21862,17877,6546,100861,52844,5454,7470,48427,27402,9115,9330,14001,18844,1978,23001,11467,42904,9309,15390,30969,3125,4657,12159,2423,23642,6687,55196,39662,1385,50961,23750,13728,49710,3032,22363,3562,19831,159956,5294,2053,30531,17109,5149,22388,2162,26768,6308,40013,14043,132935,20328,17164,6730,99835,55178,5297,7715,49348,28034,8735,9505,12998,18601,1977,21810,11127,43594,9421,15791,31205,3095,4721,12594,2568,23050,6640,54058,37378,1413,50872,24370,14123,50228,3042,21867,3596,19817,155195,5309,2034,29708,16919,5335,22419,2187,26825,5081,41031,14295,134339,20184,17319,6798,100940,53701,5173,7219,48653,28495,8707,9610,12141,18794,2073,21705,10622,43704,9391,15591,31499,3125,5012,12789,2623,22263,6767,53312,37176,1576,51711,25364,14605,49971,3168,21534,3612,20758,155377,5382,2078,29985,17760,5708,22443,2288,26145,6323,42136,15250,134430,20469,16814,6730,100873,52719,5390,7497,48278,32493,8845,9539,12114,18710,2199,21266,10447,43359,9576,13069,31903,3119,5228,12693,2723,21394,6948,52362,37348,1696,51521,26493,14492,49174,3133,20948,3507,20815,154247,5307,1979,30050,17180,5867,22572,2369,25212,5247,42204,15784,127815,19959,16024,6437,99485,52002,5413,7238,46240,26586,8864,9533,11959,18447,2190,20951,9493,42628,9578,13967,32295,3176,5133,13235,2661,20294,7104,36888,1772,52240,27321,14655,48846,2982,20457,3536,19800,152492,4831,1750,30430,17222,5925,22914,2400,23745,4378,42248,15833,129416,19486,15040,6334,98010,53433,5182,7221,43616,25143,9049,9653,11867,15059,2356,20236,9038,41122,9509,13720,32427,3199,5167,13932,2599,19458,6996,50611,35970,1639,52172,26367,14579,48287,2887,20376,3770,21539,151276,4502,1735,29882,17228,5899,23163,2352],\"coloraxis\":\"coloraxis\",\"symbol\":\"circle\"},\"mode\":\"markers\",\"name\":\"\",\"orientation\":\"v\",\"showlegend\":false,\"x\":[\"ALABAMA\",\"ALASKA\",\"ARIZONA\",\"ARKANSAS\",\"CALIFORNIA\",\"COLORADO\",\"CONNECTICUT\",\"DELAWARE\",\"FLORIDA\",\"GEORGIA\",\"HAWAII\",\"IDAHO\",\"ILLINOIS\",\"INDIANA\",\"IOWA\",\"KANSAS\",\"KENTUCKY\",\"LOUISIANA\",\"MAINE\",\"MARYLAND\",\"MASSACHUSETTS\",\"MICHIGAN\",\"MINNESOTA\",\"MISSISSIPPI\",\"MISSOURI\",\"MONTANA\",\"NEBRASKA\",\"NEVADA\",\"NEW HAMPSHIRE\",\"NEW JERSEY\",\"NEW MEXICO\",\"NEW YORK\",\"NORTH CAROLINA\",\"NORTH DAKOTA\",\"OHIO\",\"OKLAHOMA\",\"OREGON\",\"PENNSYLVANIA\",\"RHODE ISLAND\",\"SOUTH CAROLINA\",\"SOUTH DAKOTA\",\"TENNESSEE\",\"TEXAS\",\"UTAH\",\"VERMONT\",\"VIRGINIA\",\"WASHINGTON\",\"WEST VIRGINIA\",\"WISCONSIN\",\"WYOMING\",\"ALABAMA\",\"ALASKA\",\"ARIZONA\",\"ARKANSAS\",\"CALIFORNIA\",\"COLORADO\",\"CONNECTICUT\",\"DELAWARE\",\"FLORIDA\",\"GEORGIA\",\"HAWAII\",\"IDAHO\",\"ILLINOIS\",\"INDIANA\",\"IOWA\",\"KANSAS\",\"KENTUCKY\",\"LOUISIANA\",\"MAINE\",\"MARYLAND\",\"MASSACHUSETTS\",\"MICHIGAN\",\"MINNESOTA\",\"MISSISSIPPI\",\"MISSOURI\",\"MONTANA\",\"NEBRASKA\",\"NEVADA\",\"NEW HAMPSHIRE\",\"NEW JERSEY\",\"NEW MEXICO\",\"NEW YORK\",\"NORTH CAROLINA\",\"NORTH DAKOTA\",\"OHIO\",\"OKLAHOMA\",\"OREGON\",\"PENNSYLVANIA\",\"RHODE ISLAND\",\"SOUTH CAROLINA\",\"SOUTH DAKOTA\",\"TENNESSEE\",\"TEXAS\",\"UTAH\",\"VERMONT\",\"VIRGINIA\",\"WASHINGTON\",\"WEST VIRGINIA\",\"WISCONSIN\",\"WYOMING\",\"ALABAMA\",\"ALASKA\",\"ARIZONA\",\"ARKANSAS\",\"CALIFORNIA\",\"COLORADO\",\"CONNECTICUT\",\"DELAWARE\",\"FLORIDA\",\"GEORGIA\",\"HAWAII\",\"IDAHO\",\"ILLINOIS\",\"INDIANA\",\"IOWA\",\"KANSAS\",\"KENTUCKY\",\"LOUISIANA\",\"MAINE\",\"MARYLAND\",\"MASSACHUSETTS\",\"MICHIGAN\",\"MINNESOTA\",\"MISSISSIPPI\",\"MISSOURI\",\"MONTANA\",\"NEBRASKA\",\"NEVADA\",\"NEW HAMPSHIRE\",\"NEW JERSEY\",\"NEW MEXICO\",\"NEW YORK\",\"NORTH CAROLINA\",\"NORTH DAKOTA\",\"OHIO\",\"OKLAHOMA\",\"OREGON\",\"PENNSYLVANIA\",\"RHODE ISLAND\",\"SOUTH CAROLINA\",\"SOUTH DAKOTA\",\"TENNESSEE\",\"TEXAS\",\"UTAH\",\"VERMONT\",\"VIRGINIA\",\"WASHINGTON\",\"WEST VIRGINIA\",\"WISCONSIN\",\"WYOMING\",\"ALABAMA\",\"ALASKA\",\"ARIZONA\",\"ARKANSAS\",\"CALIFORNIA\",\"COLORADO\",\"CONNECTICUT\",\"DELAWARE\",\"FLORIDA\",\"GEORGIA\",\"HAWAII\",\"IDAHO\",\"ILLINOIS\",\"INDIANA\",\"IOWA\",\"KANSAS\",\"KENTUCKY\",\"LOUISIANA\",\"MAINE\",\"MARYLAND\",\"MASSACHUSETTS\",\"MICHIGAN\",\"MINNESOTA\",\"MISSISSIPPI\",\"MISSOURI\",\"MONTANA\",\"NEBRASKA\",\"NEVADA\",\"NEW HAMPSHIRE\",\"NEW JERSEY\",\"NEW MEXICO\",\"NEW YORK\",\"NORTH CAROLINA\",\"NORTH DAKOTA\",\"OHIO\",\"OKLAHOMA\",\"OREGON\",\"PENNSYLVANIA\",\"RHODE ISLAND\",\"SOUTH CAROLINA\",\"SOUTH DAKOTA\",\"TENNESSEE\",\"TEXAS\",\"UTAH\",\"VERMONT\",\"VIRGINIA\",\"WASHINGTON\",\"WEST VIRGINIA\",\"WISCONSIN\",\"WYOMING\",\"ALABAMA\",\"ALASKA\",\"ARIZONA\",\"ARKANSAS\",\"CALIFORNIA\",\"COLORADO\",\"CONNECTICUT\",\"DELAWARE\",\"FLORIDA\",\"GEORGIA\",\"HAWAII\",\"IDAHO\",\"ILLINOIS\",\"INDIANA\",\"IOWA\",\"KANSAS\",\"KENTUCKY\",\"LOUISIANA\",\"MAINE\",\"MARYLAND\",\"MASSACHUSETTS\",\"MICHIGAN\",\"MINNESOTA\",\"MISSISSIPPI\",\"MISSOURI\",\"MONTANA\",\"NEBRASKA\",\"NEVADA\",\"NEW HAMPSHIRE\",\"NEW JERSEY\",\"NEW MEXICO\",\"NEW YORK\",\"NORTH CAROLINA\",\"NORTH DAKOTA\",\"OHIO\",\"OKLAHOMA\",\"OREGON\",\"PENNSYLVANIA\",\"RHODE ISLAND\",\"SOUTH CAROLINA\",\"SOUTH DAKOTA\",\"TENNESSEE\",\"TEXAS\",\"UTAH\",\"VERMONT\",\"VIRGINIA\",\"WASHINGTON\",\"WEST VIRGINIA\",\"WISCONSIN\",\"WYOMING\",\"ALABAMA\",\"ALASKA\",\"ARIZONA\",\"ARKANSAS\",\"CALIFORNIA\",\"COLORADO\",\"CONNECTICUT\",\"DELAWARE\",\"FLORIDA\",\"GEORGIA\",\"HAWAII\",\"IDAHO\",\"ILLINOIS\",\"INDIANA\",\"IOWA\",\"KANSAS\",\"KENTUCKY\",\"LOUISIANA\",\"MAINE\",\"MARYLAND\",\"MASSACHUSETTS\",\"MICHIGAN\",\"MINNESOTA\",\"MISSISSIPPI\",\"MISSOURI\",\"MONTANA\",\"NEBRASKA\",\"NEVADA\",\"NEW HAMPSHIRE\",\"NEW JERSEY\",\"NEW MEXICO\",\"NEW YORK\",\"NORTH CAROLINA\",\"NORTH DAKOTA\",\"OHIO\",\"OKLAHOMA\",\"OREGON\",\"PENNSYLVANIA\",\"RHODE ISLAND\",\"SOUTH CAROLINA\",\"SOUTH DAKOTA\",\"TENNESSEE\",\"TEXAS\",\"UTAH\",\"VERMONT\",\"VIRGINIA\",\"WASHINGTON\",\"WEST VIRGINIA\",\"WISCONSIN\",\"WYOMING\",\"ALABAMA\",\"ALASKA\",\"ARIZONA\",\"ARKANSAS\",\"CALIFORNIA\",\"COLORADO\",\"CONNECTICUT\",\"DELAWARE\",\"FLORIDA\",\"GEORGIA\",\"HAWAII\",\"IDAHO\",\"ILLINOIS\",\"INDIANA\",\"IOWA\",\"KANSAS\",\"KENTUCKY\",\"LOUISIANA\",\"MAINE\",\"MARYLAND\",\"MASSACHUSETTS\",\"MICHIGAN\",\"MINNESOTA\",\"MISSISSIPPI\",\"MISSOURI\",\"MONTANA\",\"NEBRASKA\",\"NEVADA\",\"NEW HAMPSHIRE\",\"NEW JERSEY\",\"NEW MEXICO\",\"NEW YORK\",\"NORTH CAROLINA\",\"NORTH DAKOTA\",\"OHIO\",\"OKLAHOMA\",\"OREGON\",\"PENNSYLVANIA\",\"RHODE ISLAND\",\"SOUTH CAROLINA\",\"SOUTH DAKOTA\",\"TENNESSEE\",\"TEXAS\",\"UTAH\",\"VERMONT\",\"VIRGINIA\",\"WASHINGTON\",\"WEST VIRGINIA\",\"WISCONSIN\",\"WYOMING\",\"ALABAMA\",\"ALASKA\",\"ARIZONA\",\"ARKANSAS\",\"CALIFORNIA\",\"COLORADO\",\"CONNECTICUT\",\"DELAWARE\",\"FLORIDA\",\"GEORGIA\",\"HAWAII\",\"IDAHO\",\"ILLINOIS\",\"INDIANA\",\"IOWA\",\"KANSAS\",\"KENTUCKY\",\"LOUISIANA\",\"MAINE\",\"MARYLAND\",\"MASSACHUSETTS\",\"MICHIGAN\",\"MINNESOTA\",\"MISSISSIPPI\",\"MISSOURI\",\"MONTANA\",\"NEBRASKA\",\"NEVADA\",\"NEW HAMPSHIRE\",\"NEW JERSEY\",\"NEW MEXICO\",\"NEW YORK\",\"NORTH CAROLINA\",\"NORTH DAKOTA\",\"OHIO\",\"OKLAHOMA\",\"OREGON\",\"PENNSYLVANIA\",\"RHODE ISLAND\",\"SOUTH CAROLINA\",\"SOUTH DAKOTA\",\"TENNESSEE\",\"TEXAS\",\"UTAH\",\"VERMONT\",\"VIRGINIA\",\"WASHINGTON\",\"WEST VIRGINIA\",\"WISCONSIN\",\"WYOMING\",\"ALABAMA\",\"ALASKA\",\"ARIZONA\",\"ARKANSAS\",\"CALIFORNIA\",\"COLORADO\",\"CONNECTICUT\",\"DELAWARE\",\"FLORIDA\",\"GEORGIA\",\"HAWAII\",\"IDAHO\",\"ILLINOIS\",\"INDIANA\",\"IOWA\",\"KANSAS\",\"KENTUCKY\",\"LOUISIANA\",\"MAINE\",\"MARYLAND\",\"MASSACHUSETTS\",\"MICHIGAN\",\"MINNESOTA\",\"MISSISSIPPI\",\"MISSOURI\",\"MONTANA\",\"NEBRASKA\",\"NEVADA\",\"NEW HAMPSHIRE\",\"NEW JERSEY\",\"NEW MEXICO\",\"NEW YORK\",\"NORTH CAROLINA\",\"NORTH DAKOTA\",\"OHIO\",\"OKLAHOMA\",\"OREGON\",\"PENNSYLVANIA\",\"RHODE ISLAND\",\"SOUTH CAROLINA\",\"SOUTH DAKOTA\",\"TENNESSEE\",\"TEXAS\",\"UTAH\",\"VERMONT\",\"VIRGINIA\",\"WASHINGTON\",\"WEST VIRGINIA\",\"WISCONSIN\",\"WYOMING\",\"ALABAMA\",\"ALASKA\",\"ARIZONA\",\"ARKANSAS\",\"CALIFORNIA\",\"COLORADO\",\"CONNECTICUT\",\"DELAWARE\",\"FLORIDA\",\"GEORGIA\",\"HAWAII\",\"IDAHO\",\"ILLINOIS\",\"INDIANA\",\"IOWA\",\"KANSAS\",\"KENTUCKY\",\"LOUISIANA\",\"MAINE\",\"MARYLAND\",\"MASSACHUSETTS\",\"MICHIGAN\",\"MINNESOTA\",\"MISSISSIPPI\",\"MISSOURI\",\"MONTANA\",\"NEBRASKA\",\"NEVADA\",\"NEW HAMPSHIRE\",\"NEW JERSEY\",\"NEW MEXICO\",\"NEW YORK\",\"NORTH CAROLINA\",\"NORTH DAKOTA\",\"OHIO\",\"OKLAHOMA\",\"OREGON\",\"PENNSYLVANIA\",\"RHODE ISLAND\",\"SOUTH CAROLINA\",\"SOUTH DAKOTA\",\"TENNESSEE\",\"TEXAS\",\"UTAH\",\"VERMONT\",\"VIRGINIA\",\"WASHINGTON\",\"WEST VIRGINIA\",\"WISCONSIN\",\"WYOMING\",\"ALABAMA\",\"ALASKA\",\"ARIZONA\",\"ARKANSAS\",\"CALIFORNIA\",\"COLORADO\",\"CONNECTICUT\",\"DELAWARE\",\"FLORIDA\",\"GEORGIA\",\"HAWAII\",\"IDAHO\",\"ILLINOIS\",\"INDIANA\",\"IOWA\",\"KANSAS\",\"KENTUCKY\",\"LOUISIANA\",\"MAINE\",\"MARYLAND\",\"MASSACHUSETTS\",\"MICHIGAN\",\"MINNESOTA\",\"MISSISSIPPI\",\"MISSOURI\",\"MONTANA\",\"NEBRASKA\",\"NEVADA\",\"NEW HAMPSHIRE\",\"NEW JERSEY\",\"NEW MEXICO\",\"NEW YORK\",\"NORTH CAROLINA\",\"NORTH DAKOTA\",\"OHIO\",\"OKLAHOMA\",\"OREGON\",\"PENNSYLVANIA\",\"RHODE ISLAND\",\"SOUTH CAROLINA\",\"SOUTH DAKOTA\",\"TENNESSEE\",\"TEXAS\",\"UTAH\",\"VERMONT\",\"VIRGINIA\",\"WASHINGTON\",\"WEST VIRGINIA\",\"WISCONSIN\",\"WYOMING\",\"ALABAMA\",\"ALASKA\",\"ARIZONA\",\"ARKANSAS\",\"CALIFORNIA\",\"COLORADO\",\"CONNECTICUT\",\"DELAWARE\",\"FLORIDA\",\"GEORGIA\",\"HAWAII\",\"IDAHO\",\"ILLINOIS\",\"INDIANA\",\"IOWA\",\"KANSAS\",\"KENTUCKY\",\"LOUISIANA\",\"MAINE\",\"MARYLAND\",\"MASSACHUSETTS\",\"MICHIGAN\",\"MINNESOTA\",\"MISSISSIPPI\",\"MISSOURI\",\"MONTANA\",\"NEBRASKA\",\"NEVADA\",\"NEW HAMPSHIRE\",\"NEW JERSEY\",\"NEW MEXICO\",\"NEW YORK\",\"NORTH CAROLINA\",\"NORTH DAKOTA\",\"OHIO\",\"OKLAHOMA\",\"OREGON\",\"PENNSYLVANIA\",\"RHODE ISLAND\",\"SOUTH CAROLINA\",\"SOUTH DAKOTA\",\"TENNESSEE\",\"TEXAS\",\"UTAH\",\"VERMONT\",\"VIRGINIA\",\"WASHINGTON\",\"WEST VIRGINIA\",\"WISCONSIN\",\"WYOMING\",\"ALABAMA\",\"ALASKA\",\"ARIZONA\",\"ARKANSAS\",\"CALIFORNIA\",\"COLORADO\",\"CONNECTICUT\",\"DELAWARE\",\"FLORIDA\",\"GEORGIA\",\"HAWAII\",\"IDAHO\",\"ILLINOIS\",\"INDIANA\",\"IOWA\",\"KANSAS\",\"KENTUCKY\",\"LOUISIANA\",\"MAINE\",\"MARYLAND\",\"MASSACHUSETTS\",\"MICHIGAN\",\"MINNESOTA\",\"MISSISSIPPI\",\"MISSOURI\",\"MONTANA\",\"NEBRASKA\",\"NEVADA\",\"NEW HAMPSHIRE\",\"NEW JERSEY\",\"NEW MEXICO\",\"NEW YORK\",\"NORTH CAROLINA\",\"NORTH DAKOTA\",\"OHIO\",\"OKLAHOMA\",\"OREGON\",\"PENNSYLVANIA\",\"RHODE ISLAND\",\"SOUTH CAROLINA\",\"SOUTH DAKOTA\",\"TENNESSEE\",\"TEXAS\",\"UTAH\",\"VERMONT\",\"VIRGINIA\",\"WASHINGTON\",\"WEST VIRGINIA\",\"WISCONSIN\",\"WYOMING\",\"ALABAMA\",\"ALASKA\",\"ARIZONA\",\"ARKANSAS\",\"CALIFORNIA\",\"COLORADO\",\"CONNECTICUT\",\"DELAWARE\",\"FLORIDA\",\"GEORGIA\",\"HAWAII\",\"IDAHO\",\"ILLINOIS\",\"INDIANA\",\"IOWA\",\"KANSAS\",\"KENTUCKY\",\"LOUISIANA\",\"MAINE\",\"MARYLAND\",\"MASSACHUSETTS\",\"MICHIGAN\",\"MINNESOTA\",\"MISSISSIPPI\",\"MISSOURI\",\"MONTANA\",\"NEBRASKA\",\"NEVADA\",\"NEW HAMPSHIRE\",\"NEW JERSEY\",\"NEW MEXICO\",\"NEW YORK\",\"NORTH CAROLINA\",\"NORTH DAKOTA\",\"OHIO\",\"OKLAHOMA\",\"OREGON\",\"PENNSYLVANIA\",\"RHODE ISLAND\",\"SOUTH CAROLINA\",\"SOUTH DAKOTA\",\"TENNESSEE\",\"TEXAS\",\"UTAH\",\"VERMONT\",\"VIRGINIA\",\"WASHINGTON\",\"WEST VIRGINIA\",\"WISCONSIN\",\"WYOMING\",\"ALABAMA\",\"ALASKA\",\"ARIZONA\",\"ARKANSAS\",\"CALIFORNIA\",\"COLORADO\",\"CONNECTICUT\",\"DELAWARE\",\"FLORIDA\",\"GEORGIA\",\"HAWAII\",\"IDAHO\",\"ILLINOIS\",\"INDIANA\",\"IOWA\",\"KANSAS\",\"KENTUCKY\",\"LOUISIANA\",\"MAINE\",\"MARYLAND\",\"MASSACHUSETTS\",\"MICHIGAN\",\"MINNESOTA\",\"MISSISSIPPI\",\"MISSOURI\",\"MONTANA\",\"NEBRASKA\",\"NEVADA\",\"NEW HAMPSHIRE\",\"NEW JERSEY\",\"NEW MEXICO\",\"NORTH CAROLINA\",\"NORTH DAKOTA\",\"OHIO\",\"OKLAHOMA\",\"OREGON\",\"PENNSYLVANIA\",\"RHODE ISLAND\",\"SOUTH CAROLINA\",\"SOUTH DAKOTA\",\"TENNESSEE\",\"TEXAS\",\"UTAH\",\"VERMONT\",\"VIRGINIA\",\"WASHINGTON\",\"WEST VIRGINIA\",\"WISCONSIN\",\"WYOMING\",\"ALABAMA\",\"ALASKA\",\"ARIZONA\",\"ARKANSAS\",\"CALIFORNIA\",\"COLORADO\",\"CONNECTICUT\",\"DELAWARE\",\"FLORIDA\",\"GEORGIA\",\"HAWAII\",\"IDAHO\",\"ILLINOIS\",\"INDIANA\",\"IOWA\",\"KANSAS\",\"KENTUCKY\",\"LOUISIANA\",\"MAINE\",\"MARYLAND\",\"MASSACHUSETTS\",\"MICHIGAN\",\"MINNESOTA\",\"MISSISSIPPI\",\"MISSOURI\",\"MONTANA\",\"NEBRASKA\",\"NEVADA\",\"NEW HAMPSHIRE\",\"NEW JERSEY\",\"NEW MEXICO\",\"NEW YORK\",\"NORTH CAROLINA\",\"NORTH DAKOTA\",\"OHIO\",\"OKLAHOMA\",\"OREGON\",\"PENNSYLVANIA\",\"RHODE ISLAND\",\"SOUTH CAROLINA\",\"SOUTH DAKOTA\",\"TENNESSEE\",\"TEXAS\",\"UTAH\",\"VERMONT\",\"VIRGINIA\",\"WASHINGTON\",\"WEST VIRGINIA\",\"WISCONSIN\",\"WYOMING\"],\"xaxis\":\"x\",\"y\":[40642.0,3847.0,54821.0,22196.0,232273.0,28533.0,17159.0,5144.0,176052.0,71799.0,11162.0,7507.0,79158.0,42758.0,16885.0,20514.0,26964.0,46451.0,6898.0,41553.0,32430.0,72038.0,25496.0,29821.0,42977.0,3670.0,9760.0,17711.0,4889.0,46812.0,19552.0,80400.0,101889.0,2165.0,96910.0,34573.0,26648.0,54345.0,6824.0,42611.0,3087.0,59705.0,204362.0,13804.0,3150.0,31604.0,53024.0,9601.0,26927.0,2481.0,42578.0,3908.0,59087.0,23229.0,238428.0,31678.0,17111.0,5355.0,177242.0,73932.0,12722.0,7441.0,81440.0,42605.0,18643.0,19679.0,26891.0,45350.0,6965.0,39765.0,33243.0,70970.0,28034.0,29593.0,42721.0,3289.0,10329.0,18951.0,4838.0,43899.0,19634.0,76700.0,99535.0,2243.0,99164.0,35171.0,25696.0,55610.0,6415.0,43745.0,3034.0,61248.0,212602.0,15124.0,3489.0,31757.0,54948.0,9677.0,27926.0,2448.0,43245.0,3874.0,58613.0,25016.0,242274.0,32394.0,16043.0,6066.0,170644.0,79001.0,11409.0,7837.0,78345.0,41582.0,17515.0,21973.0,26034.0,44572.0,6579.0,38641.0,34963.0,68316.0,27698.0,29564.0,41997.0,3722.0,10133.0,21958.0,4589.0,43457.0,18997.0,75453.0,100687.0,1959.0,95083.0,34846.0,28562.0,53918.0,5524.0,43993.0,2878.0,63323.0,219877.0,16961.0,3017.0,29105.0,58271.0,10498.0,26546.0,2611.0,44666.0,3773.0,56885.0,30151.0,245903.0,33010.0,15959.0,5669.0,166332.0,82992.0,10827.0,7671.0,76088.0,42168.0,17928.0,20146.0,25902.0,45359.0,6341.0,36704.0,34497.0,64233.0,28048.0,27661.0,40472.0,3515.0,9826.0,23142.0,4979.0,41030.0,19924.0,70696.0,101193.0,2040.0,96518.0,35244.0,30072.0,54443.0,5465.0,43739.0,3148.0,60386.0,220118.0,15225.0,3435.0,28759.0,60632.0,10994.0,23854.0,2738.0,43473.0,4131.0,56328.0,30118.0,250521.0,34746.0,15245.0,5811.0,164783.0,84463.0,9792.0,8066.0,77635.0,43756.0,18147.0,19028.0,26458.0,39382.0,6323.0,35922.0,34728.0,70527.0,29716.0,26866.0,42822.0,3642.0,9408.0,23481.0,4192.0,38980.0,20939.0,68034.0,104298.0,2043.0,100183.0,35692.0,27621.0,56134.0,5319.0,42741.0,2505.0,61508.0,219828.0,14971.0,3185.0,29829.0,60343.0,11334.0,24448.0,2426.0,44780.0,4155.0,59418.0,31864.0,247230.0,32411.0,15583.0,6337.0,170873.0,85140.0,8724.0,7545.0,77259.0,45538.0,18160.0,20086.0,27867.0,46703.0,6846.0,37459.0,35243.0,76313.0,30306.0,27117.0,44734.0,3380.0,9535.0,24902.0,4395.0,39384.0,20906.0,68617.0,107333.0,2601.0,105639.0,34437.0,24324.0,57739.0,5453.0,42952.0,3024.0,63024.0,215710.0,14721.0,3443.0,32166.0,58843.0,11579.0,27038.0,2322.0,45379.0,3734.0,59988.0,32035.0,237850.0,28633.0,15640.0,6420.0,181836.0,90294.0,9089.0,7131.0,75524.0,46485.0,17176.0,20461.0,27820.0,46932.0,6745.0,37095.0,35767.0,75273.0,29717.0,27223.0,44897.0,3476.0,9035.0,24911.0,5074.0,37234.0,20823.0,64914.0,108700.0,2314.0,99049.0,34367.0,22979.0,56091.0,5206.0,45398.0,2647.0,61817.0,228320.0,15594.0,3200.0,32028.0,52874.0,10822.0,27890.0,2365.0,50411.0,3237.0,58606.0,33912.0,237811.0,28054.0,15107.0,6783.0,188472.0,100564.0,9404.0,6748.0,78968.0,48805.0,16598.0,19651.0,29556.0,45524.0,6559.0,38849.0,36251.0,74787.0,26558.0,25506.0,45763.0,3689.0,8731.0,24254.0,4266.0,40402.0,20706.0,65544.0,111556.0,2336.0,102428.0,35247.0,21115.0,58687.0,5766.0,45964.0,2683.0,65093.0,230046.0,14766.0,3515.0,32188.0,53136.0,10840.0,27459.0,2198.0,48844.0,3600.0,54308.0,34753.0,230198.0,26637.0,15172.0,6943.0,181884.0,98606.0,9244.0,6682.0,77850.0,48880.0,16419.0,19473.0,29880.0,46928.0,6729.0,36905.0,34515.0,76046.0,25580.0,29559.0,43591.0,3686.0,8726.0,22115.0,4915.0,36945.0,21955.0,62769.0,107830.0,2426.0,104009.0,38071.0,19739.0,54772.0,5753.0,45443.0,2621.0,63832.0,240058.0,15258.0,3471.0,31956.0,53047.0,12005.0,26813.0,2176.0,42484.0,3105.0,50932.0,32463.0,228857.0,26196.0,15145.0,7550.0,169119.0,96947.0,8706.0,6513.0,77472.0,48570.0,16746.0,19315.0,30443.0,45437.0,7364.0,36704.0,37903.0,74345.0,24415.0,30453.0,44197.0,3692.0,8318.0,22286.0,5444.0,38732.0,21023.0,65839.0,102826.0,2000.0,107125.0,37848.0,20035.0,55206.0,6124.0,46261.0,3192.0,64293.0,228597.0,15095.0,3348.0,30804.0,55192.0,10778.0,26636.0,2151.0,51119.0,2852.0,54695.0,34016.0,230075.0,25725.0,15468.0,7617.0,170171.0,96014.0,8165.0,6915.0,77719.0,50571.0,17573.0,18712.0,32750.0,46242.0,7865.0,35823.0,36403.0,69755.0,25681.0,30722.0,44875.0,3347.0,8725.0,20342.0,6244.0,43238.0,21419.0,65227.0,105534.0,2458.0,112901.0,36462.0,20704.0,57966.0,6836.0,47351.0,2927.0,62830.0,215755.0,13170.0,3838.0,30656.0,56561.0,10245.0,27167.0,1864.0,47481.0,2950.0,52911.0,32673.0,245767.0,26163.0,14787.0,7389.0,153563.0,86992.0,7653.0,7240.0,71100.0,47689.0,17201.0,18874.0,29877.0,42037.0,7476.0,33803.0,34635.0,65560.0,25378.0,28084.0,42510.0,3920.0,8745.0,22120.0,5988.0,42338.0,21384.0,64389.0,99323.0,2429.0,105312.0,36094.0,22051.0,57040.0,5929.0,45222.0,3280.0,56231.0,205002.0,13095.0,4179.0,29651.0,61376.0,11466.0,27931.0,2125.0,42410.0,2917.0,48292.0,30369.0,232058.0,25075.0,12934.0,6299.0,138915.0,83459.0,7777.0,6693.0,59093.0,42754.0,15918.0,17476.0,26331.0,41214.0,6480.0,31950.0,30716.0,56256.0,22713.0,24969.0,38797.0,4122.0,8945.0,23047.0,4979.0,35883.0,21828.0,56444.0,90182.0,2979.0,91090.0,33512.0,20808.0,52000.0,5621.0,40930.0,3383.0,51334.0,191062.0,13727.0,3352.0,26717.0,58487.0,9908.0,24358.0,1956.0,39715.0,3150.0,43562.0,24790.0,202670.0,23472.0,11955.0,5768.0,143220.0,76428.0,7778.0,6428.0,50008.0,36893.0,14428.0,15828.0,23244.0,38337.0,5030.0,28012.0,24964.0,44184.0,20773.0,24352.0,35258.0,3595.0,7950.0,21927.0,4162.0,31710.0,18505.0,50781.0,79373.0,2707.0,78845.0,29508.0,17230.0,45720.0,4823.0,36721.0,2818.0,46642.0,169234.0,11518.0,2034.0,23122.0,55290.0,8973.0,21216.0,1689.0,35255.0,3511.0,37957.0,22640.0,197404.0,23454.0,10053.0,4773.0,109268.0,66374.0,6557.0,6124.0,46443.0,34410.0,14892.0,15362.0,22260.0,35453.0,4684.0,25678.0,21890.0,40041.0,19299.0,24799.0,34006.0,3838.0,6422.0,22360.0,3467.0,27960.0,17085.0,74841.0,2997.0,69303.0,28406.0,18336.0,39664.0,3947.0,34551.0,2960.0,43247.0,153054.0,12468.0,1968.0,21340.0,50993.0,9170.0,19554.0,1762.0,34045.0,4053.0,38216.0,23814.0,188304.0,23825.0,10107.0,5028.0,100325.0,62715.0,5983.0,6318.0,48193.0,33567.0,15306.0,14759.0,20932.0,34689.0,4001.0,24832.0,19204.0,39738.0,18582.0,23489.0,31716.0,3966.0,6459.0,18816.0,2989.0,25229.0,17280.0,39850.0,72082.0,3248.0,67081.0,29376.0,16919.0,35178.0,3650.0,33149.0,3002.0,40607.0,148796.0,12938.0,1884.0,20159.0,49249.0,9127.0,19498.0,1771.0],\"yaxis\":\"y\",\"type\":\"scatter\"}],                        {\"template\":{\"data\":{\"histogram2dcontour\":[{\"type\":\"histogram2dcontour\",\"colorbar\":{\"outlinewidth\":0,\"ticks\":\"\"},\"colorscale\":[[0.0,\"#0d0887\"],[0.1111111111111111,\"#46039f\"],[0.2222222222222222,\"#7201a8\"],[0.3333333333333333,\"#9c179e\"],[0.4444444444444444,\"#bd3786\"],[0.5555555555555556,\"#d8576b\"],[0.6666666666666666,\"#ed7953\"],[0.7777777777777778,\"#fb9f3a\"],[0.8888888888888888,\"#fdca26\"],[1.0,\"#f0f921\"]]}],\"choropleth\":[{\"type\":\"choropleth\",\"colorbar\":{\"outlinewidth\":0,\"ticks\":\"\"}}],\"histogram2d\":[{\"type\":\"histogram2d\",\"colorbar\":{\"outlinewidth\":0,\"ticks\":\"\"},\"colorscale\":[[0.0,\"#0d0887\"],[0.1111111111111111,\"#46039f\"],[0.2222222222222222,\"#7201a8\"],[0.3333333333333333,\"#9c179e\"],[0.4444444444444444,\"#bd3786\"],[0.5555555555555556,\"#d8576b\"],[0.6666666666666666,\"#ed7953\"],[0.7777777777777778,\"#fb9f3a\"],[0.8888888888888888,\"#fdca26\"],[1.0,\"#f0f921\"]]}],\"heatmap\":[{\"type\":\"heatmap\",\"colorbar\":{\"outlinewidth\":0,\"ticks\":\"\"},\"colorscale\":[[0.0,\"#0d0887\"],[0.1111111111111111,\"#46039f\"],[0.2222222222222222,\"#7201a8\"],[0.3333333333333333,\"#9c179e\"],[0.4444444444444444,\"#bd3786\"],[0.5555555555555556,\"#d8576b\"],[0.6666666666666666,\"#ed7953\"],[0.7777777777777778,\"#fb9f3a\"],[0.8888888888888888,\"#fdca26\"],[1.0,\"#f0f921\"]]}],\"heatmapgl\":[{\"type\":\"heatmapgl\",\"colorbar\":{\"outlinewidth\":0,\"ticks\":\"\"},\"colorscale\":[[0.0,\"#0d0887\"],[0.1111111111111111,\"#46039f\"],[0.2222222222222222,\"#7201a8\"],[0.3333333333333333,\"#9c179e\"],[0.4444444444444444,\"#bd3786\"],[0.5555555555555556,\"#d8576b\"],[0.6666666666666666,\"#ed7953\"],[0.7777777777777778,\"#fb9f3a\"],[0.8888888888888888,\"#fdca26\"],[1.0,\"#f0f921\"]]}],\"contourcarpet\":[{\"type\":\"contourcarpet\",\"colorbar\":{\"outlinewidth\":0,\"ticks\":\"\"}}],\"contour\":[{\"type\":\"contour\",\"colorbar\":{\"outlinewidth\":0,\"ticks\":\"\"},\"colorscale\":[[0.0,\"#0d0887\"],[0.1111111111111111,\"#46039f\"],[0.2222222222222222,\"#7201a8\"],[0.3333333333333333,\"#9c179e\"],[0.4444444444444444,\"#bd3786\"],[0.5555555555555556,\"#d8576b\"],[0.6666666666666666,\"#ed7953\"],[0.7777777777777778,\"#fb9f3a\"],[0.8888888888888888,\"#fdca26\"],[1.0,\"#f0f921\"]]}],\"surface\":[{\"type\":\"surface\",\"colorbar\":{\"outlinewidth\":0,\"ticks\":\"\"},\"colorscale\":[[0.0,\"#0d0887\"],[0.1111111111111111,\"#46039f\"],[0.2222222222222222,\"#7201a8\"],[0.3333333333333333,\"#9c179e\"],[0.4444444444444444,\"#bd3786\"],[0.5555555555555556,\"#d8576b\"],[0.6666666666666666,\"#ed7953\"],[0.7777777777777778,\"#fb9f3a\"],[0.8888888888888888,\"#fdca26\"],[1.0,\"#f0f921\"]]}],\"mesh3d\":[{\"type\":\"mesh3d\",\"colorbar\":{\"outlinewidth\":0,\"ticks\":\"\"}}],\"scatter\":[{\"fillpattern\":{\"fillmode\":\"overlay\",\"size\":10,\"solidity\":0.2},\"type\":\"scatter\"}],\"parcoords\":[{\"type\":\"parcoords\",\"line\":{\"colorbar\":{\"outlinewidth\":0,\"ticks\":\"\"}}}],\"scatterpolargl\":[{\"type\":\"scatterpolargl\",\"marker\":{\"colorbar\":{\"outlinewidth\":0,\"ticks\":\"\"}}}],\"bar\":[{\"error_x\":{\"color\":\"#2a3f5f\"},\"error_y\":{\"color\":\"#2a3f5f\"},\"marker\":{\"line\":{\"color\":\"#E5ECF6\",\"width\":0.5},\"pattern\":{\"fillmode\":\"overlay\",\"size\":10,\"solidity\":0.2}},\"type\":\"bar\"}],\"scattergeo\":[{\"type\":\"scattergeo\",\"marker\":{\"colorbar\":{\"outlinewidth\":0,\"ticks\":\"\"}}}],\"scatterpolar\":[{\"type\":\"scatterpolar\",\"marker\":{\"colorbar\":{\"outlinewidth\":0,\"ticks\":\"\"}}}],\"histogram\":[{\"marker\":{\"pattern\":{\"fillmode\":\"overlay\",\"size\":10,\"solidity\":0.2}},\"type\":\"histogram\"}],\"scattergl\":[{\"type\":\"scattergl\",\"marker\":{\"colorbar\":{\"outlinewidth\":0,\"ticks\":\"\"}}}],\"scatter3d\":[{\"type\":\"scatter3d\",\"line\":{\"colorbar\":{\"outlinewidth\":0,\"ticks\":\"\"}},\"marker\":{\"colorbar\":{\"outlinewidth\":0,\"ticks\":\"\"}}}],\"scattermapbox\":[{\"type\":\"scattermapbox\",\"marker\":{\"colorbar\":{\"outlinewidth\":0,\"ticks\":\"\"}}}],\"scatterternary\":[{\"type\":\"scatterternary\",\"marker\":{\"colorbar\":{\"outlinewidth\":0,\"ticks\":\"\"}}}],\"scattercarpet\":[{\"type\":\"scattercarpet\",\"marker\":{\"colorbar\":{\"outlinewidth\":0,\"ticks\":\"\"}}}],\"carpet\":[{\"aaxis\":{\"endlinecolor\":\"#2a3f5f\",\"gridcolor\":\"white\",\"linecolor\":\"white\",\"minorgridcolor\":\"white\",\"startlinecolor\":\"#2a3f5f\"},\"baxis\":{\"endlinecolor\":\"#2a3f5f\",\"gridcolor\":\"white\",\"linecolor\":\"white\",\"minorgridcolor\":\"white\",\"startlinecolor\":\"#2a3f5f\"},\"type\":\"carpet\"}],\"table\":[{\"cells\":{\"fill\":{\"color\":\"#EBF0F8\"},\"line\":{\"color\":\"white\"}},\"header\":{\"fill\":{\"color\":\"#C8D4E3\"},\"line\":{\"color\":\"white\"}},\"type\":\"table\"}],\"barpolar\":[{\"marker\":{\"line\":{\"color\":\"#E5ECF6\",\"width\":0.5},\"pattern\":{\"fillmode\":\"overlay\",\"size\":10,\"solidity\":0.2}},\"type\":\"barpolar\"}],\"pie\":[{\"automargin\":true,\"type\":\"pie\"}]},\"layout\":{\"autotypenumbers\":\"strict\",\"colorway\":[\"#636efa\",\"#EF553B\",\"#00cc96\",\"#ab63fa\",\"#FFA15A\",\"#19d3f3\",\"#FF6692\",\"#B6E880\",\"#FF97FF\",\"#FECB52\"],\"font\":{\"color\":\"#2a3f5f\"},\"hovermode\":\"closest\",\"hoverlabel\":{\"align\":\"left\"},\"paper_bgcolor\":\"white\",\"plot_bgcolor\":\"#E5ECF6\",\"polar\":{\"bgcolor\":\"#E5ECF6\",\"angularaxis\":{\"gridcolor\":\"white\",\"linecolor\":\"white\",\"ticks\":\"\"},\"radialaxis\":{\"gridcolor\":\"white\",\"linecolor\":\"white\",\"ticks\":\"\"}},\"ternary\":{\"bgcolor\":\"#E5ECF6\",\"aaxis\":{\"gridcolor\":\"white\",\"linecolor\":\"white\",\"ticks\":\"\"},\"baxis\":{\"gridcolor\":\"white\",\"linecolor\":\"white\",\"ticks\":\"\"},\"caxis\":{\"gridcolor\":\"white\",\"linecolor\":\"white\",\"ticks\":\"\"}},\"coloraxis\":{\"colorbar\":{\"outlinewidth\":0,\"ticks\":\"\"}},\"colorscale\":{\"sequential\":[[0.0,\"#0d0887\"],[0.1111111111111111,\"#46039f\"],[0.2222222222222222,\"#7201a8\"],[0.3333333333333333,\"#9c179e\"],[0.4444444444444444,\"#bd3786\"],[0.5555555555555556,\"#d8576b\"],[0.6666666666666666,\"#ed7953\"],[0.7777777777777778,\"#fb9f3a\"],[0.8888888888888888,\"#fdca26\"],[1.0,\"#f0f921\"]],\"sequentialminus\":[[0.0,\"#0d0887\"],[0.1111111111111111,\"#46039f\"],[0.2222222222222222,\"#7201a8\"],[0.3333333333333333,\"#9c179e\"],[0.4444444444444444,\"#bd3786\"],[0.5555555555555556,\"#d8576b\"],[0.6666666666666666,\"#ed7953\"],[0.7777777777777778,\"#fb9f3a\"],[0.8888888888888888,\"#fdca26\"],[1.0,\"#f0f921\"]],\"diverging\":[[0,\"#8e0152\"],[0.1,\"#c51b7d\"],[0.2,\"#de77ae\"],[0.3,\"#f1b6da\"],[0.4,\"#fde0ef\"],[0.5,\"#f7f7f7\"],[0.6,\"#e6f5d0\"],[0.7,\"#b8e186\"],[0.8,\"#7fbc41\"],[0.9,\"#4d9221\"],[1,\"#276419\"]]},\"xaxis\":{\"gridcolor\":\"white\",\"linecolor\":\"white\",\"ticks\":\"\",\"title\":{\"standoff\":15},\"zerolinecolor\":\"white\",\"automargin\":true,\"zerolinewidth\":2},\"yaxis\":{\"gridcolor\":\"white\",\"linecolor\":\"white\",\"ticks\":\"\",\"title\":{\"standoff\":15},\"zerolinecolor\":\"white\",\"automargin\":true,\"zerolinewidth\":2},\"scene\":{\"xaxis\":{\"backgroundcolor\":\"#E5ECF6\",\"gridcolor\":\"white\",\"linecolor\":\"white\",\"showbackground\":true,\"ticks\":\"\",\"zerolinecolor\":\"white\",\"gridwidth\":2},\"yaxis\":{\"backgroundcolor\":\"#E5ECF6\",\"gridcolor\":\"white\",\"linecolor\":\"white\",\"showbackground\":true,\"ticks\":\"\",\"zerolinecolor\":\"white\",\"gridwidth\":2},\"zaxis\":{\"backgroundcolor\":\"#E5ECF6\",\"gridcolor\":\"white\",\"linecolor\":\"white\",\"showbackground\":true,\"ticks\":\"\",\"zerolinecolor\":\"white\",\"gridwidth\":2}},\"shapedefaults\":{\"line\":{\"color\":\"#2a3f5f\"}},\"annotationdefaults\":{\"arrowcolor\":\"#2a3f5f\",\"arrowhead\":0,\"arrowwidth\":1},\"geo\":{\"bgcolor\":\"white\",\"landcolor\":\"#E5ECF6\",\"subunitcolor\":\"white\",\"showland\":true,\"showlakes\":true,\"lakecolor\":\"white\"},\"title\":{\"x\":0.05},\"mapbox\":{\"style\":\"light\"}}},\"xaxis\":{\"anchor\":\"y\",\"domain\":[0.0,1.0],\"title\":{\"text\":\"States\"}},\"yaxis\":{\"anchor\":\"x\",\"domain\":[0.0,1.0],\"title\":{\"text\":\"Burglary\"}},\"coloraxis\":{\"colorbar\":{\"title\":{\"text\":\"prisoner_count\"}},\"colorscale\":[[0.0,\"#0d0887\"],[0.1111111111111111,\"#46039f\"],[0.2222222222222222,\"#7201a8\"],[0.3333333333333333,\"#9c179e\"],[0.4444444444444444,\"#bd3786\"],[0.5555555555555556,\"#d8576b\"],[0.6666666666666666,\"#ed7953\"],[0.7777777777777778,\"#fb9f3a\"],[0.8888888888888888,\"#fdca26\"],[1.0,\"#f0f921\"]]},\"legend\":{\"tracegroupgap\":0},\"title\":{\"text\":\"Burglary per State\"}},                        {\"responsive\": true}                    ).then(function(){\n                            \nvar gd = document.getElementById('a04b3a9f-0a4b-4d64-a4aa-c6a25305a1d0');\nvar x = new MutationObserver(function (mutations, observer) {{\n        var display = window.getComputedStyle(gd).display;\n        if (!display || display === 'none') {{\n            console.log([gd, 'removed!']);\n            Plotly.purge(gd);\n            observer.disconnect();\n        }}\n}});\n\n// Listen for the removal of the full notebook cells\nvar notebookContainer = gd.closest('#notebook-container');\nif (notebookContainer) {{\n    x.observe(notebookContainer, {childList: true});\n}}\n\n// Listen for the clearing of the current output cell\nvar outputEl = gd.closest('.output');\nif (outputEl) {{\n    x.observe(outputEl, {childList: true});\n}}\n\n                        })                };                            </script>        </div>\n</body>\n</html>"
     },
     "execution_count": 12,
     "metadata": {
     },
     "output_type": "execute_result"
    }
   ],
   "source": [
    "# Plot 3: Burglary per state\n",
    "\n",
    "fig = px.scatter(crime_df, x ='jurisdiction', y = 'burglary', color='prisoner_count', title = \"Burglary per State\", labels = {\"jurisdiction\":\"States\", \"burglary\":\"Burglary\"})\n",
    "fig.show()\n",
    "fig.write_html(\"burglaryperstate.html\")"
   ]
  },
  {
   "cell_type": "code",
   "execution_count": 13,
   "metadata": {
    "collapsed": false
   },
   "outputs": [
    {
     "data": {
      "text/plain": [
       "([0,\n",
       "  1,\n",
       "  2,\n",
       "  3,\n",
       "  4,\n",
       "  5,\n",
       "  6,\n",
       "  7,\n",
       "  8,\n",
       "  9,\n",
       "  10,\n",
       "  11,\n",
       "  12,\n",
       "  13,\n",
       "  14,\n",
       "  15,\n",
       "  16,\n",
       "  17,\n",
       "  18,\n",
       "  19,\n",
       "  20,\n",
       "  21,\n",
       "  22,\n",
       "  23,\n",
       "  24,\n",
       "  25,\n",
       "  26,\n",
       "  27,\n",
       "  28,\n",
       "  29,\n",
       "  30,\n",
       "  31,\n",
       "  32,\n",
       "  33,\n",
       "  34,\n",
       "  35,\n",
       "  36,\n",
       "  37,\n",
       "  38,\n",
       "  39,\n",
       "  40,\n",
       "  41,\n",
       "  42,\n",
       "  43,\n",
       "  44,\n",
       "  45,\n",
       "  46,\n",
       "  47,\n",
       "  48,\n",
       "  49],\n",
       " [Text(0, 0, ''),\n",
       "  Text(0, 0, ''),\n",
       "  Text(0, 0, ''),\n",
       "  Text(0, 0, ''),\n",
       "  Text(0, 0, ''),\n",
       "  Text(0, 0, ''),\n",
       "  Text(0, 0, ''),\n",
       "  Text(0, 0, ''),\n",
       "  Text(0, 0, ''),\n",
       "  Text(0, 0, ''),\n",
       "  Text(0, 0, ''),\n",
       "  Text(0, 0, ''),\n",
       "  Text(0, 0, ''),\n",
       "  Text(0, 0, ''),\n",
       "  Text(0, 0, ''),\n",
       "  Text(0, 0, ''),\n",
       "  Text(0, 0, ''),\n",
       "  Text(0, 0, ''),\n",
       "  Text(0, 0, ''),\n",
       "  Text(0, 0, ''),\n",
       "  Text(0, 0, ''),\n",
       "  Text(0, 0, ''),\n",
       "  Text(0, 0, ''),\n",
       "  Text(0, 0, ''),\n",
       "  Text(0, 0, ''),\n",
       "  Text(0, 0, ''),\n",
       "  Text(0, 0, ''),\n",
       "  Text(0, 0, ''),\n",
       "  Text(0, 0, ''),\n",
       "  Text(0, 0, ''),\n",
       "  Text(0, 0, ''),\n",
       "  Text(0, 0, ''),\n",
       "  Text(0, 0, ''),\n",
       "  Text(0, 0, ''),\n",
       "  Text(0, 0, ''),\n",
       "  Text(0, 0, ''),\n",
       "  Text(0, 0, ''),\n",
       "  Text(0, 0, ''),\n",
       "  Text(0, 0, ''),\n",
       "  Text(0, 0, ''),\n",
       "  Text(0, 0, ''),\n",
       "  Text(0, 0, ''),\n",
       "  Text(0, 0, ''),\n",
       "  Text(0, 0, ''),\n",
       "  Text(0, 0, ''),\n",
       "  Text(0, 0, ''),\n",
       "  Text(0, 0, ''),\n",
       "  Text(0, 0, ''),\n",
       "  Text(0, 0, ''),\n",
       "  Text(0, 0, '')])"
      ]
     },
     "execution_count": 13,
     "metadata": {
     },
     "output_type": "execute_result"
    },
    {
     "data": {
      "image/png": "[encoded data removed]",
      "text/plain": [
       "<Figure size 2160x720 with 1 Axes>"
      ]
     },
     "execution_count": 13,
     "metadata": {
      "needs_background": "light"
     },
     "output_type": "execute_result"
    }
   ],
   "source": [
    "# Plot 4: Assault per state\n",
    "\n",
    "plt.figure(figsize=(30, 10))\n",
    "plt.bar(crime_df['jurisdiction'], crime_df['agg_assault'])\n",
    "plt.title('Aggravated Assault per State')\n",
    "plt.ylabel(\"Aggravated Assault\")\n",
    "plt.xlabel(\"States\")\n",
    "plt.xticks(rotation = 90)"
   ]
  },
  {
   "cell_type": "code",
   "execution_count": 14,
   "metadata": {
    "collapsed": false,
    "scrolled": true
   },
   "outputs": [
    {
     "data": {
      "text/html": "<html>\n<head><meta charset=\"utf-8\" /></head>\n<body>\n    <div>            <script src=\"https://cdnjs.cloudflare.com/ajax/libs/mathjax/2.7.5/MathJax.js?config=TeX-AMS-MML_SVG\"></script><script type=\"text/javascript\">if (window.MathJax && window.MathJax.Hub && window.MathJax.Hub.Config) {window.MathJax.Hub.Config({SVG: {font: \"STIX-Web\"}});}</script>                <script type=\"text/javascript\">window.PlotlyConfig = {MathJaxConfig: 'local'};</script>\n        <script src=\"https://cdn.plot.ly/plotly-2.12.1.min.js\"></script>                <div id=\"8c3ff433-a098-4497-aa94-2d20103f734a\" class=\"plotly-graph-div\" style=\"height:525px; width:100%;\"></div>            <script type=\"text/javascript\">                                    window.PLOTLYENV=window.PLOTLYENV || {};                                    if (document.getElementById(\"8c3ff433-a098-4497-aa94-2d20103f734a\")) {                    Plotly.newPlot(                        \"8c3ff433-a098-4497-aa94-2d20103f734a\",                        [{\"alignmentgroup\":\"True\",\"customdata\":[[false,2001],[true,2001],[false,2001],[false,2001],[false,2001],[false,2001],[true,2001],[true,2001],[false,2001],[false,2001],[true,2001],[false,2001],[false,2001],[false,2001],[false,2001],[false,2001],[false,2001],[false,2001],[false,2001],[false,2001],[false,2001],[false,2001],[false,2001],[false,2001],[false,2001],[false,2001],[false,2001],[false,2001],[false,2001],[false,2001],[false,2001],[false,2001],[false,2001],[false,2001],[false,2001],[false,2001],[false,2001],[false,2001],[true,2001],[false,2001],[false,2001],[false,2001],[false,2001],[false,2001],[true,2001],[false,2001],[false,2001],[false,2001],[false,2001],[false,2001],[false,2002],[true,2002],[false,2002],[false,2002],[false,2002],[false,2002],[true,2002],[true,2002],[false,2002],[false,2002],[true,2002],[false,2002],[false,2002],[false,2002],[false,2002],[false,2002],[false,2002],[false,2002],[false,2002],[false,2002],[false,2002],[false,2002],[false,2002],[false,2002],[false,2002],[false,2002],[false,2002],[false,2002],[false,2002],[false,2002],[false,2002],[false,2002],[false,2002],[false,2002],[false,2002],[false,2002],[false,2002],[false,2002],[true,2002],[false,2002],[false,2002],[false,2002],[false,2002],[false,2002],[true,2002],[false,2002],[false,2002],[false,2002],[false,2002],[false,2002],[false,2003],[true,2003],[false,2003],[false,2003],[false,2003],[false,2003],[true,2003],[true,2003],[false,2003],[false,2003],[true,2003],[false,2003],[false,2003],[false,2003],[false,2003],[false,2003],[false,2003],[false,2003],[false,2003],[false,2003],[false,2003],[false,2003],[false,2003],[false,2003],[false,2003],[false,2003],[false,2003],[false,2003],[false,2003],[false,2003],[false,2003],[false,2003],[false,2003],[false,2003],[false,2003],[false,2003],[false,2003],[false,2003],[true,2003],[false,2003],[false,2003],[false,2003],[false,2003],[false,2003],[true,2003],[false,2003],[false,2003],[false,2003],[false,2003],[false,2003],[false,2004],[true,2004],[false,2004],[false,2004],[false,2004],[false,2004],[true,2004],[true,2004],[false,2004],[false,2004],[true,2004],[false,2004],[false,2004],[false,2004],[false,2004],[false,2004],[false,2004],[false,2004],[false,2004],[false,2004],[false,2004],[false,2004],[false,2004],[false,2004],[false,2004],[false,2004],[false,2004],[false,2004],[false,2004],[false,2004],[false,2004],[false,2004],[false,2004],[false,2004],[false,2004],[false,2004],[false,2004],[false,2004],[true,2004],[false,2004],[false,2004],[false,2004],[false,2004],[false,2004],[true,2004],[false,2004],[false,2004],[false,2004],[false,2004],[false,2004],[false,2005],[true,2005],[false,2005],[false,2005],[false,2005],[false,2005],[true,2005],[true,2005],[false,2005],[false,2005],[true,2005],[false,2005],[false,2005],[false,2005],[false,2005],[false,2005],[false,2005],[false,2005],[false,2005],[false,2005],[false,2005],[false,2005],[false,2005],[false,2005],[false,2005],[false,2005],[false,2005],[false,2005],[false,2005],[false,2005],[false,2005],[false,2005],[false,2005],[false,2005],[false,2005],[false,2005],[false,2005],[false,2005],[true,2005],[false,2005],[false,2005],[false,2005],[false,2005],[false,2005],[true,2005],[false,2005],[false,2005],[false,2005],[false,2005],[false,2005],[false,2006],[true,2006],[false,2006],[false,2006],[false,2006],[false,2006],[true,2006],[true,2006],[false,2006],[false,2006],[true,2006],[false,2006],[false,2006],[false,2006],[false,2006],[false,2006],[false,2006],[false,2006],[false,2006],[false,2006],[false,2006],[false,2006],[false,2006],[false,2006],[false,2006],[false,2006],[false,2006],[false,2006],[false,2006],[false,2006],[false,2006],[false,2006],[false,2006],[false,2006],[false,2006],[false,2006],[false,2006],[false,2006],[true,2006],[false,2006],[false,2006],[false,2006],[false,2006],[false,2006],[true,2006],[false,2006],[false,2006],[false,2006],[false,2006],[false,2006],[false,2007],[true,2007],[false,2007],[false,2007],[false,2007],[false,2007],[true,2007],[true,2007],[false,2007],[false,2007],[true,2007],[false,2007],[false,2007],[false,2007],[false,2007],[false,2007],[false,2007],[false,2007],[false,2007],[false,2007],[false,2007],[false,2007],[false,2007],[false,2007],[false,2007],[false,2007],[false,2007],[false,2007],[false,2007],[false,2007],[false,2007],[false,2007],[false,2007],[false,2007],[false,2007],[false,2007],[false,2007],[false,2007],[true,2007],[false,2007],[false,2007],[false,2007],[false,2007],[false,2007],[true,2007],[false,2007],[false,2007],[false,2007],[false,2007],[false,2007],[false,2008],[true,2008],[false,2008],[false,2008],[false,2008],[false,2008],[true,2008],[true,2008],[false,2008],[false,2008],[true,2008],[false,2008],[false,2008],[false,2008],[false,2008],[false,2008],[false,2008],[false,2008],[false,2008],[false,2008],[false,2008],[false,2008],[false,2008],[false,2008],[false,2008],[false,2008],[false,2008],[false,2008],[false,2008],[false,2008],[false,2008],[false,2008],[false,2008],[false,2008],[false,2008],[false,2008],[false,2008],[false,2008],[true,2008],[false,2008],[false,2008],[false,2008],[false,2008],[false,2008],[true,2008],[false,2008],[false,2008],[false,2008],[false,2008],[false,2008],[false,2009],[true,2009],[false,2009],[false,2009],[false,2009],[false,2009],[true,2009],[true,2009],[false,2009],[false,2009],[true,2009],[false,2009],[false,2009],[false,2009],[false,2009],[false,2009],[false,2009],[false,2009],[false,2009],[false,2009],[false,2009],[false,2009],[false,2009],[false,2009],[false,2009],[false,2009],[false,2009],[false,2009],[false,2009],[false,2009],[false,2009],[false,2009],[false,2009],[false,2009],[false,2009],[false,2009],[false,2009],[false,2009],[true,2009],[false,2009],[false,2009],[false,2009],[false,2009],[false,2009],[true,2009],[false,2009],[false,2009],[false,2009],[false,2009],[false,2009],[false,2010],[true,2010],[false,2010],[false,2010],[false,2010],[false,2010],[true,2010],[true,2010],[false,2010],[false,2010],[true,2010],[false,2010],[false,2010],[false,2010],[false,2010],[false,2010],[false,2010],[false,2010],[false,2010],[false,2010],[false,2010],[false,2010],[false,2010],[false,2010],[false,2010],[false,2010],[false,2010],[false,2010],[false,2010],[false,2010],[false,2010],[false,2010],[false,2010],[false,2010],[false,2010],[false,2010],[false,2010],[false,2010],[true,2010],[false,2010],[false,2010],[false,2010],[false,2010],[false,2010],[true,2010],[false,2010],[false,2010],[false,2010],[false,2010],[false,2010],[false,2011],[true,2011],[false,2011],[false,2011],[false,2011],[false,2011],[true,2011],[true,2011],[false,2011],[false,2011],[true,2011],[false,2011],[false,2011],[false,2011],[false,2011],[false,2011],[false,2011],[false,2011],[false,2011],[false,2011],[false,2011],[false,2011],[false,2011],[false,2011],[false,2011],[false,2011],[false,2011],[false,2011],[false,2011],[false,2011],[false,2011],[false,2011],[false,2011],[false,2011],[false,2011],[false,2011],[false,2011],[false,2011],[true,2011],[false,2011],[false,2011],[false,2011],[false,2011],[false,2011],[true,2011],[false,2011],[false,2011],[false,2011],[false,2011],[false,2011],[false,2012],[true,2012],[false,2012],[false,2012],[false,2012],[false,2012],[true,2012],[true,2012],[false,2012],[false,2012],[true,2012],[false,2012],[false,2012],[false,2012],[false,2012],[false,2012],[false,2012],[false,2012],[false,2012],[false,2012],[false,2012],[false,2012],[false,2012],[false,2012],[false,2012],[false,2012],[false,2012],[false,2012],[false,2012],[false,2012],[false,2012],[false,2012],[false,2012],[false,2012],[false,2012],[false,2012],[false,2012],[false,2012],[true,2012],[false,2012],[false,2012],[false,2012],[false,2012],[false,2012],[true,2012],[false,2012],[false,2012],[false,2012],[false,2012],[false,2012],[false,2013],[true,2013],[false,2013],[false,2013],[false,2013],[false,2013],[true,2013],[true,2013],[false,2013],[false,2013],[true,2013],[false,2013],[false,2013],[false,2013],[false,2013],[false,2013],[false,2013],[false,2013],[false,2013],[false,2013],[false,2013],[false,2013],[false,2013],[false,2013],[false,2013],[false,2013],[false,2013],[false,2013],[false,2013],[false,2013],[false,2013],[false,2013],[false,2013],[false,2013],[false,2013],[false,2013],[false,2013],[false,2013],[true,2013],[false,2013],[false,2013],[false,2013],[false,2013],[false,2013],[true,2013],[false,2013],[false,2013],[false,2013],[false,2013],[false,2013],[false,2014],[true,2014],[false,2014],[false,2014],[false,2014],[false,2014],[true,2014],[true,2014],[false,2014],[false,2014],[true,2014],[false,2014],[false,2014],[false,2014],[false,2014],[false,2014],[false,2014],[false,2014],[false,2014],[false,2014],[false,2014],[false,2014],[false,2014],[false,2014],[false,2014],[false,2014],[false,2014],[false,2014],[false,2014],[false,2014],[false,2014],[false,2014],[false,2014],[false,2014],[false,2014],[false,2014],[false,2014],[false,2014],[true,2014],[false,2014],[false,2014],[false,2014],[false,2014],[false,2014],[true,2014],[false,2014],[false,2014],[false,2014],[false,2014],[false,2014],[false,2015],[true,2015],[false,2015],[false,2015],[false,2015],[false,2015],[true,2015],[true,2015],[false,2015],[false,2015],[true,2015],[false,2015],[false,2015],[false,2015],[false,2015],[false,2015],[false,2015],[false,2015],[false,2015],[false,2015],[false,2015],[false,2015],[false,2015],[false,2015],[false,2015],[false,2015],[false,2015],[false,2015],[false,2015],[false,2015],[false,2015],[false,2015],[false,2015],[false,2015],[false,2015],[false,2015],[false,2015],[true,2015],[false,2015],[false,2015],[false,2015],[false,2015],[false,2015],[true,2015],[false,2015],[false,2015],[false,2015],[false,2015],[false,2015],[false,2016],[true,2016],[false,2016],[false,2016],[false,2016],[false,2016],[true,2016],[true,2016],[false,2016],[false,2016],[true,2016],[false,2016],[false,2016],[false,2016],[false,2016],[false,2016],[false,2016],[false,2016],[false,2016],[false,2016],[false,2016],[false,2016],[false,2016],[false,2016],[false,2016],[false,2016],[false,2016],[false,2016],[false,2016],[false,2016],[false,2016],[false,2016],[false,2016],[false,2016],[false,2016],[false,2016],[false,2016],[false,2016],[true,2016],[false,2016],[false,2016],[false,2016],[false,2016],[false,2016],[true,2016],[false,2016],[false,2016],[false,2016],[false,2016],[false,2016]],\"hovertemplate\":\"variable=murder_manslaughter<br>jurisdiction=%{x}<br>value=%{y}<br>includes_jails=%{customdata[0]}<br>year=%{customdata[1]}<extra></extra>\",\"legendgroup\":\"murder_manslaughter\",\"marker\":{\"color\":\"#636efa\",\"pattern\":{\"shape\":\"\"}},\"name\":\"murder_manslaughter\",\"offsetgroup\":\"murder_manslaughter\",\"orientation\":\"v\",\"showlegend\":true,\"textposition\":\"auto\",\"x\":[\"ALABAMA\",\"ALASKA\",\"ARIZONA\",\"ARKANSAS\",\"CALIFORNIA\",\"COLORADO\",\"CONNECTICUT\",\"DELAWARE\",\"FLORIDA\",\"GEORGIA\",\"HAWAII\",\"IDAHO\",\"ILLINOIS\",\"INDIANA\",\"IOWA\",\"KANSAS\",\"KENTUCKY\",\"LOUISIANA\",\"MAINE\",\"MARYLAND\",\"MASSACHUSETTS\",\"MICHIGAN\",\"MINNESOTA\",\"MISSISSIPPI\",\"MISSOURI\",\"MONTANA\",\"NEBRASKA\",\"NEVADA\",\"NEW HAMPSHIRE\",\"NEW JERSEY\",\"NEW MEXICO\",\"NEW YORK\",\"NORTH CAROLINA\",\"NORTH DAKOTA\",\"OHIO\",\"OKLAHOMA\",\"OREGON\",\"PENNSYLVANIA\",\"RHODE ISLAND\",\"SOUTH CAROLINA\",\"SOUTH DAKOTA\",\"TENNESSEE\",\"TEXAS\",\"UTAH\",\"VERMONT\",\"VIRGINIA\",\"WASHINGTON\",\"WEST VIRGINIA\",\"WISCONSIN\",\"WYOMING\",\"ALABAMA\",\"ALASKA\",\"ARIZONA\",\"ARKANSAS\",\"CALIFORNIA\",\"COLORADO\",\"CONNECTICUT\",\"DELAWARE\",\"FLORIDA\",\"GEORGIA\",\"HAWAII\",\"IDAHO\",\"ILLINOIS\",\"INDIANA\",\"IOWA\",\"KANSAS\",\"KENTUCKY\",\"LOUISIANA\",\"MAINE\",\"MARYLAND\",\"MASSACHUSETTS\",\"MICHIGAN\",\"MINNESOTA\",\"MISSISSIPPI\",\"MISSOURI\",\"MONTANA\",\"NEBRASKA\",\"NEVADA\",\"NEW HAMPSHIRE\",\"NEW JERSEY\",\"NEW MEXICO\",\"NEW YORK\",\"NORTH CAROLINA\",\"NORTH DAKOTA\",\"OHIO\",\"OKLAHOMA\",\"OREGON\",\"PENNSYLVANIA\",\"RHODE ISLAND\",\"SOUTH CAROLINA\",\"SOUTH DAKOTA\",\"TENNESSEE\",\"TEXAS\",\"UTAH\",\"VERMONT\",\"VIRGINIA\",\"WASHINGTON\",\"WEST VIRGINIA\",\"WISCONSIN\",\"WYOMING\",\"ALABAMA\",\"ALASKA\",\"ARIZONA\",\"ARKANSAS\",\"CALIFORNIA\",\"COLORADO\",\"CONNECTICUT\",\"DELAWARE\",\"FLORIDA\",\"GEORGIA\",\"HAWAII\",\"IDAHO\",\"ILLINOIS\",\"INDIANA\",\"IOWA\",\"KANSAS\",\"KENTUCKY\",\"LOUISIANA\",\"MAINE\",\"MARYLAND\",\"MASSACHUSETTS\",\"MICHIGAN\",\"MINNESOTA\",\"MISSISSIPPI\",\"MISSOURI\",\"MONTANA\",\"NEBRASKA\",\"NEVADA\",\"NEW HAMPSHIRE\",\"NEW JERSEY\",\"NEW MEXICO\",\"NEW YORK\",\"NORTH CAROLINA\",\"NORTH DAKOTA\",\"OHIO\",\"OKLAHOMA\",\"OREGON\",\"PENNSYLVANIA\",\"RHODE ISLAND\",\"SOUTH CAROLINA\",\"SOUTH DAKOTA\",\"TENNESSEE\",\"TEXAS\",\"UTAH\",\"VERMONT\",\"VIRGINIA\",\"WASHINGTON\",\"WEST VIRGINIA\",\"WISCONSIN\",\"WYOMING\",\"ALABAMA\",\"ALASKA\",\"ARIZONA\",\"ARKANSAS\",\"CALIFORNIA\",\"COLORADO\",\"CONNECTICUT\",\"DELAWARE\",\"FLORIDA\",\"GEORGIA\",\"HAWAII\",\"IDAHO\",\"ILLINOIS\",\"INDIANA\",\"IOWA\",\"KANSAS\",\"KENTUCKY\",\"LOUISIANA\",\"MAINE\",\"MARYLAND\",\"MASSACHUSETTS\",\"MICHIGAN\",\"MINNESOTA\",\"MISSISSIPPI\",\"MISSOURI\",\"MONTANA\",\"NEBRASKA\",\"NEVADA\",\"NEW HAMPSHIRE\",\"NEW JERSEY\",\"NEW MEXICO\",\"NEW YORK\",\"NORTH CAROLINA\",\"NORTH DAKOTA\",\"OHIO\",\"OKLAHOMA\",\"OREGON\",\"PENNSYLVANIA\",\"RHODE ISLAND\",\"SOUTH CAROLINA\",\"SOUTH DAKOTA\",\"TENNESSEE\",\"TEXAS\",\"UTAH\",\"VERMONT\",\"VIRGINIA\",\"WASHINGTON\",\"WEST VIRGINIA\",\"WISCONSIN\",\"WYOMING\",\"ALABAMA\",\"ALASKA\",\"ARIZONA\",\"ARKANSAS\",\"CALIFORNIA\",\"COLORADO\",\"CONNECTICUT\",\"DELAWARE\",\"FLORIDA\",\"GEORGIA\",\"HAWAII\",\"IDAHO\",\"ILLINOIS\",\"INDIANA\",\"IOWA\",\"KANSAS\",\"KENTUCKY\",\"LOUISIANA\",\"MAINE\",\"MARYLAND\",\"MASSACHUSETTS\",\"MICHIGAN\",\"MINNESOTA\",\"MISSISSIPPI\",\"MISSOURI\",\"MONTANA\",\"NEBRASKA\",\"NEVADA\",\"NEW HAMPSHIRE\",\"NEW JERSEY\",\"NEW MEXICO\",\"NEW YORK\",\"NORTH CAROLINA\",\"NORTH DAKOTA\",\"OHIO\",\"OKLAHOMA\",\"OREGON\",\"PENNSYLVANIA\",\"RHODE ISLAND\",\"SOUTH CAROLINA\",\"SOUTH DAKOTA\",\"TENNESSEE\",\"TEXAS\",\"UTAH\",\"VERMONT\",\"VIRGINIA\",\"WASHINGTON\",\"WEST VIRGINIA\",\"WISCONSIN\",\"WYOMING\",\"ALABAMA\",\"ALASKA\",\"ARIZONA\",\"ARKANSAS\",\"CALIFORNIA\",\"COLORADO\",\"CONNECTICUT\",\"DELAWARE\",\"FLORIDA\",\"GEORGIA\",\"HAWAII\",\"IDAHO\",\"ILLINOIS\",\"INDIANA\",\"IOWA\",\"KANSAS\",\"KENTUCKY\",\"LOUISIANA\",\"MAINE\",\"MARYLAND\",\"MASSACHUSETTS\",\"MICHIGAN\",\"MINNESOTA\",\"MISSISSIPPI\",\"MISSOURI\",\"MONTANA\",\"NEBRASKA\",\"NEVADA\",\"NEW HAMPSHIRE\",\"NEW JERSEY\",\"NEW MEXICO\",\"NEW YORK\",\"NORTH CAROLINA\",\"NORTH DAKOTA\",\"OHIO\",\"OKLAHOMA\",\"OREGON\",\"PENNSYLVANIA\",\"RHODE ISLAND\",\"SOUTH CAROLINA\",\"SOUTH DAKOTA\",\"TENNESSEE\",\"TEXAS\",\"UTAH\",\"VERMONT\",\"VIRGINIA\",\"WASHINGTON\",\"WEST VIRGINIA\",\"WISCONSIN\",\"WYOMING\",\"ALABAMA\",\"ALASKA\",\"ARIZONA\",\"ARKANSAS\",\"CALIFORNIA\",\"COLORADO\",\"CONNECTICUT\",\"DELAWARE\",\"FLORIDA\",\"GEORGIA\",\"HAWAII\",\"IDAHO\",\"ILLINOIS\",\"INDIANA\",\"IOWA\",\"KANSAS\",\"KENTUCKY\",\"LOUISIANA\",\"MAINE\",\"MARYLAND\",\"MASSACHUSETTS\",\"MICHIGAN\",\"MINNESOTA\",\"MISSISSIPPI\",\"MISSOURI\",\"MONTANA\",\"NEBRASKA\",\"NEVADA\",\"NEW HAMPSHIRE\",\"NEW JERSEY\",\"NEW MEXICO\",\"NEW YORK\",\"NORTH CAROLINA\",\"NORTH DAKOTA\",\"OHIO\",\"OKLAHOMA\",\"OREGON\",\"PENNSYLVANIA\",\"RHODE ISLAND\",\"SOUTH CAROLINA\",\"SOUTH DAKOTA\",\"TENNESSEE\",\"TEXAS\",\"UTAH\",\"VERMONT\",\"VIRGINIA\",\"WASHINGTON\",\"WEST VIRGINIA\",\"WISCONSIN\",\"WYOMING\",\"ALABAMA\",\"ALASKA\",\"ARIZONA\",\"ARKANSAS\",\"CALIFORNIA\",\"COLORADO\",\"CONNECTICUT\",\"DELAWARE\",\"FLORIDA\",\"GEORGIA\",\"HAWAII\",\"IDAHO\",\"ILLINOIS\",\"INDIANA\",\"IOWA\",\"KANSAS\",\"KENTUCKY\",\"LOUISIANA\",\"MAINE\",\"MARYLAND\",\"MASSACHUSETTS\",\"MICHIGAN\",\"MINNESOTA\",\"MISSISSIPPI\",\"MISSOURI\",\"MONTANA\",\"NEBRASKA\",\"NEVADA\",\"NEW HAMPSHIRE\",\"NEW JERSEY\",\"NEW MEXICO\",\"NEW YORK\",\"NORTH CAROLINA\",\"NORTH DAKOTA\",\"OHIO\",\"OKLAHOMA\",\"OREGON\",\"PENNSYLVANIA\",\"RHODE ISLAND\",\"SOUTH CAROLINA\",\"SOUTH DAKOTA\",\"TENNESSEE\",\"TEXAS\",\"UTAH\",\"VERMONT\",\"VIRGINIA\",\"WASHINGTON\",\"WEST VIRGINIA\",\"WISCONSIN\",\"WYOMING\",\"ALABAMA\",\"ALASKA\",\"ARIZONA\",\"ARKANSAS\",\"CALIFORNIA\",\"COLORADO\",\"CONNECTICUT\",\"DELAWARE\",\"FLORIDA\",\"GEORGIA\",\"HAWAII\",\"IDAHO\",\"ILLINOIS\",\"INDIANA\",\"IOWA\",\"KANSAS\",\"KENTUCKY\",\"LOUISIANA\",\"MAINE\",\"MARYLAND\",\"MASSACHUSETTS\",\"MICHIGAN\",\"MINNESOTA\",\"MISSISSIPPI\",\"MISSOURI\",\"MONTANA\",\"NEBRASKA\",\"NEVADA\",\"NEW HAMPSHIRE\",\"NEW JERSEY\",\"NEW MEXICO\",\"NEW YORK\",\"NORTH CAROLINA\",\"NORTH DAKOTA\",\"OHIO\",\"OKLAHOMA\",\"OREGON\",\"PENNSYLVANIA\",\"RHODE ISLAND\",\"SOUTH CAROLINA\",\"SOUTH DAKOTA\",\"TENNESSEE\",\"TEXAS\",\"UTAH\",\"VERMONT\",\"VIRGINIA\",\"WASHINGTON\",\"WEST VIRGINIA\",\"WISCONSIN\",\"WYOMING\",\"ALABAMA\",\"ALASKA\",\"ARIZONA\",\"ARKANSAS\",\"CALIFORNIA\",\"COLORADO\",\"CONNECTICUT\",\"DELAWARE\",\"FLORIDA\",\"GEORGIA\",\"HAWAII\",\"IDAHO\",\"ILLINOIS\",\"INDIANA\",\"IOWA\",\"KANSAS\",\"KENTUCKY\",\"LOUISIANA\",\"MAINE\",\"MARYLAND\",\"MASSACHUSETTS\",\"MICHIGAN\",\"MINNESOTA\",\"MISSISSIPPI\",\"MISSOURI\",\"MONTANA\",\"NEBRASKA\",\"NEVADA\",\"NEW HAMPSHIRE\",\"NEW JERSEY\",\"NEW MEXICO\",\"NEW YORK\",\"NORTH CAROLINA\",\"NORTH DAKOTA\",\"OHIO\",\"OKLAHOMA\",\"OREGON\",\"PENNSYLVANIA\",\"RHODE ISLAND\",\"SOUTH CAROLINA\",\"SOUTH DAKOTA\",\"TENNESSEE\",\"TEXAS\",\"UTAH\",\"VERMONT\",\"VIRGINIA\",\"WASHINGTON\",\"WEST VIRGINIA\",\"WISCONSIN\",\"WYOMING\",\"ALABAMA\",\"ALASKA\",\"ARIZONA\",\"ARKANSAS\",\"CALIFORNIA\",\"COLORADO\",\"CONNECTICUT\",\"DELAWARE\",\"FLORIDA\",\"GEORGIA\",\"HAWAII\",\"IDAHO\",\"ILLINOIS\",\"INDIANA\",\"IOWA\",\"KANSAS\",\"KENTUCKY\",\"LOUISIANA\",\"MAINE\",\"MARYLAND\",\"MASSACHUSETTS\",\"MICHIGAN\",\"MINNESOTA\",\"MISSISSIPPI\",\"MISSOURI\",\"MONTANA\",\"NEBRASKA\",\"NEVADA\",\"NEW HAMPSHIRE\",\"NEW JERSEY\",\"NEW MEXICO\",\"NEW YORK\",\"NORTH CAROLINA\",\"NORTH DAKOTA\",\"OHIO\",\"OKLAHOMA\",\"OREGON\",\"PENNSYLVANIA\",\"RHODE ISLAND\",\"SOUTH CAROLINA\",\"SOUTH DAKOTA\",\"TENNESSEE\",\"TEXAS\",\"UTAH\",\"VERMONT\",\"VIRGINIA\",\"WASHINGTON\",\"WEST VIRGINIA\",\"WISCONSIN\",\"WYOMING\",\"ALABAMA\",\"ALASKA\",\"ARIZONA\",\"ARKANSAS\",\"CALIFORNIA\",\"COLORADO\",\"CONNECTICUT\",\"DELAWARE\",\"FLORIDA\",\"GEORGIA\",\"HAWAII\",\"IDAHO\",\"ILLINOIS\",\"INDIANA\",\"IOWA\",\"KANSAS\",\"KENTUCKY\",\"LOUISIANA\",\"MAINE\",\"MARYLAND\",\"MASSACHUSETTS\",\"MICHIGAN\",\"MINNESOTA\",\"MISSISSIPPI\",\"MISSOURI\",\"MONTANA\",\"NEBRASKA\",\"NEVADA\",\"NEW HAMPSHIRE\",\"NEW JERSEY\",\"NEW MEXICO\",\"NEW YORK\",\"NORTH CAROLINA\",\"NORTH DAKOTA\",\"OHIO\",\"OKLAHOMA\",\"OREGON\",\"PENNSYLVANIA\",\"RHODE ISLAND\",\"SOUTH CAROLINA\",\"SOUTH DAKOTA\",\"TENNESSEE\",\"TEXAS\",\"UTAH\",\"VERMONT\",\"VIRGINIA\",\"WASHINGTON\",\"WEST VIRGINIA\",\"WISCONSIN\",\"WYOMING\",\"ALABAMA\",\"ALASKA\",\"ARIZONA\",\"ARKANSAS\",\"CALIFORNIA\",\"COLORADO\",\"CONNECTICUT\",\"DELAWARE\",\"FLORIDA\",\"GEORGIA\",\"HAWAII\",\"IDAHO\",\"ILLINOIS\",\"INDIANA\",\"IOWA\",\"KANSAS\",\"KENTUCKY\",\"LOUISIANA\",\"MAINE\",\"MARYLAND\",\"MASSACHUSETTS\",\"MICHIGAN\",\"MINNESOTA\",\"MISSISSIPPI\",\"MISSOURI\",\"MONTANA\",\"NEBRASKA\",\"NEVADA\",\"NEW HAMPSHIRE\",\"NEW JERSEY\",\"NEW MEXICO\",\"NEW YORK\",\"NORTH CAROLINA\",\"NORTH DAKOTA\",\"OHIO\",\"OKLAHOMA\",\"OREGON\",\"PENNSYLVANIA\",\"RHODE ISLAND\",\"SOUTH CAROLINA\",\"SOUTH DAKOTA\",\"TENNESSEE\",\"TEXAS\",\"UTAH\",\"VERMONT\",\"VIRGINIA\",\"WASHINGTON\",\"WEST VIRGINIA\",\"WISCONSIN\",\"WYOMING\",\"ALABAMA\",\"ALASKA\",\"ARIZONA\",\"ARKANSAS\",\"CALIFORNIA\",\"COLORADO\",\"CONNECTICUT\",\"DELAWARE\",\"FLORIDA\",\"GEORGIA\",\"HAWAII\",\"IDAHO\",\"ILLINOIS\",\"INDIANA\",\"IOWA\",\"KANSAS\",\"KENTUCKY\",\"LOUISIANA\",\"MAINE\",\"MARYLAND\",\"MASSACHUSETTS\",\"MICHIGAN\",\"MINNESOTA\",\"MISSISSIPPI\",\"MISSOURI\",\"MONTANA\",\"NEBRASKA\",\"NEVADA\",\"NEW HAMPSHIRE\",\"NEW JERSEY\",\"NEW MEXICO\",\"NEW YORK\",\"NORTH CAROLINA\",\"NORTH DAKOTA\",\"OHIO\",\"OKLAHOMA\",\"OREGON\",\"PENNSYLVANIA\",\"RHODE ISLAND\",\"SOUTH CAROLINA\",\"SOUTH DAKOTA\",\"TENNESSEE\",\"TEXAS\",\"UTAH\",\"VERMONT\",\"VIRGINIA\",\"WASHINGTON\",\"WEST VIRGINIA\",\"WISCONSIN\",\"WYOMING\",\"ALABAMA\",\"ALASKA\",\"ARIZONA\",\"ARKANSAS\",\"CALIFORNIA\",\"COLORADO\",\"CONNECTICUT\",\"DELAWARE\",\"FLORIDA\",\"GEORGIA\",\"HAWAII\",\"IDAHO\",\"ILLINOIS\",\"INDIANA\",\"IOWA\",\"KANSAS\",\"KENTUCKY\",\"LOUISIANA\",\"MAINE\",\"MARYLAND\",\"MASSACHUSETTS\",\"MICHIGAN\",\"MINNESOTA\",\"MISSISSIPPI\",\"MISSOURI\",\"MONTANA\",\"NEBRASKA\",\"NEVADA\",\"NEW HAMPSHIRE\",\"NEW JERSEY\",\"NEW MEXICO\",\"NORTH CAROLINA\",\"NORTH DAKOTA\",\"OHIO\",\"OKLAHOMA\",\"OREGON\",\"PENNSYLVANIA\",\"RHODE ISLAND\",\"SOUTH CAROLINA\",\"SOUTH DAKOTA\",\"TENNESSEE\",\"TEXAS\",\"UTAH\",\"VERMONT\",\"VIRGINIA\",\"WASHINGTON\",\"WEST VIRGINIA\",\"WISCONSIN\",\"WYOMING\",\"ALABAMA\",\"ALASKA\",\"ARIZONA\",\"ARKANSAS\",\"CALIFORNIA\",\"COLORADO\",\"CONNECTICUT\",\"DELAWARE\",\"FLORIDA\",\"GEORGIA\",\"HAWAII\",\"IDAHO\",\"ILLINOIS\",\"INDIANA\",\"IOWA\",\"KANSAS\",\"KENTUCKY\",\"LOUISIANA\",\"MAINE\",\"MARYLAND\",\"MASSACHUSETTS\",\"MICHIGAN\",\"MINNESOTA\",\"MISSISSIPPI\",\"MISSOURI\",\"MONTANA\",\"NEBRASKA\",\"NEVADA\",\"NEW HAMPSHIRE\",\"NEW JERSEY\",\"NEW MEXICO\",\"NEW YORK\",\"NORTH CAROLINA\",\"NORTH DAKOTA\",\"OHIO\",\"OKLAHOMA\",\"OREGON\",\"PENNSYLVANIA\",\"RHODE ISLAND\",\"SOUTH CAROLINA\",\"SOUTH DAKOTA\",\"TENNESSEE\",\"TEXAS\",\"UTAH\",\"VERMONT\",\"VIRGINIA\",\"WASHINGTON\",\"WEST VIRGINIA\",\"WISCONSIN\",\"WYOMING\"],\"xaxis\":\"x\",\"y\":[379.0,39.0,400.0,148.0,2206.0,158.0,105.0,23.0,874.0,598.0,32.0,30.0,982.0,413.0,50.0,92.0,181.0,501.0,19.0,446.0,143.0,672.0,119.0,282.0,372.0,34.0,43.0,180.0,17.0,336.0,99.0,960.0,505.0,7.0,452.0,185.0,84.0,651.0,39.0,330.0,7.0,423.0,1332.0,67.0,7.0,364.0,179.0,40.0,192.0,9.0,303.0,33.0,387.0,142.0,2395.0,179.0,84.0,26.0,911.0,606.0,24.0,36.0,961.0,362.0,44.0,78.0,191.0,593.0,14.0,513.0,173.0,678.0,112.0,264.0,331.0,16.0,48.0,181.0,12.0,339.0,152.0,909.0,548.0,5.0,526.0,163.0,72.0,624.0,41.0,298.0,11.0,420.0,1302.0,47.0,13.0,388.0,184.0,57.0,154.0,15.0,299.0,39.0,441.0,180.0,2407.0,185.0,112.0,21.0,924.0,657.0,22.0,26.0,895.0,338.0,50.0,125.0,181.0,584.0,16.0,525.0,140.0,612.0,127.0,267.0,289.0,30.0,56.0,197.0,17.0,406.0,116.0,934.0,506.0,9.0,526.0,206.0,68.0,647.0,25.0,303.0,10.0,396.0,1422.0,60.0,15.0,416.0,182.0,73.0,183.0,14.0,254.0,37.0,414.0,176.0,2392.0,201.0,100.0,28.0,946.0,613.0,33.0,31.0,780.0,316.0,44.0,122.0,236.0,574.0,18.0,521.0,171.0,643.0,113.0,227.0,354.0,30.0,40.0,172.0,17.0,392.0,169.0,889.0,532.0,8.0,506.0,186.0,90.0,650.0,26.0,286.0,17.0,357.0,1364.0,46.0,16.0,390.0,190.0,68.0,154.0,11.0,374.0,32.0,445.0,189.0,2503.0,173.0,105.0,37.0,883.0,564.0,24.0,35.0,770.0,356.0,40.0,101.0,190.0,450.0,19.0,552.0,178.0,629.0,115.0,214.0,402.0,18.0,44.0,206.0,19.0,417.0,144.0,874.0,585.0,12.0,590.0,187.0,80.0,756.0,34.0,314.0,18.0,431.0,1407.0,56.0,8.0,458.0,205.0,82.0,206.0,14.0,382.0,36.0,533.0,205.0,2486.0,171.0,137.0,42.0,1129.0,605.0,21.0,35.0,780.0,361.0,55.0,125.0,173.0,555.0,23.0,546.0,188.0,721.0,126.0,231.0,369.0,33.0,51.0,226.0,13.0,427.0,134.0,922.0,539.0,14.0,560.0,210.0,88.0,741.0,27.0,362.0,30.0,419.0,1386.0,51.0,14.0,403.0,197.0,80.0,165.0,13.0,412.0,43.0,548.0,198.0,2262.0,155.0,113.0,39.0,1202.0,720.0,24.0,49.0,752.0,350.0,39.0,106.0,206.0,625.0,20.0,554.0,187.0,661.0,116.0,202.0,367.0,27.0,71.0,193.0,12.0,381.0,183.0,805.0,584.0,17.0,529.0,224.0,76.0,725.0,19.0,364.0,31.0,405.0,1419.0,59.0,13.0,415.0,174.0,65.0,185.0,21.0,351.0,27.0,462.0,165.0,2142.0,165.0,132.0,57.0,1168.0,640.0,26.0,23.0,790.0,322.0,77.0,113.0,201.0,544.0,31.0,493.0,166.0,554.0,110.0,236.0,456.0,40.0,69.0,165.0,14.0,376.0,161.0,836.0,599.0,11.0,547.0,215.0,87.0,705.0,31.0,307.0,37.0,412.0,1370.0,41.0,17.0,370.0,193.0,67.0,146.0,12.0,322.0,22.0,380.0,179.0,1972.0,159.0,106.0,41.0,1017.0,566.0,23.0,24.0,773.0,312.0,38.0,125.0,184.0,529.0,26.0,440.0,173.0,623.0,74.0,194.0,387.0,32.0,41.0,156.0,11.0,319.0,198.0,781.0,489.0,12.0,527.0,234.0,88.0,664.0,32.0,305.0,30.0,468.0,1330.0,39.0,8.0,370.0,190.0,84.0,146.0,11.0,275.0,31.0,408.0,134.0,1809.0,129.0,133.0,51.0,987.0,555.0,25.0,22.0,704.0,268.0,38.0,97.0,188.0,500.0,24.0,426.0,214.0,580.0,96.0,204.0,420.0,25.0,54.0,158.0,13.0,371.0,140.0,868.0,474.0,10.0,479.0,195.0,96.0,653.0,29.0,265.0,23.0,359.0,1249.0,53.0,7.0,376.0,154.0,58.0,155.0,8.0,299.0,30.0,397.0,160.0,1792.0,155.0,129.0,48.0,984.0,549.0,20.0,35.0,781.0,306.0,44.0,111.0,151.0,506.0,26.0,399.0,184.0,617.0,75.0,232.0,366.0,29.0,68.0,139.0,16.0,380.0,158.0,769.0,498.0,24.0,500.0,212.0,84.0,639.0,20.0,320.0,20.0,380.0,1130.0,50.0,11.0,304.0,163.0,87.0,138.0,18.0,342.0,30.0,358.0,174.0,1884.0,152.0,117.0,56.0,1009.0,583.0,21.0,30.0,770.0,307.0,49.0,85.0,201.0,489.0,26.0,373.0,121.0,701.0,99.0,213.0,390.0,29.0,52.0,124.0,15.0,388.0,116.0,683.0,479.0,25.0,478.0,220.0,91.0,707.0,36.0,332.0,23.0,400.0,1148.0,52.0,8.0,322.0,217.0,70.0,169.0,14.0,346.0,34.0,355.0,158.0,1746.0,174.0,91.0,41.0,972.0,563.0,32.0,29.0,722.0,357.0,41.0,117.0,172.0,494.0,24.0,384.0,138.0,625.0,114.0,217.0,369.0,23.0,56.0,163.0,21.0,404.0,123.0,644.0,463.0,16.0,478.0,198.0,82.0,611.0,31.0,305.0,18.0,335.0,1140.0,51.0,10.0,320.0,167.0,62.0,163.0,17.0,276.0,41.0,319.0,165.0,1699.0,151.0,86.0,54.0,1149.0,580.0,26.0,32.0,685.0,330.0,60.0,91.0,160.0,477.0,21.0,365.0,132.0,535.0,88.0,258.0,403.0,37.0,54.0,170.0,12.0,349.0,101.0,617.0,510.0,22.0,464.0,175.0,81.0,614.0,25.0,311.0,20.0,371.0,1184.0,67.0,10.0,338.0,174.0,74.0,165.0,16.0,348.0,59.0,309.0,181.0,1861.0,176.0,117.0,63.0,1041.0,615.0,19.0,32.0,744.0,373.0,72.0,128.0,209.0,481.0,23.0,516.0,128.0,571.0,133.0,259.0,502.0,36.0,62.0,178.0,14.0,363.0,117.0,517.0,21.0,500.0,234.0,99.0,658.0,29.0,399.0,32.0,406.0,1316.0,54.0,10.0,383.0,211.0,70.0,240.0,16.0,407.0,52.0,389.0,217.0,1930.0,189.0,79.0,58.0,1111.0,682.0,35.0,49.0,1061.0,431.0,73.0,132.0,265.0,555.0,20.0,536.0,135.0,612.0,101.0,237.0,538.0,37.0,49.0,228.0,19.0,378.0,139.0,629.0,678.0,16.0,683.0,247.0,116.0,674.0,29.0,358.0,28.0,495.0,1478.0,74.0,14.0,482.0,195.0,85.0,232.0,20.0],\"yaxis\":\"y\",\"type\":\"bar\"},{\"alignmentgroup\":\"True\",\"customdata\":[[false,2001],[true,2001],[false,2001],[false,2001],[false,2001],[false,2001],[true,2001],[true,2001],[false,2001],[false,2001],[true,2001],[false,2001],[false,2001],[false,2001],[false,2001],[false,2001],[false,2001],[false,2001],[false,2001],[false,2001],[false,2001],[false,2001],[false,2001],[false,2001],[false,2001],[false,2001],[false,2001],[false,2001],[false,2001],[false,2001],[false,2001],[false,2001],[false,2001],[false,2001],[false,2001],[false,2001],[false,2001],[false,2001],[true,2001],[false,2001],[false,2001],[false,2001],[false,2001],[false,2001],[true,2001],[false,2001],[false,2001],[false,2001],[false,2001],[false,2001],[false,2002],[true,2002],[false,2002],[false,2002],[false,2002],[false,2002],[true,2002],[true,2002],[false,2002],[false,2002],[true,2002],[false,2002],[false,2002],[false,2002],[false,2002],[false,2002],[false,2002],[false,2002],[false,2002],[false,2002],[false,2002],[false,2002],[false,2002],[false,2002],[false,2002],[false,2002],[false,2002],[false,2002],[false,2002],[false,2002],[false,2002],[false,2002],[false,2002],[false,2002],[false,2002],[false,2002],[false,2002],[false,2002],[true,2002],[false,2002],[false,2002],[false,2002],[false,2002],[false,2002],[true,2002],[false,2002],[false,2002],[false,2002],[false,2002],[false,2002],[false,2003],[true,2003],[false,2003],[false,2003],[false,2003],[false,2003],[true,2003],[true,2003],[false,2003],[false,2003],[true,2003],[false,2003],[false,2003],[false,2003],[false,2003],[false,2003],[false,2003],[false,2003],[false,2003],[false,2003],[false,2003],[false,2003],[false,2003],[false,2003],[false,2003],[false,2003],[false,2003],[false,2003],[false,2003],[false,2003],[false,2003],[false,2003],[false,2003],[false,2003],[false,2003],[false,2003],[false,2003],[false,2003],[true,2003],[false,2003],[false,2003],[false,2003],[false,2003],[false,2003],[true,2003],[false,2003],[false,2003],[false,2003],[false,2003],[false,2003],[false,2004],[true,2004],[false,2004],[false,2004],[false,2004],[false,2004],[true,2004],[true,2004],[false,2004],[false,2004],[true,2004],[false,2004],[false,2004],[false,2004],[false,2004],[false,2004],[false,2004],[false,2004],[false,2004],[false,2004],[false,2004],[false,2004],[false,2004],[false,2004],[false,2004],[false,2004],[false,2004],[false,2004],[false,2004],[false,2004],[false,2004],[false,2004],[false,2004],[false,2004],[false,2004],[false,2004],[false,2004],[false,2004],[true,2004],[false,2004],[false,2004],[false,2004],[false,2004],[false,2004],[true,2004],[false,2004],[false,2004],[false,2004],[false,2004],[false,2004],[false,2005],[true,2005],[false,2005],[false,2005],[false,2005],[false,2005],[true,2005],[true,2005],[false,2005],[false,2005],[true,2005],[false,2005],[false,2005],[false,2005],[false,2005],[false,2005],[false,2005],[false,2005],[false,2005],[false,2005],[false,2005],[false,2005],[false,2005],[false,2005],[false,2005],[false,2005],[false,2005],[false,2005],[false,2005],[false,2005],[false,2005],[false,2005],[false,2005],[false,2005],[false,2005],[false,2005],[false,2005],[false,2005],[true,2005],[false,2005],[false,2005],[false,2005],[false,2005],[false,2005],[true,2005],[false,2005],[false,2005],[false,2005],[false,2005],[false,2005],[false,2006],[true,2006],[false,2006],[false,2006],[false,2006],[false,2006],[true,2006],[true,2006],[false,2006],[false,2006],[true,2006],[false,2006],[false,2006],[false,2006],[false,2006],[false,2006],[false,2006],[false,2006],[false,2006],[false,2006],[false,2006],[false,2006],[false,2006],[false,2006],[false,2006],[false,2006],[false,2006],[false,2006],[false,2006],[false,2006],[false,2006],[false,2006],[false,2006],[false,2006],[false,2006],[false,2006],[false,2006],[false,2006],[true,2006],[false,2006],[false,2006],[false,2006],[false,2006],[false,2006],[true,2006],[false,2006],[false,2006],[false,2006],[false,2006],[false,2006],[false,2007],[true,2007],[false,2007],[false,2007],[false,2007],[false,2007],[true,2007],[true,2007],[false,2007],[false,2007],[true,2007],[false,2007],[false,2007],[false,2007],[false,2007],[false,2007],[false,2007],[false,2007],[false,2007],[false,2007],[false,2007],[false,2007],[false,2007],[false,2007],[false,2007],[false,2007],[false,2007],[false,2007],[false,2007],[false,2007],[false,2007],[false,2007],[false,2007],[false,2007],[false,2007],[false,2007],[false,2007],[false,2007],[true,2007],[false,2007],[false,2007],[false,2007],[false,2007],[false,2007],[true,2007],[false,2007],[false,2007],[false,2007],[false,2007],[false,2007],[false,2008],[true,2008],[false,2008],[false,2008],[false,2008],[false,2008],[true,2008],[true,2008],[false,2008],[false,2008],[true,2008],[false,2008],[false,2008],[false,2008],[false,2008],[false,2008],[false,2008],[false,2008],[false,2008],[false,2008],[false,2008],[false,2008],[false,2008],[false,2008],[false,2008],[false,2008],[false,2008],[false,2008],[false,2008],[false,2008],[false,2008],[false,2008],[false,2008],[false,2008],[false,2008],[false,2008],[false,2008],[false,2008],[true,2008],[false,2008],[false,2008],[false,2008],[false,2008],[false,2008],[true,2008],[false,2008],[false,2008],[false,2008],[false,2008],[false,2008],[false,2009],[true,2009],[false,2009],[false,2009],[false,2009],[false,2009],[true,2009],[true,2009],[false,2009],[false,2009],[true,2009],[false,2009],[false,2009],[false,2009],[false,2009],[false,2009],[false,2009],[false,2009],[false,2009],[false,2009],[false,2009],[false,2009],[false,2009],[false,2009],[false,2009],[false,2009],[false,2009],[false,2009],[false,2009],[false,2009],[false,2009],[false,2009],[false,2009],[false,2009],[false,2009],[false,2009],[false,2009],[false,2009],[true,2009],[false,2009],[false,2009],[false,2009],[false,2009],[false,2009],[true,2009],[false,2009],[false,2009],[false,2009],[false,2009],[false,2009],[false,2010],[true,2010],[false,2010],[false,2010],[false,2010],[false,2010],[true,2010],[true,2010],[false,2010],[false,2010],[true,2010],[false,2010],[false,2010],[false,2010],[false,2010],[false,2010],[false,2010],[false,2010],[false,2010],[false,2010],[false,2010],[false,2010],[false,2010],[false,2010],[false,2010],[false,2010],[false,2010],[false,2010],[false,2010],[false,2010],[false,2010],[false,2010],[false,2010],[false,2010],[false,2010],[false,2010],[false,2010],[false,2010],[true,2010],[false,2010],[false,2010],[false,2010],[false,2010],[false,2010],[true,2010],[false,2010],[false,2010],[false,2010],[false,2010],[false,2010],[false,2011],[true,2011],[false,2011],[false,2011],[false,2011],[false,2011],[true,2011],[true,2011],[false,2011],[false,2011],[true,2011],[false,2011],[false,2011],[false,2011],[false,2011],[false,2011],[false,2011],[false,2011],[false,2011],[false,2011],[false,2011],[false,2011],[false,2011],[false,2011],[false,2011],[false,2011],[false,2011],[false,2011],[false,2011],[false,2011],[false,2011],[false,2011],[false,2011],[false,2011],[false,2011],[false,2011],[false,2011],[false,2011],[true,2011],[false,2011],[false,2011],[false,2011],[false,2011],[false,2011],[true,2011],[false,2011],[false,2011],[false,2011],[false,2011],[false,2011],[false,2012],[true,2012],[false,2012],[false,2012],[false,2012],[false,2012],[true,2012],[true,2012],[false,2012],[false,2012],[true,2012],[false,2012],[false,2012],[false,2012],[false,2012],[false,2012],[false,2012],[false,2012],[false,2012],[false,2012],[false,2012],[false,2012],[false,2012],[false,2012],[false,2012],[false,2012],[false,2012],[false,2012],[false,2012],[false,2012],[false,2012],[false,2012],[false,2012],[false,2012],[false,2012],[false,2012],[false,2012],[false,2012],[true,2012],[false,2012],[false,2012],[false,2012],[false,2012],[false,2012],[true,2012],[false,2012],[false,2012],[false,2012],[false,2012],[false,2012],[false,2013],[true,2013],[false,2013],[false,2013],[false,2013],[false,2013],[true,2013],[true,2013],[false,2013],[false,2013],[true,2013],[false,2013],[false,2013],[false,2013],[false,2013],[false,2013],[false,2013],[false,2013],[false,2013],[false,2013],[false,2013],[false,2013],[false,2013],[false,2013],[false,2013],[false,2013],[false,2013],[false,2013],[false,2013],[false,2013],[false,2013],[false,2013],[false,2013],[false,2013],[false,2013],[false,2013],[false,2013],[false,2013],[true,2013],[false,2013],[false,2013],[false,2013],[false,2013],[false,2013],[true,2013],[false,2013],[false,2013],[false,2013],[false,2013],[false,2013],[false,2014],[true,2014],[false,2014],[false,2014],[false,2014],[false,2014],[true,2014],[true,2014],[false,2014],[false,2014],[true,2014],[false,2014],[false,2014],[false,2014],[false,2014],[false,2014],[false,2014],[false,2014],[false,2014],[false,2014],[false,2014],[false,2014],[false,2014],[false,2014],[false,2014],[false,2014],[false,2014],[false,2014],[false,2014],[false,2014],[false,2014],[false,2014],[false,2014],[false,2014],[false,2014],[false,2014],[false,2014],[false,2014],[true,2014],[false,2014],[false,2014],[false,2014],[false,2014],[false,2014],[true,2014],[false,2014],[false,2014],[false,2014],[false,2014],[false,2014],[false,2015],[true,2015],[false,2015],[false,2015],[false,2015],[false,2015],[true,2015],[true,2015],[false,2015],[false,2015],[true,2015],[false,2015],[false,2015],[false,2015],[false,2015],[false,2015],[false,2015],[false,2015],[false,2015],[false,2015],[false,2015],[false,2015],[false,2015],[false,2015],[false,2015],[false,2015],[false,2015],[false,2015],[false,2015],[false,2015],[false,2015],[false,2015],[false,2015],[false,2015],[false,2015],[false,2015],[false,2015],[true,2015],[false,2015],[false,2015],[false,2015],[false,2015],[false,2015],[true,2015],[false,2015],[false,2015],[false,2015],[false,2015],[false,2015],[false,2016],[true,2016],[false,2016],[false,2016],[false,2016],[false,2016],[true,2016],[true,2016],[false,2016],[false,2016],[true,2016],[false,2016],[false,2016],[false,2016],[false,2016],[false,2016],[false,2016],[false,2016],[false,2016],[false,2016],[false,2016],[false,2016],[false,2016],[false,2016],[false,2016],[false,2016],[false,2016],[false,2016],[false,2016],[false,2016],[false,2016],[false,2016],[false,2016],[false,2016],[false,2016],[false,2016],[false,2016],[false,2016],[true,2016],[false,2016],[false,2016],[false,2016],[false,2016],[false,2016],[true,2016],[false,2016],[false,2016],[false,2016],[false,2016],[false,2016]],\"hovertemplate\":\"variable=rape_legacy<br>jurisdiction=%{x}<br>value=%{y}<br>includes_jails=%{customdata[0]}<br>year=%{customdata[1]}<extra></extra>\",\"legendgroup\":\"rape_legacy\",\"marker\":{\"color\":\"#EF553B\",\"pattern\":{\"shape\":\"\"}},\"name\":\"rape_legacy\",\"offsetgroup\":\"rape_legacy\",\"orientation\":\"v\",\"showlegend\":true,\"textposition\":\"auto\",\"x\":[\"ALABAMA\",\"ALASKA\",\"ARIZONA\",\"ARKANSAS\",\"CALIFORNIA\",\"COLORADO\",\"CONNECTICUT\",\"DELAWARE\",\"FLORIDA\",\"GEORGIA\",\"HAWAII\",\"IDAHO\",\"ILLINOIS\",\"INDIANA\",\"IOWA\",\"KANSAS\",\"KENTUCKY\",\"LOUISIANA\",\"MAINE\",\"MARYLAND\",\"MASSACHUSETTS\",\"MICHIGAN\",\"MINNESOTA\",\"MISSISSIPPI\",\"MISSOURI\",\"MONTANA\",\"NEBRASKA\",\"NEVADA\",\"NEW HAMPSHIRE\",\"NEW JERSEY\",\"NEW MEXICO\",\"NEW YORK\",\"NORTH CAROLINA\",\"NORTH DAKOTA\",\"OHIO\",\"OKLAHOMA\",\"OREGON\",\"PENNSYLVANIA\",\"RHODE ISLAND\",\"SOUTH CAROLINA\",\"SOUTH DAKOTA\",\"TENNESSEE\",\"TEXAS\",\"UTAH\",\"VERMONT\",\"VIRGINIA\",\"WASHINGTON\",\"WEST VIRGINIA\",\"WISCONSIN\",\"WYOMING\",\"ALABAMA\",\"ALASKA\",\"ARIZONA\",\"ARKANSAS\",\"CALIFORNIA\",\"COLORADO\",\"CONNECTICUT\",\"DELAWARE\",\"FLORIDA\",\"GEORGIA\",\"HAWAII\",\"IDAHO\",\"ILLINOIS\",\"INDIANA\",\"IOWA\",\"KANSAS\",\"KENTUCKY\",\"LOUISIANA\",\"MAINE\",\"MARYLAND\",\"MASSACHUSETTS\",\"MICHIGAN\",\"MINNESOTA\",\"MISSISSIPPI\",\"MISSOURI\",\"MONTANA\",\"NEBRASKA\",\"NEVADA\",\"NEW HAMPSHIRE\",\"NEW JERSEY\",\"NEW MEXICO\",\"NEW YORK\",\"NORTH CAROLINA\",\"NORTH DAKOTA\",\"OHIO\",\"OKLAHOMA\",\"OREGON\",\"PENNSYLVANIA\",\"RHODE ISLAND\",\"SOUTH CAROLINA\",\"SOUTH DAKOTA\",\"TENNESSEE\",\"TEXAS\",\"UTAH\",\"VERMONT\",\"VIRGINIA\",\"WASHINGTON\",\"WEST VIRGINIA\",\"WISCONSIN\",\"WYOMING\",\"ALABAMA\",\"ALASKA\",\"ARIZONA\",\"ARKANSAS\",\"CALIFORNIA\",\"COLORADO\",\"CONNECTICUT\",\"DELAWARE\",\"FLORIDA\",\"GEORGIA\",\"HAWAII\",\"IDAHO\",\"ILLINOIS\",\"INDIANA\",\"IOWA\",\"KANSAS\",\"KENTUCKY\",\"LOUISIANA\",\"MAINE\",\"MARYLAND\",\"MASSACHUSETTS\",\"MICHIGAN\",\"MINNESOTA\",\"MISSISSIPPI\",\"MISSOURI\",\"MONTANA\",\"NEBRASKA\",\"NEVADA\",\"NEW HAMPSHIRE\",\"NEW JERSEY\",\"NEW MEXICO\",\"NEW YORK\",\"NORTH CAROLINA\",\"NORTH DAKOTA\",\"OHIO\",\"OKLAHOMA\",\"OREGON\",\"PENNSYLVANIA\",\"RHODE ISLAND\",\"SOUTH CAROLINA\",\"SOUTH DAKOTA\",\"TENNESSEE\",\"TEXAS\",\"UTAH\",\"VERMONT\",\"VIRGINIA\",\"WASHINGTON\",\"WEST VIRGINIA\",\"WISCONSIN\",\"WYOMING\",\"ALABAMA\",\"ALASKA\",\"ARIZONA\",\"ARKANSAS\",\"CALIFORNIA\",\"COLORADO\",\"CONNECTICUT\",\"DELAWARE\",\"FLORIDA\",\"GEORGIA\",\"HAWAII\",\"IDAHO\",\"ILLINOIS\",\"INDIANA\",\"IOWA\",\"KANSAS\",\"KENTUCKY\",\"LOUISIANA\",\"MAINE\",\"MARYLAND\",\"MASSACHUSETTS\",\"MICHIGAN\",\"MINNESOTA\",\"MISSISSIPPI\",\"MISSOURI\",\"MONTANA\",\"NEBRASKA\",\"NEVADA\",\"NEW HAMPSHIRE\",\"NEW JERSEY\",\"NEW MEXICO\",\"NEW YORK\",\"NORTH CAROLINA\",\"NORTH DAKOTA\",\"OHIO\",\"OKLAHOMA\",\"OREGON\",\"PENNSYLVANIA\",\"RHODE ISLAND\",\"SOUTH CAROLINA\",\"SOUTH DAKOTA\",\"TENNESSEE\",\"TEXAS\",\"UTAH\",\"VERMONT\",\"VIRGINIA\",\"WASHINGTON\",\"WEST VIRGINIA\",\"WISCONSIN\",\"WYOMING\",\"ALABAMA\",\"ALASKA\",\"ARIZONA\",\"ARKANSAS\",\"CALIFORNIA\",\"COLORADO\",\"CONNECTICUT\",\"DELAWARE\",\"FLORIDA\",\"GEORGIA\",\"HAWAII\",\"IDAHO\",\"ILLINOIS\",\"INDIANA\",\"IOWA\",\"KANSAS\",\"KENTUCKY\",\"LOUISIANA\",\"MAINE\",\"MARYLAND\",\"MASSACHUSETTS\",\"MICHIGAN\",\"MINNESOTA\",\"MISSISSIPPI\",\"MISSOURI\",\"MONTANA\",\"NEBRASKA\",\"NEVADA\",\"NEW HAMPSHIRE\",\"NEW JERSEY\",\"NEW MEXICO\",\"NEW YORK\",\"NORTH CAROLINA\",\"NORTH DAKOTA\",\"OHIO\",\"OKLAHOMA\",\"OREGON\",\"PENNSYLVANIA\",\"RHODE ISLAND\",\"SOUTH CAROLINA\",\"SOUTH DAKOTA\",\"TENNESSEE\",\"TEXAS\",\"UTAH\",\"VERMONT\",\"VIRGINIA\",\"WASHINGTON\",\"WEST VIRGINIA\",\"WISCONSIN\",\"WYOMING\",\"ALABAMA\",\"ALASKA\",\"ARIZONA\",\"ARKANSAS\",\"CALIFORNIA\",\"COLORADO\",\"CONNECTICUT\",\"DELAWARE\",\"FLORIDA\",\"GEORGIA\",\"HAWAII\",\"IDAHO\",\"ILLINOIS\",\"INDIANA\",\"IOWA\",\"KANSAS\",\"KENTUCKY\",\"LOUISIANA\",\"MAINE\",\"MARYLAND\",\"MASSACHUSETTS\",\"MICHIGAN\",\"MINNESOTA\",\"MISSISSIPPI\",\"MISSOURI\",\"MONTANA\",\"NEBRASKA\",\"NEVADA\",\"NEW HAMPSHIRE\",\"NEW JERSEY\",\"NEW MEXICO\",\"NEW YORK\",\"NORTH CAROLINA\",\"NORTH DAKOTA\",\"OHIO\",\"OKLAHOMA\",\"OREGON\",\"PENNSYLVANIA\",\"RHODE ISLAND\",\"SOUTH CAROLINA\",\"SOUTH DAKOTA\",\"TENNESSEE\",\"TEXAS\",\"UTAH\",\"VERMONT\",\"VIRGINIA\",\"WASHINGTON\",\"WEST VIRGINIA\",\"WISCONSIN\",\"WYOMING\",\"ALABAMA\",\"ALASKA\",\"ARIZONA\",\"ARKANSAS\",\"CALIFORNIA\",\"COLORADO\",\"CONNECTICUT\",\"DELAWARE\",\"FLORIDA\",\"GEORGIA\",\"HAWAII\",\"IDAHO\",\"ILLINOIS\",\"INDIANA\",\"IOWA\",\"KANSAS\",\"KENTUCKY\",\"LOUISIANA\",\"MAINE\",\"MARYLAND\",\"MASSACHUSETTS\",\"MICHIGAN\",\"MINNESOTA\",\"MISSISSIPPI\",\"MISSOURI\",\"MONTANA\",\"NEBRASKA\",\"NEVADA\",\"NEW HAMPSHIRE\",\"NEW JERSEY\",\"NEW MEXICO\",\"NEW YORK\",\"NORTH CAROLINA\",\"NORTH DAKOTA\",\"OHIO\",\"OKLAHOMA\",\"OREGON\",\"PENNSYLVANIA\",\"RHODE ISLAND\",\"SOUTH CAROLINA\",\"SOUTH DAKOTA\",\"TENNESSEE\",\"TEXAS\",\"UTAH\",\"VERMONT\",\"VIRGINIA\",\"WASHINGTON\",\"WEST VIRGINIA\",\"WISCONSIN\",\"WYOMING\",\"ALABAMA\",\"ALASKA\",\"ARIZONA\",\"ARKANSAS\",\"CALIFORNIA\",\"COLORADO\",\"CONNECTICUT\",\"DELAWARE\",\"FLORIDA\",\"GEORGIA\",\"HAWAII\",\"IDAHO\",\"ILLINOIS\",\"INDIANA\",\"IOWA\",\"KANSAS\",\"KENTUCKY\",\"LOUISIANA\",\"MAINE\",\"MARYLAND\",\"MASSACHUSETTS\",\"MICHIGAN\",\"MINNESOTA\",\"MISSISSIPPI\",\"MISSOURI\",\"MONTANA\",\"NEBRASKA\",\"NEVADA\",\"NEW HAMPSHIRE\",\"NEW JERSEY\",\"NEW MEXICO\",\"NEW YORK\",\"NORTH CAROLINA\",\"NORTH DAKOTA\",\"OHIO\",\"OKLAHOMA\",\"OREGON\",\"PENNSYLVANIA\",\"RHODE ISLAND\",\"SOUTH CAROLINA\",\"SOUTH DAKOTA\",\"TENNESSEE\",\"TEXAS\",\"UTAH\",\"VERMONT\",\"VIRGINIA\",\"WASHINGTON\",\"WEST VIRGINIA\",\"WISCONSIN\",\"WYOMING\",\"ALABAMA\",\"ALASKA\",\"ARIZONA\",\"ARKANSAS\",\"CALIFORNIA\",\"COLORADO\",\"CONNECTICUT\",\"DELAWARE\",\"FLORIDA\",\"GEORGIA\",\"HAWAII\",\"IDAHO\",\"ILLINOIS\",\"INDIANA\",\"IOWA\",\"KANSAS\",\"KENTUCKY\",\"LOUISIANA\",\"MAINE\",\"MARYLAND\",\"MASSACHUSETTS\",\"MICHIGAN\",\"MINNESOTA\",\"MISSISSIPPI\",\"MISSOURI\",\"MONTANA\",\"NEBRASKA\",\"NEVADA\",\"NEW HAMPSHIRE\",\"NEW JERSEY\",\"NEW MEXICO\",\"NEW YORK\",\"NORTH CAROLINA\",\"NORTH DAKOTA\",\"OHIO\",\"OKLAHOMA\",\"OREGON\",\"PENNSYLVANIA\",\"RHODE ISLAND\",\"SOUTH CAROLINA\",\"SOUTH DAKOTA\",\"TENNESSEE\",\"TEXAS\",\"UTAH\",\"VERMONT\",\"VIRGINIA\",\"WASHINGTON\",\"WEST VIRGINIA\",\"WISCONSIN\",\"WYOMING\",\"ALABAMA\",\"ALASKA\",\"ARIZONA\",\"ARKANSAS\",\"CALIFORNIA\",\"COLORADO\",\"CONNECTICUT\",\"DELAWARE\",\"FLORIDA\",\"GEORGIA\",\"HAWAII\",\"IDAHO\",\"ILLINOIS\",\"INDIANA\",\"IOWA\",\"KANSAS\",\"KENTUCKY\",\"LOUISIANA\",\"MAINE\",\"MARYLAND\",\"MASSACHUSETTS\",\"MICHIGAN\",\"MINNESOTA\",\"MISSISSIPPI\",\"MISSOURI\",\"MONTANA\",\"NEBRASKA\",\"NEVADA\",\"NEW HAMPSHIRE\",\"NEW JERSEY\",\"NEW MEXICO\",\"NEW YORK\",\"NORTH CAROLINA\",\"NORTH DAKOTA\",\"OHIO\",\"OKLAHOMA\",\"OREGON\",\"PENNSYLVANIA\",\"RHODE ISLAND\",\"SOUTH CAROLINA\",\"SOUTH DAKOTA\",\"TENNESSEE\",\"TEXAS\",\"UTAH\",\"VERMONT\",\"VIRGINIA\",\"WASHINGTON\",\"WEST VIRGINIA\",\"WISCONSIN\",\"WYOMING\",\"ALABAMA\",\"ALASKA\",\"ARIZONA\",\"ARKANSAS\",\"CALIFORNIA\",\"COLORADO\",\"CONNECTICUT\",\"DELAWARE\",\"FLORIDA\",\"GEORGIA\",\"HAWAII\",\"IDAHO\",\"ILLINOIS\",\"INDIANA\",\"IOWA\",\"KANSAS\",\"KENTUCKY\",\"LOUISIANA\",\"MAINE\",\"MARYLAND\",\"MASSACHUSETTS\",\"MICHIGAN\",\"MINNESOTA\",\"MISSISSIPPI\",\"MISSOURI\",\"MONTANA\",\"NEBRASKA\",\"NEVADA\",\"NEW HAMPSHIRE\",\"NEW JERSEY\",\"NEW MEXICO\",\"NEW YORK\",\"NORTH CAROLINA\",\"NORTH DAKOTA\",\"OHIO\",\"OKLAHOMA\",\"OREGON\",\"PENNSYLVANIA\",\"RHODE ISLAND\",\"SOUTH CAROLINA\",\"SOUTH DAKOTA\",\"TENNESSEE\",\"TEXAS\",\"UTAH\",\"VERMONT\",\"VIRGINIA\",\"WASHINGTON\",\"WEST VIRGINIA\",\"WISCONSIN\",\"WYOMING\",\"ALABAMA\",\"ALASKA\",\"ARIZONA\",\"ARKANSAS\",\"CALIFORNIA\",\"COLORADO\",\"CONNECTICUT\",\"DELAWARE\",\"FLORIDA\",\"GEORGIA\",\"HAWAII\",\"IDAHO\",\"ILLINOIS\",\"INDIANA\",\"IOWA\",\"KANSAS\",\"KENTUCKY\",\"LOUISIANA\",\"MAINE\",\"MARYLAND\",\"MASSACHUSETTS\",\"MICHIGAN\",\"MINNESOTA\",\"MISSISSIPPI\",\"MISSOURI\",\"MONTANA\",\"NEBRASKA\",\"NEVADA\",\"NEW HAMPSHIRE\",\"NEW JERSEY\",\"NEW MEXICO\",\"NEW YORK\",\"NORTH CAROLINA\",\"NORTH DAKOTA\",\"OHIO\",\"OKLAHOMA\",\"OREGON\",\"PENNSYLVANIA\",\"RHODE ISLAND\",\"SOUTH CAROLINA\",\"SOUTH DAKOTA\",\"TENNESSEE\",\"TEXAS\",\"UTAH\",\"VERMONT\",\"VIRGINIA\",\"WASHINGTON\",\"WEST VIRGINIA\",\"WISCONSIN\",\"WYOMING\",\"ALABAMA\",\"ALASKA\",\"ARIZONA\",\"ARKANSAS\",\"CALIFORNIA\",\"COLORADO\",\"CONNECTICUT\",\"DELAWARE\",\"FLORIDA\",\"GEORGIA\",\"HAWAII\",\"IDAHO\",\"ILLINOIS\",\"INDIANA\",\"IOWA\",\"KANSAS\",\"KENTUCKY\",\"LOUISIANA\",\"MAINE\",\"MARYLAND\",\"MASSACHUSETTS\",\"MICHIGAN\",\"MINNESOTA\",\"MISSISSIPPI\",\"MISSOURI\",\"MONTANA\",\"NEBRASKA\",\"NEVADA\",\"NEW HAMPSHIRE\",\"NEW JERSEY\",\"NEW MEXICO\",\"NEW YORK\",\"NORTH CAROLINA\",\"NORTH DAKOTA\",\"OHIO\",\"OKLAHOMA\",\"OREGON\",\"PENNSYLVANIA\",\"RHODE ISLAND\",\"SOUTH CAROLINA\",\"SOUTH DAKOTA\",\"TENNESSEE\",\"TEXAS\",\"UTAH\",\"VERMONT\",\"VIRGINIA\",\"WASHINGTON\",\"WEST VIRGINIA\",\"WISCONSIN\",\"WYOMING\",\"ALABAMA\",\"ALASKA\",\"ARIZONA\",\"ARKANSAS\",\"CALIFORNIA\",\"COLORADO\",\"CONNECTICUT\",\"DELAWARE\",\"FLORIDA\",\"GEORGIA\",\"HAWAII\",\"IDAHO\",\"ILLINOIS\",\"INDIANA\",\"IOWA\",\"KANSAS\",\"KENTUCKY\",\"LOUISIANA\",\"MAINE\",\"MARYLAND\",\"MASSACHUSETTS\",\"MICHIGAN\",\"MINNESOTA\",\"MISSISSIPPI\",\"MISSOURI\",\"MONTANA\",\"NEBRASKA\",\"NEVADA\",\"NEW HAMPSHIRE\",\"NEW JERSEY\",\"NEW MEXICO\",\"NEW YORK\",\"NORTH CAROLINA\",\"NORTH DAKOTA\",\"OHIO\",\"OKLAHOMA\",\"OREGON\",\"PENNSYLVANIA\",\"RHODE ISLAND\",\"SOUTH CAROLINA\",\"SOUTH DAKOTA\",\"TENNESSEE\",\"TEXAS\",\"UTAH\",\"VERMONT\",\"VIRGINIA\",\"WASHINGTON\",\"WEST VIRGINIA\",\"WISCONSIN\",\"WYOMING\",\"ALABAMA\",\"ALASKA\",\"ARIZONA\",\"ARKANSAS\",\"CALIFORNIA\",\"COLORADO\",\"CONNECTICUT\",\"DELAWARE\",\"FLORIDA\",\"GEORGIA\",\"HAWAII\",\"IDAHO\",\"ILLINOIS\",\"INDIANA\",\"IOWA\",\"KANSAS\",\"KENTUCKY\",\"LOUISIANA\",\"MAINE\",\"MARYLAND\",\"MASSACHUSETTS\",\"MICHIGAN\",\"MINNESOTA\",\"MISSISSIPPI\",\"MISSOURI\",\"MONTANA\",\"NEBRASKA\",\"NEVADA\",\"NEW HAMPSHIRE\",\"NEW JERSEY\",\"NEW MEXICO\",\"NORTH CAROLINA\",\"NORTH DAKOTA\",\"OHIO\",\"OKLAHOMA\",\"OREGON\",\"PENNSYLVANIA\",\"RHODE ISLAND\",\"SOUTH CAROLINA\",\"SOUTH DAKOTA\",\"TENNESSEE\",\"TEXAS\",\"UTAH\",\"VERMONT\",\"VIRGINIA\",\"WASHINGTON\",\"WEST VIRGINIA\",\"WISCONSIN\",\"WYOMING\",\"ALABAMA\",\"ALASKA\",\"ARIZONA\",\"ARKANSAS\",\"CALIFORNIA\",\"COLORADO\",\"CONNECTICUT\",\"DELAWARE\",\"FLORIDA\",\"GEORGIA\",\"HAWAII\",\"IDAHO\",\"ILLINOIS\",\"INDIANA\",\"IOWA\",\"KANSAS\",\"KENTUCKY\",\"LOUISIANA\",\"MAINE\",\"MARYLAND\",\"MASSACHUSETTS\",\"MICHIGAN\",\"MINNESOTA\",\"MISSISSIPPI\",\"MISSOURI\",\"MONTANA\",\"NEBRASKA\",\"NEVADA\",\"NEW HAMPSHIRE\",\"NEW JERSEY\",\"NEW MEXICO\",\"NEW YORK\",\"NORTH CAROLINA\",\"NORTH DAKOTA\",\"OHIO\",\"OKLAHOMA\",\"OREGON\",\"PENNSYLVANIA\",\"RHODE ISLAND\",\"SOUTH CAROLINA\",\"SOUTH DAKOTA\",\"TENNESSEE\",\"TEXAS\",\"UTAH\",\"VERMONT\",\"VIRGINIA\",\"WASHINGTON\",\"WEST VIRGINIA\",\"WISCONSIN\",\"WYOMING\"],\"xaxis\":\"x\",\"y\":[1369.0,501.0,1518.0,892.0,9960.0,1930.0,639.0,420.0,6641.0,2180.0,409.0,425.0,4010.0,1716.0,649.0,945.0,1051.0,1403.0,326.0,1449.0,1856.0,5264.0,2236.0,1147.0,1383.0,188.0,431.0,883.0,458.0,1278.0,850.0,3546.0,2083.0,164.0,4466.0,1486.0,1174.0,3467.0,416.0,1769.0,351.0,2196.0,8169.0,896.0,107.0,1770.0,2600.0,320.0,1142.0,153.0,1664.0,511.0,1608.0,754.0,10198.0,2066.0,740.0,358.0,6753.0,2108.0,372.0,497.0,4370.0,1843.0,797.0,1035.0,1087.0,1529.0,377.0,1370.0,1777.0,5364.0,2273.0,1127.0,1465.0,237.0,464.0,928.0,446.0,1365.0,1027.0,3885.0,2196.0,163.0,4809.0,1573.0,1238.0,3731.0,395.0,1959.0,361.0,2290.0,8508.0,943.0,126.0,1839.0,2734.0,328.0,1237.0,148.0,1656.0,605.0,1856.0,911.0,9994.0,1913.0,698.0,370.0,6727.0,2234.0,367.0,535.0,4189.0,1720.0,796.0,1085.0,1124.0,1601.0,354.0,1358.0,1848.0,5470.0,2092.0,1079.0,1400.0,246.0,504.0,871.0,438.0,1288.0,940.0,3775.0,2139.0,160.0,4660.0,1501.0,1218.0,3556.0,505.0,1952.0,356.0,2129.0,8025.0,919.0,126.0,1807.0,2863.0,311.0,1202.0,136.0,1742.0,558.0,1896.0,1183.0,9615.0,1945.0,755.0,357.0,6612.0,2387.0,333.0,594.0,4220.0,1803.0,782.0,1142.0,1238.0,1616.0,315.0,1317.0,1794.0,5482.0,2123.0,1161.0,1479.0,273.0,620.0,954.0,466.0,1331.0,1039.0,3608.0,2339.0,177.0,4744.0,1557.0,1283.0,3535.0,320.0,1772.0,336.0,2282.0,8388.0,967.0,160.0,1816.0,2857.0,346.0,1136.0,112.0,1564.0,538.0,2006.0,1202.0,9392.0,2026.0,712.0,377.0,6592.0,2143.0,343.0,577.0,4313.0,1856.0,847.0,1098.0,1421.0,1421.0,326.0,1266.0,1751.0,5199.0,2258.0,1147.0,1625.0,301.0,581.0,1016.0,406.0,1208.0,1041.0,3636.0,2302.0,180.0,4671.0,1481.0,1266.0,3586.0,323.0,1862.0,377.0,2194.0,8511.0,920.0,153.0,1763.0,2811.0,335.0,1135.0,122.0,1646.0,512.0,2449.0,1325.0,9235.0,2158.0,696.0,417.0,6475.0,2169.0,353.0,611.0,4078.0,1811.0,871.0,1279.0,1312.0,1587.0,341.0,1178.0,1771.0,5347.0,1645.0,1039.0,1764.0,348.0,577.0,1092.0,295.0,1201.0,1073.0,3168.0,2495.0,241.0,4770.0,1488.0,1219.0,3611.0,289.0,1834.0,465.0,2194.0,8429.0,891.0,173.0,1829.0,2748.0,404.0,1233.0,151.0,1548.0,545.0,2353.0,1294.0,9046.0,2075.0,690.0,341.0,6149.0,2198.0,377.0,607.0,4103.0,1738.0,970.0,1287.0,1365.0,1427.0,392.0,1179.0,1643.0,4592.0,1873.0,1033.0,1785.0,363.0,550.0,1096.0,357.0,1032.0,1028.0,2928.0,2386.0,252.0,4661.0,1565.0,1276.0,3443.0,258.0,1773.0,433.0,2201.0,8460.0,935.0,128.0,1793.0,2653.0,388.0,1227.0,172.0,1618.0,447.0,2200.0,1463.0,8903.0,2151.0,680.0,371.0,5972.0,2334.0,363.0,579.0,4118.0,1711.0,937.0,1226.0,1457.0,1250.0,379.0,1127.0,1751.0,4507.0,1805.0,958.0,1612.0,358.0,601.0,1106.0,385.0,1122.0,1118.0,2798.0,2296.0,331.0,4531.0,1471.0,1183.0,3485.0,282.0,1686.0,562.0,2078.0,8055.0,915.0,133.0,1794.0,2653.0,389.0,1128.0,185.0,1504.0,513.0,2279.0,1378.0,8713.0,2269.0,657.0,395.0,5501.0,2323.0,385.0,575.0,3901.0,1621.0,890.0,1179.0,1531.0,1351.0,375.0,1156.0,1734.0,4524.0,1789.0,991.0,1606.0,357.0,617.0,1024.0,399.0,1041.0,1069.0,2582.0,2306.0,296.0,4119.0,1535.0,1202.0,3626.0,296.0,1663.0,501.0,2019.0,8311.0,941.0,132.0,1572.0,2583.0,470.0,1118.0,172.0,1355.0,533.0,2191.0,1321.0,8331.0,2230.0,595.0,326.0,5373.0,2107.0,377.0,533.0,3066.0,1760.0,883.0,1146.0,1438.0,1230.0,389.0,1228.0,1784.0,4733.0,1798.0,931.0,1445.0,332.0,674.0,965.0,411.0,981.0,959.0,2797.0,2002.0,245.0,3730.0,1469.0,1239.0,3472.0,298.0,1551.0,385.0,2173.0,7622.0,983.0,141.0,1580.0,2579.0,362.0,1191.0,162.0,1370.0,436.0,2499.0,1230.0,7665.0,2285.0,689.0,307.0,5273.0,2066.0,353.0,444.0,3030.0,1758.0,866.0,1122.0,1499.0,1262.0,394.0,1200.0,1654.0,4344.0,2113.0,863.0,1469.0,366.0,699.0,913.0,581.0,1006.0,856.0,2751.0,1959.0,266.0,3679.0,1410.0,1239.0,3339.0,319.0,1678.0,503.0,2095.0,7486.0,901.0,146.0,1591.0,2320.0,372.0,1190.0,146.0,1296.0,583.0,2282.0,1233.0,7837.0,2122.0,933.0,249.0,5260.0,2143.0,279.0,495.0,3581.0,1661.0,901.0,1105.0,1312.0,1155.0,372.0,1237.0,1650.0,4635.0,1638.0,819.0,1527.0,392.0,710.0,931.0,486.0,1035.0,957.0,2837.0,1984.0,279.0,3813.0,1622.0,1159.0,3371.0,292.0,1712.0,600.0,2047.0,7715.0,975.0,131.0,1505.0,2250.0,415.0,1228.0,154.0,1449.0,657.0,2344.0,1135.0,7464.0,2198.0,647.0,278.0,4765.0,2022.0,366.0,516.0,3895.0,1623.0,873.0,1003.0,951.0,1248.0,366.0,1179.0,1722.0,4506.0,1453.0,726.0,1679.0,382.0,621.0,1090.0,522.0,861.0,1135.0,2575.0,1790.0,288.0,3594.0,1715.0,1000.0,2728.0,333.0,1739.0,454.0,1904.0,7610.0,926.0,113.0,1476.0,2072.0,367.0,1308.0,144.0,1436.0,555.0,2464.0,1182.0,8398.0,2121.0,571.0,249.0,6051.0,2159.0,314.0,468.0,3081.0,1615.0,828.0,1075.0,883.0,992.0,360.0,1144.0,1629.0,4049.0,1452.0,764.0,1706.0,430.0,620.0,995.0,458.0,953.0,1071.0,3918.0,1740.0,276.0,4097.0,1277.0,1052.0,2787.0,253.0,1480.0,413.0,1861.0,8236.0,945.0,99.0,1432.0,2171.0,285.0,1168.0,126.0,1456.0,650.0,2294.0,1300.0,9387.0,2377.0,582.0,243.0,5430.0,2296.0,400.0,533.0,3549.0,1789.0,851.0,1251.0,997.0,1260.0,354.0,1184.0,1608.0,4163.0,1686.0,862.0,1854.0,431.0,652.0,1238.0,461.0,1019.0,1215.0,1939.0,276.0,4154.0,1352.0,1164.0,3122.0,338.0,1707.0,441.0,1966.0,8925.0,1098.0,121.0,1493.0,2193.0,420.0,1224.0,125.0,1788.3391188251,1788.3391188251,1788.3391188251,1788.3391188251,1788.3391188251,1788.3391188251,1788.3391188251,1788.3391188251,1788.3391188251,1788.3391188251,1788.3391188251,1788.3391188251,1788.3391188251,1788.3391188251,1788.3391188251,1788.3391188251,1788.3391188251,1788.3391188251,1788.3391188251,1788.3391188251,1788.3391188251,1788.3391188251,1788.3391188251,1788.3391188251,1788.3391188251,1788.3391188251,1788.3391188251,1788.3391188251,1788.3391188251,1788.3391188251,1788.3391188251,1788.3391188251,1788.3391188251,1788.3391188251,1788.3391188251,1788.3391188251,1788.3391188251,1788.3391188251,1788.3391188251,1788.3391188251,1788.3391188251,1788.3391188251,1788.3391188251,1788.3391188251,1788.3391188251,1788.3391188251,1788.3391188251,1788.3391188251,1788.3391188251,1788.3391188251],\"yaxis\":\"y\",\"type\":\"bar\"},{\"alignmentgroup\":\"True\",\"customdata\":[[false,2001],[true,2001],[false,2001],[false,2001],[false,2001],[false,2001],[true,2001],[true,2001],[false,2001],[false,2001],[true,2001],[false,2001],[false,2001],[false,2001],[false,2001],[false,2001],[false,2001],[false,2001],[false,2001],[false,2001],[false,2001],[false,2001],[false,2001],[false,2001],[false,2001],[false,2001],[false,2001],[false,2001],[false,2001],[false,2001],[false,2001],[false,2001],[false,2001],[false,2001],[false,2001],[false,2001],[false,2001],[false,2001],[true,2001],[false,2001],[false,2001],[false,2001],[false,2001],[false,2001],[true,2001],[false,2001],[false,2001],[false,2001],[false,2001],[false,2001],[false,2002],[true,2002],[false,2002],[false,2002],[false,2002],[false,2002],[true,2002],[true,2002],[false,2002],[false,2002],[true,2002],[false,2002],[false,2002],[false,2002],[false,2002],[false,2002],[false,2002],[false,2002],[false,2002],[false,2002],[false,2002],[false,2002],[false,2002],[false,2002],[false,2002],[false,2002],[false,2002],[false,2002],[false,2002],[false,2002],[false,2002],[false,2002],[false,2002],[false,2002],[false,2002],[false,2002],[false,2002],[false,2002],[true,2002],[false,2002],[false,2002],[false,2002],[false,2002],[false,2002],[true,2002],[false,2002],[false,2002],[false,2002],[false,2002],[false,2002],[false,2003],[true,2003],[false,2003],[false,2003],[false,2003],[false,2003],[true,2003],[true,2003],[false,2003],[false,2003],[true,2003],[false,2003],[false,2003],[false,2003],[false,2003],[false,2003],[false,2003],[false,2003],[false,2003],[false,2003],[false,2003],[false,2003],[false,2003],[false,2003],[false,2003],[false,2003],[false,2003],[false,2003],[false,2003],[false,2003],[false,2003],[false,2003],[false,2003],[false,2003],[false,2003],[false,2003],[false,2003],[false,2003],[true,2003],[false,2003],[false,2003],[false,2003],[false,2003],[false,2003],[true,2003],[false,2003],[false,2003],[false,2003],[false,2003],[false,2003],[false,2004],[true,2004],[false,2004],[false,2004],[false,2004],[false,2004],[true,2004],[true,2004],[false,2004],[false,2004],[true,2004],[false,2004],[false,2004],[false,2004],[false,2004],[false,2004],[false,2004],[false,2004],[false,2004],[false,2004],[false,2004],[false,2004],[false,2004],[false,2004],[false,2004],[false,2004],[false,2004],[false,2004],[false,2004],[false,2004],[false,2004],[false,2004],[false,2004],[false,2004],[false,2004],[false,2004],[false,2004],[false,2004],[true,2004],[false,2004],[false,2004],[false,2004],[false,2004],[false,2004],[true,2004],[false,2004],[false,2004],[false,2004],[false,2004],[false,2004],[false,2005],[true,2005],[false,2005],[false,2005],[false,2005],[false,2005],[true,2005],[true,2005],[false,2005],[false,2005],[true,2005],[false,2005],[false,2005],[false,2005],[false,2005],[false,2005],[false,2005],[false,2005],[false,2005],[false,2005],[false,2005],[false,2005],[false,2005],[false,2005],[false,2005],[false,2005],[false,2005],[false,2005],[false,2005],[false,2005],[false,2005],[false,2005],[false,2005],[false,2005],[false,2005],[false,2005],[false,2005],[false,2005],[true,2005],[false,2005],[false,2005],[false,2005],[false,2005],[false,2005],[true,2005],[false,2005],[false,2005],[false,2005],[false,2005],[false,2005],[false,2006],[true,2006],[false,2006],[false,2006],[false,2006],[false,2006],[true,2006],[true,2006],[false,2006],[false,2006],[true,2006],[false,2006],[false,2006],[false,2006],[false,2006],[false,2006],[false,2006],[false,2006],[false,2006],[false,2006],[false,2006],[false,2006],[false,2006],[false,2006],[false,2006],[false,2006],[false,2006],[false,2006],[false,2006],[false,2006],[false,2006],[false,2006],[false,2006],[false,2006],[false,2006],[false,2006],[false,2006],[false,2006],[true,2006],[false,2006],[false,2006],[false,2006],[false,2006],[false,2006],[true,2006],[false,2006],[false,2006],[false,2006],[false,2006],[false,2006],[false,2007],[true,2007],[false,2007],[false,2007],[false,2007],[false,2007],[true,2007],[true,2007],[false,2007],[false,2007],[true,2007],[false,2007],[false,2007],[false,2007],[false,2007],[false,2007],[false,2007],[false,2007],[false,2007],[false,2007],[false,2007],[false,2007],[false,2007],[false,2007],[false,2007],[false,2007],[false,2007],[false,2007],[false,2007],[false,2007],[false,2007],[false,2007],[false,2007],[false,2007],[false,2007],[false,2007],[false,2007],[false,2007],[true,2007],[false,2007],[false,2007],[false,2007],[false,2007],[false,2007],[true,2007],[false,2007],[false,2007],[false,2007],[false,2007],[false,2007],[false,2008],[true,2008],[false,2008],[false,2008],[false,2008],[false,2008],[true,2008],[true,2008],[false,2008],[false,2008],[true,2008],[false,2008],[false,2008],[false,2008],[false,2008],[false,2008],[false,2008],[false,2008],[false,2008],[false,2008],[false,2008],[false,2008],[false,2008],[false,2008],[false,2008],[false,2008],[false,2008],[false,2008],[false,2008],[false,2008],[false,2008],[false,2008],[false,2008],[false,2008],[false,2008],[false,2008],[false,2008],[false,2008],[true,2008],[false,2008],[false,2008],[false,2008],[false,2008],[false,2008],[true,2008],[false,2008],[false,2008],[false,2008],[false,2008],[false,2008],[false,2009],[true,2009],[false,2009],[false,2009],[false,2009],[false,2009],[true,2009],[true,2009],[false,2009],[false,2009],[true,2009],[false,2009],[false,2009],[false,2009],[false,2009],[false,2009],[false,2009],[false,2009],[false,2009],[false,2009],[false,2009],[false,2009],[false,2009],[false,2009],[false,2009],[false,2009],[false,2009],[false,2009],[false,2009],[false,2009],[false,2009],[false,2009],[false,2009],[false,2009],[false,2009],[false,2009],[false,2009],[false,2009],[true,2009],[false,2009],[false,2009],[false,2009],[false,2009],[false,2009],[true,2009],[false,2009],[false,2009],[false,2009],[false,2009],[false,2009],[false,2010],[true,2010],[false,2010],[false,2010],[false,2010],[false,2010],[true,2010],[true,2010],[false,2010],[false,2010],[true,2010],[false,2010],[false,2010],[false,2010],[false,2010],[false,2010],[false,2010],[false,2010],[false,2010],[false,2010],[false,2010],[false,2010],[false,2010],[false,2010],[false,2010],[false,2010],[false,2010],[false,2010],[false,2010],[false,2010],[false,2010],[false,2010],[false,2010],[false,2010],[false,2010],[false,2010],[false,2010],[false,2010],[true,2010],[false,2010],[false,2010],[false,2010],[false,2010],[false,2010],[true,2010],[false,2010],[false,2010],[false,2010],[false,2010],[false,2010],[false,2011],[true,2011],[false,2011],[false,2011],[false,2011],[false,2011],[true,2011],[true,2011],[false,2011],[false,2011],[true,2011],[false,2011],[false,2011],[false,2011],[false,2011],[false,2011],[false,2011],[false,2011],[false,2011],[false,2011],[false,2011],[false,2011],[false,2011],[false,2011],[false,2011],[false,2011],[false,2011],[false,2011],[false,2011],[false,2011],[false,2011],[false,2011],[false,2011],[false,2011],[false,2011],[false,2011],[false,2011],[false,2011],[true,2011],[false,2011],[false,2011],[false,2011],[false,2011],[false,2011],[true,2011],[false,2011],[false,2011],[false,2011],[false,2011],[false,2011],[false,2012],[true,2012],[false,2012],[false,2012],[false,2012],[false,2012],[true,2012],[true,2012],[false,2012],[false,2012],[true,2012],[false,2012],[false,2012],[false,2012],[false,2012],[false,2012],[false,2012],[false,2012],[false,2012],[false,2012],[false,2012],[false,2012],[false,2012],[false,2012],[false,2012],[false,2012],[false,2012],[false,2012],[false,2012],[false,2012],[false,2012],[false,2012],[false,2012],[false,2012],[false,2012],[false,2012],[false,2012],[false,2012],[true,2012],[false,2012],[false,2012],[false,2012],[false,2012],[false,2012],[true,2012],[false,2012],[false,2012],[false,2012],[false,2012],[false,2012],[false,2013],[true,2013],[false,2013],[false,2013],[false,2013],[false,2013],[true,2013],[true,2013],[false,2013],[false,2013],[true,2013],[false,2013],[false,2013],[false,2013],[false,2013],[false,2013],[false,2013],[false,2013],[false,2013],[false,2013],[false,2013],[false,2013],[false,2013],[false,2013],[false,2013],[false,2013],[false,2013],[false,2013],[false,2013],[false,2013],[false,2013],[false,2013],[false,2013],[false,2013],[false,2013],[false,2013],[false,2013],[false,2013],[true,2013],[false,2013],[false,2013],[false,2013],[false,2013],[false,2013],[true,2013],[false,2013],[false,2013],[false,2013],[false,2013],[false,2013],[false,2014],[true,2014],[false,2014],[false,2014],[false,2014],[false,2014],[true,2014],[true,2014],[false,2014],[false,2014],[true,2014],[false,2014],[false,2014],[false,2014],[false,2014],[false,2014],[false,2014],[false,2014],[false,2014],[false,2014],[false,2014],[false,2014],[false,2014],[false,2014],[false,2014],[false,2014],[false,2014],[false,2014],[false,2014],[false,2014],[false,2014],[false,2014],[false,2014],[false,2014],[false,2014],[false,2014],[false,2014],[false,2014],[true,2014],[false,2014],[false,2014],[false,2014],[false,2014],[false,2014],[true,2014],[false,2014],[false,2014],[false,2014],[false,2014],[false,2014],[false,2015],[true,2015],[false,2015],[false,2015],[false,2015],[false,2015],[true,2015],[true,2015],[false,2015],[false,2015],[true,2015],[false,2015],[false,2015],[false,2015],[false,2015],[false,2015],[false,2015],[false,2015],[false,2015],[false,2015],[false,2015],[false,2015],[false,2015],[false,2015],[false,2015],[false,2015],[false,2015],[false,2015],[false,2015],[false,2015],[false,2015],[false,2015],[false,2015],[false,2015],[false,2015],[false,2015],[false,2015],[true,2015],[false,2015],[false,2015],[false,2015],[false,2015],[false,2015],[true,2015],[false,2015],[false,2015],[false,2015],[false,2015],[false,2015],[false,2016],[true,2016],[false,2016],[false,2016],[false,2016],[false,2016],[true,2016],[true,2016],[false,2016],[false,2016],[true,2016],[false,2016],[false,2016],[false,2016],[false,2016],[false,2016],[false,2016],[false,2016],[false,2016],[false,2016],[false,2016],[false,2016],[false,2016],[false,2016],[false,2016],[false,2016],[false,2016],[false,2016],[false,2016],[false,2016],[false,2016],[false,2016],[false,2016],[false,2016],[false,2016],[false,2016],[false,2016],[false,2016],[true,2016],[false,2016],[false,2016],[false,2016],[false,2016],[false,2016],[true,2016],[false,2016],[false,2016],[false,2016],[false,2016],[false,2016]],\"hovertemplate\":\"variable=agg_assault<br>jurisdiction=%{x}<br>value=%{y}<br>includes_jails=%{customdata[0]}<br>year=%{customdata[1]}<extra></extra>\",\"legendgroup\":\"agg_assault\",\"marker\":{\"color\":\"#00cc96\",\"pattern\":{\"shape\":\"\"}},\"name\":\"agg_assault\",\"offsetgroup\":\"agg_assault\",\"orientation\":\"v\",\"showlegend\":true,\"textposition\":\"auto\",\"x\":[\"ALABAMA\",\"ALASKA\",\"ARIZONA\",\"ARKANSAS\",\"CALIFORNIA\",\"COLORADO\",\"CONNECTICUT\",\"DELAWARE\",\"FLORIDA\",\"GEORGIA\",\"HAWAII\",\"IDAHO\",\"ILLINOIS\",\"INDIANA\",\"IOWA\",\"KANSAS\",\"KENTUCKY\",\"LOUISIANA\",\"MAINE\",\"MARYLAND\",\"MASSACHUSETTS\",\"MICHIGAN\",\"MINNESOTA\",\"MISSISSIPPI\",\"MISSOURI\",\"MONTANA\",\"NEBRASKA\",\"NEVADA\",\"NEW HAMPSHIRE\",\"NEW JERSEY\",\"NEW MEXICO\",\"NEW YORK\",\"NORTH CAROLINA\",\"NORTH DAKOTA\",\"OHIO\",\"OKLAHOMA\",\"OREGON\",\"PENNSYLVANIA\",\"RHODE ISLAND\",\"SOUTH CAROLINA\",\"SOUTH DAKOTA\",\"TENNESSEE\",\"TEXAS\",\"UTAH\",\"VERMONT\",\"VIRGINIA\",\"WASHINGTON\",\"WEST VIRGINIA\",\"WISCONSIN\",\"WYOMING\",\"ALABAMA\",\"ALASKA\",\"ARIZONA\",\"ARKANSAS\",\"CALIFORNIA\",\"COLORADO\",\"CONNECTICUT\",\"DELAWARE\",\"FLORIDA\",\"GEORGIA\",\"HAWAII\",\"IDAHO\",\"ILLINOIS\",\"INDIANA\",\"IOWA\",\"KANSAS\",\"KENTUCKY\",\"LOUISIANA\",\"MAINE\",\"MARYLAND\",\"MASSACHUSETTS\",\"MICHIGAN\",\"MINNESOTA\",\"MISSISSIPPI\",\"MISSOURI\",\"MONTANA\",\"NEBRASKA\",\"NEVADA\",\"NEW HAMPSHIRE\",\"NEW JERSEY\",\"NEW MEXICO\",\"NEW YORK\",\"NORTH CAROLINA\",\"NORTH DAKOTA\",\"OHIO\",\"OKLAHOMA\",\"OREGON\",\"PENNSYLVANIA\",\"RHODE ISLAND\",\"SOUTH CAROLINA\",\"SOUTH DAKOTA\",\"TENNESSEE\",\"TEXAS\",\"UTAH\",\"VERMONT\",\"VIRGINIA\",\"WASHINGTON\",\"WEST VIRGINIA\",\"WISCONSIN\",\"WYOMING\",\"ALABAMA\",\"ALASKA\",\"ARIZONA\",\"ARKANSAS\",\"CALIFORNIA\",\"COLORADO\",\"CONNECTICUT\",\"DELAWARE\",\"FLORIDA\",\"GEORGIA\",\"HAWAII\",\"IDAHO\",\"ILLINOIS\",\"INDIANA\",\"IOWA\",\"KANSAS\",\"KENTUCKY\",\"LOUISIANA\",\"MAINE\",\"MARYLAND\",\"MASSACHUSETTS\",\"MICHIGAN\",\"MINNESOTA\",\"MISSISSIPPI\",\"MISSOURI\",\"MONTANA\",\"NEBRASKA\",\"NEVADA\",\"NEW HAMPSHIRE\",\"NEW JERSEY\",\"NEW MEXICO\",\"NEW YORK\",\"NORTH CAROLINA\",\"NORTH DAKOTA\",\"OHIO\",\"OKLAHOMA\",\"OREGON\",\"PENNSYLVANIA\",\"RHODE ISLAND\",\"SOUTH CAROLINA\",\"SOUTH DAKOTA\",\"TENNESSEE\",\"TEXAS\",\"UTAH\",\"VERMONT\",\"VIRGINIA\",\"WASHINGTON\",\"WEST VIRGINIA\",\"WISCONSIN\",\"WYOMING\",\"ALABAMA\",\"ALASKA\",\"ARIZONA\",\"ARKANSAS\",\"CALIFORNIA\",\"COLORADO\",\"CONNECTICUT\",\"DELAWARE\",\"FLORIDA\",\"GEORGIA\",\"HAWAII\",\"IDAHO\",\"ILLINOIS\",\"INDIANA\",\"IOWA\",\"KANSAS\",\"KENTUCKY\",\"LOUISIANA\",\"MAINE\",\"MARYLAND\",\"MASSACHUSETTS\",\"MICHIGAN\",\"MINNESOTA\",\"MISSISSIPPI\",\"MISSOURI\",\"MONTANA\",\"NEBRASKA\",\"NEVADA\",\"NEW HAMPSHIRE\",\"NEW JERSEY\",\"NEW MEXICO\",\"NEW YORK\",\"NORTH CAROLINA\",\"NORTH DAKOTA\",\"OHIO\",\"OKLAHOMA\",\"OREGON\",\"PENNSYLVANIA\",\"RHODE ISLAND\",\"SOUTH CAROLINA\",\"SOUTH DAKOTA\",\"TENNESSEE\",\"TEXAS\",\"UTAH\",\"VERMONT\",\"VIRGINIA\",\"WASHINGTON\",\"WEST VIRGINIA\",\"WISCONSIN\",\"WYOMING\",\"ALABAMA\",\"ALASKA\",\"ARIZONA\",\"ARKANSAS\",\"CALIFORNIA\",\"COLORADO\",\"CONNECTICUT\",\"DELAWARE\",\"FLORIDA\",\"GEORGIA\",\"HAWAII\",\"IDAHO\",\"ILLINOIS\",\"INDIANA\",\"IOWA\",\"KANSAS\",\"KENTUCKY\",\"LOUISIANA\",\"MAINE\",\"MARYLAND\",\"MASSACHUSETTS\",\"MICHIGAN\",\"MINNESOTA\",\"MISSISSIPPI\",\"MISSOURI\",\"MONTANA\",\"NEBRASKA\",\"NEVADA\",\"NEW HAMPSHIRE\",\"NEW JERSEY\",\"NEW MEXICO\",\"NEW YORK\",\"NORTH CAROLINA\",\"NORTH DAKOTA\",\"OHIO\",\"OKLAHOMA\",\"OREGON\",\"PENNSYLVANIA\",\"RHODE ISLAND\",\"SOUTH CAROLINA\",\"SOUTH DAKOTA\",\"TENNESSEE\",\"TEXAS\",\"UTAH\",\"VERMONT\",\"VIRGINIA\",\"WASHINGTON\",\"WEST VIRGINIA\",\"WISCONSIN\",\"WYOMING\",\"ALABAMA\",\"ALASKA\",\"ARIZONA\",\"ARKANSAS\",\"CALIFORNIA\",\"COLORADO\",\"CONNECTICUT\",\"DELAWARE\",\"FLORIDA\",\"GEORGIA\",\"HAWAII\",\"IDAHO\",\"ILLINOIS\",\"INDIANA\",\"IOWA\",\"KANSAS\",\"KENTUCKY\",\"LOUISIANA\",\"MAINE\",\"MARYLAND\",\"MASSACHUSETTS\",\"MICHIGAN\",\"MINNESOTA\",\"MISSISSIPPI\",\"MISSOURI\",\"MONTANA\",\"NEBRASKA\",\"NEVADA\",\"NEW HAMPSHIRE\",\"NEW JERSEY\",\"NEW MEXICO\",\"NEW YORK\",\"NORTH CAROLINA\",\"NORTH DAKOTA\",\"OHIO\",\"OKLAHOMA\",\"OREGON\",\"PENNSYLVANIA\",\"RHODE ISLAND\",\"SOUTH CAROLINA\",\"SOUTH DAKOTA\",\"TENNESSEE\",\"TEXAS\",\"UTAH\",\"VERMONT\",\"VIRGINIA\",\"WASHINGTON\",\"WEST VIRGINIA\",\"WISCONSIN\",\"WYOMING\",\"ALABAMA\",\"ALASKA\",\"ARIZONA\",\"ARKANSAS\",\"CALIFORNIA\",\"COLORADO\",\"CONNECTICUT\",\"DELAWARE\",\"FLORIDA\",\"GEORGIA\",\"HAWAII\",\"IDAHO\",\"ILLINOIS\",\"INDIANA\",\"IOWA\",\"KANSAS\",\"KENTUCKY\",\"LOUISIANA\",\"MAINE\",\"MARYLAND\",\"MASSACHUSETTS\",\"MICHIGAN\",\"MINNESOTA\",\"MISSISSIPPI\",\"MISSOURI\",\"MONTANA\",\"NEBRASKA\",\"NEVADA\",\"NEW HAMPSHIRE\",\"NEW JERSEY\",\"NEW MEXICO\",\"NEW YORK\",\"NORTH CAROLINA\",\"NORTH DAKOTA\",\"OHIO\",\"OKLAHOMA\",\"OREGON\",\"PENNSYLVANIA\",\"RHODE ISLAND\",\"SOUTH CAROLINA\",\"SOUTH DAKOTA\",\"TENNESSEE\",\"TEXAS\",\"UTAH\",\"VERMONT\",\"VIRGINIA\",\"WASHINGTON\",\"WEST VIRGINIA\",\"WISCONSIN\",\"WYOMING\",\"ALABAMA\",\"ALASKA\",\"ARIZONA\",\"ARKANSAS\",\"CALIFORNIA\",\"COLORADO\",\"CONNECTICUT\",\"DELAWARE\",\"FLORIDA\",\"GEORGIA\",\"HAWAII\",\"IDAHO\",\"ILLINOIS\",\"INDIANA\",\"IOWA\",\"KANSAS\",\"KENTUCKY\",\"LOUISIANA\",\"MAINE\",\"MARYLAND\",\"MASSACHUSETTS\",\"MICHIGAN\",\"MINNESOTA\",\"MISSISSIPPI\",\"MISSOURI\",\"MONTANA\",\"NEBRASKA\",\"NEVADA\",\"NEW HAMPSHIRE\",\"NEW JERSEY\",\"NEW MEXICO\",\"NEW YORK\",\"NORTH CAROLINA\",\"NORTH DAKOTA\",\"OHIO\",\"OKLAHOMA\",\"OREGON\",\"PENNSYLVANIA\",\"RHODE ISLAND\",\"SOUTH CAROLINA\",\"SOUTH DAKOTA\",\"TENNESSEE\",\"TEXAS\",\"UTAH\",\"VERMONT\",\"VIRGINIA\",\"WASHINGTON\",\"WEST VIRGINIA\",\"WISCONSIN\",\"WYOMING\",\"ALABAMA\",\"ALASKA\",\"ARIZONA\",\"ARKANSAS\",\"CALIFORNIA\",\"COLORADO\",\"CONNECTICUT\",\"DELAWARE\",\"FLORIDA\",\"GEORGIA\",\"HAWAII\",\"IDAHO\",\"ILLINOIS\",\"INDIANA\",\"IOWA\",\"KANSAS\",\"KENTUCKY\",\"LOUISIANA\",\"MAINE\",\"MARYLAND\",\"MASSACHUSETTS\",\"MICHIGAN\",\"MINNESOTA\",\"MISSISSIPPI\",\"MISSOURI\",\"MONTANA\",\"NEBRASKA\",\"NEVADA\",\"NEW HAMPSHIRE\",\"NEW JERSEY\",\"NEW MEXICO\",\"NEW YORK\",\"NORTH CAROLINA\",\"NORTH DAKOTA\",\"OHIO\",\"OKLAHOMA\",\"OREGON\",\"PENNSYLVANIA\",\"RHODE ISLAND\",\"SOUTH CAROLINA\",\"SOUTH DAKOTA\",\"TENNESSEE\",\"TEXAS\",\"UTAH\",\"VERMONT\",\"VIRGINIA\",\"WASHINGTON\",\"WEST VIRGINIA\",\"WISCONSIN\",\"WYOMING\",\"ALABAMA\",\"ALASKA\",\"ARIZONA\",\"ARKANSAS\",\"CALIFORNIA\",\"COLORADO\",\"CONNECTICUT\",\"DELAWARE\",\"FLORIDA\",\"GEORGIA\",\"HAWAII\",\"IDAHO\",\"ILLINOIS\",\"INDIANA\",\"IOWA\",\"KANSAS\",\"KENTUCKY\",\"LOUISIANA\",\"MAINE\",\"MARYLAND\",\"MASSACHUSETTS\",\"MICHIGAN\",\"MINNESOTA\",\"MISSISSIPPI\",\"MISSOURI\",\"MONTANA\",\"NEBRASKA\",\"NEVADA\",\"NEW HAMPSHIRE\",\"NEW JERSEY\",\"NEW MEXICO\",\"NEW YORK\",\"NORTH CAROLINA\",\"NORTH DAKOTA\",\"OHIO\",\"OKLAHOMA\",\"OREGON\",\"PENNSYLVANIA\",\"RHODE ISLAND\",\"SOUTH CAROLINA\",\"SOUTH DAKOTA\",\"TENNESSEE\",\"TEXAS\",\"UTAH\",\"VERMONT\",\"VIRGINIA\",\"WASHINGTON\",\"WEST VIRGINIA\",\"WISCONSIN\",\"WYOMING\",\"ALABAMA\",\"ALASKA\",\"ARIZONA\",\"ARKANSAS\",\"CALIFORNIA\",\"COLORADO\",\"CONNECTICUT\",\"DELAWARE\",\"FLORIDA\",\"GEORGIA\",\"HAWAII\",\"IDAHO\",\"ILLINOIS\",\"INDIANA\",\"IOWA\",\"KANSAS\",\"KENTUCKY\",\"LOUISIANA\",\"MAINE\",\"MARYLAND\",\"MASSACHUSETTS\",\"MICHIGAN\",\"MINNESOTA\",\"MISSISSIPPI\",\"MISSOURI\",\"MONTANA\",\"NEBRASKA\",\"NEVADA\",\"NEW HAMPSHIRE\",\"NEW JERSEY\",\"NEW MEXICO\",\"NEW YORK\",\"NORTH CAROLINA\",\"NORTH DAKOTA\",\"OHIO\",\"OKLAHOMA\",\"OREGON\",\"PENNSYLVANIA\",\"RHODE ISLAND\",\"SOUTH CAROLINA\",\"SOUTH DAKOTA\",\"TENNESSEE\",\"TEXAS\",\"UTAH\",\"VERMONT\",\"VIRGINIA\",\"WASHINGTON\",\"WEST VIRGINIA\",\"WISCONSIN\",\"WYOMING\",\"ALABAMA\",\"ALASKA\",\"ARIZONA\",\"ARKANSAS\",\"CALIFORNIA\",\"COLORADO\",\"CONNECTICUT\",\"DELAWARE\",\"FLORIDA\",\"GEORGIA\",\"HAWAII\",\"IDAHO\",\"ILLINOIS\",\"INDIANA\",\"IOWA\",\"KANSAS\",\"KENTUCKY\",\"LOUISIANA\",\"MAINE\",\"MARYLAND\",\"MASSACHUSETTS\",\"MICHIGAN\",\"MINNESOTA\",\"MISSISSIPPI\",\"MISSOURI\",\"MONTANA\",\"NEBRASKA\",\"NEVADA\",\"NEW HAMPSHIRE\",\"NEW JERSEY\",\"NEW MEXICO\",\"NEW YORK\",\"NORTH CAROLINA\",\"NORTH DAKOTA\",\"OHIO\",\"OKLAHOMA\",\"OREGON\",\"PENNSYLVANIA\",\"RHODE ISLAND\",\"SOUTH CAROLINA\",\"SOUTH DAKOTA\",\"TENNESSEE\",\"TEXAS\",\"UTAH\",\"VERMONT\",\"VIRGINIA\",\"WASHINGTON\",\"WEST VIRGINIA\",\"WISCONSIN\",\"WYOMING\",\"ALABAMA\",\"ALASKA\",\"ARIZONA\",\"ARKANSAS\",\"CALIFORNIA\",\"COLORADO\",\"CONNECTICUT\",\"DELAWARE\",\"FLORIDA\",\"GEORGIA\",\"HAWAII\",\"IDAHO\",\"ILLINOIS\",\"INDIANA\",\"IOWA\",\"KANSAS\",\"KENTUCKY\",\"LOUISIANA\",\"MAINE\",\"MARYLAND\",\"MASSACHUSETTS\",\"MICHIGAN\",\"MINNESOTA\",\"MISSISSIPPI\",\"MISSOURI\",\"MONTANA\",\"NEBRASKA\",\"NEVADA\",\"NEW HAMPSHIRE\",\"NEW JERSEY\",\"NEW MEXICO\",\"NEW YORK\",\"NORTH CAROLINA\",\"NORTH DAKOTA\",\"OHIO\",\"OKLAHOMA\",\"OREGON\",\"PENNSYLVANIA\",\"RHODE ISLAND\",\"SOUTH CAROLINA\",\"SOUTH DAKOTA\",\"TENNESSEE\",\"TEXAS\",\"UTAH\",\"VERMONT\",\"VIRGINIA\",\"WASHINGTON\",\"WEST VIRGINIA\",\"WISCONSIN\",\"WYOMING\",\"ALABAMA\",\"ALASKA\",\"ARIZONA\",\"ARKANSAS\",\"CALIFORNIA\",\"COLORADO\",\"CONNECTICUT\",\"DELAWARE\",\"FLORIDA\",\"GEORGIA\",\"HAWAII\",\"IDAHO\",\"ILLINOIS\",\"INDIANA\",\"IOWA\",\"KANSAS\",\"KENTUCKY\",\"LOUISIANA\",\"MAINE\",\"MARYLAND\",\"MASSACHUSETTS\",\"MICHIGAN\",\"MINNESOTA\",\"MISSISSIPPI\",\"MISSOURI\",\"MONTANA\",\"NEBRASKA\",\"NEVADA\",\"NEW HAMPSHIRE\",\"NEW JERSEY\",\"NEW MEXICO\",\"NEW YORK\",\"NORTH CAROLINA\",\"NORTH DAKOTA\",\"OHIO\",\"OKLAHOMA\",\"OREGON\",\"PENNSYLVANIA\",\"RHODE ISLAND\",\"SOUTH CAROLINA\",\"SOUTH DAKOTA\",\"TENNESSEE\",\"TEXAS\",\"UTAH\",\"VERMONT\",\"VIRGINIA\",\"WASHINGTON\",\"WEST VIRGINIA\",\"WISCONSIN\",\"WYOMING\",\"ALABAMA\",\"ALASKA\",\"ARIZONA\",\"ARKANSAS\",\"CALIFORNIA\",\"COLORADO\",\"CONNECTICUT\",\"DELAWARE\",\"FLORIDA\",\"GEORGIA\",\"HAWAII\",\"IDAHO\",\"ILLINOIS\",\"INDIANA\",\"IOWA\",\"KANSAS\",\"KENTUCKY\",\"LOUISIANA\",\"MAINE\",\"MARYLAND\",\"MASSACHUSETTS\",\"MICHIGAN\",\"MINNESOTA\",\"MISSISSIPPI\",\"MISSOURI\",\"MONTANA\",\"NEBRASKA\",\"NEVADA\",\"NEW HAMPSHIRE\",\"NEW JERSEY\",\"NEW MEXICO\",\"NORTH CAROLINA\",\"NORTH DAKOTA\",\"OHIO\",\"OKLAHOMA\",\"OREGON\",\"PENNSYLVANIA\",\"RHODE ISLAND\",\"SOUTH CAROLINA\",\"SOUTH DAKOTA\",\"TENNESSEE\",\"TEXAS\",\"UTAH\",\"VERMONT\",\"VIRGINIA\",\"WASHINGTON\",\"WEST VIRGINIA\",\"WISCONSIN\",\"WYOMING\",\"ALABAMA\",\"ALASKA\",\"ARIZONA\",\"ARKANSAS\",\"CALIFORNIA\",\"COLORADO\",\"CONNECTICUT\",\"DELAWARE\",\"FLORIDA\",\"GEORGIA\",\"HAWAII\",\"IDAHO\",\"ILLINOIS\",\"INDIANA\",\"IOWA\",\"KANSAS\",\"KENTUCKY\",\"LOUISIANA\",\"MAINE\",\"MARYLAND\",\"MASSACHUSETTS\",\"MICHIGAN\",\"MINNESOTA\",\"MISSISSIPPI\",\"MISSOURI\",\"MONTANA\",\"NEBRASKA\",\"NEVADA\",\"NEW HAMPSHIRE\",\"NEW JERSEY\",\"NEW MEXICO\",\"NEW YORK\",\"NORTH CAROLINA\",\"NORTH DAKOTA\",\"OHIO\",\"OKLAHOMA\",\"OREGON\",\"PENNSYLVANIA\",\"RHODE ISLAND\",\"SOUTH CAROLINA\",\"SOUTH DAKOTA\",\"TENNESSEE\",\"TEXAS\",\"UTAH\",\"VERMONT\",\"VIRGINIA\",\"WASHINGTON\",\"WEST VIRGINIA\",\"WISCONSIN\",\"WYOMING\"],\"xaxis\":\"x\",\"y\":[12250.0,2681.0,17889.0,8969.0,136087.0,9849.0,6565.0,3269.0,90331.0,24491.0,1534.0,2511.0,49347.0,13434.0,6012.0,7449.0,6009.0,20910.0,826.0,26668.0,22110.0,36551.0,7032.0,5283.0,20946.0,2735.0,3612.0,6364.0,1224.0,17370.0,10644.0,56961.0,24573.0,274.0,17906.0,13309.0,6643.0,28814.0,1837.0,25028.0,710.0,29938.0,77306.0,3154.0,423.0,11945.0,12545.0,3968.0,6708.0,1026.0,12002.0,2594.0,20176.0,8081.0,130827.0,10058.0,5914.0,3298.0,88476.0,23125.0,1656.0,2646.0,45114.0,13184.0,6378.0,6951.0,6692.0,20445.0,735.0,26715.0,22018.0,36417.0,7106.0,5111.0,21737.0,2661.0,3557.0,7629.0,1185.0,16593.0,10334.0,53583.0,24169.0,270.0,16922.0,12885.0,6246.0,28060.0,1699.0,25730.0,861.0,29439.0,78628.0,3358.0,442.0,12068.0,12249.0,3179.0,6134.0,1108.0,11338.0,2787.0,18722.0,9131.0,129380.0,9921.0,6023.0,3693.0,85106.0,22501.0,1843.0,2556.0,41506.0,13383.0,6198.0,7374.0,5703.0,19429.0,763.0,23593.0,20378.0,34214.0,7191.0,4974.0,19692.0,2777.0,3380.0,7520.0,1002.0,16452.0,9542.0,48987.0,23369.0,286.0,16104.0,12827.0,6373.0,27027.0,1714.0,25399.0,859.0,28471.0,75782.0,3652.0,504.0,11554.0,12509.0,3542.0,6322.0,1080.0,11286.0,3117.0,18921.0,10083.0,115400.0,11236.0,5070.0,3377.0,86199.0,23561.0,1903.0,2586.0,41783.0,11802.0,6513.0,7254.0,5410.0,20090.0,742.0,24351.0,20040.0,32276.0,7445.0,4677.0,19763.0,2187.0,3595.0,8348.0,1219.0,16144.0,9811.0,46911.0,23591.0,330.0,16108.0,12802.0,6600.0,28339.0,1596.0,25634.0,854.0,29611.0,75985.0,3398.0,459.0,11503.0,12417.0,3922.0,6191.0,973.0,11293.0,3087.0,19448.0,10747.0,114661.0,12351.0,4792.0,3612.0,88341.0,23977.0,1885.0,2792.0,42158.0,11281.0,6657.0,7707.0,5833.0,19681.0,815.0,23173.0,19878.0,36760.0,8146.0,4365.0,21254.0,2138.0,3387.0,8730.0,971.0,16079.0,9370.0,46150.0,25128.0,460.0,16228.0,13146.0,6620.0,29205.0,1577.0,24757.0,847.0,32470.0,75383.0,3541.0,545.0,11718.0,12941.0,3735.0,7471.0,958.0,10463.0,3462.0,20983.0,11259.0,111620.0,12641.0,5212.0,3733.0,87851.0,26469.0,2090.0,2726.0,40858.0,10956.0,6286.0,8678.0,6026.0,22853.0,786.0,22011.0,22178.0,36684.0,8830.0,4547.0,22167.0,2950.0,3433.0,10331.0,1042.0,15562.0,9495.0,45467.0,25586.0,925.0,16743.0,13062.0,6516.0,29581.0,1404.0,25224.0,1418.0,32287.0,74531.0,3587.0,604.0,11672.0,12934.0,3776.0,8937.0,1071.0,11417.0,3351.0,20170.0,10629.0,109547.0,11410.0,5441.0,3957.0,86372.0,26708.0,2021.0,2942.0,40573.0,11377.0,6633.0,9315.0,6690.0,23421.0,804.0,21072.0,19636.0,35147.0,8295.0,4371.0,23082.0,3015.0,3788.0,11138.0,1076.0,14564.0,9777.0,45144.0,25727.0,999.0,17218.0,13053.0,6799.0,28198.0,1387.0,26139.0,1344.0,32843.0,73357.0,3928.0,582.0,11131.0,12862.0,3716.0,9438.0,1067.0,11795.0,3356.0,19096.0,10244.0,104896.0,11760.0,5882.0,3912.0,82848.0,26571.0,2036.0,2839.0,38818.0,11912.0,6388.0,8534.0,6952.0,21578.0,829.0,20570.0,21143.0,33205.0,7759.0,4669.0,20238.0,2411.0,3603.0,11216.0,1234.0,14152.0,9537.0,42125.0,25907.0,1026.0,16652.0,13975.0,5983.0,27981.0,1463.0,24158.0,1494.0,31619.0,76421.0,3788.0,611.0,10397.0,12623.0,3654.0,9070.0,1046.0,13103.0,3235.0,17270.0,10772.0,100156.0,11223.0,5824.0,3597.0,76112.0,24553.0,2112.0,2952.0,36588.0,12175.0,6356.0,8370.0,5643.0,20848.0,780.0,20022.0,21129.0,32251.0,7392.0,4297.0,20083.0,2181.0,3321.0,11431.0,1261.0,14114.0,9510.0,43606.0,23326.0,1308.0,15989.0,13433.0,6179.0,26394.0,1565.0,23078.0,1129.0,29793.0,74021.0,3714.0,586.0,9911.0,12928.0,4086.0,8482.0,935.0,11869.0,3379.0,16976.0,10887.0,95877.0,10816.0,5802.0,3392.0,69523.0,24034.0,2136.0,2696.0,32976.0,12396.0,6258.0,7821.0,5230.0,18214.0,796.0,18899.0,21842.0,31858.0,7233.0,4087.0,19390.0,2222.0,3345.0,11508.0,1330.0,13885.0,9432.0,44197.0,22583.0,1203.0,15611.0,13091.0,5892.0,26112.0,1600.0,21090.0,1634.0,28016.0,71517.0,3620.0,596.0,9550.0,12476.0,4390.0,8305.0,870.0,13591.0,3374.0,16748.0,10426.0,91195.0,10346.0,5382.0,3231.0,66319.0,21881.0,2098.0,2535.0,30495.0,12578.0,6149.0,7528.0,5110.0,18370.0,848.0,16876.0,19626.0,28507.0,6750.0,4418.0,18778.0,2189.0,2912.0,10092.0,1758.0,13608.0,9170.0,45538.0,21516.0,1318.0,15048.0,12401.0,6083.0,26046.0,1503.0,21265.0,1415.0,28338.0,67498.0,3517.0,669.0,8694.0,12042.0,4236.0,8340.0,1010.0,15035.0,3169.0,18054.0,10134.0,94702.0,10285.0,5424.0,3245.0,63929.0,22447.0,1953.0,2580.0,29725.0,13975.0,6255.0,7609.0,4792.0,15737.0,808.0,16303.0,18721.0,29203.0,7207.0,4460.0,19490.0,2180.0,2912.0,10790.0,1869.0,12919.0,8740.0,47382.0,22609.0,1292.0,15140.0,13012.0,5969.0,25571.0,1614.0,19919.0,1921.0,30615.0,67227.0,3807.0,638.0,9131.0,12285.0,4623.0,10165.0,932.0,13788.0,3127.0,17391.0,9796.0,89029.0,9826.0,4906.0,2960.0,61054.0,21361.0,2111.0,2548.0,28161.0,13915.0,6332.0,7177.0,4215.0,16331.0,907.0,16124.0,18118.0,27254.0,6908.0,4649.0,18056.0,2217.0,3011.0,10060.0,1506.0,12071.0,9470.0,46130.0,21325.0,1447.0,14370.0,11652.0,5596.0,23680.0,1547.0,17760.0,2052.0,27895.0,65351.0,3824.0,554.0,9111.0,11623.0,4242.0,9285.0,917.0,13745.0,3243.0,16970.0,10265.0,91803.0,10325.0,4495.0,2867.0,72895.0,22052.0,2102.0,2623.0,27520.0,14686.0,6264.0,7259.0,4404.0,16387.0,890.0,15133.0,18051.0,27519.0,6729.0,4592.0,18482.0,2532.0,3316.0,10564.0,1459.0,11225.0,8797.0,45303.0,21421.0,1407.0,14771.0,10744.0,5592.0,22189.0,1398.0,17676.0,2096.0,29681.0,65656.0,3513.0,432.0,9400.0,11627.0,4358.0,9809.0,899.0,15954.0,3671.0,18235.0,11316.0,99349.0,10759.0,4063.0,3081.0,63895.0,22557.0,2418.0,2650.0,28879.0,15765.0,6661.0,7792.0,4668.0,17454.0,921.0,15417.0,19071.0,26414.0,7094.0,4498.0,20830.0,2818.0,3283.0,11965.0,1543.0,11414.0,9407.0,22826.0,1298.0,15695.0,11418.0,6630.0,22373.0,1518.0,18073.0,2546.0,29844.0,67727.0,4046.0,492.0,9235.0,12029.0,4729.0,10395.0,1054.0,18869.0,4011.0,21804.0,12007.0,104375.0,11681.0,4588.0,3131.0,59816.0,24091.0,1831.0,2895.0,32161.0,16345.0,6669.0,8158.0,5068.0,18528.0,948.0,15841.0,18334.0,30779.0,7185.0,4459.0,22049.0,2983.0,3558.0,11629.0,1609.0,11089.0,10182.0,45095.0,24906.0,1352.0,16748.0,12334.0,6776.0,22942.0,1514.0,18217.0,2808.0,31332.0,72842.0,4244.0,589.0,10357.0,13124.0,5144.0,10772.0,1146.0],\"yaxis\":\"y\",\"type\":\"bar\"},{\"alignmentgroup\":\"True\",\"customdata\":[[false,2001],[true,2001],[false,2001],[false,2001],[false,2001],[false,2001],[true,2001],[true,2001],[false,2001],[false,2001],[true,2001],[false,2001],[false,2001],[false,2001],[false,2001],[false,2001],[false,2001],[false,2001],[false,2001],[false,2001],[false,2001],[false,2001],[false,2001],[false,2001],[false,2001],[false,2001],[false,2001],[false,2001],[false,2001],[false,2001],[false,2001],[false,2001],[false,2001],[false,2001],[false,2001],[false,2001],[false,2001],[false,2001],[true,2001],[false,2001],[false,2001],[false,2001],[false,2001],[false,2001],[true,2001],[false,2001],[false,2001],[false,2001],[false,2001],[false,2001],[false,2002],[true,2002],[false,2002],[false,2002],[false,2002],[false,2002],[true,2002],[true,2002],[false,2002],[false,2002],[true,2002],[false,2002],[false,2002],[false,2002],[false,2002],[false,2002],[false,2002],[false,2002],[false,2002],[false,2002],[false,2002],[false,2002],[false,2002],[false,2002],[false,2002],[false,2002],[false,2002],[false,2002],[false,2002],[false,2002],[false,2002],[false,2002],[false,2002],[false,2002],[false,2002],[false,2002],[false,2002],[false,2002],[true,2002],[false,2002],[false,2002],[false,2002],[false,2002],[false,2002],[true,2002],[false,2002],[false,2002],[false,2002],[false,2002],[false,2002],[false,2003],[true,2003],[false,2003],[false,2003],[false,2003],[false,2003],[true,2003],[true,2003],[false,2003],[false,2003],[true,2003],[false,2003],[false,2003],[false,2003],[false,2003],[false,2003],[false,2003],[false,2003],[false,2003],[false,2003],[false,2003],[false,2003],[false,2003],[false,2003],[false,2003],[false,2003],[false,2003],[false,2003],[false,2003],[false,2003],[false,2003],[false,2003],[false,2003],[false,2003],[false,2003],[false,2003],[false,2003],[false,2003],[true,2003],[false,2003],[false,2003],[false,2003],[false,2003],[false,2003],[true,2003],[false,2003],[false,2003],[false,2003],[false,2003],[false,2003],[false,2004],[true,2004],[false,2004],[false,2004],[false,2004],[false,2004],[true,2004],[true,2004],[false,2004],[false,2004],[true,2004],[false,2004],[false,2004],[false,2004],[false,2004],[false,2004],[false,2004],[false,2004],[false,2004],[false,2004],[false,2004],[false,2004],[false,2004],[false,2004],[false,2004],[false,2004],[false,2004],[false,2004],[false,2004],[false,2004],[false,2004],[false,2004],[false,2004],[false,2004],[false,2004],[false,2004],[false,2004],[false,2004],[true,2004],[false,2004],[false,2004],[false,2004],[false,2004],[false,2004],[true,2004],[false,2004],[false,2004],[false,2004],[false,2004],[false,2004],[false,2005],[true,2005],[false,2005],[false,2005],[false,2005],[false,2005],[true,2005],[true,2005],[false,2005],[false,2005],[true,2005],[false,2005],[false,2005],[false,2005],[false,2005],[false,2005],[false,2005],[false,2005],[false,2005],[false,2005],[false,2005],[false,2005],[false,2005],[false,2005],[false,2005],[false,2005],[false,2005],[false,2005],[false,2005],[false,2005],[false,2005],[false,2005],[false,2005],[false,2005],[false,2005],[false,2005],[false,2005],[false,2005],[true,2005],[false,2005],[false,2005],[false,2005],[false,2005],[false,2005],[true,2005],[false,2005],[false,2005],[false,2005],[false,2005],[false,2005],[false,2006],[true,2006],[false,2006],[false,2006],[false,2006],[false,2006],[true,2006],[true,2006],[false,2006],[false,2006],[true,2006],[false,2006],[false,2006],[false,2006],[false,2006],[false,2006],[false,2006],[false,2006],[false,2006],[false,2006],[false,2006],[false,2006],[false,2006],[false,2006],[false,2006],[false,2006],[false,2006],[false,2006],[false,2006],[false,2006],[false,2006],[false,2006],[false,2006],[false,2006],[false,2006],[false,2006],[false,2006],[false,2006],[true,2006],[false,2006],[false,2006],[false,2006],[false,2006],[false,2006],[true,2006],[false,2006],[false,2006],[false,2006],[false,2006],[false,2006],[false,2007],[true,2007],[false,2007],[false,2007],[false,2007],[false,2007],[true,2007],[true,2007],[false,2007],[false,2007],[true,2007],[false,2007],[false,2007],[false,2007],[false,2007],[false,2007],[false,2007],[false,2007],[false,2007],[false,2007],[false,2007],[false,2007],[false,2007],[false,2007],[false,2007],[false,2007],[false,2007],[false,2007],[false,2007],[false,2007],[false,2007],[false,2007],[false,2007],[false,2007],[false,2007],[false,2007],[false,2007],[false,2007],[true,2007],[false,2007],[false,2007],[false,2007],[false,2007],[false,2007],[true,2007],[false,2007],[false,2007],[false,2007],[false,2007],[false,2007],[false,2008],[true,2008],[false,2008],[false,2008],[false,2008],[false,2008],[true,2008],[true,2008],[false,2008],[false,2008],[true,2008],[false,2008],[false,2008],[false,2008],[false,2008],[false,2008],[false,2008],[false,2008],[false,2008],[false,2008],[false,2008],[false,2008],[false,2008],[false,2008],[false,2008],[false,2008],[false,2008],[false,2008],[false,2008],[false,2008],[false,2008],[false,2008],[false,2008],[false,2008],[false,2008],[false,2008],[false,2008],[false,2008],[true,2008],[false,2008],[false,2008],[false,2008],[false,2008],[false,2008],[true,2008],[false,2008],[false,2008],[false,2008],[false,2008],[false,2008],[false,2009],[true,2009],[false,2009],[false,2009],[false,2009],[false,2009],[true,2009],[true,2009],[false,2009],[false,2009],[true,2009],[false,2009],[false,2009],[false,2009],[false,2009],[false,2009],[false,2009],[false,2009],[false,2009],[false,2009],[false,2009],[false,2009],[false,2009],[false,2009],[false,2009],[false,2009],[false,2009],[false,2009],[false,2009],[false,2009],[false,2009],[false,2009],[false,2009],[false,2009],[false,2009],[false,2009],[false,2009],[false,2009],[true,2009],[false,2009],[false,2009],[false,2009],[false,2009],[false,2009],[true,2009],[false,2009],[false,2009],[false,2009],[false,2009],[false,2009],[false,2010],[true,2010],[false,2010],[false,2010],[false,2010],[false,2010],[true,2010],[true,2010],[false,2010],[false,2010],[true,2010],[false,2010],[false,2010],[false,2010],[false,2010],[false,2010],[false,2010],[false,2010],[false,2010],[false,2010],[false,2010],[false,2010],[false,2010],[false,2010],[false,2010],[false,2010],[false,2010],[false,2010],[false,2010],[false,2010],[false,2010],[false,2010],[false,2010],[false,2010],[false,2010],[false,2010],[false,2010],[false,2010],[true,2010],[false,2010],[false,2010],[false,2010],[false,2010],[false,2010],[true,2010],[false,2010],[false,2010],[false,2010],[false,2010],[false,2010],[false,2011],[true,2011],[false,2011],[false,2011],[false,2011],[false,2011],[true,2011],[true,2011],[false,2011],[false,2011],[true,2011],[false,2011],[false,2011],[false,2011],[false,2011],[false,2011],[false,2011],[false,2011],[false,2011],[false,2011],[false,2011],[false,2011],[false,2011],[false,2011],[false,2011],[false,2011],[false,2011],[false,2011],[false,2011],[false,2011],[false,2011],[false,2011],[false,2011],[false,2011],[false,2011],[false,2011],[false,2011],[false,2011],[true,2011],[false,2011],[false,2011],[false,2011],[false,2011],[false,2011],[true,2011],[false,2011],[false,2011],[false,2011],[false,2011],[false,2011],[false,2012],[true,2012],[false,2012],[false,2012],[false,2012],[false,2012],[true,2012],[true,2012],[false,2012],[false,2012],[true,2012],[false,2012],[false,2012],[false,2012],[false,2012],[false,2012],[false,2012],[false,2012],[false,2012],[false,2012],[false,2012],[false,2012],[false,2012],[false,2012],[false,2012],[false,2012],[false,2012],[false,2012],[false,2012],[false,2012],[false,2012],[false,2012],[false,2012],[false,2012],[false,2012],[false,2012],[false,2012],[false,2012],[true,2012],[false,2012],[false,2012],[false,2012],[false,2012],[false,2012],[true,2012],[false,2012],[false,2012],[false,2012],[false,2012],[false,2012],[false,2013],[true,2013],[false,2013],[false,2013],[false,2013],[false,2013],[true,2013],[true,2013],[false,2013],[false,2013],[true,2013],[false,2013],[false,2013],[false,2013],[false,2013],[false,2013],[false,2013],[false,2013],[false,2013],[false,2013],[false,2013],[false,2013],[false,2013],[false,2013],[false,2013],[false,2013],[false,2013],[false,2013],[false,2013],[false,2013],[false,2013],[false,2013],[false,2013],[false,2013],[false,2013],[false,2013],[false,2013],[false,2013],[true,2013],[false,2013],[false,2013],[false,2013],[false,2013],[false,2013],[true,2013],[false,2013],[false,2013],[false,2013],[false,2013],[false,2013],[false,2014],[true,2014],[false,2014],[false,2014],[false,2014],[false,2014],[true,2014],[true,2014],[false,2014],[false,2014],[true,2014],[false,2014],[false,2014],[false,2014],[false,2014],[false,2014],[false,2014],[false,2014],[false,2014],[false,2014],[false,2014],[false,2014],[false,2014],[false,2014],[false,2014],[false,2014],[false,2014],[false,2014],[false,2014],[false,2014],[false,2014],[false,2014],[false,2014],[false,2014],[false,2014],[false,2014],[false,2014],[false,2014],[true,2014],[false,2014],[false,2014],[false,2014],[false,2014],[false,2014],[true,2014],[false,2014],[false,2014],[false,2014],[false,2014],[false,2014],[false,2015],[true,2015],[false,2015],[false,2015],[false,2015],[false,2015],[true,2015],[true,2015],[false,2015],[false,2015],[true,2015],[false,2015],[false,2015],[false,2015],[false,2015],[false,2015],[false,2015],[false,2015],[false,2015],[false,2015],[false,2015],[false,2015],[false,2015],[false,2015],[false,2015],[false,2015],[false,2015],[false,2015],[false,2015],[false,2015],[false,2015],[false,2015],[false,2015],[false,2015],[false,2015],[false,2015],[false,2015],[true,2015],[false,2015],[false,2015],[false,2015],[false,2015],[false,2015],[true,2015],[false,2015],[false,2015],[false,2015],[false,2015],[false,2015],[false,2016],[true,2016],[false,2016],[false,2016],[false,2016],[false,2016],[true,2016],[true,2016],[false,2016],[false,2016],[true,2016],[false,2016],[false,2016],[false,2016],[false,2016],[false,2016],[false,2016],[false,2016],[false,2016],[false,2016],[false,2016],[false,2016],[false,2016],[false,2016],[false,2016],[false,2016],[false,2016],[false,2016],[false,2016],[false,2016],[false,2016],[false,2016],[false,2016],[false,2016],[false,2016],[false,2016],[false,2016],[false,2016],[true,2016],[false,2016],[false,2016],[false,2016],[false,2016],[false,2016],[true,2016],[false,2016],[false,2016],[false,2016],[false,2016],[false,2016]],\"hovertemplate\":\"variable=burglary<br>jurisdiction=%{x}<br>value=%{y}<br>includes_jails=%{customdata[0]}<br>year=%{customdata[1]}<extra></extra>\",\"legendgroup\":\"burglary\",\"marker\":{\"color\":\"#ab63fa\",\"pattern\":{\"shape\":\"\"}},\"name\":\"burglary\",\"offsetgroup\":\"burglary\",\"orientation\":\"v\",\"showlegend\":true,\"textposition\":\"auto\",\"x\":[\"ALABAMA\",\"ALASKA\",\"ARIZONA\",\"ARKANSAS\",\"CALIFORNIA\",\"COLORADO\",\"CONNECTICUT\",\"DELAWARE\",\"FLORIDA\",\"GEORGIA\",\"HAWAII\",\"IDAHO\",\"ILLINOIS\",\"INDIANA\",\"IOWA\",\"KANSAS\",\"KENTUCKY\",\"LOUISIANA\",\"MAINE\",\"MARYLAND\",\"MASSACHUSETTS\",\"MICHIGAN\",\"MINNESOTA\",\"MISSISSIPPI\",\"MISSOURI\",\"MONTANA\",\"NEBRASKA\",\"NEVADA\",\"NEW HAMPSHIRE\",\"NEW JERSEY\",\"NEW MEXICO\",\"NEW YORK\",\"NORTH CAROLINA\",\"NORTH DAKOTA\",\"OHIO\",\"OKLAHOMA\",\"OREGON\",\"PENNSYLVANIA\",\"RHODE ISLAND\",\"SOUTH CAROLINA\",\"SOUTH DAKOTA\",\"TENNESSEE\",\"TEXAS\",\"UTAH\",\"VERMONT\",\"VIRGINIA\",\"WASHINGTON\",\"WEST VIRGINIA\",\"WISCONSIN\",\"WYOMING\",\"ALABAMA\",\"ALASKA\",\"ARIZONA\",\"ARKANSAS\",\"CALIFORNIA\",\"COLORADO\",\"CONNECTICUT\",\"DELAWARE\",\"FLORIDA\",\"GEORGIA\",\"HAWAII\",\"IDAHO\",\"ILLINOIS\",\"INDIANA\",\"IOWA\",\"KANSAS\",\"KENTUCKY\",\"LOUISIANA\",\"MAINE\",\"MARYLAND\",\"MASSACHUSETTS\",\"MICHIGAN\",\"MINNESOTA\",\"MISSISSIPPI\",\"MISSOURI\",\"MONTANA\",\"NEBRASKA\",\"NEVADA\",\"NEW HAMPSHIRE\",\"NEW JERSEY\",\"NEW MEXICO\",\"NEW YORK\",\"NORTH CAROLINA\",\"NORTH DAKOTA\",\"OHIO\",\"OKLAHOMA\",\"OREGON\",\"PENNSYLVANIA\",\"RHODE ISLAND\",\"SOUTH CAROLINA\",\"SOUTH DAKOTA\",\"TENNESSEE\",\"TEXAS\",\"UTAH\",\"VERMONT\",\"VIRGINIA\",\"WASHINGTON\",\"WEST VIRGINIA\",\"WISCONSIN\",\"WYOMING\",\"ALABAMA\",\"ALASKA\",\"ARIZONA\",\"ARKANSAS\",\"CALIFORNIA\",\"COLORADO\",\"CONNECTICUT\",\"DELAWARE\",\"FLORIDA\",\"GEORGIA\",\"HAWAII\",\"IDAHO\",\"ILLINOIS\",\"INDIANA\",\"IOWA\",\"KANSAS\",\"KENTUCKY\",\"LOUISIANA\",\"MAINE\",\"MARYLAND\",\"MASSACHUSETTS\",\"MICHIGAN\",\"MINNESOTA\",\"MISSISSIPPI\",\"MISSOURI\",\"MONTANA\",\"NEBRASKA\",\"NEVADA\",\"NEW HAMPSHIRE\",\"NEW JERSEY\",\"NEW MEXICO\",\"NEW YORK\",\"NORTH CAROLINA\",\"NORTH DAKOTA\",\"OHIO\",\"OKLAHOMA\",\"OREGON\",\"PENNSYLVANIA\",\"RHODE ISLAND\",\"SOUTH CAROLINA\",\"SOUTH DAKOTA\",\"TENNESSEE\",\"TEXAS\",\"UTAH\",\"VERMONT\",\"VIRGINIA\",\"WASHINGTON\",\"WEST VIRGINIA\",\"WISCONSIN\",\"WYOMING\",\"ALABAMA\",\"ALASKA\",\"ARIZONA\",\"ARKANSAS\",\"CALIFORNIA\",\"COLORADO\",\"CONNECTICUT\",\"DELAWARE\",\"FLORIDA\",\"GEORGIA\",\"HAWAII\",\"IDAHO\",\"ILLINOIS\",\"INDIANA\",\"IOWA\",\"KANSAS\",\"KENTUCKY\",\"LOUISIANA\",\"MAINE\",\"MARYLAND\",\"MASSACHUSETTS\",\"MICHIGAN\",\"MINNESOTA\",\"MISSISSIPPI\",\"MISSOURI\",\"MONTANA\",\"NEBRASKA\",\"NEVADA\",\"NEW HAMPSHIRE\",\"NEW JERSEY\",\"NEW MEXICO\",\"NEW YORK\",\"NORTH CAROLINA\",\"NORTH DAKOTA\",\"OHIO\",\"OKLAHOMA\",\"OREGON\",\"PENNSYLVANIA\",\"RHODE ISLAND\",\"SOUTH CAROLINA\",\"SOUTH DAKOTA\",\"TENNESSEE\",\"TEXAS\",\"UTAH\",\"VERMONT\",\"VIRGINIA\",\"WASHINGTON\",\"WEST VIRGINIA\",\"WISCONSIN\",\"WYOMING\",\"ALABAMA\",\"ALASKA\",\"ARIZONA\",\"ARKANSAS\",\"CALIFORNIA\",\"COLORADO\",\"CONNECTICUT\",\"DELAWARE\",\"FLORIDA\",\"GEORGIA\",\"HAWAII\",\"IDAHO\",\"ILLINOIS\",\"INDIANA\",\"IOWA\",\"KANSAS\",\"KENTUCKY\",\"LOUISIANA\",\"MAINE\",\"MARYLAND\",\"MASSACHUSETTS\",\"MICHIGAN\",\"MINNESOTA\",\"MISSISSIPPI\",\"MISSOURI\",\"MONTANA\",\"NEBRASKA\",\"NEVADA\",\"NEW HAMPSHIRE\",\"NEW JERSEY\",\"NEW MEXICO\",\"NEW YORK\",\"NORTH CAROLINA\",\"NORTH DAKOTA\",\"OHIO\",\"OKLAHOMA\",\"OREGON\",\"PENNSYLVANIA\",\"RHODE ISLAND\",\"SOUTH CAROLINA\",\"SOUTH DAKOTA\",\"TENNESSEE\",\"TEXAS\",\"UTAH\",\"VERMONT\",\"VIRGINIA\",\"WASHINGTON\",\"WEST VIRGINIA\",\"WISCONSIN\",\"WYOMING\",\"ALABAMA\",\"ALASKA\",\"ARIZONA\",\"ARKANSAS\",\"CALIFORNIA\",\"COLORADO\",\"CONNECTICUT\",\"DELAWARE\",\"FLORIDA\",\"GEORGIA\",\"HAWAII\",\"IDAHO\",\"ILLINOIS\",\"INDIANA\",\"IOWA\",\"KANSAS\",\"KENTUCKY\",\"LOUISIANA\",\"MAINE\",\"MARYLAND\",\"MASSACHUSETTS\",\"MICHIGAN\",\"MINNESOTA\",\"MISSISSIPPI\",\"MISSOURI\",\"MONTANA\",\"NEBRASKA\",\"NEVADA\",\"NEW HAMPSHIRE\",\"NEW JERSEY\",\"NEW MEXICO\",\"NEW YORK\",\"NORTH CAROLINA\",\"NORTH DAKOTA\",\"OHIO\",\"OKLAHOMA\",\"OREGON\",\"PENNSYLVANIA\",\"RHODE ISLAND\",\"SOUTH CAROLINA\",\"SOUTH DAKOTA\",\"TENNESSEE\",\"TEXAS\",\"UTAH\",\"VERMONT\",\"VIRGINIA\",\"WASHINGTON\",\"WEST VIRGINIA\",\"WISCONSIN\",\"WYOMING\",\"ALABAMA\",\"ALASKA\",\"ARIZONA\",\"ARKANSAS\",\"CALIFORNIA\",\"COLORADO\",\"CONNECTICUT\",\"DELAWARE\",\"FLORIDA\",\"GEORGIA\",\"HAWAII\",\"IDAHO\",\"ILLINOIS\",\"INDIANA\",\"IOWA\",\"KANSAS\",\"KENTUCKY\",\"LOUISIANA\",\"MAINE\",\"MARYLAND\",\"MASSACHUSETTS\",\"MICHIGAN\",\"MINNESOTA\",\"MISSISSIPPI\",\"MISSOURI\",\"MONTANA\",\"NEBRASKA\",\"NEVADA\",\"NEW HAMPSHIRE\",\"NEW JERSEY\",\"NEW MEXICO\",\"NEW YORK\",\"NORTH CAROLINA\",\"NORTH DAKOTA\",\"OHIO\",\"OKLAHOMA\",\"OREGON\",\"PENNSYLVANIA\",\"RHODE ISLAND\",\"SOUTH CAROLINA\",\"SOUTH DAKOTA\",\"TENNESSEE\",\"TEXAS\",\"UTAH\",\"VERMONT\",\"VIRGINIA\",\"WASHINGTON\",\"WEST VIRGINIA\",\"WISCONSIN\",\"WYOMING\",\"ALABAMA\",\"ALASKA\",\"ARIZONA\",\"ARKANSAS\",\"CALIFORNIA\",\"COLORADO\",\"CONNECTICUT\",\"DELAWARE\",\"FLORIDA\",\"GEORGIA\",\"HAWAII\",\"IDAHO\",\"ILLINOIS\",\"INDIANA\",\"IOWA\",\"KANSAS\",\"KENTUCKY\",\"LOUISIANA\",\"MAINE\",\"MARYLAND\",\"MASSACHUSETTS\",\"MICHIGAN\",\"MINNESOTA\",\"MISSISSIPPI\",\"MISSOURI\",\"MONTANA\",\"NEBRASKA\",\"NEVADA\",\"NEW HAMPSHIRE\",\"NEW JERSEY\",\"NEW MEXICO\",\"NEW YORK\",\"NORTH CAROLINA\",\"NORTH DAKOTA\",\"OHIO\",\"OKLAHOMA\",\"OREGON\",\"PENNSYLVANIA\",\"RHODE ISLAND\",\"SOUTH CAROLINA\",\"SOUTH DAKOTA\",\"TENNESSEE\",\"TEXAS\",\"UTAH\",\"VERMONT\",\"VIRGINIA\",\"WASHINGTON\",\"WEST VIRGINIA\",\"WISCONSIN\",\"WYOMING\",\"ALABAMA\",\"ALASKA\",\"ARIZONA\",\"ARKANSAS\",\"CALIFORNIA\",\"COLORADO\",\"CONNECTICUT\",\"DELAWARE\",\"FLORIDA\",\"GEORGIA\",\"HAWAII\",\"IDAHO\",\"ILLINOIS\",\"INDIANA\",\"IOWA\",\"KANSAS\",\"KENTUCKY\",\"LOUISIANA\",\"MAINE\",\"MARYLAND\",\"MASSACHUSETTS\",\"MICHIGAN\",\"MINNESOTA\",\"MISSISSIPPI\",\"MISSOURI\",\"MONTANA\",\"NEBRASKA\",\"NEVADA\",\"NEW HAMPSHIRE\",\"NEW JERSEY\",\"NEW MEXICO\",\"NEW YORK\",\"NORTH CAROLINA\",\"NORTH DAKOTA\",\"OHIO\",\"OKLAHOMA\",\"OREGON\",\"PENNSYLVANIA\",\"RHODE ISLAND\",\"SOUTH CAROLINA\",\"SOUTH DAKOTA\",\"TENNESSEE\",\"TEXAS\",\"UTAH\",\"VERMONT\",\"VIRGINIA\",\"WASHINGTON\",\"WEST VIRGINIA\",\"WISCONSIN\",\"WYOMING\",\"ALABAMA\",\"ALASKA\",\"ARIZONA\",\"ARKANSAS\",\"CALIFORNIA\",\"COLORADO\",\"CONNECTICUT\",\"DELAWARE\",\"FLORIDA\",\"GEORGIA\",\"HAWAII\",\"IDAHO\",\"ILLINOIS\",\"INDIANA\",\"IOWA\",\"KANSAS\",\"KENTUCKY\",\"LOUISIANA\",\"MAINE\",\"MARYLAND\",\"MASSACHUSETTS\",\"MICHIGAN\",\"MINNESOTA\",\"MISSISSIPPI\",\"MISSOURI\",\"MONTANA\",\"NEBRASKA\",\"NEVADA\",\"NEW HAMPSHIRE\",\"NEW JERSEY\",\"NEW MEXICO\",\"NEW YORK\",\"NORTH CAROLINA\",\"NORTH DAKOTA\",\"OHIO\",\"OKLAHOMA\",\"OREGON\",\"PENNSYLVANIA\",\"RHODE ISLAND\",\"SOUTH CAROLINA\",\"SOUTH DAKOTA\",\"TENNESSEE\",\"TEXAS\",\"UTAH\",\"VERMONT\",\"VIRGINIA\",\"WASHINGTON\",\"WEST VIRGINIA\",\"WISCONSIN\",\"WYOMING\",\"ALABAMA\",\"ALASKA\",\"ARIZONA\",\"ARKANSAS\",\"CALIFORNIA\",\"COLORADO\",\"CONNECTICUT\",\"DELAWARE\",\"FLORIDA\",\"GEORGIA\",\"HAWAII\",\"IDAHO\",\"ILLINOIS\",\"INDIANA\",\"IOWA\",\"KANSAS\",\"KENTUCKY\",\"LOUISIANA\",\"MAINE\",\"MARYLAND\",\"MASSACHUSETTS\",\"MICHIGAN\",\"MINNESOTA\",\"MISSISSIPPI\",\"MISSOURI\",\"MONTANA\",\"NEBRASKA\",\"NEVADA\",\"NEW HAMPSHIRE\",\"NEW JERSEY\",\"NEW MEXICO\",\"NEW YORK\",\"NORTH CAROLINA\",\"NORTH DAKOTA\",\"OHIO\",\"OKLAHOMA\",\"OREGON\",\"PENNSYLVANIA\",\"RHODE ISLAND\",\"SOUTH CAROLINA\",\"SOUTH DAKOTA\",\"TENNESSEE\",\"TEXAS\",\"UTAH\",\"VERMONT\",\"VIRGINIA\",\"WASHINGTON\",\"WEST VIRGINIA\",\"WISCONSIN\",\"WYOMING\",\"ALABAMA\",\"ALASKA\",\"ARIZONA\",\"ARKANSAS\",\"CALIFORNIA\",\"COLORADO\",\"CONNECTICUT\",\"DELAWARE\",\"FLORIDA\",\"GEORGIA\",\"HAWAII\",\"IDAHO\",\"ILLINOIS\",\"INDIANA\",\"IOWA\",\"KANSAS\",\"KENTUCKY\",\"LOUISIANA\",\"MAINE\",\"MARYLAND\",\"MASSACHUSETTS\",\"MICHIGAN\",\"MINNESOTA\",\"MISSISSIPPI\",\"MISSOURI\",\"MONTANA\",\"NEBRASKA\",\"NEVADA\",\"NEW HAMPSHIRE\",\"NEW JERSEY\",\"NEW MEXICO\",\"NEW YORK\",\"NORTH CAROLINA\",\"NORTH DAKOTA\",\"OHIO\",\"OKLAHOMA\",\"OREGON\",\"PENNSYLVANIA\",\"RHODE ISLAND\",\"SOUTH CAROLINA\",\"SOUTH DAKOTA\",\"TENNESSEE\",\"TEXAS\",\"UTAH\",\"VERMONT\",\"VIRGINIA\",\"WASHINGTON\",\"WEST VIRGINIA\",\"WISCONSIN\",\"WYOMING\",\"ALABAMA\",\"ALASKA\",\"ARIZONA\",\"ARKANSAS\",\"CALIFORNIA\",\"COLORADO\",\"CONNECTICUT\",\"DELAWARE\",\"FLORIDA\",\"GEORGIA\",\"HAWAII\",\"IDAHO\",\"ILLINOIS\",\"INDIANA\",\"IOWA\",\"KANSAS\",\"KENTUCKY\",\"LOUISIANA\",\"MAINE\",\"MARYLAND\",\"MASSACHUSETTS\",\"MICHIGAN\",\"MINNESOTA\",\"MISSISSIPPI\",\"MISSOURI\",\"MONTANA\",\"NEBRASKA\",\"NEVADA\",\"NEW HAMPSHIRE\",\"NEW JERSEY\",\"NEW MEXICO\",\"NEW YORK\",\"NORTH CAROLINA\",\"NORTH DAKOTA\",\"OHIO\",\"OKLAHOMA\",\"OREGON\",\"PENNSYLVANIA\",\"RHODE ISLAND\",\"SOUTH CAROLINA\",\"SOUTH DAKOTA\",\"TENNESSEE\",\"TEXAS\",\"UTAH\",\"VERMONT\",\"VIRGINIA\",\"WASHINGTON\",\"WEST VIRGINIA\",\"WISCONSIN\",\"WYOMING\",\"ALABAMA\",\"ALASKA\",\"ARIZONA\",\"ARKANSAS\",\"CALIFORNIA\",\"COLORADO\",\"CONNECTICUT\",\"DELAWARE\",\"FLORIDA\",\"GEORGIA\",\"HAWAII\",\"IDAHO\",\"ILLINOIS\",\"INDIANA\",\"IOWA\",\"KANSAS\",\"KENTUCKY\",\"LOUISIANA\",\"MAINE\",\"MARYLAND\",\"MASSACHUSETTS\",\"MICHIGAN\",\"MINNESOTA\",\"MISSISSIPPI\",\"MISSOURI\",\"MONTANA\",\"NEBRASKA\",\"NEVADA\",\"NEW HAMPSHIRE\",\"NEW JERSEY\",\"NEW MEXICO\",\"NEW YORK\",\"NORTH CAROLINA\",\"NORTH DAKOTA\",\"OHIO\",\"OKLAHOMA\",\"OREGON\",\"PENNSYLVANIA\",\"RHODE ISLAND\",\"SOUTH CAROLINA\",\"SOUTH DAKOTA\",\"TENNESSEE\",\"TEXAS\",\"UTAH\",\"VERMONT\",\"VIRGINIA\",\"WASHINGTON\",\"WEST VIRGINIA\",\"WISCONSIN\",\"WYOMING\",\"ALABAMA\",\"ALASKA\",\"ARIZONA\",\"ARKANSAS\",\"CALIFORNIA\",\"COLORADO\",\"CONNECTICUT\",\"DELAWARE\",\"FLORIDA\",\"GEORGIA\",\"HAWAII\",\"IDAHO\",\"ILLINOIS\",\"INDIANA\",\"IOWA\",\"KANSAS\",\"KENTUCKY\",\"LOUISIANA\",\"MAINE\",\"MARYLAND\",\"MASSACHUSETTS\",\"MICHIGAN\",\"MINNESOTA\",\"MISSISSIPPI\",\"MISSOURI\",\"MONTANA\",\"NEBRASKA\",\"NEVADA\",\"NEW HAMPSHIRE\",\"NEW JERSEY\",\"NEW MEXICO\",\"NORTH CAROLINA\",\"NORTH DAKOTA\",\"OHIO\",\"OKLAHOMA\",\"OREGON\",\"PENNSYLVANIA\",\"RHODE ISLAND\",\"SOUTH CAROLINA\",\"SOUTH DAKOTA\",\"TENNESSEE\",\"TEXAS\",\"UTAH\",\"VERMONT\",\"VIRGINIA\",\"WASHINGTON\",\"WEST VIRGINIA\",\"WISCONSIN\",\"WYOMING\",\"ALABAMA\",\"ALASKA\",\"ARIZONA\",\"ARKANSAS\",\"CALIFORNIA\",\"COLORADO\",\"CONNECTICUT\",\"DELAWARE\",\"FLORIDA\",\"GEORGIA\",\"HAWAII\",\"IDAHO\",\"ILLINOIS\",\"INDIANA\",\"IOWA\",\"KANSAS\",\"KENTUCKY\",\"LOUISIANA\",\"MAINE\",\"MARYLAND\",\"MASSACHUSETTS\",\"MICHIGAN\",\"MINNESOTA\",\"MISSISSIPPI\",\"MISSOURI\",\"MONTANA\",\"NEBRASKA\",\"NEVADA\",\"NEW HAMPSHIRE\",\"NEW JERSEY\",\"NEW MEXICO\",\"NEW YORK\",\"NORTH CAROLINA\",\"NORTH DAKOTA\",\"OHIO\",\"OKLAHOMA\",\"OREGON\",\"PENNSYLVANIA\",\"RHODE ISLAND\",\"SOUTH CAROLINA\",\"SOUTH DAKOTA\",\"TENNESSEE\",\"TEXAS\",\"UTAH\",\"VERMONT\",\"VIRGINIA\",\"WASHINGTON\",\"WEST VIRGINIA\",\"WISCONSIN\",\"WYOMING\"],\"xaxis\":\"x\",\"y\":[40642.0,3847.0,54821.0,22196.0,232273.0,28533.0,17159.0,5144.0,176052.0,71799.0,11162.0,7507.0,79158.0,42758.0,16885.0,20514.0,26964.0,46451.0,6898.0,41553.0,32430.0,72038.0,25496.0,29821.0,42977.0,3670.0,9760.0,17711.0,4889.0,46812.0,19552.0,80400.0,101889.0,2165.0,96910.0,34573.0,26648.0,54345.0,6824.0,42611.0,3087.0,59705.0,204362.0,13804.0,3150.0,31604.0,53024.0,9601.0,26927.0,2481.0,42578.0,3908.0,59087.0,23229.0,238428.0,31678.0,17111.0,5355.0,177242.0,73932.0,12722.0,7441.0,81440.0,42605.0,18643.0,19679.0,26891.0,45350.0,6965.0,39765.0,33243.0,70970.0,28034.0,29593.0,42721.0,3289.0,10329.0,18951.0,4838.0,43899.0,19634.0,76700.0,99535.0,2243.0,99164.0,35171.0,25696.0,55610.0,6415.0,43745.0,3034.0,61248.0,212602.0,15124.0,3489.0,31757.0,54948.0,9677.0,27926.0,2448.0,43245.0,3874.0,58613.0,25016.0,242274.0,32394.0,16043.0,6066.0,170644.0,79001.0,11409.0,7837.0,78345.0,41582.0,17515.0,21973.0,26034.0,44572.0,6579.0,38641.0,34963.0,68316.0,27698.0,29564.0,41997.0,3722.0,10133.0,21958.0,4589.0,43457.0,18997.0,75453.0,100687.0,1959.0,95083.0,34846.0,28562.0,53918.0,5524.0,43993.0,2878.0,63323.0,219877.0,16961.0,3017.0,29105.0,58271.0,10498.0,26546.0,2611.0,44666.0,3773.0,56885.0,30151.0,245903.0,33010.0,15959.0,5669.0,166332.0,82992.0,10827.0,7671.0,76088.0,42168.0,17928.0,20146.0,25902.0,45359.0,6341.0,36704.0,34497.0,64233.0,28048.0,27661.0,40472.0,3515.0,9826.0,23142.0,4979.0,41030.0,19924.0,70696.0,101193.0,2040.0,96518.0,35244.0,30072.0,54443.0,5465.0,43739.0,3148.0,60386.0,220118.0,15225.0,3435.0,28759.0,60632.0,10994.0,23854.0,2738.0,43473.0,4131.0,56328.0,30118.0,250521.0,34746.0,15245.0,5811.0,164783.0,84463.0,9792.0,8066.0,77635.0,43756.0,18147.0,19028.0,26458.0,39382.0,6323.0,35922.0,34728.0,70527.0,29716.0,26866.0,42822.0,3642.0,9408.0,23481.0,4192.0,38980.0,20939.0,68034.0,104298.0,2043.0,100183.0,35692.0,27621.0,56134.0,5319.0,42741.0,2505.0,61508.0,219828.0,14971.0,3185.0,29829.0,60343.0,11334.0,24448.0,2426.0,44780.0,4155.0,59418.0,31864.0,247230.0,32411.0,15583.0,6337.0,170873.0,85140.0,8724.0,7545.0,77259.0,45538.0,18160.0,20086.0,27867.0,46703.0,6846.0,37459.0,35243.0,76313.0,30306.0,27117.0,44734.0,3380.0,9535.0,24902.0,4395.0,39384.0,20906.0,68617.0,107333.0,2601.0,105639.0,34437.0,24324.0,57739.0,5453.0,42952.0,3024.0,63024.0,215710.0,14721.0,3443.0,32166.0,58843.0,11579.0,27038.0,2322.0,45379.0,3734.0,59988.0,32035.0,237850.0,28633.0,15640.0,6420.0,181836.0,90294.0,9089.0,7131.0,75524.0,46485.0,17176.0,20461.0,27820.0,46932.0,6745.0,37095.0,35767.0,75273.0,29717.0,27223.0,44897.0,3476.0,9035.0,24911.0,5074.0,37234.0,20823.0,64914.0,108700.0,2314.0,99049.0,34367.0,22979.0,56091.0,5206.0,45398.0,2647.0,61817.0,228320.0,15594.0,3200.0,32028.0,52874.0,10822.0,27890.0,2365.0,50411.0,3237.0,58606.0,33912.0,237811.0,28054.0,15107.0,6783.0,188472.0,100564.0,9404.0,6748.0,78968.0,48805.0,16598.0,19651.0,29556.0,45524.0,6559.0,38849.0,36251.0,74787.0,26558.0,25506.0,45763.0,3689.0,8731.0,24254.0,4266.0,40402.0,20706.0,65544.0,111556.0,2336.0,102428.0,35247.0,21115.0,58687.0,5766.0,45964.0,2683.0,65093.0,230046.0,14766.0,3515.0,32188.0,53136.0,10840.0,27459.0,2198.0,48844.0,3600.0,54308.0,34753.0,230198.0,26637.0,15172.0,6943.0,181884.0,98606.0,9244.0,6682.0,77850.0,48880.0,16419.0,19473.0,29880.0,46928.0,6729.0,36905.0,34515.0,76046.0,25580.0,29559.0,43591.0,3686.0,8726.0,22115.0,4915.0,36945.0,21955.0,62769.0,107830.0,2426.0,104009.0,38071.0,19739.0,54772.0,5753.0,45443.0,2621.0,63832.0,240058.0,15258.0,3471.0,31956.0,53047.0,12005.0,26813.0,2176.0,42484.0,3105.0,50932.0,32463.0,228857.0,26196.0,15145.0,7550.0,169119.0,96947.0,8706.0,6513.0,77472.0,48570.0,16746.0,19315.0,30443.0,45437.0,7364.0,36704.0,37903.0,74345.0,24415.0,30453.0,44197.0,3692.0,8318.0,22286.0,5444.0,38732.0,21023.0,65839.0,102826.0,2000.0,107125.0,37848.0,20035.0,55206.0,6124.0,46261.0,3192.0,64293.0,228597.0,15095.0,3348.0,30804.0,55192.0,10778.0,26636.0,2151.0,51119.0,2852.0,54695.0,34016.0,230075.0,25725.0,15468.0,7617.0,170171.0,96014.0,8165.0,6915.0,77719.0,50571.0,17573.0,18712.0,32750.0,46242.0,7865.0,35823.0,36403.0,69755.0,25681.0,30722.0,44875.0,3347.0,8725.0,20342.0,6244.0,43238.0,21419.0,65227.0,105534.0,2458.0,112901.0,36462.0,20704.0,57966.0,6836.0,47351.0,2927.0,62830.0,215755.0,13170.0,3838.0,30656.0,56561.0,10245.0,27167.0,1864.0,47481.0,2950.0,52911.0,32673.0,245767.0,26163.0,14787.0,7389.0,153563.0,86992.0,7653.0,7240.0,71100.0,47689.0,17201.0,18874.0,29877.0,42037.0,7476.0,33803.0,34635.0,65560.0,25378.0,28084.0,42510.0,3920.0,8745.0,22120.0,5988.0,42338.0,21384.0,64389.0,99323.0,2429.0,105312.0,36094.0,22051.0,57040.0,5929.0,45222.0,3280.0,56231.0,205002.0,13095.0,4179.0,29651.0,61376.0,11466.0,27931.0,2125.0,42410.0,2917.0,48292.0,30369.0,232058.0,25075.0,12934.0,6299.0,138915.0,83459.0,7777.0,6693.0,59093.0,42754.0,15918.0,17476.0,26331.0,41214.0,6480.0,31950.0,30716.0,56256.0,22713.0,24969.0,38797.0,4122.0,8945.0,23047.0,4979.0,35883.0,21828.0,56444.0,90182.0,2979.0,91090.0,33512.0,20808.0,52000.0,5621.0,40930.0,3383.0,51334.0,191062.0,13727.0,3352.0,26717.0,58487.0,9908.0,24358.0,1956.0,39715.0,3150.0,43562.0,24790.0,202670.0,23472.0,11955.0,5768.0,143220.0,76428.0,7778.0,6428.0,50008.0,36893.0,14428.0,15828.0,23244.0,38337.0,5030.0,28012.0,24964.0,44184.0,20773.0,24352.0,35258.0,3595.0,7950.0,21927.0,4162.0,31710.0,18505.0,50781.0,79373.0,2707.0,78845.0,29508.0,17230.0,45720.0,4823.0,36721.0,2818.0,46642.0,169234.0,11518.0,2034.0,23122.0,55290.0,8973.0,21216.0,1689.0,35255.0,3511.0,37957.0,22640.0,197404.0,23454.0,10053.0,4773.0,109268.0,66374.0,6557.0,6124.0,46443.0,34410.0,14892.0,15362.0,22260.0,35453.0,4684.0,25678.0,21890.0,40041.0,19299.0,24799.0,34006.0,3838.0,6422.0,22360.0,3467.0,27960.0,17085.0,74841.0,2997.0,69303.0,28406.0,18336.0,39664.0,3947.0,34551.0,2960.0,43247.0,153054.0,12468.0,1968.0,21340.0,50993.0,9170.0,19554.0,1762.0,34045.0,4053.0,38216.0,23814.0,188304.0,23825.0,10107.0,5028.0,100325.0,62715.0,5983.0,6318.0,48193.0,33567.0,15306.0,14759.0,20932.0,34689.0,4001.0,24832.0,19204.0,39738.0,18582.0,23489.0,31716.0,3966.0,6459.0,18816.0,2989.0,25229.0,17280.0,39850.0,72082.0,3248.0,67081.0,29376.0,16919.0,35178.0,3650.0,33149.0,3002.0,40607.0,148796.0,12938.0,1884.0,20159.0,49249.0,9127.0,19498.0,1771.0],\"yaxis\":\"y\",\"type\":\"bar\"}],                        {\"template\":{\"data\":{\"histogram2dcontour\":[{\"type\":\"histogram2dcontour\",\"colorbar\":{\"outlinewidth\":0,\"ticks\":\"\"},\"colorscale\":[[0.0,\"#0d0887\"],[0.1111111111111111,\"#46039f\"],[0.2222222222222222,\"#7201a8\"],[0.3333333333333333,\"#9c179e\"],[0.4444444444444444,\"#bd3786\"],[0.5555555555555556,\"#d8576b\"],[0.6666666666666666,\"#ed7953\"],[0.7777777777777778,\"#fb9f3a\"],[0.8888888888888888,\"#fdca26\"],[1.0,\"#f0f921\"]]}],\"choropleth\":[{\"type\":\"choropleth\",\"colorbar\":{\"outlinewidth\":0,\"ticks\":\"\"}}],\"histogram2d\":[{\"type\":\"histogram2d\",\"colorbar\":{\"outlinewidth\":0,\"ticks\":\"\"},\"colorscale\":[[0.0,\"#0d0887\"],[0.1111111111111111,\"#46039f\"],[0.2222222222222222,\"#7201a8\"],[0.3333333333333333,\"#9c179e\"],[0.4444444444444444,\"#bd3786\"],[0.5555555555555556,\"#d8576b\"],[0.6666666666666666,\"#ed7953\"],[0.7777777777777778,\"#fb9f3a\"],[0.8888888888888888,\"#fdca26\"],[1.0,\"#f0f921\"]]}],\"heatmap\":[{\"type\":\"heatmap\",\"colorbar\":{\"outlinewidth\":0,\"ticks\":\"\"},\"colorscale\":[[0.0,\"#0d0887\"],[0.1111111111111111,\"#46039f\"],[0.2222222222222222,\"#7201a8\"],[0.3333333333333333,\"#9c179e\"],[0.4444444444444444,\"#bd3786\"],[0.5555555555555556,\"#d8576b\"],[0.6666666666666666,\"#ed7953\"],[0.7777777777777778,\"#fb9f3a\"],[0.8888888888888888,\"#fdca26\"],[1.0,\"#f0f921\"]]}],\"heatmapgl\":[{\"type\":\"heatmapgl\",\"colorbar\":{\"outlinewidth\":0,\"ticks\":\"\"},\"colorscale\":[[0.0,\"#0d0887\"],[0.1111111111111111,\"#46039f\"],[0.2222222222222222,\"#7201a8\"],[0.3333333333333333,\"#9c179e\"],[0.4444444444444444,\"#bd3786\"],[0.5555555555555556,\"#d8576b\"],[0.6666666666666666,\"#ed7953\"],[0.7777777777777778,\"#fb9f3a\"],[0.8888888888888888,\"#fdca26\"],[1.0,\"#f0f921\"]]}],\"contourcarpet\":[{\"type\":\"contourcarpet\",\"colorbar\":{\"outlinewidth\":0,\"ticks\":\"\"}}],\"contour\":[{\"type\":\"contour\",\"colorbar\":{\"outlinewidth\":0,\"ticks\":\"\"},\"colorscale\":[[0.0,\"#0d0887\"],[0.1111111111111111,\"#46039f\"],[0.2222222222222222,\"#7201a8\"],[0.3333333333333333,\"#9c179e\"],[0.4444444444444444,\"#bd3786\"],[0.5555555555555556,\"#d8576b\"],[0.6666666666666666,\"#ed7953\"],[0.7777777777777778,\"#fb9f3a\"],[0.8888888888888888,\"#fdca26\"],[1.0,\"#f0f921\"]]}],\"surface\":[{\"type\":\"surface\",\"colorbar\":{\"outlinewidth\":0,\"ticks\":\"\"},\"colorscale\":[[0.0,\"#0d0887\"],[0.1111111111111111,\"#46039f\"],[0.2222222222222222,\"#7201a8\"],[0.3333333333333333,\"#9c179e\"],[0.4444444444444444,\"#bd3786\"],[0.5555555555555556,\"#d8576b\"],[0.6666666666666666,\"#ed7953\"],[0.7777777777777778,\"#fb9f3a\"],[0.8888888888888888,\"#fdca26\"],[1.0,\"#f0f921\"]]}],\"mesh3d\":[{\"type\":\"mesh3d\",\"colorbar\":{\"outlinewidth\":0,\"ticks\":\"\"}}],\"scatter\":[{\"fillpattern\":{\"fillmode\":\"overlay\",\"size\":10,\"solidity\":0.2},\"type\":\"scatter\"}],\"parcoords\":[{\"type\":\"parcoords\",\"line\":{\"colorbar\":{\"outlinewidth\":0,\"ticks\":\"\"}}}],\"scatterpolargl\":[{\"type\":\"scatterpolargl\",\"marker\":{\"colorbar\":{\"outlinewidth\":0,\"ticks\":\"\"}}}],\"bar\":[{\"error_x\":{\"color\":\"#2a3f5f\"},\"error_y\":{\"color\":\"#2a3f5f\"},\"marker\":{\"line\":{\"color\":\"#E5ECF6\",\"width\":0.5},\"pattern\":{\"fillmode\":\"overlay\",\"size\":10,\"solidity\":0.2}},\"type\":\"bar\"}],\"scattergeo\":[{\"type\":\"scattergeo\",\"marker\":{\"colorbar\":{\"outlinewidth\":0,\"ticks\":\"\"}}}],\"scatterpolar\":[{\"type\":\"scatterpolar\",\"marker\":{\"colorbar\":{\"outlinewidth\":0,\"ticks\":\"\"}}}],\"histogram\":[{\"marker\":{\"pattern\":{\"fillmode\":\"overlay\",\"size\":10,\"solidity\":0.2}},\"type\":\"histogram\"}],\"scattergl\":[{\"type\":\"scattergl\",\"marker\":{\"colorbar\":{\"outlinewidth\":0,\"ticks\":\"\"}}}],\"scatter3d\":[{\"type\":\"scatter3d\",\"line\":{\"colorbar\":{\"outlinewidth\":0,\"ticks\":\"\"}},\"marker\":{\"colorbar\":{\"outlinewidth\":0,\"ticks\":\"\"}}}],\"scattermapbox\":[{\"type\":\"scattermapbox\",\"marker\":{\"colorbar\":{\"outlinewidth\":0,\"ticks\":\"\"}}}],\"scatterternary\":[{\"type\":\"scatterternary\",\"marker\":{\"colorbar\":{\"outlinewidth\":0,\"ticks\":\"\"}}}],\"scattercarpet\":[{\"type\":\"scattercarpet\",\"marker\":{\"colorbar\":{\"outlinewidth\":0,\"ticks\":\"\"}}}],\"carpet\":[{\"aaxis\":{\"endlinecolor\":\"#2a3f5f\",\"gridcolor\":\"white\",\"linecolor\":\"white\",\"minorgridcolor\":\"white\",\"startlinecolor\":\"#2a3f5f\"},\"baxis\":{\"endlinecolor\":\"#2a3f5f\",\"gridcolor\":\"white\",\"linecolor\":\"white\",\"minorgridcolor\":\"white\",\"startlinecolor\":\"#2a3f5f\"},\"type\":\"carpet\"}],\"table\":[{\"cells\":{\"fill\":{\"color\":\"#EBF0F8\"},\"line\":{\"color\":\"white\"}},\"header\":{\"fill\":{\"color\":\"#C8D4E3\"},\"line\":{\"color\":\"white\"}},\"type\":\"table\"}],\"barpolar\":[{\"marker\":{\"line\":{\"color\":\"#E5ECF6\",\"width\":0.5},\"pattern\":{\"fillmode\":\"overlay\",\"size\":10,\"solidity\":0.2}},\"type\":\"barpolar\"}],\"pie\":[{\"automargin\":true,\"type\":\"pie\"}]},\"layout\":{\"autotypenumbers\":\"strict\",\"colorway\":[\"#636efa\",\"#EF553B\",\"#00cc96\",\"#ab63fa\",\"#FFA15A\",\"#19d3f3\",\"#FF6692\",\"#B6E880\",\"#FF97FF\",\"#FECB52\"],\"font\":{\"color\":\"#2a3f5f\"},\"hovermode\":\"closest\",\"hoverlabel\":{\"align\":\"left\"},\"paper_bgcolor\":\"white\",\"plot_bgcolor\":\"#E5ECF6\",\"polar\":{\"bgcolor\":\"#E5ECF6\",\"angularaxis\":{\"gridcolor\":\"white\",\"linecolor\":\"white\",\"ticks\":\"\"},\"radialaxis\":{\"gridcolor\":\"white\",\"linecolor\":\"white\",\"ticks\":\"\"}},\"ternary\":{\"bgcolor\":\"#E5ECF6\",\"aaxis\":{\"gridcolor\":\"white\",\"linecolor\":\"white\",\"ticks\":\"\"},\"baxis\":{\"gridcolor\":\"white\",\"linecolor\":\"white\",\"ticks\":\"\"},\"caxis\":{\"gridcolor\":\"white\",\"linecolor\":\"white\",\"ticks\":\"\"}},\"coloraxis\":{\"colorbar\":{\"outlinewidth\":0,\"ticks\":\"\"}},\"colorscale\":{\"sequential\":[[0.0,\"#0d0887\"],[0.1111111111111111,\"#46039f\"],[0.2222222222222222,\"#7201a8\"],[0.3333333333333333,\"#9c179e\"],[0.4444444444444444,\"#bd3786\"],[0.5555555555555556,\"#d8576b\"],[0.6666666666666666,\"#ed7953\"],[0.7777777777777778,\"#fb9f3a\"],[0.8888888888888888,\"#fdca26\"],[1.0,\"#f0f921\"]],\"sequentialminus\":[[0.0,\"#0d0887\"],[0.1111111111111111,\"#46039f\"],[0.2222222222222222,\"#7201a8\"],[0.3333333333333333,\"#9c179e\"],[0.4444444444444444,\"#bd3786\"],[0.5555555555555556,\"#d8576b\"],[0.6666666666666666,\"#ed7953\"],[0.7777777777777778,\"#fb9f3a\"],[0.8888888888888888,\"#fdca26\"],[1.0,\"#f0f921\"]],\"diverging\":[[0,\"#8e0152\"],[0.1,\"#c51b7d\"],[0.2,\"#de77ae\"],[0.3,\"#f1b6da\"],[0.4,\"#fde0ef\"],[0.5,\"#f7f7f7\"],[0.6,\"#e6f5d0\"],[0.7,\"#b8e186\"],[0.8,\"#7fbc41\"],[0.9,\"#4d9221\"],[1,\"#276419\"]]},\"xaxis\":{\"gridcolor\":\"white\",\"linecolor\":\"white\",\"ticks\":\"\",\"title\":{\"standoff\":15},\"zerolinecolor\":\"white\",\"automargin\":true,\"zerolinewidth\":2},\"yaxis\":{\"gridcolor\":\"white\",\"linecolor\":\"white\",\"ticks\":\"\",\"title\":{\"standoff\":15},\"zerolinecolor\":\"white\",\"automargin\":true,\"zerolinewidth\":2},\"scene\":{\"xaxis\":{\"backgroundcolor\":\"#E5ECF6\",\"gridcolor\":\"white\",\"linecolor\":\"white\",\"showbackground\":true,\"ticks\":\"\",\"zerolinecolor\":\"white\",\"gridwidth\":2},\"yaxis\":{\"backgroundcolor\":\"#E5ECF6\",\"gridcolor\":\"white\",\"linecolor\":\"white\",\"showbackground\":true,\"ticks\":\"\",\"zerolinecolor\":\"white\",\"gridwidth\":2},\"zaxis\":{\"backgroundcolor\":\"#E5ECF6\",\"gridcolor\":\"white\",\"linecolor\":\"white\",\"showbackground\":true,\"ticks\":\"\",\"zerolinecolor\":\"white\",\"gridwidth\":2}},\"shapedefaults\":{\"line\":{\"color\":\"#2a3f5f\"}},\"annotationdefaults\":{\"arrowcolor\":\"#2a3f5f\",\"arrowhead\":0,\"arrowwidth\":1},\"geo\":{\"bgcolor\":\"white\",\"landcolor\":\"#E5ECF6\",\"subunitcolor\":\"white\",\"showland\":true,\"showlakes\":true,\"lakecolor\":\"white\"},\"title\":{\"x\":0.05},\"mapbox\":{\"style\":\"light\"}}},\"xaxis\":{\"anchor\":\"y\",\"domain\":[0.0,1.0],\"title\":{\"text\":\"jurisdiction\"}},\"yaxis\":{\"anchor\":\"x\",\"domain\":[0.0,1.0],\"title\":{\"text\":\"value\"}},\"legend\":{\"title\":{\"text\":\"variable\"},\"tracegroupgap\":0},\"title\":{\"text\":\"Includes jail or not based on the crimes\"},\"barmode\":\"relative\"},                        {\"responsive\": true}                    ).then(function(){\n                            \nvar gd = document.getElementById('8c3ff433-a098-4497-aa94-2d20103f734a');\nvar x = new MutationObserver(function (mutations, observer) {{\n        var display = window.getComputedStyle(gd).display;\n        if (!display || display === 'none') {{\n            console.log([gd, 'removed!']);\n            Plotly.purge(gd);\n            observer.disconnect();\n        }}\n}});\n\n// Listen for the removal of the full notebook cells\nvar notebookContainer = gd.closest('#notebook-container');\nif (notebookContainer) {{\n    x.observe(notebookContainer, {childList: true});\n}}\n\n// Listen for the clearing of the current output cell\nvar outputEl = gd.closest('.output');\nif (outputEl) {{\n    x.observe(outputEl, {childList: true});\n}}\n\n                        })                };                            </script>        </div>\n</body>\n</html>"
     },
     "execution_count": 14,
     "metadata": {
     },
     "output_type": "execute_result"
    }
   ],
   "source": [
    "# Plot 5: Includes jail or not based on the crimes\n",
    "\n",
    "path=['murder_manslaughter','rape_legacy','agg_assault','burglary']\n",
    "fig = px.bar(crime_df, x=\"jurisdiction\", y=path, hover_data = [\"includes_jails\",\"year\"], title=\"Includes jail or not based on the crimes\")\n",
    "fig.show()\n",
    "fig.write_html(\"includes_jails.html\")"
   ]
  },
  {
   "cell_type": "code",
   "execution_count": 15,
   "metadata": {
    "collapsed": false
   },
   "outputs": [
    {
     "data": {
      "text/plain": [
       "(array([-50000.,      0.,  50000., 100000., 150000., 200000., 250000.]),\n",
       " [Text(0, 0, ''),\n",
       "  Text(0, 0, ''),\n",
       "  Text(0, 0, ''),\n",
       "  Text(0, 0, ''),\n",
       "  Text(0, 0, ''),\n",
       "  Text(0, 0, ''),\n",
       "  Text(0, 0, '')])"
      ]
     },
     "execution_count": 15,
     "metadata": {
     },
     "output_type": "execute_result"
    },
    {
     "data": {
      "image/png": "[encoded data removed]",
      "text/plain": [
       "<Figure size 2160x720 with 1 Axes>"
      ]
     },
     "execution_count": 15,
     "metadata": {
      "needs_background": "light"
     },
     "output_type": "execute_result"
    }
   ],
   "source": [
    "# Plot 6: Total Violent Crime based on the prisoner count\n",
    "plt.figure(figsize=(30, 10))\n",
    "plt.scatter(crime_df['violent_crime_total'], crime_df['prisoner_count'])\n",
    "plt.title('Total Violent Crime based on Prisoner Count')\n",
    "plt.ylabel(\"Violent Crime\")\n",
    "plt.xlabel(\"Prisoner Count\")\n",
    "plt.xticks(rotation = 80)"
   ]
  },
  {
   "cell_type": "code",
   "execution_count": 16,
   "metadata": {
    "collapsed": false
   },
   "outputs": [
    {
     "data": {
      "text/plain": [
       "Text(0.5, 1.0, 'Amount of Prisoners per State')"
      ]
     },
     "execution_count": 16,
     "metadata": {
     },
     "output_type": "execute_result"
    },
    {
     "data": {
      "image/png": "[encoded data removed]",
      "text/plain": [
       "<Figure size 432x288 with 1 Axes>"
      ]
     },
     "execution_count": 16,
     "metadata": {
      "needs_background": "light"
     },
     "output_type": "execute_result"
    }
   ],
   "source": [
    "# Plot 7: Amount of prisoners per state\n",
    "\n",
    "sns.boxplot(x=\"prisoner_count\", data=crime_df.tail(50))\n",
    "plt.xlabel(\"Number of Prisoners\")\n",
    "plt.title(\"Amount of Prisoners per State\")"
   ]
  },
  {
   "cell_type": "markdown",
   "metadata": {
    "collapsed": false
   },
   "source": [
    "Data Analysis for the above plot:\n",
    "\n"
   ]
  },
  {
   "cell_type": "markdown",
   "metadata": {
    "collapsed": false
   },
   "source": [
    "#### Correlation Plot\n",
    "\n"
   ]
  },
  {
   "cell_type": "code",
   "execution_count": 17,
   "metadata": {
    "collapsed": false
   },
   "outputs": [
    {
     "data": {
      "text/html": [
       "<style type=\"text/css\">\n",
       "#T_a8a87_row0_col0, #T_a8a87_row1_col1, #T_a8a87_row2_col2, #T_a8a87_row3_col3, #T_a8a87_row4_col4, #T_a8a87_row5_col5, #T_a8a87_row6_col6, #T_a8a87_row7_col7, #T_a8a87_row8_col8, #T_a8a87_row9_col9 {\n",
       "  background-color: #b40426;\n",
       "  color: #f1f1f1;\n",
       "}\n",
       "#T_a8a87_row0_col1 {\n",
       "  background-color: #516ddb;\n",
       "  color: #f1f1f1;\n",
       "}\n",
       "#T_a8a87_row0_col2, #T_a8a87_row0_col3, #T_a8a87_row0_col4, #T_a8a87_row0_col5, #T_a8a87_row0_col6, #T_a8a87_row0_col7, #T_a8a87_row0_col8, #T_a8a87_row0_col9, #T_a8a87_row6_col0, #T_a8a87_row8_col1 {\n",
       "  background-color: #3b4cc0;\n",
       "  color: #f1f1f1;\n",
       "}\n",
       "#T_a8a87_row1_col0 {\n",
       "  background-color: #80a3fa;\n",
       "  color: #f1f1f1;\n",
       "}\n",
       "#T_a8a87_row1_col2, #T_a8a87_row1_col6 {\n",
       "  background-color: #7597f6;\n",
       "  color: #f1f1f1;\n",
       "}\n",
       "#T_a8a87_row1_col3 {\n",
       "  background-color: #86a9fc;\n",
       "  color: #f1f1f1;\n",
       "}\n",
       "#T_a8a87_row1_col4, #T_a8a87_row1_col7, #T_a8a87_row1_col9 {\n",
       "  background-color: #6b8df0;\n",
       "  color: #f1f1f1;\n",
       "}\n",
       "#T_a8a87_row1_col5 {\n",
       "  background-color: #779af7;\n",
       "  color: #f1f1f1;\n",
       "}\n",
       "#T_a8a87_row1_col8 {\n",
       "  background-color: #6788ee;\n",
       "  color: #f1f1f1;\n",
       "}\n",
       "#T_a8a87_row2_col0, #T_a8a87_row6_col1 {\n",
       "  background-color: #465ecf;\n",
       "  color: #f1f1f1;\n",
       "}\n",
       "#T_a8a87_row2_col1 {\n",
       "  background-color: #536edd;\n",
       "  color: #f1f1f1;\n",
       "}\n",
       "#T_a8a87_row2_col3, #T_a8a87_row5_col8, #T_a8a87_row8_col5 {\n",
       "  background-color: #c32e31;\n",
       "  color: #f1f1f1;\n",
       "}\n",
       "#T_a8a87_row2_col4, #T_a8a87_row4_col2, #T_a8a87_row4_col9, #T_a8a87_row5_col2, #T_a8a87_row6_col8, #T_a8a87_row8_col6, #T_a8a87_row9_col4 {\n",
       "  background-color: #c53334;\n",
       "  color: #f1f1f1;\n",
       "}\n",
       "#T_a8a87_row2_col5, #T_a8a87_row3_col2 {\n",
       "  background-color: #c43032;\n",
       "  color: #f1f1f1;\n",
       "}\n",
       "#T_a8a87_row2_col6, #T_a8a87_row3_col9, #T_a8a87_row9_col3 {\n",
       "  background-color: #cb3e38;\n",
       "  color: #f1f1f1;\n",
       "}\n",
       "#T_a8a87_row2_col7, #T_a8a87_row5_col9, #T_a8a87_row6_col9, #T_a8a87_row7_col2, #T_a8a87_row9_col5 {\n",
       "  background-color: #ca3b37;\n",
       "  color: #f1f1f1;\n",
       "}\n",
       "#T_a8a87_row2_col8, #T_a8a87_row4_col5, #T_a8a87_row4_col8, #T_a8a87_row5_col4, #T_a8a87_row8_col2 {\n",
       "  background-color: #bd1f2d;\n",
       "  color: #f1f1f1;\n",
       "}\n",
       "#T_a8a87_row2_col9, #T_a8a87_row3_col5, #T_a8a87_row3_col8, #T_a8a87_row5_col3, #T_a8a87_row5_col7, #T_a8a87_row7_col5, #T_a8a87_row7_col8, #T_a8a87_row8_col3, #T_a8a87_row8_col7, #T_a8a87_row9_col2 {\n",
       "  background-color: #c12b30;\n",
       "  color: #f1f1f1;\n",
       "}\n",
       "#T_a8a87_row3_col0, #T_a8a87_row5_col0, #T_a8a87_row8_col0, #T_a8a87_row9_col0 {\n",
       "  background-color: #3c4ec2;\n",
       "  color: #f1f1f1;\n",
       "}\n",
       "#T_a8a87_row3_col1 {\n",
       "  background-color: #5a78e4;\n",
       "  color: #f1f1f1;\n",
       "}\n",
       "#T_a8a87_row3_col4, #T_a8a87_row4_col3 {\n",
       "  background-color: #c0282f;\n",
       "  color: #f1f1f1;\n",
       "}\n",
       "#T_a8a87_row3_col6, #T_a8a87_row6_col7 {\n",
       "  background-color: #d0473d;\n",
       "  color: #f1f1f1;\n",
       "}\n",
       "#T_a8a87_row3_col7, #T_a8a87_row7_col3, #T_a8a87_row7_col9 {\n",
       "  background-color: #c73635;\n",
       "  color: #f1f1f1;\n",
       "}\n",
       "#T_a8a87_row4_col0, #T_a8a87_row7_col0 {\n",
       "  background-color: #4055c8;\n",
       "  color: #f1f1f1;\n",
       "}\n",
       "#T_a8a87_row4_col1, #T_a8a87_row7_col1 {\n",
       "  background-color: #4358cb;\n",
       "  color: #f1f1f1;\n",
       "}\n",
       "#T_a8a87_row4_col6, #T_a8a87_row6_col2, #T_a8a87_row6_col4 {\n",
       "  background-color: #cc403a;\n",
       "  color: #f1f1f1;\n",
       "}\n",
       "#T_a8a87_row4_col7, #T_a8a87_row7_col4 {\n",
       "  background-color: #b50927;\n",
       "  color: #f1f1f1;\n",
       "}\n",
       "#T_a8a87_row5_col1 {\n",
       "  background-color: #4a63d3;\n",
       "  color: #f1f1f1;\n",
       "}\n",
       "#T_a8a87_row5_col6, #T_a8a87_row6_col5 {\n",
       "  background-color: #d24b40;\n",
       "  color: #f1f1f1;\n",
       "}\n",
       "#T_a8a87_row6_col3 {\n",
       "  background-color: #d1493f;\n",
       "  color: #f1f1f1;\n",
       "}\n",
       "#T_a8a87_row7_col6 {\n",
       "  background-color: #cf453c;\n",
       "  color: #f1f1f1;\n",
       "}\n",
       "#T_a8a87_row8_col4 {\n",
       "  background-color: #be242e;\n",
       "  color: #f1f1f1;\n",
       "}\n",
       "#T_a8a87_row8_col9, #T_a8a87_row9_col8 {\n",
       "  background-color: #b70d28;\n",
       "  color: #f1f1f1;\n",
       "}\n",
       "#T_a8a87_row9_col1 {\n",
       "  background-color: #3e51c5;\n",
       "  color: #f1f1f1;\n",
       "}\n",
       "#T_a8a87_row9_col6, #T_a8a87_row9_col7 {\n",
       "  background-color: #c83836;\n",
       "  color: #f1f1f1;\n",
       "}\n",
       "</style>\n",
       "<table id=\"T_a8a87\">\n",
       "  <thead>\n",
       "    <tr>\n",
       "      <th class=\"blank level0\" >&nbsp;</th>\n",
       "      <th id=\"T_a8a87_level0_col0\" class=\"col_heading level0 col0\" >includes_jails</th>\n",
       "      <th id=\"T_a8a87_level0_col1\" class=\"col_heading level0 col1\" >year</th>\n",
       "      <th id=\"T_a8a87_level0_col2\" class=\"col_heading level0 col2\" >prisoner_count</th>\n",
       "      <th id=\"T_a8a87_level0_col3\" class=\"col_heading level0 col3\" >state_population</th>\n",
       "      <th id=\"T_a8a87_level0_col4\" class=\"col_heading level0 col4\" >violent_crime_total</th>\n",
       "      <th id=\"T_a8a87_level0_col5\" class=\"col_heading level0 col5\" >murder_manslaughter</th>\n",
       "      <th id=\"T_a8a87_level0_col6\" class=\"col_heading level0 col6\" >rape_legacy</th>\n",
       "      <th id=\"T_a8a87_level0_col7\" class=\"col_heading level0 col7\" >agg_assault</th>\n",
       "      <th id=\"T_a8a87_level0_col8\" class=\"col_heading level0 col8\" >property_crime_total</th>\n",
       "      <th id=\"T_a8a87_level0_col9\" class=\"col_heading level0 col9\" >burglary</th>\n",
       "    </tr>\n",
       "  </thead>\n",
       "  <tbody>\n",
       "    <tr>\n",
       "      <th id=\"T_a8a87_level0_row0\" class=\"row_heading level0 row0\" >includes_jails</th>\n",
       "      <td id=\"T_a8a87_row0_col0\" class=\"data row0 col0\" >1.000000</td>\n",
       "      <td id=\"T_a8a87_row0_col1\" class=\"data row0 col1\" >0.000653</td>\n",
       "      <td id=\"T_a8a87_row0_col2\" class=\"data row0 col2\" >-0.212966</td>\n",
       "      <td id=\"T_a8a87_row0_col3\" class=\"data row0 col3\" >-0.259495</td>\n",
       "      <td id=\"T_a8a87_row0_col4\" class=\"data row0 col4\" >-0.237818</td>\n",
       "      <td id=\"T_a8a87_row0_col5\" class=\"data row0 col5\" >-0.259815</td>\n",
       "      <td id=\"T_a8a87_row0_col6\" class=\"data row0 col6\" >-0.266943</td>\n",
       "      <td id=\"T_a8a87_row0_col7\" class=\"data row0 col7\" >-0.240870</td>\n",
       "      <td id=\"T_a8a87_row0_col8\" class=\"data row0 col8\" >-0.259262</td>\n",
       "      <td id=\"T_a8a87_row0_col9\" class=\"data row0 col9\" >-0.261738</td>\n",
       "    </tr>\n",
       "    <tr>\n",
       "      <th id=\"T_a8a87_level0_row1\" class=\"row_heading level0 row1\" >year</th>\n",
       "      <td id=\"T_a8a87_row1_col0\" class=\"data row1 col0\" >0.000653</td>\n",
       "      <td id=\"T_a8a87_row1_col1\" class=\"data row1 col1\" >1.000000</td>\n",
       "      <td id=\"T_a8a87_row1_col2\" class=\"data row1 col2\" >0.006612</td>\n",
       "      <td id=\"T_a8a87_row1_col3\" class=\"data row1 col3\" >0.031225</td>\n",
       "      <td id=\"T_a8a87_row1_col4\" class=\"data row1 col4\" >-0.047506</td>\n",
       "      <td id=\"T_a8a87_row1_col5\" class=\"data row1 col5\" >-0.021080</td>\n",
       "      <td id=\"T_a8a87_row1_col6\" class=\"data row1 col6\" >-0.036419</td>\n",
       "      <td id=\"T_a8a87_row1_col7\" class=\"data row1 col7\" >-0.049170</td>\n",
       "      <td id=\"T_a8a87_row1_col8\" class=\"data row1 col8\" >-0.080039</td>\n",
       "      <td id=\"T_a8a87_row1_col9\" class=\"data row1 col9\" >-0.066611</td>\n",
       "    </tr>\n",
       "    <tr>\n",
       "      <th id=\"T_a8a87_level0_row2\" class=\"row_heading level0 row2\" >prisoner_count</th>\n",
       "      <td id=\"T_a8a87_row2_col0\" class=\"data row2 col0\" >-0.212966</td>\n",
       "      <td id=\"T_a8a87_row2_col1\" class=\"data row2 col1\" >0.006612</td>\n",
       "      <td id=\"T_a8a87_row2_col2\" class=\"data row2 col2\" >1.000000</td>\n",
       "      <td id=\"T_a8a87_row2_col3\" class=\"data row2 col3\" >0.946487</td>\n",
       "      <td id=\"T_a8a87_row2_col4\" class=\"data row2 col4\" >0.941173</td>\n",
       "      <td id=\"T_a8a87_row2_col5\" class=\"data row2 col5\" >0.942476</td>\n",
       "      <td id=\"T_a8a87_row2_col6\" class=\"data row2 col6\" >0.916983</td>\n",
       "      <td id=\"T_a8a87_row2_col7\" class=\"data row2 col7\" >0.926015</td>\n",
       "      <td id=\"T_a8a87_row2_col8\" class=\"data row2 col8\" >0.968866</td>\n",
       "      <td id=\"T_a8a87_row2_col9\" class=\"data row2 col9\" >0.953372</td>\n",
       "    </tr>\n",
       "    <tr>\n",
       "      <th id=\"T_a8a87_level0_row3\" class=\"row_heading level0 row3\" >state_population</th>\n",
       "      <td id=\"T_a8a87_row3_col0\" class=\"data row3 col0\" >-0.259495</td>\n",
       "      <td id=\"T_a8a87_row3_col1\" class=\"data row3 col1\" >0.031225</td>\n",
       "      <td id=\"T_a8a87_row3_col2\" class=\"data row3 col2\" >0.946487</td>\n",
       "      <td id=\"T_a8a87_row3_col3\" class=\"data row3 col3\" >1.000000</td>\n",
       "      <td id=\"T_a8a87_row3_col4\" class=\"data row3 col4\" >0.960609</td>\n",
       "      <td id=\"T_a8a87_row3_col5\" class=\"data row3 col5\" >0.953897</td>\n",
       "      <td id=\"T_a8a87_row3_col6\" class=\"data row3 col6\" >0.896254</td>\n",
       "      <td id=\"T_a8a87_row3_col7\" class=\"data row3 col7\" >0.934605</td>\n",
       "      <td id=\"T_a8a87_row3_col8\" class=\"data row3 col8\" >0.951278</td>\n",
       "      <td id=\"T_a8a87_row3_col9\" class=\"data row3 col9\" >0.917524</td>\n",
       "    </tr>\n",
       "    <tr>\n",
       "      <th id=\"T_a8a87_level0_row4\" class=\"row_heading level0 row4\" >violent_crime_total</th>\n",
       "      <td id=\"T_a8a87_row4_col0\" class=\"data row4 col0\" >-0.237818</td>\n",
       "      <td id=\"T_a8a87_row4_col1\" class=\"data row4 col1\" >-0.047506</td>\n",
       "      <td id=\"T_a8a87_row4_col2\" class=\"data row4 col2\" >0.941173</td>\n",
       "      <td id=\"T_a8a87_row4_col3\" class=\"data row4 col3\" >0.960609</td>\n",
       "      <td id=\"T_a8a87_row4_col4\" class=\"data row4 col4\" >1.000000</td>\n",
       "      <td id=\"T_a8a87_row4_col5\" class=\"data row4 col5\" >0.969505</td>\n",
       "      <td id=\"T_a8a87_row4_col6\" class=\"data row4 col6\" >0.913240</td>\n",
       "      <td id=\"T_a8a87_row4_col7\" class=\"data row4 col7\" >0.994019</td>\n",
       "      <td id=\"T_a8a87_row4_col8\" class=\"data row4 col8\" >0.965846</td>\n",
       "      <td id=\"T_a8a87_row4_col9\" class=\"data row4 col9\" >0.939681</td>\n",
       "    </tr>\n",
       "    <tr>\n",
       "      <th id=\"T_a8a87_level0_row5\" class=\"row_heading level0 row5\" >murder_manslaughter</th>\n",
       "      <td id=\"T_a8a87_row5_col0\" class=\"data row5 col0\" >-0.259815</td>\n",
       "      <td id=\"T_a8a87_row5_col1\" class=\"data row5 col1\" >-0.021080</td>\n",
       "      <td id=\"T_a8a87_row5_col2\" class=\"data row5 col2\" >0.942476</td>\n",
       "      <td id=\"T_a8a87_row5_col3\" class=\"data row5 col3\" >0.953897</td>\n",
       "      <td id=\"T_a8a87_row5_col4\" class=\"data row5 col4\" >0.969505</td>\n",
       "      <td id=\"T_a8a87_row5_col5\" class=\"data row5 col5\" >1.000000</td>\n",
       "      <td id=\"T_a8a87_row5_col6\" class=\"data row5 col6\" >0.890569</td>\n",
       "      <td id=\"T_a8a87_row5_col7\" class=\"data row5 col7\" >0.952649</td>\n",
       "      <td id=\"T_a8a87_row5_col8\" class=\"data row5 col8\" >0.949806</td>\n",
       "      <td id=\"T_a8a87_row5_col9\" class=\"data row5 col9\" >0.925517</td>\n",
       "    </tr>\n",
       "    <tr>\n",
       "      <th id=\"T_a8a87_level0_row6\" class=\"row_heading level0 row6\" >rape_legacy</th>\n",
       "      <td id=\"T_a8a87_row6_col0\" class=\"data row6 col0\" >-0.266943</td>\n",
       "      <td id=\"T_a8a87_row6_col1\" class=\"data row6 col1\" >-0.036419</td>\n",
       "      <td id=\"T_a8a87_row6_col2\" class=\"data row6 col2\" >0.916983</td>\n",
       "      <td id=\"T_a8a87_row6_col3\" class=\"data row6 col3\" >0.896254</td>\n",
       "      <td id=\"T_a8a87_row6_col4\" class=\"data row6 col4\" >0.913240</td>\n",
       "      <td id=\"T_a8a87_row6_col5\" class=\"data row6 col5\" >0.890569</td>\n",
       "      <td id=\"T_a8a87_row6_col6\" class=\"data row6 col6\" >1.000000</td>\n",
       "      <td id=\"T_a8a87_row6_col7\" class=\"data row6 col7\" >0.902545</td>\n",
       "      <td id=\"T_a8a87_row6_col8\" class=\"data row6 col8\" >0.937447</td>\n",
       "      <td id=\"T_a8a87_row6_col9\" class=\"data row6 col9\" >0.925981</td>\n",
       "    </tr>\n",
       "    <tr>\n",
       "      <th id=\"T_a8a87_level0_row7\" class=\"row_heading level0 row7\" >agg_assault</th>\n",
       "      <td id=\"T_a8a87_row7_col0\" class=\"data row7 col0\" >-0.240870</td>\n",
       "      <td id=\"T_a8a87_row7_col1\" class=\"data row7 col1\" >-0.049170</td>\n",
       "      <td id=\"T_a8a87_row7_col2\" class=\"data row7 col2\" >0.926015</td>\n",
       "      <td id=\"T_a8a87_row7_col3\" class=\"data row7 col3\" >0.934605</td>\n",
       "      <td id=\"T_a8a87_row7_col4\" class=\"data row7 col4\" >0.994019</td>\n",
       "      <td id=\"T_a8a87_row7_col5\" class=\"data row7 col5\" >0.952649</td>\n",
       "      <td id=\"T_a8a87_row7_col6\" class=\"data row7 col6\" >0.902545</td>\n",
       "      <td id=\"T_a8a87_row7_col7\" class=\"data row7 col7\" >1.000000</td>\n",
       "      <td id=\"T_a8a87_row7_col8\" class=\"data row7 col8\" >0.954541</td>\n",
       "      <td id=\"T_a8a87_row7_col9\" class=\"data row7 col9\" >0.932111</td>\n",
       "    </tr>\n",
       "    <tr>\n",
       "      <th id=\"T_a8a87_level0_row8\" class=\"row_heading level0 row8\" >property_crime_total</th>\n",
       "      <td id=\"T_a8a87_row8_col0\" class=\"data row8 col0\" >-0.259262</td>\n",
       "      <td id=\"T_a8a87_row8_col1\" class=\"data row8 col1\" >-0.080039</td>\n",
       "      <td id=\"T_a8a87_row8_col2\" class=\"data row8 col2\" >0.968866</td>\n",
       "      <td id=\"T_a8a87_row8_col3\" class=\"data row8 col3\" >0.951278</td>\n",
       "      <td id=\"T_a8a87_row8_col4\" class=\"data row8 col4\" >0.965846</td>\n",
       "      <td id=\"T_a8a87_row8_col5\" class=\"data row8 col5\" >0.949806</td>\n",
       "      <td id=\"T_a8a87_row8_col6\" class=\"data row8 col6\" >0.937447</td>\n",
       "      <td id=\"T_a8a87_row8_col7\" class=\"data row8 col7\" >0.954541</td>\n",
       "      <td id=\"T_a8a87_row8_col8\" class=\"data row8 col8\" >1.000000</td>\n",
       "      <td id=\"T_a8a87_row8_col9\" class=\"data row8 col9\" >0.985963</td>\n",
       "    </tr>\n",
       "    <tr>\n",
       "      <th id=\"T_a8a87_level0_row9\" class=\"row_heading level0 row9\" >burglary</th>\n",
       "      <td id=\"T_a8a87_row9_col0\" class=\"data row9 col0\" >-0.261738</td>\n",
       "      <td id=\"T_a8a87_row9_col1\" class=\"data row9 col1\" >-0.066611</td>\n",
       "      <td id=\"T_a8a87_row9_col2\" class=\"data row9 col2\" >0.953372</td>\n",
       "      <td id=\"T_a8a87_row9_col3\" class=\"data row9 col3\" >0.917524</td>\n",
       "      <td id=\"T_a8a87_row9_col4\" class=\"data row9 col4\" >0.939681</td>\n",
       "      <td id=\"T_a8a87_row9_col5\" class=\"data row9 col5\" >0.925517</td>\n",
       "      <td id=\"T_a8a87_row9_col6\" class=\"data row9 col6\" >0.925981</td>\n",
       "      <td id=\"T_a8a87_row9_col7\" class=\"data row9 col7\" >0.932111</td>\n",
       "      <td id=\"T_a8a87_row9_col8\" class=\"data row9 col8\" >0.985963</td>\n",
       "      <td id=\"T_a8a87_row9_col9\" class=\"data row9 col9\" >1.000000</td>\n",
       "    </tr>\n",
       "  </tbody>\n",
       "</table>\n"
      ],
      "text/plain": [
       "<pandas.io.formats.style.Styler at 0x7f9e9a1fb880>"
      ]
     },
     "execution_count": 17,
     "metadata": {
     },
     "output_type": "execute_result"
    }
   ],
   "source": [
    "corr=crime_df.corr()\n",
    "corr.style.background_gradient(cmap='coolwarm')"
   ]
  },
  {
   "cell_type": "code",
   "execution_count": 18,
   "metadata": {
    "collapsed": false
   },
   "outputs": [
   ],
   "source": [
    "# A correlation plot helps provide a visualization of the correlation between independent variables in the dataset. Correlation plots have three different types of correlation between variables; positive correlation, negative correlation, and zero correlation. When two variables increase or decrease together, they have a positive correlation, which is represented by a 1. When one variable increases and the other variable decreases, it is a negative correlation, which is represented by a -1. When two variables have no impact on each other, there is zero correlation, which is represented by a 0. Collinearity is the correlation between variables that expresses a linear relation in a regression model. Correlation indicates the strength of the linear relationship that might be existing between two variables. High Collinearity among these variables causes over fitting in the model. To avoid this its suggested to drop such variables."
   ]
  },
  {
   "cell_type": "markdown",
   "metadata": {
    "collapsed": false
   },
   "source": [
    "## Feature Selection & Extraction\n",
    "\n"
   ]
  },
  {
   "cell_type": "markdown",
   "metadata": {
    "collapsed": false
   },
   "source": [
    "## Models\n",
    "\n"
   ]
  },
  {
   "cell_type": "markdown",
   "metadata": {
    "collapsed": false
   },
   "source": [
    "#### Label Encoding\n",
    "\n"
   ]
  },
  {
   "cell_type": "code",
   "execution_count": 19,
   "metadata": {
    "collapsed": false
   },
   "outputs": [
    {
     "data": {
      "text/html": [
       "<div>\n",
       "<style scoped>\n",
       "    .dataframe tbody tr th:only-of-type {\n",
       "        vertical-align: middle;\n",
       "    }\n",
       "\n",
       "    .dataframe tbody tr th {\n",
       "        vertical-align: top;\n",
       "    }\n",
       "\n",
       "    .dataframe thead th {\n",
       "        text-align: right;\n",
       "    }\n",
       "</style>\n",
       "<table border=\"1\" class=\"dataframe\">\n",
       "  <thead>\n",
       "    <tr style=\"text-align: right;\">\n",
       "      <th></th>\n",
       "      <th>jurisdiction</th>\n",
       "      <th>includes_jails</th>\n",
       "      <th>year</th>\n",
       "      <th>prisoner_count</th>\n",
       "      <th>crime_reporting_change</th>\n",
       "      <th>crimes_estimated</th>\n",
       "      <th>state_population</th>\n",
       "      <th>violent_crime_total</th>\n",
       "      <th>murder_manslaughter</th>\n",
       "      <th>rape_legacy</th>\n",
       "      <th>agg_assault</th>\n",
       "      <th>property_crime_total</th>\n",
       "      <th>burglary</th>\n",
       "      <th>jurisdiction Labels</th>\n",
       "      <th>includes_jails Labels</th>\n",
       "    </tr>\n",
       "  </thead>\n",
       "  <tbody>\n",
       "    <tr>\n",
       "      <th>1</th>\n",
       "      <td>0</td>\n",
       "      <td>0</td>\n",
       "      <td>2001</td>\n",
       "      <td>24741</td>\n",
       "      <td>False</td>\n",
       "      <td>False</td>\n",
       "      <td>4468912.0</td>\n",
       "      <td>19582.0</td>\n",
       "      <td>379.0</td>\n",
       "      <td>1369.000000</td>\n",
       "      <td>12250.0</td>\n",
       "      <td>173253.0</td>\n",
       "      <td>40642.0</td>\n",
       "      <td>0</td>\n",
       "      <td>0</td>\n",
       "    </tr>\n",
       "    <tr>\n",
       "      <th>2</th>\n",
       "      <td>1</td>\n",
       "      <td>1</td>\n",
       "      <td>2001</td>\n",
       "      <td>4570</td>\n",
       "      <td>False</td>\n",
       "      <td>False</td>\n",
       "      <td>633630.0</td>\n",
       "      <td>3735.0</td>\n",
       "      <td>39.0</td>\n",
       "      <td>501.000000</td>\n",
       "      <td>2681.0</td>\n",
       "      <td>23160.0</td>\n",
       "      <td>3847.0</td>\n",
       "      <td>1</td>\n",
       "      <td>1</td>\n",
       "    </tr>\n",
       "    <tr>\n",
       "      <th>3</th>\n",
       "      <td>2</td>\n",
       "      <td>0</td>\n",
       "      <td>2001</td>\n",
       "      <td>27710</td>\n",
       "      <td>False</td>\n",
       "      <td>False</td>\n",
       "      <td>5306966.0</td>\n",
       "      <td>28675.0</td>\n",
       "      <td>400.0</td>\n",
       "      <td>1518.000000</td>\n",
       "      <td>17889.0</td>\n",
       "      <td>293874.0</td>\n",
       "      <td>54821.0</td>\n",
       "      <td>2</td>\n",
       "      <td>0</td>\n",
       "    </tr>\n",
       "    <tr>\n",
       "      <th>4</th>\n",
       "      <td>3</td>\n",
       "      <td>0</td>\n",
       "      <td>2001</td>\n",
       "      <td>11489</td>\n",
       "      <td>False</td>\n",
       "      <td>False</td>\n",
       "      <td>2694698.0</td>\n",
       "      <td>12190.0</td>\n",
       "      <td>148.0</td>\n",
       "      <td>892.000000</td>\n",
       "      <td>8969.0</td>\n",
       "      <td>99106.0</td>\n",
       "      <td>22196.0</td>\n",
       "      <td>3</td>\n",
       "      <td>0</td>\n",
       "    </tr>\n",
       "    <tr>\n",
       "      <th>5</th>\n",
       "      <td>4</td>\n",
       "      <td>0</td>\n",
       "      <td>2001</td>\n",
       "      <td>157142</td>\n",
       "      <td>False</td>\n",
       "      <td>False</td>\n",
       "      <td>34600463.0</td>\n",
       "      <td>212867.0</td>\n",
       "      <td>2206.0</td>\n",
       "      <td>9960.000000</td>\n",
       "      <td>136087.0</td>\n",
       "      <td>1134189.0</td>\n",
       "      <td>232273.0</td>\n",
       "      <td>4</td>\n",
       "      <td>0</td>\n",
       "    </tr>\n",
       "    <tr>\n",
       "      <th>...</th>\n",
       "      <td>...</td>\n",
       "      <td>...</td>\n",
       "      <td>...</td>\n",
       "      <td>...</td>\n",
       "      <td>...</td>\n",
       "      <td>...</td>\n",
       "      <td>...</td>\n",
       "      <td>...</td>\n",
       "      <td>...</td>\n",
       "      <td>...</td>\n",
       "      <td>...</td>\n",
       "      <td>...</td>\n",
       "      <td>...</td>\n",
       "      <td>...</td>\n",
       "      <td>...</td>\n",
       "    </tr>\n",
       "    <tr>\n",
       "      <th>811</th>\n",
       "      <td>45</td>\n",
       "      <td>0</td>\n",
       "      <td>2016</td>\n",
       "      <td>29882</td>\n",
       "      <td>False</td>\n",
       "      <td>False</td>\n",
       "      <td>8414380.0</td>\n",
       "      <td>18495.0</td>\n",
       "      <td>482.0</td>\n",
       "      <td>1788.339119</td>\n",
       "      <td>10357.0</td>\n",
       "      <td>157292.0</td>\n",
       "      <td>20159.0</td>\n",
       "      <td>45</td>\n",
       "      <td>0</td>\n",
       "    </tr>\n",
       "    <tr>\n",
       "      <th>812</th>\n",
       "      <td>46</td>\n",
       "      <td>0</td>\n",
       "      <td>2016</td>\n",
       "      <td>17228</td>\n",
       "      <td>False</td>\n",
       "      <td>False</td>\n",
       "      <td>7280934.0</td>\n",
       "      <td>22101.0</td>\n",
       "      <td>195.0</td>\n",
       "      <td>1788.339119</td>\n",
       "      <td>13124.0</td>\n",
       "      <td>254994.0</td>\n",
       "      <td>49249.0</td>\n",
       "      <td>46</td>\n",
       "      <td>0</td>\n",
       "    </tr>\n",
       "    <tr>\n",
       "      <th>813</th>\n",
       "      <td>47</td>\n",
       "      <td>0</td>\n",
       "      <td>2016</td>\n",
       "      <td>5899</td>\n",
       "      <td>False</td>\n",
       "      <td>False</td>\n",
       "      <td>1828637.0</td>\n",
       "      <td>6633.0</td>\n",
       "      <td>85.0</td>\n",
       "      <td>1788.339119</td>\n",
       "      <td>5144.0</td>\n",
       "      <td>37282.0</td>\n",
       "      <td>9127.0</td>\n",
       "      <td>47</td>\n",
       "      <td>0</td>\n",
       "    </tr>\n",
       "    <tr>\n",
       "      <th>814</th>\n",
       "      <td>48</td>\n",
       "      <td>0</td>\n",
       "      <td>2016</td>\n",
       "      <td>23163</td>\n",
       "      <td>False</td>\n",
       "      <td>False</td>\n",
       "      <td>5772917.0</td>\n",
       "      <td>17716.0</td>\n",
       "      <td>232.0</td>\n",
       "      <td>1788.339119</td>\n",
       "      <td>10772.0</td>\n",
       "      <td>111911.0</td>\n",
       "      <td>19498.0</td>\n",
       "      <td>48</td>\n",
       "      <td>0</td>\n",
       "    </tr>\n",
       "    <tr>\n",
       "      <th>815</th>\n",
       "      <td>49</td>\n",
       "      <td>0</td>\n",
       "      <td>2016</td>\n",
       "      <td>2352</td>\n",
       "      <td>False</td>\n",
       "      <td>False</td>\n",
       "      <td>584910.0</td>\n",
       "      <td>1431.0</td>\n",
       "      <td>20.0</td>\n",
       "      <td>1788.339119</td>\n",
       "      <td>1146.0</td>\n",
       "      <td>11460.0</td>\n",
       "      <td>1771.0</td>\n",
       "      <td>49</td>\n",
       "      <td>0</td>\n",
       "    </tr>\n",
       "  </tbody>\n",
       "</table>\n",
       "<p>799 rows × 15 columns</p>\n",
       "</div>"
      ],
      "text/plain": [
       "     jurisdiction  includes_jails  year  prisoner_count  \\\n",
       "1               0               0  2001           24741   \n",
       "2               1               1  2001            4570   \n",
       "3               2               0  2001           27710   \n",
       "4               3               0  2001           11489   \n",
       "5               4               0  2001          157142   \n",
       "..            ...             ...   ...             ...   \n",
       "811            45               0  2016           29882   \n",
       "812            46               0  2016           17228   \n",
       "813            47               0  2016            5899   \n",
       "814            48               0  2016           23163   \n",
       "815            49               0  2016            2352   \n",
       "\n",
       "    crime_reporting_change crimes_estimated  state_population  \\\n",
       "1                    False            False         4468912.0   \n",
       "2                    False            False          633630.0   \n",
       "3                    False            False         5306966.0   \n",
       "4                    False            False         2694698.0   \n",
       "5                    False            False        34600463.0   \n",
       "..                     ...              ...               ...   \n",
       "811                  False            False         8414380.0   \n",
       "812                  False            False         7280934.0   \n",
       "813                  False            False         1828637.0   \n",
       "814                  False            False         5772917.0   \n",
       "815                  False            False          584910.0   \n",
       "\n",
       "     violent_crime_total  murder_manslaughter  rape_legacy  agg_assault  \\\n",
       "1                19582.0                379.0  1369.000000      12250.0   \n",
       "2                 3735.0                 39.0   501.000000       2681.0   \n",
       "3                28675.0                400.0  1518.000000      17889.0   \n",
       "4                12190.0                148.0   892.000000       8969.0   \n",
       "5               212867.0               2206.0  9960.000000     136087.0   \n",
       "..                   ...                  ...          ...          ...   \n",
       "811              18495.0                482.0  1788.339119      10357.0   \n",
       "812              22101.0                195.0  1788.339119      13124.0   \n",
       "813               6633.0                 85.0  1788.339119       5144.0   \n",
       "814              17716.0                232.0  1788.339119      10772.0   \n",
       "815               1431.0                 20.0  1788.339119       1146.0   \n",
       "\n",
       "     property_crime_total  burglary  jurisdiction Labels  \\\n",
       "1                173253.0   40642.0                    0   \n",
       "2                 23160.0    3847.0                    1   \n",
       "3                293874.0   54821.0                    2   \n",
       "4                 99106.0   22196.0                    3   \n",
       "5               1134189.0  232273.0                    4   \n",
       "..                    ...       ...                  ...   \n",
       "811              157292.0   20159.0                   45   \n",
       "812              254994.0   49249.0                   46   \n",
       "813               37282.0    9127.0                   47   \n",
       "814              111911.0   19498.0                   48   \n",
       "815               11460.0    1771.0                   49   \n",
       "\n",
       "     includes_jails Labels  \n",
       "1                        0  \n",
       "2                        1  \n",
       "3                        0  \n",
       "4                        0  \n",
       "5                        0  \n",
       "..                     ...  \n",
       "811                      0  \n",
       "812                      0  \n",
       "813                      0  \n",
       "814                      0  \n",
       "815                      0  \n",
       "\n",
       "[799 rows x 15 columns]"
      ]
     },
     "execution_count": 19,
     "metadata": {
     },
     "output_type": "execute_result"
    }
   ],
   "source": [
    "labelencoder = LabelEncoder()\n",
    "crime_df['jurisdiction Labels'] = labelencoder.fit_transform(crime_df[\"jurisdiction\"])\n",
    "crime_df['includes_jails Labels'] = labelencoder.fit_transform(crime_df[\"includes_jails\"])\n",
    "crime_df['jurisdiction'] = crime_df['jurisdiction Labels']\n",
    "crime_df['includes_jails'] = crime_df['includes_jails Labels']\n",
    "crime_df"
   ]
  },
  {
   "cell_type": "code",
   "execution_count": 20,
   "metadata": {
    "collapsed": false
   },
   "outputs": [
   ],
   "source": [
    "training_features = ['jurisdiction','includes_jails','state_population','violent_crime_total','murder_manslaughter','rape_legacy','agg_assault','property_crime_total','burglary']\n",
    "target = 'prisoner_count'"
   ]
  },
  {
   "cell_type": "code",
   "execution_count": 21,
   "metadata": {
    "collapsed": false
   },
   "outputs": [
    {
     "name": "stdout",
     "output_type": "stream",
     "text": [
      "160 160\n"
     ]
    },
    {
     "data": {
      "text/html": [
       "<div>\n",
       "<style scoped>\n",
       "    .dataframe tbody tr th:only-of-type {\n",
       "        vertical-align: middle;\n",
       "    }\n",
       "\n",
       "    .dataframe tbody tr th {\n",
       "        vertical-align: top;\n",
       "    }\n",
       "\n",
       "    .dataframe thead th {\n",
       "        text-align: right;\n",
       "    }\n",
       "</style>\n",
       "<table border=\"1\" class=\"dataframe\">\n",
       "  <thead>\n",
       "    <tr style=\"text-align: right;\">\n",
       "      <th></th>\n",
       "      <th>jurisdiction</th>\n",
       "      <th>includes_jails</th>\n",
       "      <th>state_population</th>\n",
       "      <th>violent_crime_total</th>\n",
       "      <th>murder_manslaughter</th>\n",
       "      <th>rape_legacy</th>\n",
       "      <th>agg_assault</th>\n",
       "      <th>property_crime_total</th>\n",
       "      <th>burglary</th>\n",
       "    </tr>\n",
       "  </thead>\n",
       "  <tbody>\n",
       "    <tr>\n",
       "      <th>735</th>\n",
       "      <td>20</td>\n",
       "      <td>0</td>\n",
       "      <td>6794422.0</td>\n",
       "      <td>26562.0</td>\n",
       "      <td>128.0</td>\n",
       "      <td>1608.0</td>\n",
       "      <td>19071.0</td>\n",
       "      <td>114871.0</td>\n",
       "      <td>21890.0</td>\n",
       "    </tr>\n",
       "    <tr>\n",
       "      <th>572</th>\n",
       "      <td>10</td>\n",
       "      <td>1</td>\n",
       "      <td>1390090.0</td>\n",
       "      <td>3378.0</td>\n",
       "      <td>21.0</td>\n",
       "      <td>279.0</td>\n",
       "      <td>1953.0</td>\n",
       "      <td>43419.0</td>\n",
       "      <td>7653.0</td>\n",
       "    </tr>\n",
       "    <tr>\n",
       "      <th>531</th>\n",
       "      <td>20</td>\n",
       "      <td>0</td>\n",
       "      <td>6607003.0</td>\n",
       "      <td>28232.0</td>\n",
       "      <td>184.0</td>\n",
       "      <td>1654.0</td>\n",
       "      <td>19626.0</td>\n",
       "      <td>148829.0</td>\n",
       "      <td>36403.0</td>\n",
       "    </tr>\n",
       "    <tr>\n",
       "      <th>578</th>\n",
       "      <td>16</td>\n",
       "      <td>0</td>\n",
       "      <td>4379730.0</td>\n",
       "      <td>9852.0</td>\n",
       "      <td>201.0</td>\n",
       "      <td>1312.0</td>\n",
       "      <td>4792.0</td>\n",
       "      <td>112800.0</td>\n",
       "      <td>29877.0</td>\n",
       "    </tr>\n",
       "    <tr>\n",
       "      <th>373</th>\n",
       "      <td>15</td>\n",
       "      <td>0</td>\n",
       "      <td>2802134.0</td>\n",
       "      <td>11554.0</td>\n",
       "      <td>113.0</td>\n",
       "      <td>1226.0</td>\n",
       "      <td>8534.0</td>\n",
       "      <td>94882.0</td>\n",
       "      <td>19651.0</td>\n",
       "    </tr>\n",
       "    <tr>\n",
       "      <th>...</th>\n",
       "      <td>...</td>\n",
       "      <td>...</td>\n",
       "      <td>...</td>\n",
       "      <td>...</td>\n",
       "      <td>...</td>\n",
       "      <td>...</td>\n",
       "      <td>...</td>\n",
       "      <td>...</td>\n",
       "      <td>...</td>\n",
       "    </tr>\n",
       "    <tr>\n",
       "      <th>412</th>\n",
       "      <td>3</td>\n",
       "      <td>0</td>\n",
       "      <td>2889450.0</td>\n",
       "      <td>14905.0</td>\n",
       "      <td>179.0</td>\n",
       "      <td>1378.0</td>\n",
       "      <td>10772.0</td>\n",
       "      <td>109078.0</td>\n",
       "      <td>34753.0</td>\n",
       "    </tr>\n",
       "    <tr>\n",
       "      <th>145</th>\n",
       "      <td>42</td>\n",
       "      <td>0</td>\n",
       "      <td>22103374.0</td>\n",
       "      <td>122246.0</td>\n",
       "      <td>1422.0</td>\n",
       "      <td>8025.0</td>\n",
       "      <td>75782.0</td>\n",
       "      <td>1016735.0</td>\n",
       "      <td>219877.0</td>\n",
       "    </tr>\n",
       "    <tr>\n",
       "      <th>86</th>\n",
       "      <td>34</td>\n",
       "      <td>0</td>\n",
       "      <td>11408699.0</td>\n",
       "      <td>40128.0</td>\n",
       "      <td>526.0</td>\n",
       "      <td>4809.0</td>\n",
       "      <td>16922.0</td>\n",
       "      <td>428976.0</td>\n",
       "      <td>99164.0</td>\n",
       "    </tr>\n",
       "    <tr>\n",
       "      <th>446</th>\n",
       "      <td>37</td>\n",
       "      <td>0</td>\n",
       "      <td>12604767.0</td>\n",
       "      <td>48188.0</td>\n",
       "      <td>664.0</td>\n",
       "      <td>3626.0</td>\n",
       "      <td>26394.0</td>\n",
       "      <td>277182.0</td>\n",
       "      <td>54772.0</td>\n",
       "    </tr>\n",
       "    <tr>\n",
       "      <th>327</th>\n",
       "      <td>20</td>\n",
       "      <td>0</td>\n",
       "      <td>6449755.0</td>\n",
       "      <td>28487.0</td>\n",
       "      <td>187.0</td>\n",
       "      <td>1643.0</td>\n",
       "      <td>19636.0</td>\n",
       "      <td>154743.0</td>\n",
       "      <td>35767.0</td>\n",
       "    </tr>\n",
       "  </tbody>\n",
       "</table>\n",
       "<p>639 rows × 9 columns</p>\n",
       "</div>"
      ],
      "text/plain": [
       "     jurisdiction  includes_jails  state_population  violent_crime_total  \\\n",
       "735            20               0         6794422.0              26562.0   \n",
       "572            10               1         1390090.0               3378.0   \n",
       "531            20               0         6607003.0              28232.0   \n",
       "578            16               0         4379730.0               9852.0   \n",
       "373            15               0         2802134.0              11554.0   \n",
       "..            ...             ...               ...                  ...   \n",
       "412             3               0         2889450.0              14905.0   \n",
       "145            42               0        22103374.0             122246.0   \n",
       "86             34               0        11408699.0              40128.0   \n",
       "446            37               0        12604767.0              48188.0   \n",
       "327            20               0         6449755.0              28487.0   \n",
       "\n",
       "     murder_manslaughter  rape_legacy  agg_assault  property_crime_total  \\\n",
       "735                128.0       1608.0      19071.0              114871.0   \n",
       "572                 21.0        279.0       1953.0               43419.0   \n",
       "531                184.0       1654.0      19626.0              148829.0   \n",
       "578                201.0       1312.0       4792.0              112800.0   \n",
       "373                113.0       1226.0       8534.0               94882.0   \n",
       "..                   ...          ...          ...                   ...   \n",
       "412                179.0       1378.0      10772.0              109078.0   \n",
       "145               1422.0       8025.0      75782.0             1016735.0   \n",
       "86                 526.0       4809.0      16922.0              428976.0   \n",
       "446                664.0       3626.0      26394.0              277182.0   \n",
       "327                187.0       1643.0      19636.0              154743.0   \n",
       "\n",
       "     burglary  \n",
       "735   21890.0  \n",
       "572    7653.0  \n",
       "531   36403.0  \n",
       "578   29877.0  \n",
       "373   19651.0  \n",
       "..        ...  \n",
       "412   34753.0  \n",
       "145  219877.0  \n",
       "86    99164.0  \n",
       "446   54772.0  \n",
       "327   35767.0  \n",
       "\n",
       "[639 rows x 9 columns]"
      ]
     },
     "execution_count": 21,
     "metadata": {
     },
     "output_type": "execute_result"
    }
   ],
   "source": [
    "#new_cdf = jurisdiction, includes_jail, state_population, violent_crime_total, rape_revised, murder_manslaughter, agg_assault, property_crime_total, burglary \n",
    "train, test = train_test_split(crime_df, test_size=0.2, shuffle=True)\n",
    "train_X = train[training_features]\n",
    "train_Y = train[target]\n",
    "test_X = test[training_features]\n",
    "test_Y = test[target]\n",
    "print(test_X.shape[0], test_Y.shape[0])\n",
    "train_X"
   ]
  },
  {
   "cell_type": "markdown",
   "metadata": {
    "collapsed": false
   },
   "source": [
    "#### Linear Model\n",
    "\n"
   ]
  },
  {
   "cell_type": "code",
   "execution_count": 22,
   "metadata": {
    "collapsed": false
   },
   "outputs": [
    {
     "data": {
      "text/html": [
       "<style>#sk-container-id-1 {color: black;background-color: white;}#sk-container-id-1 pre{padding: 0;}#sk-container-id-1 div.sk-toggleable {background-color: white;}#sk-container-id-1 label.sk-toggleable__label {cursor: pointer;display: block;width: 100%;margin-bottom: 0;padding: 0.3em;box-sizing: border-box;text-align: center;}#sk-container-id-1 label.sk-toggleable__label-arrow:before {content: \"▸\";float: left;margin-right: 0.25em;color: #696969;}#sk-container-id-1 label.sk-toggleable__label-arrow:hover:before {color: black;}#sk-container-id-1 div.sk-estimator:hover label.sk-toggleable__label-arrow:before {color: black;}#sk-container-id-1 div.sk-toggleable__content {max-height: 0;max-width: 0;overflow: hidden;text-align: left;background-color: #f0f8ff;}#sk-container-id-1 div.sk-toggleable__content pre {margin: 0.2em;color: black;border-radius: 0.25em;background-color: #f0f8ff;}#sk-container-id-1 input.sk-toggleable__control:checked~div.sk-toggleable__content {max-height: 200px;max-width: 100%;overflow: auto;}#sk-container-id-1 input.sk-toggleable__control:checked~label.sk-toggleable__label-arrow:before {content: \"▾\";}#sk-container-id-1 div.sk-estimator input.sk-toggleable__control:checked~label.sk-toggleable__label {background-color: #d4ebff;}#sk-container-id-1 div.sk-label input.sk-toggleable__control:checked~label.sk-toggleable__label {background-color: #d4ebff;}#sk-container-id-1 input.sk-hidden--visually {border: 0;clip: rect(1px 1px 1px 1px);clip: rect(1px, 1px, 1px, 1px);height: 1px;margin: -1px;overflow: hidden;padding: 0;position: absolute;width: 1px;}#sk-container-id-1 div.sk-estimator {font-family: monospace;background-color: #f0f8ff;border: 1px dotted black;border-radius: 0.25em;box-sizing: border-box;margin-bottom: 0.5em;}#sk-container-id-1 div.sk-estimator:hover {background-color: #d4ebff;}#sk-container-id-1 div.sk-parallel-item::after {content: \"\";width: 100%;border-bottom: 1px solid gray;flex-grow: 1;}#sk-container-id-1 div.sk-label:hover label.sk-toggleable__label {background-color: #d4ebff;}#sk-container-id-1 div.sk-serial::before {content: \"\";position: absolute;border-left: 1px solid gray;box-sizing: border-box;top: 0;bottom: 0;left: 50%;z-index: 0;}#sk-container-id-1 div.sk-serial {display: flex;flex-direction: column;align-items: center;background-color: white;padding-right: 0.2em;padding-left: 0.2em;position: relative;}#sk-container-id-1 div.sk-item {position: relative;z-index: 1;}#sk-container-id-1 div.sk-parallel {display: flex;align-items: stretch;justify-content: center;background-color: white;position: relative;}#sk-container-id-1 div.sk-item::before, #sk-container-id-1 div.sk-parallel-item::before {content: \"\";position: absolute;border-left: 1px solid gray;box-sizing: border-box;top: 0;bottom: 0;left: 50%;z-index: -1;}#sk-container-id-1 div.sk-parallel-item {display: flex;flex-direction: column;z-index: 1;position: relative;background-color: white;}#sk-container-id-1 div.sk-parallel-item:first-child::after {align-self: flex-end;width: 50%;}#sk-container-id-1 div.sk-parallel-item:last-child::after {align-self: flex-start;width: 50%;}#sk-container-id-1 div.sk-parallel-item:only-child::after {width: 0;}#sk-container-id-1 div.sk-dashed-wrapped {border: 1px dashed gray;margin: 0 0.4em 0.5em 0.4em;box-sizing: border-box;padding-bottom: 0.4em;background-color: white;}#sk-container-id-1 div.sk-label label {font-family: monospace;font-weight: bold;display: inline-block;line-height: 1.2em;}#sk-container-id-1 div.sk-label-container {text-align: center;}#sk-container-id-1 div.sk-container {/* jupyter's `normalize.less` sets `[hidden] { display: none; }` but bootstrap.min.css set `[hidden] { display: none !important; }` so we also need the `!important` here to be able to override the default hidden behavior on the sphinx rendered scikit-learn.org. See: https://github.com/scikit-learn/scikit-learn/issues/21755 */display: inline-block !important;position: relative;}#sk-container-id-1 div.sk-text-repr-fallback {display: none;}</style><div id=\"sk-container-id-1\" class=\"sk-top-container\"><div class=\"sk-text-repr-fallback\"><pre>LinearRegression()</pre><b>In a Jupyter environment, please rerun this cell to show the HTML representation or trust the notebook. <br />On GitHub, the HTML representation is unable to render, please try loading this page with nbviewer.org.</b></div><div class=\"sk-container\" hidden><div class=\"sk-item\"><div class=\"sk-estimator sk-toggleable\"><input class=\"sk-toggleable__control sk-hidden--visually\" id=\"sk-estimator-id-1\" type=\"checkbox\" checked><label for=\"sk-estimator-id-1\" class=\"sk-toggleable__label sk-toggleable__label-arrow\">LinearRegression</label><div class=\"sk-toggleable__content\"><pre>LinearRegression()</pre></div></div></div></div></div>"
      ],
      "text/plain": [
       "LinearRegression()"
      ]
     },
     "execution_count": 22,
     "metadata": {
     },
     "output_type": "execute_result"
    }
   ],
   "source": [
    "model = LinearRegression()\n",
    "model.fit(train_X, train_Y)"
   ]
  },
  {
   "cell_type": "code",
   "execution_count": 23,
   "metadata": {
    "collapsed": false
   },
   "outputs": [
   ],
   "source": [
    "train_pred_Y = model.predict(train_X)\n",
    "test_pred_Y = model.predict(test_X)\n",
    "train_pred_Y = pd.Series(train_pred_Y.clip(0, train_pred_Y.max()), index=train_Y.index)\n",
    "test_pred_Y = pd.Series(test_pred_Y.clip(0, test_pred_Y.max()), index=test_Y.index)"
   ]
  },
  {
   "cell_type": "code",
   "execution_count": 24,
   "metadata": {
    "collapsed": false
   },
   "outputs": [
    {
     "name": "stdout",
     "output_type": "stream",
     "text": [
      "Mean Absolute Error:  5247.344226336631\n",
      "Mean Squared Error: 65197726.90139301\n",
      "R-Squared value: 0.9375118517267501\n",
      "Accuracy:  0.9360802523262186\n"
     ]
    }
   ],
   "source": [
    "# Evaluation Metrics\n",
    "print(\"Mean Absolute Error: \", mean_absolute_error(np.array(test_Y), test_pred_Y))\n",
    "print(\"Mean Squared Error:\", mean_squared_error(test_Y, test_pred_Y))\n",
    "print(\"R-Squared value:\", r2_score(test_Y, test_pred_Y))\n",
    "\n",
    "# Accuracy\n",
    "result = model.score(test_X, test_Y)\n",
    "print(\"Accuracy: \", result)"
   ]
  },
  {
   "cell_type": "markdown",
   "metadata": {
    "collapsed": false
   },
   "source": [
    "#### Random Forest Regressor\n",
    "\n"
   ]
  },
  {
   "cell_type": "code",
   "execution_count": 25,
   "metadata": {
    "collapsed": false
   },
   "outputs": [
   ],
   "source": [
    "regressor_rf = RandomForestRegressor(random_state = 40)"
   ]
  },
  {
   "cell_type": "code",
   "execution_count": 0,
   "metadata": {
    "collapsed": false,
    "scrolled": true
   },
   "outputs": [
   ],
   "source": [
    "# Hyper Parameter Tuning using GridSearchCV\n",
    "\n",
    "parameters = {\"n_estimators\" : [2000, 3000, 4000], \"max_depth\":[2,4,6,8,10], \"max_features\": [\"sqrt\", \"log2\"]}\n",
    "grid_rf = GridSearchCV(estimator=regressor_rf, param_grid=parameters, cv= 4)\n",
    "grid_rf.fit(train_X, train_Y)"
   ]
  },
  {
   "cell_type": "code",
   "execution_count": 0,
   "metadata": {
    "collapsed": false
   },
   "outputs": [
   ],
   "source": [
    "# Finding the best parameters\n",
    "grid_rf.best_params_"
   ]
  },
  {
   "cell_type": "code",
   "execution_count": 0,
   "metadata": {
    "collapsed": false
   },
   "outputs": [
   ],
   "source": [
    "rfr = RandomForestRegressor(random_state=42, max_features='sqrt', n_estimators= 2000, max_depth=10)\n",
    "rfr.fit(train_X, train_Y)\n",
    "random_result = rfr.predict(test_X)\n",
    "\n",
    "# Evaluation Metrics\n",
    "print(\"Mean Absolute Error: \", mean_absolute_error(np.array(test_Y), random_result))\n",
    "print(\"Mean Squared Error:\", mean_squared_error(test_Y, random_result))\n",
    "print(\"R-Squared value:\", r2_score(test_Y, random_result))\n",
    "\n",
    "\n",
    "# Accuracy\n",
    "resultrf = rfr.score(test_X, test_Y)\n",
    "print(\"Accuracy: \", resultrf)"
   ]
  },
  {
   "cell_type": "markdown",
   "metadata": {
    "collapsed": false
   },
   "source": [
    "#### Decision Tree Regressor\n",
    "\n"
   ]
  },
  {
   "cell_type": "code",
   "execution_count": 0,
   "metadata": {
    "collapsed": false
   },
   "outputs": [
   ],
   "source": [
    "# Hyper Parameter Tuning using GridSearchCV\n",
    "\n",
    "regressor_dt = DecisionTreeRegressor(random_state = 0)\n",
    "parameters = {\"criterion\" : [\"squared_error\", \"absolute_error\", \"poisson\"], \"max_depth\":[2,4,6,8,10], \"splitter\": [\"best\", \"random\"]}\n",
    "grid_dt = GridSearchCV(estimator=regressor_dt, param_grid=parameters, cv= 4)\n",
    "grid_dt.fit(train_X, train_Y)"
   ]
  },
  {
   "cell_type": "code",
   "execution_count": 0,
   "metadata": {
    "collapsed": false
   },
   "outputs": [
   ],
   "source": [
    "# Finding the best parameters\n",
    "grid_dt.best_params_"
   ]
  },
  {
   "cell_type": "code",
   "execution_count": 0,
   "metadata": {
    "collapsed": false
   },
   "outputs": [
   ],
   "source": [
    "dtr = DecisionTreeRegressor(criterion = \"absolute_error\", max_depth=10, splitter = \"best\")\n",
    "dtr.fit(train_X, train_Y)\n",
    "decision_result = dtr.predict(test_X)\n",
    "\n",
    "# Evaluation Metrics\n",
    "print(\"Mean Absolute Error: \", mean_absolute_error(np.array(test_Y), decision_result))\n",
    "print(\"Mean Squared Error: \", mean_squared_error(test_Y, decision_result))\n",
    "print(\"R-Squared value: \", r2_score(test_Y, decision_result))\n",
    "\n",
    "# Accuracy\n",
    "resultdt = dtr.score(test_X, test_Y)\n",
    "print(\"Accuracy: \",resultdt)"
   ]
  },
  {
   "cell_type": "markdown",
   "metadata": {
    "collapsed": false
   },
   "source": [
    "## Visualizations for the Model\n",
    "\n"
   ]
  },
  {
   "cell_type": "code",
   "execution_count": 0,
   "metadata": {
    "collapsed": false
   },
   "outputs": [
   ],
   "source": [
    "# Linear Regression Plot between prisoner count and total violent crimes\n",
    "sns.lmplot(x=\"prisoner_count\", y=\"violent_crime_total\",data=crime_df)"
   ]
  },
  {
   "cell_type": "code",
   "execution_count": 0,
   "metadata": {
    "collapsed": false
   },
   "outputs": [
   ],
   "source": [
    "# Decision Tree\n",
    "plt.figure(figsize=(400,30))\n",
    "a = tree.plot_tree(dtr,\n",
    "                   feature_names = training_features,\n",
    "                   class_names = crime_df['prisoner_count'],\n",
    "                   filled = True,\n",
    "                   fontsize=12)\n",
    "plt.show()"
   ]
  },
  {
   "cell_type": "code",
   "execution_count": 0,
   "metadata": {
    "collapsed": false
   },
   "outputs": [
   ],
   "source": [
    "# Feature Importance in decision tree\n",
    "pd.Series(dtr.feature_importances_, index = training_features).plot(kind = \"bar\")"
   ]
  },
  {
   "cell_type": "code",
   "execution_count": 0,
   "metadata": {
    "collapsed": false
   },
   "outputs": [
   ],
   "source": [
    "# Feature importance in Random Forest\n",
    "pd.Series(rfr.feature_importances_, index = training_features).plot(kind = \"bar\")"
   ]
  },
  {
   "cell_type": "markdown",
   "metadata": {
    "collapsed": false
   },
   "source": [
    "## Conclusion\n",
    "\n"
   ]
  },
  {
   "cell_type": "markdown",
   "metadata": {
    "collapsed": false
   },
   "source": [
    "After doing the data analysis and model evaluation, our team came to a conclusion that the model Random Forest would work best for our dataset. Random Forest gave better accuracy after performing GridSearchCV in comparison to the linear Regression and decision trees, \n",
    "\n",
    "in which reduces the overfitting problems in decision trees and reduces the variance. Compares to decision tree, random forests are a stronger modeling technique and much more robust than a single decision tree, as they can aggregate many decision trees to limit overfitting as well as error due to bias and thefore yield usegul results. Random forests also consist of multiple single trees each based on a random sample of the training data, which were typically more accurate than single decision trees. \n",
    "\n"
   ]
  },
  {
   "cell_type": "code",
   "execution_count": 0,
   "metadata": {
    "collapsed": false
   },
   "outputs": [
   ],
   "source": [
   ]
  }
 ],
 "metadata": {
  "kernelspec": {
   "display_name": "Python (ds_env)",
   "language": "python",
   "metadata": {
    "debugger": true
   },
   "name": "ds_env",
   "resource_dir": "/projects/e5ac326b-8e23-49e3-8a5a-a6f96260b4dc/.local/share/jupyter/kernels/ds_env"
  },
  "language_info": {
   "codemirror_mode": {
    "name": "ipython",
    "version": 3
   },
   "file_extension": ".py",
   "mimetype": "text/x-python",
   "name": "python",
   "nbconvert_exporter": "python",
   "pygments_lexer": "ipython3",
   "version": "3.9.12"
  }
 },
 "nbformat": 4,
 "nbformat_minor": 4
}