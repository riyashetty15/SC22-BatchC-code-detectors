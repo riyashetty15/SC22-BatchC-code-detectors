{
 "cells": [
  {
   "cell_type": "markdown",
   "metadata": {
    "collapsed": false
   },
   "source": [
    "###### In this project, we intend to develop a model to make predictions for the number of prisoners we have based on the factors like burglary, larceny, man\\_slaughter, etc. depending on how many null values these columns have. Further in the next few cells in this training file, we will show up what visualizations we create to understand the factors we need to be taken into consideration.\n",
    "\n"
   ]
  },
  {
   "cell_type": "markdown",
   "metadata": {
    "collapsed": false
   },
   "source": [
    "## Imports\n",
    "\n"
   ]
  },
  {
   "cell_type": "code",
   "execution_count": 35,
   "metadata": {
    "collapsed": false,
    "scrolled": true
   },
   "outputs": [
   ],
   "source": [
    "import pandas as pd\n",
    "import seaborn as sns\n",
    "import matplotlib.pyplot as plt\n",
    "import plotly.expres\n",
    "s as px\n"
   ]
  },
  {
   "cell_type": "markdown",
   "metadata": {
    "collapsed": false
   },
   "source": [
    "## Data Information and Cleaning\n",
    "\n"
   ]
  },
  {
   "cell_type": "code",
   "execution_count": 36,
   "metadata": {
    "collapsed": false
   },
   "outputs": [
   ],
   "source": [
    "crime_df = pd.read_csv(\"crimes.csv\")"
   ]
  },
  {
   "cell_type": "code",
   "execution_count": 37,
   "metadata": {
    "collapsed": false
   },
   "outputs": [
   ],
   "source": [
    "crime_df.dropna(inplace=True)\n",
    "\n",
    "# crime_df.reset_index(drop=True, inplace=True)"
   ]
  },
  {
   "cell_type": "code",
   "execution_count": 38,
   "metadata": {
    "collapsed": false
   },
   "outputs": [
    {
     "data": {
      "text/html": [
       "<div>\n",
       "<style scoped>\n",
       "    .dataframe tbody tr th:only-of-type {\n",
       "        vertical-align: middle;\n",
       "    }\n",
       "\n",
       "    .dataframe tbody tr th {\n",
       "        vertical-align: top;\n",
       "    }\n",
       "\n",
       "    .dataframe thead th {\n",
       "        text-align: right;\n",
       "    }\n",
       "</style>\n",
       "<table border=\"1\" class=\"dataframe\">\n",
       "  <thead>\n",
       "    <tr style=\"text-align: right;\">\n",
       "      <th></th>\n",
       "      <th>jurisdiction</th>\n",
       "      <th>includes_jails</th>\n",
       "      <th>year</th>\n",
       "      <th>prisoner_count</th>\n",
       "      <th>crime_reporting_change</th>\n",
       "      <th>crimes_estimated</th>\n",
       "      <th>state_population</th>\n",
       "      <th>violent_crime_total</th>\n",
       "      <th>murder_manslaughter</th>\n",
       "      <th>rape_legacy</th>\n",
       "      <th>rape_revised</th>\n",
       "      <th>robbery</th>\n",
       "      <th>agg_assault</th>\n",
       "      <th>property_crime_total</th>\n",
       "      <th>burglary</th>\n",
       "      <th>larceny</th>\n",
       "      <th>vehicle_theft</th>\n",
       "    </tr>\n",
       "  </thead>\n",
       "  <tbody>\n",
       "    <tr>\n",
       "      <th>613</th>\n",
       "      <td>ALABAMA</td>\n",
       "      <td>False</td>\n",
       "      <td>2013</td>\n",
       "      <td>26825</td>\n",
       "      <td>False</td>\n",
       "      <td>False</td>\n",
       "      <td>4833996.0</td>\n",
       "      <td>20834.0</td>\n",
       "      <td>346.0</td>\n",
       "      <td>1449.0</td>\n",
       "      <td>2055.0</td>\n",
       "      <td>4645.0</td>\n",
       "      <td>13788.0</td>\n",
       "      <td>161835.0</td>\n",
       "      <td>42410.0</td>\n",
       "      <td>108862.0</td>\n",
       "      <td>10563.0</td>\n",
       "    </tr>\n",
       "    <tr>\n",
       "      <th>614</th>\n",
       "      <td>ALASKA</td>\n",
       "      <td>True</td>\n",
       "      <td>2013</td>\n",
       "      <td>5081</td>\n",
       "      <td>False</td>\n",
       "      <td>False</td>\n",
       "      <td>737259.0</td>\n",
       "      <td>4709.0</td>\n",
       "      <td>34.0</td>\n",
       "      <td>657.0</td>\n",
       "      <td>925.0</td>\n",
       "      <td>623.0</td>\n",
       "      <td>3127.0</td>\n",
       "      <td>21211.0</td>\n",
       "      <td>2917.0</td>\n",
       "      <td>16599.0</td>\n",
       "      <td>1695.0</td>\n",
       "    </tr>\n",
       "    <tr>\n",
       "      <th>615</th>\n",
       "      <td>ARIZONA</td>\n",
       "      <td>False</td>\n",
       "      <td>2013</td>\n",
       "      <td>41031</td>\n",
       "      <td>False</td>\n",
       "      <td>False</td>\n",
       "      <td>6634997.0</td>\n",
       "      <td>27576.0</td>\n",
       "      <td>355.0</td>\n",
       "      <td>2344.0</td>\n",
       "      <td>3174.0</td>\n",
       "      <td>6656.0</td>\n",
       "      <td>17391.0</td>\n",
       "      <td>223294.0</td>\n",
       "      <td>48292.0</td>\n",
       "      <td>158036.0</td>\n",
       "      <td>16966.0</td>\n",
       "    </tr>\n",
       "    <tr>\n",
       "      <th>616</th>\n",
       "      <td>ARKANSAS</td>\n",
       "      <td>False</td>\n",
       "      <td>2013</td>\n",
       "      <td>14295</td>\n",
       "      <td>False</td>\n",
       "      <td>False</td>\n",
       "      <td>2958765.0</td>\n",
       "      <td>13705.0</td>\n",
       "      <td>158.0</td>\n",
       "      <td>1135.0</td>\n",
       "      <td>1490.0</td>\n",
       "      <td>2261.0</td>\n",
       "      <td>9796.0</td>\n",
       "      <td>106477.0</td>\n",
       "      <td>30369.0</td>\n",
       "      <td>70430.0</td>\n",
       "      <td>5678.0</td>\n",
       "    </tr>\n",
       "    <tr>\n",
       "      <th>617</th>\n",
       "      <td>CALIFORNIA</td>\n",
       "      <td>False</td>\n",
       "      <td>2013</td>\n",
       "      <td>134339</td>\n",
       "      <td>False</td>\n",
       "      <td>False</td>\n",
       "      <td>38431393.0</td>\n",
       "      <td>154739.0</td>\n",
       "      <td>1746.0</td>\n",
       "      <td>7464.0</td>\n",
       "      <td>10324.0</td>\n",
       "      <td>53640.0</td>\n",
       "      <td>89029.0</td>\n",
       "      <td>1018907.0</td>\n",
       "      <td>232058.0</td>\n",
       "      <td>621557.0</td>\n",
       "      <td>165292.0</td>\n",
       "    </tr>\n",
       "    <tr>\n",
       "      <th>...</th>\n",
       "      <td>...</td>\n",
       "      <td>...</td>\n",
       "      <td>...</td>\n",
       "      <td>...</td>\n",
       "      <td>...</td>\n",
       "      <td>...</td>\n",
       "      <td>...</td>\n",
       "      <td>...</td>\n",
       "      <td>...</td>\n",
       "      <td>...</td>\n",
       "      <td>...</td>\n",
       "      <td>...</td>\n",
       "      <td>...</td>\n",
       "      <td>...</td>\n",
       "      <td>...</td>\n",
       "      <td>...</td>\n",
       "      <td>...</td>\n",
       "    </tr>\n",
       "    <tr>\n",
       "      <th>760</th>\n",
       "      <td>VIRGINIA</td>\n",
       "      <td>False</td>\n",
       "      <td>2015</td>\n",
       "      <td>30430</td>\n",
       "      <td>False</td>\n",
       "      <td>False</td>\n",
       "      <td>8382993.0</td>\n",
       "      <td>16399.0</td>\n",
       "      <td>383.0</td>\n",
       "      <td>1493.0</td>\n",
       "      <td>2340.0</td>\n",
       "      <td>4441.0</td>\n",
       "      <td>9235.0</td>\n",
       "      <td>156470.0</td>\n",
       "      <td>21340.0</td>\n",
       "      <td>127019.0</td>\n",
       "      <td>8111.0</td>\n",
       "    </tr>\n",
       "    <tr>\n",
       "      <th>761</th>\n",
       "      <td>WASHINGTON</td>\n",
       "      <td>False</td>\n",
       "      <td>2015</td>\n",
       "      <td>17222</td>\n",
       "      <td>False</td>\n",
       "      <td>False</td>\n",
       "      <td>7170351.0</td>\n",
       "      <td>20394.0</td>\n",
       "      <td>211.0</td>\n",
       "      <td>2193.0</td>\n",
       "      <td>2705.0</td>\n",
       "      <td>5449.0</td>\n",
       "      <td>12029.0</td>\n",
       "      <td>248369.0</td>\n",
       "      <td>50993.0</td>\n",
       "      <td>170509.0</td>\n",
       "      <td>26867.0</td>\n",
       "    </tr>\n",
       "    <tr>\n",
       "      <th>762</th>\n",
       "      <td>WEST VIRGINIA</td>\n",
       "      <td>False</td>\n",
       "      <td>2015</td>\n",
       "      <td>5925</td>\n",
       "      <td>False</td>\n",
       "      <td>False</td>\n",
       "      <td>1844128.0</td>\n",
       "      <td>6231.0</td>\n",
       "      <td>70.0</td>\n",
       "      <td>420.0</td>\n",
       "      <td>672.0</td>\n",
       "      <td>760.0</td>\n",
       "      <td>4729.0</td>\n",
       "      <td>37251.0</td>\n",
       "      <td>9170.0</td>\n",
       "      <td>25842.0</td>\n",
       "      <td>2239.0</td>\n",
       "    </tr>\n",
       "    <tr>\n",
       "      <th>763</th>\n",
       "      <td>WISCONSIN</td>\n",
       "      <td>False</td>\n",
       "      <td>2015</td>\n",
       "      <td>22914</td>\n",
       "      <td>False</td>\n",
       "      <td>False</td>\n",
       "      <td>5771337.0</td>\n",
       "      <td>17647.0</td>\n",
       "      <td>240.0</td>\n",
       "      <td>1224.0</td>\n",
       "      <td>1780.0</td>\n",
       "      <td>5232.0</td>\n",
       "      <td>10395.0</td>\n",
       "      <td>113924.0</td>\n",
       "      <td>19554.0</td>\n",
       "      <td>83385.0</td>\n",
       "      <td>10985.0</td>\n",
       "    </tr>\n",
       "    <tr>\n",
       "      <th>764</th>\n",
       "      <td>WYOMING</td>\n",
       "      <td>False</td>\n",
       "      <td>2015</td>\n",
       "      <td>2400</td>\n",
       "      <td>False</td>\n",
       "      <td>False</td>\n",
       "      <td>586107.0</td>\n",
       "      <td>1302.0</td>\n",
       "      <td>16.0</td>\n",
       "      <td>125.0</td>\n",
       "      <td>173.0</td>\n",
       "      <td>59.0</td>\n",
       "      <td>1054.0</td>\n",
       "      <td>11151.0</td>\n",
       "      <td>1762.0</td>\n",
       "      <td>8797.0</td>\n",
       "      <td>592.0</td>\n",
       "    </tr>\n",
       "  </tbody>\n",
       "</table>\n",
       "<p>149 rows × 17 columns</p>\n",
       "</div>"
      ],
      "text/plain": [
       "      jurisdiction  includes_jails  year  prisoner_count  \\\n",
       "613        ALABAMA           False  2013           26825   \n",
       "614         ALASKA            True  2013            5081   \n",
       "615        ARIZONA           False  2013           41031   \n",
       "616       ARKANSAS           False  2013           14295   \n",
       "617     CALIFORNIA           False  2013          134339   \n",
       "..             ...             ...   ...             ...   \n",
       "760       VIRGINIA           False  2015           30430   \n",
       "761     WASHINGTON           False  2015           17222   \n",
       "762  WEST VIRGINIA           False  2015            5925   \n",
       "763      WISCONSIN           False  2015           22914   \n",
       "764        WYOMING           False  2015            2400   \n",
       "\n",
       "    crime_reporting_change crimes_estimated  state_population  \\\n",
       "613                  False            False         4833996.0   \n",
       "614                  False            False          737259.0   \n",
       "615                  False            False         6634997.0   \n",
       "616                  False            False         2958765.0   \n",
       "617                  False            False        38431393.0   \n",
       "..                     ...              ...               ...   \n",
       "760                  False            False         8382993.0   \n",
       "761                  False            False         7170351.0   \n",
       "762                  False            False         1844128.0   \n",
       "763                  False            False         5771337.0   \n",
       "764                  False            False          586107.0   \n",
       "\n",
       "     violent_crime_total  murder_manslaughter  rape_legacy  rape_revised  \\\n",
       "613              20834.0                346.0       1449.0        2055.0   \n",
       "614               4709.0                 34.0        657.0         925.0   \n",
       "615              27576.0                355.0       2344.0        3174.0   \n",
       "616              13705.0                158.0       1135.0        1490.0   \n",
       "617             154739.0               1746.0       7464.0       10324.0   \n",
       "..                   ...                  ...          ...           ...   \n",
       "760              16399.0                383.0       1493.0        2340.0   \n",
       "761              20394.0                211.0       2193.0        2705.0   \n",
       "762               6231.0                 70.0        420.0         672.0   \n",
       "763              17647.0                240.0       1224.0        1780.0   \n",
       "764               1302.0                 16.0        125.0         173.0   \n",
       "\n",
       "     robbery  agg_assault  property_crime_total  burglary   larceny  \\\n",
       "613   4645.0      13788.0              161835.0   42410.0  108862.0   \n",
       "614    623.0       3127.0               21211.0    2917.0   16599.0   \n",
       "615   6656.0      17391.0              223294.0   48292.0  158036.0   \n",
       "616   2261.0       9796.0              106477.0   30369.0   70430.0   \n",
       "617  53640.0      89029.0             1018907.0  232058.0  621557.0   \n",
       "..       ...          ...                   ...       ...       ...   \n",
       "760   4441.0       9235.0              156470.0   21340.0  127019.0   \n",
       "761   5449.0      12029.0              248369.0   50993.0  170509.0   \n",
       "762    760.0       4729.0               37251.0    9170.0   25842.0   \n",
       "763   5232.0      10395.0              113924.0   19554.0   83385.0   \n",
       "764     59.0       1054.0               11151.0    1762.0    8797.0   \n",
       "\n",
       "     vehicle_theft  \n",
       "613        10563.0  \n",
       "614         1695.0  \n",
       "615        16966.0  \n",
       "616         5678.0  \n",
       "617       165292.0  \n",
       "..             ...  \n",
       "760         8111.0  \n",
       "761        26867.0  \n",
       "762         2239.0  \n",
       "763        10985.0  \n",
       "764          592.0  \n",
       "\n",
       "[149 rows x 17 columns]"
      ]
     },
     "execution_count": 38,
     "metadata": {
     },
     "output_type": "execute_result"
    }
   ],
   "source": [
    "crime_df"
   ]
  },
  {
   "cell_type": "code",
   "execution_count": 39,
   "metadata": {
    "collapsed": false
   },
   "outputs": [
    {
     "data": {
      "text/plain": [
       "jurisdiction              0\n",
       "includes_jails            0\n",
       "year                      0\n",
       "prisoner_count            0\n",
       "crime_reporting_change    0\n",
       "crimes_estimated          0\n",
       "state_population          0\n",
       "violent_crime_total       0\n",
       "murder_manslaughter       0\n",
       "rape_legacy               0\n",
       "rape_revised              0\n",
       "robbery                   0\n",
       "agg_assault               0\n",
       "property_crime_total      0\n",
       "burglary                  0\n",
       "larceny                   0\n",
       "vehicle_theft             0\n",
       "dtype: int64"
      ]
     },
     "execution_count": 39,
     "metadata": {
     },
     "output_type": "execute_result"
    }
   ],
   "source": [
    "# Check for null values and remove null values from columns\n",
    "crime_df.isnull().sum()"
   ]
  },
  {
   "cell_type": "code",
   "execution_count": 40,
   "metadata": {
    "collapsed": false
   },
   "outputs": [
   ],
   "source": [
    "# dropping columns which have maximum null values of the whole data\n",
    "#rape_legacy, vehicle_theft, larceny, robbery"
   ]
  },
  {
   "cell_type": "code",
   "execution_count": 41,
   "metadata": {
    "collapsed": false
   },
   "outputs": [
    {
     "name": "stdout",
     "output_type": "stream",
     "text": [
      "<class 'pandas.core.frame.DataFrame'>\n",
      "Int64Index: 149 entries, 613 to 764\n",
      "Data columns (total 13 columns):\n",
      " #   Column                  Non-Null Count  Dtype  \n",
      "---  ------                  --------------  -----  \n",
      " 0   jurisdiction            149 non-null    object \n",
      " 1   includes_jails          149 non-null    bool   \n",
      " 2   year                    149 non-null    int64  \n",
      " 3   prisoner_count          149 non-null    int64  \n",
      " 4   crime_reporting_change  149 non-null    object \n",
      " 5   crimes_estimated        149 non-null    object \n",
      " 6   state_population        149 non-null    float64\n",
      " 7   violent_crime_total     149 non-null    float64\n",
      " 8   murder_manslaughter     149 non-null    float64\n",
      " 9   rape_revised            149 non-null    float64\n",
      " 10  agg_assault             149 non-null    float64\n",
      " 11  property_crime_total    149 non-null    float64\n",
      " 12  burglary                149 non-null    float64\n",
      "dtypes: bool(1), float64(7), int64(2), object(3)\n",
      "memory usage: 15.3+ KB\n"
     ]
    }
   ],
   "source": [
    "# drop any remaining null values in rows\n",
    "crime_df = crime_df.drop('rape_legacy', axis = 1)\n",
    "crime_df = crime_df.drop('larceny', axis = 1) \n",
    "crime_df = crime_df.drop('robbery', axis = 1)\n",
    "crime_df = crime_df.drop('vehicle_theft', axis = 1)\n",
    "crime_df.info()"
   ]
  },
  {
   "cell_type": "code",
   "execution_count": 42,
   "metadata": {
    "collapsed": false
   },
   "outputs": [
    {
     "data": {
      "text/plain": [
       "jurisdiction              0\n",
       "includes_jails            0\n",
       "year                      0\n",
       "prisoner_count            0\n",
       "crime_reporting_change    0\n",
       "crimes_estimated          0\n",
       "state_population          0\n",
       "violent_crime_total       0\n",
       "murder_manslaughter       0\n",
       "rape_revised              0\n",
       "agg_assault               0\n",
       "property_crime_total      0\n",
       "burglary                  0\n",
       "dtype: int64"
      ]
     },
     "execution_count": 42,
     "metadata": {
     },
     "output_type": "execute_result"
    }
   ],
   "source": [
    "# checking for null values in the each column of the dataset\n",
    "crime_df.isnull().sum()"
   ]
  },
  {
   "cell_type": "markdown",
   "metadata": {
    "collapsed": false
   },
   "source": [
    "## Data Visualisation\n",
    "\n"
   ]
  },
  {
   "cell_type": "code",
   "execution_count": 49,
   "metadata": {
    "collapsed": false
   },
   "outputs": [
    {
     "data": {
      "text/html": "<html>\n<head><meta charset=\"utf-8\" /></head>\n<body>\n    <div>            <script src=\"https://cdnjs.cloudflare.com/ajax/libs/mathjax/2.7.5/MathJax.js?config=TeX-AMS-MML_SVG\"></script><script type=\"text/javascript\">if (window.MathJax && window.MathJax.Hub && window.MathJax.Hub.Config) {window.MathJax.Hub.Config({SVG: {font: \"STIX-Web\"}});}</script>                <script type=\"text/javascript\">window.PlotlyConfig = {MathJaxConfig: 'local'};</script>\n        <script src=\"https://cdn.plot.ly/plotly-2.12.1.min.js\"></script>                <div id=\"b625c606-b3c5-49e8-ba9f-96f0557766ed\" class=\"plotly-graph-div\" style=\"height:525px; width:100%;\"></div>            <script type=\"text/javascript\">                                    window.PLOTLYENV=window.PLOTLYENV || {};                                    if (document.getElementById(\"b625c606-b3c5-49e8-ba9f-96f0557766ed\")) {                    Plotly.newPlot(                        \"b625c606-b3c5-49e8-ba9f-96f0557766ed\",                        [{\"hovertemplate\":\"year=2013<br>jurisdiction=%{x}<br>prisoner_count=%{y}<extra></extra>\",\"legendgroup\":\"2013\",\"line\":{\"color\":\"#636efa\",\"dash\":\"solid\"},\"marker\":{\"symbol\":\"circle\"},\"mode\":\"lines\",\"name\":\"2013\",\"orientation\":\"v\",\"showlegend\":true,\"x\":[\"ALABAMA\",\"ALASKA\",\"ARIZONA\",\"ARKANSAS\",\"CALIFORNIA\",\"COLORADO\",\"CONNECTICUT\",\"DELAWARE\",\"FLORIDA\",\"GEORGIA\",\"HAWAII\",\"IDAHO\",\"ILLINOIS\",\"INDIANA\",\"IOWA\",\"KANSAS\",\"KENTUCKY\",\"LOUISIANA\",\"MAINE\",\"MARYLAND\",\"MASSACHUSETTS\",\"MICHIGAN\",\"MINNESOTA\",\"MISSISSIPPI\",\"MISSOURI\",\"MONTANA\",\"NEBRASKA\",\"NEVADA\",\"NEW HAMPSHIRE\",\"NEW JERSEY\",\"NEW MEXICO\",\"NEW YORK\",\"NORTH CAROLINA\",\"NORTH DAKOTA\",\"OHIO\",\"OKLAHOMA\",\"OREGON\",\"PENNSYLVANIA\",\"RHODE ISLAND\",\"SOUTH CAROLINA\",\"SOUTH DAKOTA\",\"TENNESSEE\",\"TEXAS\",\"UTAH\",\"VERMONT\",\"VIRGINIA\",\"WASHINGTON\",\"WEST VIRGINIA\",\"WISCONSIN\",\"WYOMING\"],\"xaxis\":\"x\",\"y\":[26825,5081,41031,14295,134339,20184,17319,6798,100940,53701,5173,7219,48653,28495,8707,9610,12141,18794,2073,21705,10622,43704,9391,15591,31499,3125,5012,12789,2623,22263,6767,53312,37176,1576,51711,25364,14605,49971,3168,21534,3612,20758,155377,5382,2078,29985,17760,5708,22443,2288],\"yaxis\":\"y\",\"type\":\"scatter\"},{\"hovertemplate\":\"year=2014<br>jurisdiction=%{x}<br>prisoner_count=%{y}<extra></extra>\",\"legendgroup\":\"2014\",\"line\":{\"color\":\"#EF553B\",\"dash\":\"solid\"},\"marker\":{\"symbol\":\"circle\"},\"mode\":\"lines\",\"name\":\"2014\",\"orientation\":\"v\",\"showlegend\":true,\"x\":[\"ALABAMA\",\"ALASKA\",\"ARIZONA\",\"ARKANSAS\",\"CALIFORNIA\",\"COLORADO\",\"CONNECTICUT\",\"DELAWARE\",\"FLORIDA\",\"GEORGIA\",\"HAWAII\",\"IDAHO\",\"ILLINOIS\",\"INDIANA\",\"IOWA\",\"KANSAS\",\"KENTUCKY\",\"LOUISIANA\",\"MAINE\",\"MARYLAND\",\"MASSACHUSETTS\",\"MICHIGAN\",\"MINNESOTA\",\"MISSISSIPPI\",\"MISSOURI\",\"MONTANA\",\"NEBRASKA\",\"NEVADA\",\"NEW HAMPSHIRE\",\"NEW JERSEY\",\"NEW MEXICO\",\"NEW YORK\",\"NORTH CAROLINA\",\"NORTH DAKOTA\",\"OHIO\",\"OKLAHOMA\",\"OREGON\",\"PENNSYLVANIA\",\"RHODE ISLAND\",\"SOUTH CAROLINA\",\"SOUTH DAKOTA\",\"TENNESSEE\",\"TEXAS\",\"UTAH\",\"VERMONT\",\"VIRGINIA\",\"WASHINGTON\",\"WEST VIRGINIA\",\"WISCONSIN\",\"WYOMING\"],\"xaxis\":\"x\",\"y\":[26145,6323,42136,15250,134430,20469,16814,6730,100873,52719,5390,7497,48278,32493,8845,9539,12114,18710,2199,21266,10447,43359,9576,13069,31903,3119,5228,12693,2723,21394,6948,52362,37348,1696,51521,26493,14492,49174,3133,20948,3507,20815,154247,5307,1979,30050,17180,5867,22572,2369],\"yaxis\":\"y\",\"type\":\"scatter\"},{\"hovertemplate\":\"year=2015<br>jurisdiction=%{x}<br>prisoner_count=%{y}<extra></extra>\",\"legendgroup\":\"2015\",\"line\":{\"color\":\"#00cc96\",\"dash\":\"solid\"},\"marker\":{\"symbol\":\"circle\"},\"mode\":\"lines\",\"name\":\"2015\",\"orientation\":\"v\",\"showlegend\":true,\"x\":[\"ALABAMA\",\"ALASKA\",\"ARIZONA\",\"ARKANSAS\",\"CALIFORNIA\",\"COLORADO\",\"CONNECTICUT\",\"DELAWARE\",\"FLORIDA\",\"GEORGIA\",\"HAWAII\",\"IDAHO\",\"ILLINOIS\",\"INDIANA\",\"IOWA\",\"KANSAS\",\"KENTUCKY\",\"LOUISIANA\",\"MAINE\",\"MARYLAND\",\"MASSACHUSETTS\",\"MICHIGAN\",\"MINNESOTA\",\"MISSISSIPPI\",\"MISSOURI\",\"MONTANA\",\"NEBRASKA\",\"NEVADA\",\"NEW HAMPSHIRE\",\"NEW JERSEY\",\"NEW MEXICO\",\"NORTH CAROLINA\",\"NORTH DAKOTA\",\"OHIO\",\"OKLAHOMA\",\"OREGON\",\"PENNSYLVANIA\",\"RHODE ISLAND\",\"SOUTH CAROLINA\",\"SOUTH DAKOTA\",\"TENNESSEE\",\"TEXAS\",\"UTAH\",\"VERMONT\",\"VIRGINIA\",\"WASHINGTON\",\"WEST VIRGINIA\",\"WISCONSIN\",\"WYOMING\"],\"xaxis\":\"x\",\"y\":[25212,5247,42204,15784,127815,19959,16024,6437,99485,52002,5413,7238,46240,26586,8864,9533,11959,18447,2190,20951,9493,42628,9578,13967,32295,3176,5133,13235,2661,20294,7104,36888,1772,52240,27321,14655,48846,2982,20457,3536,19800,152492,4831,1750,30430,17222,5925,22914,2400],\"yaxis\":\"y\",\"type\":\"scatter\"}],                        {\"template\":{\"data\":{\"histogram2dcontour\":[{\"type\":\"histogram2dcontour\",\"colorbar\":{\"outlinewidth\":0,\"ticks\":\"\"},\"colorscale\":[[0.0,\"#0d0887\"],[0.1111111111111111,\"#46039f\"],[0.2222222222222222,\"#7201a8\"],[0.3333333333333333,\"#9c179e\"],[0.4444444444444444,\"#bd3786\"],[0.5555555555555556,\"#d8576b\"],[0.6666666666666666,\"#ed7953\"],[0.7777777777777778,\"#fb9f3a\"],[0.8888888888888888,\"#fdca26\"],[1.0,\"#f0f921\"]]}],\"choropleth\":[{\"type\":\"choropleth\",\"colorbar\":{\"outlinewidth\":0,\"ticks\":\"\"}}],\"histogram2d\":[{\"type\":\"histogram2d\",\"colorbar\":{\"outlinewidth\":0,\"ticks\":\"\"},\"colorscale\":[[0.0,\"#0d0887\"],[0.1111111111111111,\"#46039f\"],[0.2222222222222222,\"#7201a8\"],[0.3333333333333333,\"#9c179e\"],[0.4444444444444444,\"#bd3786\"],[0.5555555555555556,\"#d8576b\"],[0.6666666666666666,\"#ed7953\"],[0.7777777777777778,\"#fb9f3a\"],[0.8888888888888888,\"#fdca26\"],[1.0,\"#f0f921\"]]}],\"heatmap\":[{\"type\":\"heatmap\",\"colorbar\":{\"outlinewidth\":0,\"ticks\":\"\"},\"colorscale\":[[0.0,\"#0d0887\"],[0.1111111111111111,\"#46039f\"],[0.2222222222222222,\"#7201a8\"],[0.3333333333333333,\"#9c179e\"],[0.4444444444444444,\"#bd3786\"],[0.5555555555555556,\"#d8576b\"],[0.6666666666666666,\"#ed7953\"],[0.7777777777777778,\"#fb9f3a\"],[0.8888888888888888,\"#fdca26\"],[1.0,\"#f0f921\"]]}],\"heatmapgl\":[{\"type\":\"heatmapgl\",\"colorbar\":{\"outlinewidth\":0,\"ticks\":\"\"},\"colorscale\":[[0.0,\"#0d0887\"],[0.1111111111111111,\"#46039f\"],[0.2222222222222222,\"#7201a8\"],[0.3333333333333333,\"#9c179e\"],[0.4444444444444444,\"#bd3786\"],[0.5555555555555556,\"#d8576b\"],[0.6666666666666666,\"#ed7953\"],[0.7777777777777778,\"#fb9f3a\"],[0.8888888888888888,\"#fdca26\"],[1.0,\"#f0f921\"]]}],\"contourcarpet\":[{\"type\":\"contourcarpet\",\"colorbar\":{\"outlinewidth\":0,\"ticks\":\"\"}}],\"contour\":[{\"type\":\"contour\",\"colorbar\":{\"outlinewidth\":0,\"ticks\":\"\"},\"colorscale\":[[0.0,\"#0d0887\"],[0.1111111111111111,\"#46039f\"],[0.2222222222222222,\"#7201a8\"],[0.3333333333333333,\"#9c179e\"],[0.4444444444444444,\"#bd3786\"],[0.5555555555555556,\"#d8576b\"],[0.6666666666666666,\"#ed7953\"],[0.7777777777777778,\"#fb9f3a\"],[0.8888888888888888,\"#fdca26\"],[1.0,\"#f0f921\"]]}],\"surface\":[{\"type\":\"surface\",\"colorbar\":{\"outlinewidth\":0,\"ticks\":\"\"},\"colorscale\":[[0.0,\"#0d0887\"],[0.1111111111111111,\"#46039f\"],[0.2222222222222222,\"#7201a8\"],[0.3333333333333333,\"#9c179e\"],[0.4444444444444444,\"#bd3786\"],[0.5555555555555556,\"#d8576b\"],[0.6666666666666666,\"#ed7953\"],[0.7777777777777778,\"#fb9f3a\"],[0.8888888888888888,\"#fdca26\"],[1.0,\"#f0f921\"]]}],\"mesh3d\":[{\"type\":\"mesh3d\",\"colorbar\":{\"outlinewidth\":0,\"ticks\":\"\"}}],\"scatter\":[{\"fillpattern\":{\"fillmode\":\"overlay\",\"size\":10,\"solidity\":0.2},\"type\":\"scatter\"}],\"parcoords\":[{\"type\":\"parcoords\",\"line\":{\"colorbar\":{\"outlinewidth\":0,\"ticks\":\"\"}}}],\"scatterpolargl\":[{\"type\":\"scatterpolargl\",\"marker\":{\"colorbar\":{\"outlinewidth\":0,\"ticks\":\"\"}}}],\"bar\":[{\"error_x\":{\"color\":\"#2a3f5f\"},\"error_y\":{\"color\":\"#2a3f5f\"},\"marker\":{\"line\":{\"color\":\"#E5ECF6\",\"width\":0.5},\"pattern\":{\"fillmode\":\"overlay\",\"size\":10,\"solidity\":0.2}},\"type\":\"bar\"}],\"scattergeo\":[{\"type\":\"scattergeo\",\"marker\":{\"colorbar\":{\"outlinewidth\":0,\"ticks\":\"\"}}}],\"scatterpolar\":[{\"type\":\"scatterpolar\",\"marker\":{\"colorbar\":{\"outlinewidth\":0,\"ticks\":\"\"}}}],\"histogram\":[{\"marker\":{\"pattern\":{\"fillmode\":\"overlay\",\"size\":10,\"solidity\":0.2}},\"type\":\"histogram\"}],\"scattergl\":[{\"type\":\"scattergl\",\"marker\":{\"colorbar\":{\"outlinewidth\":0,\"ticks\":\"\"}}}],\"scatter3d\":[{\"type\":\"scatter3d\",\"line\":{\"colorbar\":{\"outlinewidth\":0,\"ticks\":\"\"}},\"marker\":{\"colorbar\":{\"outlinewidth\":0,\"ticks\":\"\"}}}],\"scattermapbox\":[{\"type\":\"scattermapbox\",\"marker\":{\"colorbar\":{\"outlinewidth\":0,\"ticks\":\"\"}}}],\"scatterternary\":[{\"type\":\"scatterternary\",\"marker\":{\"colorbar\":{\"outlinewidth\":0,\"ticks\":\"\"}}}],\"scattercarpet\":[{\"type\":\"scattercarpet\",\"marker\":{\"colorbar\":{\"outlinewidth\":0,\"ticks\":\"\"}}}],\"carpet\":[{\"aaxis\":{\"endlinecolor\":\"#2a3f5f\",\"gridcolor\":\"white\",\"linecolor\":\"white\",\"minorgridcolor\":\"white\",\"startlinecolor\":\"#2a3f5f\"},\"baxis\":{\"endlinecolor\":\"#2a3f5f\",\"gridcolor\":\"white\",\"linecolor\":\"white\",\"minorgridcolor\":\"white\",\"startlinecolor\":\"#2a3f5f\"},\"type\":\"carpet\"}],\"table\":[{\"cells\":{\"fill\":{\"color\":\"#EBF0F8\"},\"line\":{\"color\":\"white\"}},\"header\":{\"fill\":{\"color\":\"#C8D4E3\"},\"line\":{\"color\":\"white\"}},\"type\":\"table\"}],\"barpolar\":[{\"marker\":{\"line\":{\"color\":\"#E5ECF6\",\"width\":0.5},\"pattern\":{\"fillmode\":\"overlay\",\"size\":10,\"solidity\":0.2}},\"type\":\"barpolar\"}],\"pie\":[{\"automargin\":true,\"type\":\"pie\"}]},\"layout\":{\"autotypenumbers\":\"strict\",\"colorway\":[\"#636efa\",\"#EF553B\",\"#00cc96\",\"#ab63fa\",\"#FFA15A\",\"#19d3f3\",\"#FF6692\",\"#B6E880\",\"#FF97FF\",\"#FECB52\"],\"font\":{\"color\":\"#2a3f5f\"},\"hovermode\":\"closest\",\"hoverlabel\":{\"align\":\"left\"},\"paper_bgcolor\":\"white\",\"plot_bgcolor\":\"#E5ECF6\",\"polar\":{\"bgcolor\":\"#E5ECF6\",\"angularaxis\":{\"gridcolor\":\"white\",\"linecolor\":\"white\",\"ticks\":\"\"},\"radialaxis\":{\"gridcolor\":\"white\",\"linecolor\":\"white\",\"ticks\":\"\"}},\"ternary\":{\"bgcolor\":\"#E5ECF6\",\"aaxis\":{\"gridcolor\":\"white\",\"linecolor\":\"white\",\"ticks\":\"\"},\"baxis\":{\"gridcolor\":\"white\",\"linecolor\":\"white\",\"ticks\":\"\"},\"caxis\":{\"gridcolor\":\"white\",\"linecolor\":\"white\",\"ticks\":\"\"}},\"coloraxis\":{\"colorbar\":{\"outlinewidth\":0,\"ticks\":\"\"}},\"colorscale\":{\"sequential\":[[0.0,\"#0d0887\"],[0.1111111111111111,\"#46039f\"],[0.2222222222222222,\"#7201a8\"],[0.3333333333333333,\"#9c179e\"],[0.4444444444444444,\"#bd3786\"],[0.5555555555555556,\"#d8576b\"],[0.6666666666666666,\"#ed7953\"],[0.7777777777777778,\"#fb9f3a\"],[0.8888888888888888,\"#fdca26\"],[1.0,\"#f0f921\"]],\"sequentialminus\":[[0.0,\"#0d0887\"],[0.1111111111111111,\"#46039f\"],[0.2222222222222222,\"#7201a8\"],[0.3333333333333333,\"#9c179e\"],[0.4444444444444444,\"#bd3786\"],[0.5555555555555556,\"#d8576b\"],[0.6666666666666666,\"#ed7953\"],[0.7777777777777778,\"#fb9f3a\"],[0.8888888888888888,\"#fdca26\"],[1.0,\"#f0f921\"]],\"diverging\":[[0,\"#8e0152\"],[0.1,\"#c51b7d\"],[0.2,\"#de77ae\"],[0.3,\"#f1b6da\"],[0.4,\"#fde0ef\"],[0.5,\"#f7f7f7\"],[0.6,\"#e6f5d0\"],[0.7,\"#b8e186\"],[0.8,\"#7fbc41\"],[0.9,\"#4d9221\"],[1,\"#276419\"]]},\"xaxis\":{\"gridcolor\":\"white\",\"linecolor\":\"white\",\"ticks\":\"\",\"title\":{\"standoff\":15},\"zerolinecolor\":\"white\",\"automargin\":true,\"zerolinewidth\":2},\"yaxis\":{\"gridcolor\":\"white\",\"linecolor\":\"white\",\"ticks\":\"\",\"title\":{\"standoff\":15},\"zerolinecolor\":\"white\",\"automargin\":true,\"zerolinewidth\":2},\"scene\":{\"xaxis\":{\"backgroundcolor\":\"#E5ECF6\",\"gridcolor\":\"white\",\"linecolor\":\"white\",\"showbackground\":true,\"ticks\":\"\",\"zerolinecolor\":\"white\",\"gridwidth\":2},\"yaxis\":{\"backgroundcolor\":\"#E5ECF6\",\"gridcolor\":\"white\",\"linecolor\":\"white\",\"showbackground\":true,\"ticks\":\"\",\"zerolinecolor\":\"white\",\"gridwidth\":2},\"zaxis\":{\"backgroundcolor\":\"#E5ECF6\",\"gridcolor\":\"white\",\"linecolor\":\"white\",\"showbackground\":true,\"ticks\":\"\",\"zerolinecolor\":\"white\",\"gridwidth\":2}},\"shapedefaults\":{\"line\":{\"color\":\"#2a3f5f\"}},\"annotationdefaults\":{\"arrowcolor\":\"#2a3f5f\",\"arrowhead\":0,\"arrowwidth\":1},\"geo\":{\"bgcolor\":\"white\",\"landcolor\":\"#E5ECF6\",\"subunitcolor\":\"white\",\"showland\":true,\"showlakes\":true,\"lakecolor\":\"white\"},\"title\":{\"x\":0.05},\"mapbox\":{\"style\":\"light\"}}},\"xaxis\":{\"anchor\":\"y\",\"domain\":[0.0,1.0],\"title\":{\"text\":\"jurisdiction\"}},\"yaxis\":{\"anchor\":\"x\",\"domain\":[0.0,1.0],\"title\":{\"text\":\"prisoner_count\"}},\"legend\":{\"title\":{\"text\":\"year\"},\"tracegroupgap\":0},\"margin\":{\"t\":60}},                        {\"responsive\": true}                    ).then(function(){\n                            \nvar gd = document.getElementById('b625c606-b3c5-49e8-ba9f-96f0557766ed');\nvar x = new MutationObserver(function (mutations, observer) {{\n        var display = window.getComputedStyle(gd).display;\n        if (!display || display === 'none') {{\n            console.log([gd, 'removed!']);\n            Plotly.purge(gd);\n            observer.disconnect();\n        }}\n}});\n\n// Listen for the removal of the full notebook cells\nvar notebookContainer = gd.closest('#notebook-container');\nif (notebookContainer) {{\n    x.observe(notebookContainer, {childList: true});\n}}\n\n// Listen for the clearing of the current output cell\nvar outputEl = gd.closest('.output');\nif (outputEl) {{\n    x.observe(outputEl, {childList: true});\n}}\n\n                        })                };                            </script>        </div>\n</body>\n</html>"
     },
     "execution_count": 49,
     "metadata": {
     },
     "output_type": "execute_result"
    }
   ],
   "source": [
    "# Plot 1: Prisoner Count per state\n",
    "\n",
    "fig = px.line(crime_df, x='jurisdiction', y='prisoner_count', color = 'year')\n",
    "fig.show()"
   ]
  },
  {
   "cell_type": "code",
   "execution_count": 56,
   "metadata": {
    "collapsed": false
   },
   "outputs": [
    {
     "data": {
      "text/html": "<html>\n<head><meta charset=\"utf-8\" /></head>\n<body>\n    <div>            <script src=\"https://cdnjs.cloudflare.com/ajax/libs/mathjax/2.7.5/MathJax.js?config=TeX-AMS-MML_SVG\"></script><script type=\"text/javascript\">if (window.MathJax && window.MathJax.Hub && window.MathJax.Hub.Config) {window.MathJax.Hub.Config({SVG: {font: \"STIX-Web\"}});}</script>                <script type=\"text/javascript\">window.PlotlyConfig = {MathJaxConfig: 'local'};</script>\n        <script src=\"https://cdn.plot.ly/plotly-2.12.1.min.js\"></script>                <div id=\"d8c7e6d8-7e75-4e38-87ed-502432508222\" class=\"plotly-graph-div\" style=\"height:525px; width:100%;\"></div>            <script type=\"text/javascript\">                                    window.PLOTLYENV=window.PLOTLYENV || {};                                    if (document.getElementById(\"d8c7e6d8-7e75-4e38-87ed-502432508222\")) {                    Plotly.newPlot(                        \"d8c7e6d8-7e75-4e38-87ed-502432508222\",                        [{\"alignmentgroup\":\"True\",\"hovertemplate\":\"States=%{x}<br>Murder-Manslaughter=%{y}<br>year=%{marker.color}<extra></extra>\",\"legendgroup\":\"\",\"marker\":{\"color\":[2013,2013,2013,2013,2013,2013,2013,2013,2013,2013,2013,2013,2013,2013,2013,2013,2013,2013,2013,2013,2013,2013,2013,2013,2013,2013,2013,2013,2013,2013,2013,2013,2013,2013,2013,2013,2013,2013,2013,2013,2013,2013,2013,2013,2013,2013,2013,2013,2013,2013,2014,2014,2014,2014,2014,2014,2014,2014,2014,2014,2014,2014,2014,2014,2014,2014,2014,2014,2014,2014,2014,2014,2014,2014,2014,2014,2014,2014,2014,2014,2014,2014,2014,2014,2014,2014,2014,2014,2014,2014,2014,2014,2014,2014,2014,2014,2014,2014,2014,2014,2015,2015,2015,2015,2015,2015,2015,2015,2015,2015,2015,2015,2015,2015,2015,2015,2015,2015,2015,2015,2015,2015,2015,2015,2015,2015,2015,2015,2015,2015,2015,2015,2015,2015,2015,2015,2015,2015,2015,2015,2015,2015,2015,2015,2015,2015,2015,2015,2015],\"coloraxis\":\"coloraxis\",\"pattern\":{\"shape\":\"\"}},\"name\":\"\",\"offsetgroup\":\"\",\"orientation\":\"v\",\"showlegend\":false,\"textposition\":\"auto\",\"x\":[\"ALABAMA\",\"ALASKA\",\"ARIZONA\",\"ARKANSAS\",\"CALIFORNIA\",\"COLORADO\",\"CONNECTICUT\",\"DELAWARE\",\"FLORIDA\",\"GEORGIA\",\"HAWAII\",\"IDAHO\",\"ILLINOIS\",\"INDIANA\",\"IOWA\",\"KANSAS\",\"KENTUCKY\",\"LOUISIANA\",\"MAINE\",\"MARYLAND\",\"MASSACHUSETTS\",\"MICHIGAN\",\"MINNESOTA\",\"MISSISSIPPI\",\"MISSOURI\",\"MONTANA\",\"NEBRASKA\",\"NEVADA\",\"NEW HAMPSHIRE\",\"NEW JERSEY\",\"NEW MEXICO\",\"NEW YORK\",\"NORTH CAROLINA\",\"NORTH DAKOTA\",\"OHIO\",\"OKLAHOMA\",\"OREGON\",\"PENNSYLVANIA\",\"RHODE ISLAND\",\"SOUTH CAROLINA\",\"SOUTH DAKOTA\",\"TENNESSEE\",\"TEXAS\",\"UTAH\",\"VERMONT\",\"VIRGINIA\",\"WASHINGTON\",\"WEST VIRGINIA\",\"WISCONSIN\",\"WYOMING\",\"ALABAMA\",\"ALASKA\",\"ARIZONA\",\"ARKANSAS\",\"CALIFORNIA\",\"COLORADO\",\"CONNECTICUT\",\"DELAWARE\",\"FLORIDA\",\"GEORGIA\",\"HAWAII\",\"IDAHO\",\"ILLINOIS\",\"INDIANA\",\"IOWA\",\"KANSAS\",\"KENTUCKY\",\"LOUISIANA\",\"MAINE\",\"MARYLAND\",\"MASSACHUSETTS\",\"MICHIGAN\",\"MINNESOTA\",\"MISSISSIPPI\",\"MISSOURI\",\"MONTANA\",\"NEBRASKA\",\"NEVADA\",\"NEW HAMPSHIRE\",\"NEW JERSEY\",\"NEW MEXICO\",\"NEW YORK\",\"NORTH CAROLINA\",\"NORTH DAKOTA\",\"OHIO\",\"OKLAHOMA\",\"OREGON\",\"PENNSYLVANIA\",\"RHODE ISLAND\",\"SOUTH CAROLINA\",\"SOUTH DAKOTA\",\"TENNESSEE\",\"TEXAS\",\"UTAH\",\"VERMONT\",\"VIRGINIA\",\"WASHINGTON\",\"WEST VIRGINIA\",\"WISCONSIN\",\"WYOMING\",\"ALABAMA\",\"ALASKA\",\"ARIZONA\",\"ARKANSAS\",\"CALIFORNIA\",\"COLORADO\",\"CONNECTICUT\",\"DELAWARE\",\"FLORIDA\",\"GEORGIA\",\"HAWAII\",\"IDAHO\",\"ILLINOIS\",\"INDIANA\",\"IOWA\",\"KANSAS\",\"KENTUCKY\",\"LOUISIANA\",\"MAINE\",\"MARYLAND\",\"MASSACHUSETTS\",\"MICHIGAN\",\"MINNESOTA\",\"MISSISSIPPI\",\"MISSOURI\",\"MONTANA\",\"NEBRASKA\",\"NEVADA\",\"NEW HAMPSHIRE\",\"NEW JERSEY\",\"NEW MEXICO\",\"NORTH CAROLINA\",\"NORTH DAKOTA\",\"OHIO\",\"OKLAHOMA\",\"OREGON\",\"PENNSYLVANIA\",\"RHODE ISLAND\",\"SOUTH CAROLINA\",\"SOUTH DAKOTA\",\"TENNESSEE\",\"TEXAS\",\"UTAH\",\"VERMONT\",\"VIRGINIA\",\"WASHINGTON\",\"WEST VIRGINIA\",\"WISCONSIN\",\"WYOMING\"],\"xaxis\":\"x\",\"y\":[346.0,34.0,355.0,158.0,1746.0,174.0,91.0,41.0,972.0,563.0,32.0,29.0,722.0,357.0,41.0,117.0,172.0,494.0,24.0,384.0,138.0,625.0,114.0,217.0,369.0,23.0,56.0,163.0,21.0,404.0,123.0,644.0,463.0,16.0,478.0,198.0,82.0,611.0,31.0,305.0,18.0,335.0,1140.0,51.0,10.0,320.0,167.0,62.0,163.0,17.0,276.0,41.0,319.0,165.0,1699.0,151.0,86.0,54.0,1149.0,580.0,26.0,32.0,685.0,330.0,60.0,91.0,160.0,477.0,21.0,365.0,132.0,535.0,88.0,258.0,403.0,37.0,54.0,170.0,12.0,349.0,101.0,617.0,510.0,22.0,464.0,175.0,81.0,614.0,25.0,311.0,20.0,371.0,1184.0,67.0,10.0,338.0,174.0,74.0,165.0,16.0,348.0,59.0,309.0,181.0,1861.0,176.0,117.0,63.0,1041.0,615.0,19.0,32.0,744.0,373.0,72.0,128.0,209.0,481.0,23.0,516.0,128.0,571.0,133.0,259.0,502.0,36.0,62.0,178.0,14.0,363.0,117.0,517.0,21.0,500.0,234.0,99.0,658.0,29.0,399.0,32.0,406.0,1316.0,54.0,10.0,383.0,211.0,70.0,240.0,16.0],\"yaxis\":\"y\",\"type\":\"bar\"}],                        {\"template\":{\"data\":{\"histogram2dcontour\":[{\"type\":\"histogram2dcontour\",\"colorbar\":{\"outlinewidth\":0,\"ticks\":\"\"},\"colorscale\":[[0.0,\"#0d0887\"],[0.1111111111111111,\"#46039f\"],[0.2222222222222222,\"#7201a8\"],[0.3333333333333333,\"#9c179e\"],[0.4444444444444444,\"#bd3786\"],[0.5555555555555556,\"#d8576b\"],[0.6666666666666666,\"#ed7953\"],[0.7777777777777778,\"#fb9f3a\"],[0.8888888888888888,\"#fdca26\"],[1.0,\"#f0f921\"]]}],\"choropleth\":[{\"type\":\"choropleth\",\"colorbar\":{\"outlinewidth\":0,\"ticks\":\"\"}}],\"histogram2d\":[{\"type\":\"histogram2d\",\"colorbar\":{\"outlinewidth\":0,\"ticks\":\"\"},\"colorscale\":[[0.0,\"#0d0887\"],[0.1111111111111111,\"#46039f\"],[0.2222222222222222,\"#7201a8\"],[0.3333333333333333,\"#9c179e\"],[0.4444444444444444,\"#bd3786\"],[0.5555555555555556,\"#d8576b\"],[0.6666666666666666,\"#ed7953\"],[0.7777777777777778,\"#fb9f3a\"],[0.8888888888888888,\"#fdca26\"],[1.0,\"#f0f921\"]]}],\"heatmap\":[{\"type\":\"heatmap\",\"colorbar\":{\"outlinewidth\":0,\"ticks\":\"\"},\"colorscale\":[[0.0,\"#0d0887\"],[0.1111111111111111,\"#46039f\"],[0.2222222222222222,\"#7201a8\"],[0.3333333333333333,\"#9c179e\"],[0.4444444444444444,\"#bd3786\"],[0.5555555555555556,\"#d8576b\"],[0.6666666666666666,\"#ed7953\"],[0.7777777777777778,\"#fb9f3a\"],[0.8888888888888888,\"#fdca26\"],[1.0,\"#f0f921\"]]}],\"heatmapgl\":[{\"type\":\"heatmapgl\",\"colorbar\":{\"outlinewidth\":0,\"ticks\":\"\"},\"colorscale\":[[0.0,\"#0d0887\"],[0.1111111111111111,\"#46039f\"],[0.2222222222222222,\"#7201a8\"],[0.3333333333333333,\"#9c179e\"],[0.4444444444444444,\"#bd3786\"],[0.5555555555555556,\"#d8576b\"],[0.6666666666666666,\"#ed7953\"],[0.7777777777777778,\"#fb9f3a\"],[0.8888888888888888,\"#fdca26\"],[1.0,\"#f0f921\"]]}],\"contourcarpet\":[{\"type\":\"contourcarpet\",\"colorbar\":{\"outlinewidth\":0,\"ticks\":\"\"}}],\"contour\":[{\"type\":\"contour\",\"colorbar\":{\"outlinewidth\":0,\"ticks\":\"\"},\"colorscale\":[[0.0,\"#0d0887\"],[0.1111111111111111,\"#46039f\"],[0.2222222222222222,\"#7201a8\"],[0.3333333333333333,\"#9c179e\"],[0.4444444444444444,\"#bd3786\"],[0.5555555555555556,\"#d8576b\"],[0.6666666666666666,\"#ed7953\"],[0.7777777777777778,\"#fb9f3a\"],[0.8888888888888888,\"#fdca26\"],[1.0,\"#f0f921\"]]}],\"surface\":[{\"type\":\"surface\",\"colorbar\":{\"outlinewidth\":0,\"ticks\":\"\"},\"colorscale\":[[0.0,\"#0d0887\"],[0.1111111111111111,\"#46039f\"],[0.2222222222222222,\"#7201a8\"],[0.3333333333333333,\"#9c179e\"],[0.4444444444444444,\"#bd3786\"],[0.5555555555555556,\"#d8576b\"],[0.6666666666666666,\"#ed7953\"],[0.7777777777777778,\"#fb9f3a\"],[0.8888888888888888,\"#fdca26\"],[1.0,\"#f0f921\"]]}],\"mesh3d\":[{\"type\":\"mesh3d\",\"colorbar\":{\"outlinewidth\":0,\"ticks\":\"\"}}],\"scatter\":[{\"fillpattern\":{\"fillmode\":\"overlay\",\"size\":10,\"solidity\":0.2},\"type\":\"scatter\"}],\"parcoords\":[{\"type\":\"parcoords\",\"line\":{\"colorbar\":{\"outlinewidth\":0,\"ticks\":\"\"}}}],\"scatterpolargl\":[{\"type\":\"scatterpolargl\",\"marker\":{\"colorbar\":{\"outlinewidth\":0,\"ticks\":\"\"}}}],\"bar\":[{\"error_x\":{\"color\":\"#2a3f5f\"},\"error_y\":{\"color\":\"#2a3f5f\"},\"marker\":{\"line\":{\"color\":\"#E5ECF6\",\"width\":0.5},\"pattern\":{\"fillmode\":\"overlay\",\"size\":10,\"solidity\":0.2}},\"type\":\"bar\"}],\"scattergeo\":[{\"type\":\"scattergeo\",\"marker\":{\"colorbar\":{\"outlinewidth\":0,\"ticks\":\"\"}}}],\"scatterpolar\":[{\"type\":\"scatterpolar\",\"marker\":{\"colorbar\":{\"outlinewidth\":0,\"ticks\":\"\"}}}],\"histogram\":[{\"marker\":{\"pattern\":{\"fillmode\":\"overlay\",\"size\":10,\"solidity\":0.2}},\"type\":\"histogram\"}],\"scattergl\":[{\"type\":\"scattergl\",\"marker\":{\"colorbar\":{\"outlinewidth\":0,\"ticks\":\"\"}}}],\"scatter3d\":[{\"type\":\"scatter3d\",\"line\":{\"colorbar\":{\"outlinewidth\":0,\"ticks\":\"\"}},\"marker\":{\"colorbar\":{\"outlinewidth\":0,\"ticks\":\"\"}}}],\"scattermapbox\":[{\"type\":\"scattermapbox\",\"marker\":{\"colorbar\":{\"outlinewidth\":0,\"ticks\":\"\"}}}],\"scatterternary\":[{\"type\":\"scatterternary\",\"marker\":{\"colorbar\":{\"outlinewidth\":0,\"ticks\":\"\"}}}],\"scattercarpet\":[{\"type\":\"scattercarpet\",\"marker\":{\"colorbar\":{\"outlinewidth\":0,\"ticks\":\"\"}}}],\"carpet\":[{\"aaxis\":{\"endlinecolor\":\"#2a3f5f\",\"gridcolor\":\"white\",\"linecolor\":\"white\",\"minorgridcolor\":\"white\",\"startlinecolor\":\"#2a3f5f\"},\"baxis\":{\"endlinecolor\":\"#2a3f5f\",\"gridcolor\":\"white\",\"linecolor\":\"white\",\"minorgridcolor\":\"white\",\"startlinecolor\":\"#2a3f5f\"},\"type\":\"carpet\"}],\"table\":[{\"cells\":{\"fill\":{\"color\":\"#EBF0F8\"},\"line\":{\"color\":\"white\"}},\"header\":{\"fill\":{\"color\":\"#C8D4E3\"},\"line\":{\"color\":\"white\"}},\"type\":\"table\"}],\"barpolar\":[{\"marker\":{\"line\":{\"color\":\"#E5ECF6\",\"width\":0.5},\"pattern\":{\"fillmode\":\"overlay\",\"size\":10,\"solidity\":0.2}},\"type\":\"barpolar\"}],\"pie\":[{\"automargin\":true,\"type\":\"pie\"}]},\"layout\":{\"autotypenumbers\":\"strict\",\"colorway\":[\"#636efa\",\"#EF553B\",\"#00cc96\",\"#ab63fa\",\"#FFA15A\",\"#19d3f3\",\"#FF6692\",\"#B6E880\",\"#FF97FF\",\"#FECB52\"],\"font\":{\"color\":\"#2a3f5f\"},\"hovermode\":\"closest\",\"hoverlabel\":{\"align\":\"left\"},\"paper_bgcolor\":\"white\",\"plot_bgcolor\":\"#E5ECF6\",\"polar\":{\"bgcolor\":\"#E5ECF6\",\"angularaxis\":{\"gridcolor\":\"white\",\"linecolor\":\"white\",\"ticks\":\"\"},\"radialaxis\":{\"gridcolor\":\"white\",\"linecolor\":\"white\",\"ticks\":\"\"}},\"ternary\":{\"bgcolor\":\"#E5ECF6\",\"aaxis\":{\"gridcolor\":\"white\",\"linecolor\":\"white\",\"ticks\":\"\"},\"baxis\":{\"gridcolor\":\"white\",\"linecolor\":\"white\",\"ticks\":\"\"},\"caxis\":{\"gridcolor\":\"white\",\"linecolor\":\"white\",\"ticks\":\"\"}},\"coloraxis\":{\"colorbar\":{\"outlinewidth\":0,\"ticks\":\"\"}},\"colorscale\":{\"sequential\":[[0.0,\"#0d0887\"],[0.1111111111111111,\"#46039f\"],[0.2222222222222222,\"#7201a8\"],[0.3333333333333333,\"#9c179e\"],[0.4444444444444444,\"#bd3786\"],[0.5555555555555556,\"#d8576b\"],[0.6666666666666666,\"#ed7953\"],[0.7777777777777778,\"#fb9f3a\"],[0.8888888888888888,\"#fdca26\"],[1.0,\"#f0f921\"]],\"sequentialminus\":[[0.0,\"#0d0887\"],[0.1111111111111111,\"#46039f\"],[0.2222222222222222,\"#7201a8\"],[0.3333333333333333,\"#9c179e\"],[0.4444444444444444,\"#bd3786\"],[0.5555555555555556,\"#d8576b\"],[0.6666666666666666,\"#ed7953\"],[0.7777777777777778,\"#fb9f3a\"],[0.8888888888888888,\"#fdca26\"],[1.0,\"#f0f921\"]],\"diverging\":[[0,\"#8e0152\"],[0.1,\"#c51b7d\"],[0.2,\"#de77ae\"],[0.3,\"#f1b6da\"],[0.4,\"#fde0ef\"],[0.5,\"#f7f7f7\"],[0.6,\"#e6f5d0\"],[0.7,\"#b8e186\"],[0.8,\"#7fbc41\"],[0.9,\"#4d9221\"],[1,\"#276419\"]]},\"xaxis\":{\"gridcolor\":\"white\",\"linecolor\":\"white\",\"ticks\":\"\",\"title\":{\"standoff\":15},\"zerolinecolor\":\"white\",\"automargin\":true,\"zerolinewidth\":2},\"yaxis\":{\"gridcolor\":\"white\",\"linecolor\":\"white\",\"ticks\":\"\",\"title\":{\"standoff\":15},\"zerolinecolor\":\"white\",\"automargin\":true,\"zerolinewidth\":2},\"scene\":{\"xaxis\":{\"backgroundcolor\":\"#E5ECF6\",\"gridcolor\":\"white\",\"linecolor\":\"white\",\"showbackground\":true,\"ticks\":\"\",\"zerolinecolor\":\"white\",\"gridwidth\":2},\"yaxis\":{\"backgroundcolor\":\"#E5ECF6\",\"gridcolor\":\"white\",\"linecolor\":\"white\",\"showbackground\":true,\"ticks\":\"\",\"zerolinecolor\":\"white\",\"gridwidth\":2},\"zaxis\":{\"backgroundcolor\":\"#E5ECF6\",\"gridcolor\":\"white\",\"linecolor\":\"white\",\"showbackground\":true,\"ticks\":\"\",\"zerolinecolor\":\"white\",\"gridwidth\":2}},\"shapedefaults\":{\"line\":{\"color\":\"#2a3f5f\"}},\"annotationdefaults\":{\"arrowcolor\":\"#2a3f5f\",\"arrowhead\":0,\"arrowwidth\":1},\"geo\":{\"bgcolor\":\"white\",\"landcolor\":\"#E5ECF6\",\"subunitcolor\":\"white\",\"showland\":true,\"showlakes\":true,\"lakecolor\":\"white\"},\"title\":{\"x\":0.05},\"mapbox\":{\"style\":\"light\"}}},\"xaxis\":{\"anchor\":\"y\",\"domain\":[0.0,1.0],\"title\":{\"text\":\"States\"}},\"yaxis\":{\"anchor\":\"x\",\"domain\":[0.0,1.0],\"title\":{\"text\":\"Murder-Manslaughter\"}},\"coloraxis\":{\"colorbar\":{\"title\":{\"text\":\"year\"}},\"colorscale\":[[0.0,\"#0d0887\"],[0.1111111111111111,\"#46039f\"],[0.2222222222222222,\"#7201a8\"],[0.3333333333333333,\"#9c179e\"],[0.4444444444444444,\"#bd3786\"],[0.5555555555555556,\"#d8576b\"],[0.6666666666666666,\"#ed7953\"],[0.7777777777777778,\"#fb9f3a\"],[0.8888888888888888,\"#fdca26\"],[1.0,\"#f0f921\"]]},\"legend\":{\"tracegroupgap\":0},\"title\":{\"text\":\"Murder-Manslaughter per State\"},\"barmode\":\"relative\"},                        {\"responsive\": true}                    ).then(function(){\n                            \nvar gd = document.getElementById('d8c7e6d8-7e75-4e38-87ed-502432508222');\nvar x = new MutationObserver(function (mutations, observer) {{\n        var display = window.getComputedStyle(gd).display;\n        if (!display || display === 'none') {{\n            console.log([gd, 'removed!']);\n            Plotly.purge(gd);\n            observer.disconnect();\n        }}\n}});\n\n// Listen for the removal of the full notebook cells\nvar notebookContainer = gd.closest('#notebook-container');\nif (notebookContainer) {{\n    x.observe(notebookContainer, {childList: true});\n}}\n\n// Listen for the clearing of the current output cell\nvar outputEl = gd.closest('.output');\nif (outputEl) {{\n    x.observe(outputEl, {childList: true});\n}}\n\n                        })                };                            </script>        </div>\n</body>\n</html>"
     },
     "execution_count": 56,
     "metadata": {
     },
     "output_type": "execute_result"
    }
   ],
   "source": [
    "# Plot 2: Murder-Manslaughter per state\n",
    "\n",
    "fig = px.bar(crime_df, x='jurisdiction', y='murder_manslaughter', color = 'year', title = \"Murder-Manslaughter per State\", labels = {\"jurisdiction\":\"States\", \"murder_manslaughter\":\"Murder-Manslaughter\"})\n",
    "fig.show()"
   ]
  },
  {
   "cell_type": "code",
   "execution_count": 55,
   "metadata": {
    "collapsed": false
   },
   "outputs": [
    {
     "data": {
      "text/html": "<html>\n<head><meta charset=\"utf-8\" /></head>\n<body>\n    <div>            <script src=\"https://cdnjs.cloudflare.com/ajax/libs/mathjax/2.7.5/MathJax.js?config=TeX-AMS-MML_SVG\"></script><script type=\"text/javascript\">if (window.MathJax && window.MathJax.Hub && window.MathJax.Hub.Config) {window.MathJax.Hub.Config({SVG: {font: \"STIX-Web\"}});}</script>                <script type=\"text/javascript\">window.PlotlyConfig = {MathJaxConfig: 'local'};</script>\n        <script src=\"https://cdn.plot.ly/plotly-2.12.1.min.js\"></script>                <div id=\"c308d154-c098-48c9-adff-402ca53cd6b5\" class=\"plotly-graph-div\" style=\"height:525px; width:100%;\"></div>            <script type=\"text/javascript\">                                    window.PLOTLYENV=window.PLOTLYENV || {};                                    if (document.getElementById(\"c308d154-c098-48c9-adff-402ca53cd6b5\")) {                    Plotly.newPlot(                        \"c308d154-c098-48c9-adff-402ca53cd6b5\",                        [{\"hovertemplate\":\"States=%{x}<br>Burglary=%{y}<br>prisoner_count=%{marker.color}<extra></extra>\",\"legendgroup\":\"\",\"marker\":{\"color\":[26825,5081,41031,14295,134339,20184,17319,6798,100940,53701,5173,7219,48653,28495,8707,9610,12141,18794,2073,21705,10622,43704,9391,15591,31499,3125,5012,12789,2623,22263,6767,53312,37176,1576,51711,25364,14605,49971,3168,21534,3612,20758,155377,5382,2078,29985,17760,5708,22443,2288,26145,6323,42136,15250,134430,20469,16814,6730,100873,52719,5390,7497,48278,32493,8845,9539,12114,18710,2199,21266,10447,43359,9576,13069,31903,3119,5228,12693,2723,21394,6948,52362,37348,1696,51521,26493,14492,49174,3133,20948,3507,20815,154247,5307,1979,30050,17180,5867,22572,2369,25212,5247,42204,15784,127815,19959,16024,6437,99485,52002,5413,7238,46240,26586,8864,9533,11959,18447,2190,20951,9493,42628,9578,13967,32295,3176,5133,13235,2661,20294,7104,36888,1772,52240,27321,14655,48846,2982,20457,3536,19800,152492,4831,1750,30430,17222,5925,22914,2400],\"coloraxis\":\"coloraxis\",\"symbol\":\"circle\"},\"mode\":\"markers\",\"name\":\"\",\"orientation\":\"v\",\"showlegend\":false,\"x\":[\"ALABAMA\",\"ALASKA\",\"ARIZONA\",\"ARKANSAS\",\"CALIFORNIA\",\"COLORADO\",\"CONNECTICUT\",\"DELAWARE\",\"FLORIDA\",\"GEORGIA\",\"HAWAII\",\"IDAHO\",\"ILLINOIS\",\"INDIANA\",\"IOWA\",\"KANSAS\",\"KENTUCKY\",\"LOUISIANA\",\"MAINE\",\"MARYLAND\",\"MASSACHUSETTS\",\"MICHIGAN\",\"MINNESOTA\",\"MISSISSIPPI\",\"MISSOURI\",\"MONTANA\",\"NEBRASKA\",\"NEVADA\",\"NEW HAMPSHIRE\",\"NEW JERSEY\",\"NEW MEXICO\",\"NEW YORK\",\"NORTH CAROLINA\",\"NORTH DAKOTA\",\"OHIO\",\"OKLAHOMA\",\"OREGON\",\"PENNSYLVANIA\",\"RHODE ISLAND\",\"SOUTH CAROLINA\",\"SOUTH DAKOTA\",\"TENNESSEE\",\"TEXAS\",\"UTAH\",\"VERMONT\",\"VIRGINIA\",\"WASHINGTON\",\"WEST VIRGINIA\",\"WISCONSIN\",\"WYOMING\",\"ALABAMA\",\"ALASKA\",\"ARIZONA\",\"ARKANSAS\",\"CALIFORNIA\",\"COLORADO\",\"CONNECTICUT\",\"DELAWARE\",\"FLORIDA\",\"GEORGIA\",\"HAWAII\",\"IDAHO\",\"ILLINOIS\",\"INDIANA\",\"IOWA\",\"KANSAS\",\"KENTUCKY\",\"LOUISIANA\",\"MAINE\",\"MARYLAND\",\"MASSACHUSETTS\",\"MICHIGAN\",\"MINNESOTA\",\"MISSISSIPPI\",\"MISSOURI\",\"MONTANA\",\"NEBRASKA\",\"NEVADA\",\"NEW HAMPSHIRE\",\"NEW JERSEY\",\"NEW MEXICO\",\"NEW YORK\",\"NORTH CAROLINA\",\"NORTH DAKOTA\",\"OHIO\",\"OKLAHOMA\",\"OREGON\",\"PENNSYLVANIA\",\"RHODE ISLAND\",\"SOUTH CAROLINA\",\"SOUTH DAKOTA\",\"TENNESSEE\",\"TEXAS\",\"UTAH\",\"VERMONT\",\"VIRGINIA\",\"WASHINGTON\",\"WEST VIRGINIA\",\"WISCONSIN\",\"WYOMING\",\"ALABAMA\",\"ALASKA\",\"ARIZONA\",\"ARKANSAS\",\"CALIFORNIA\",\"COLORADO\",\"CONNECTICUT\",\"DELAWARE\",\"FLORIDA\",\"GEORGIA\",\"HAWAII\",\"IDAHO\",\"ILLINOIS\",\"INDIANA\",\"IOWA\",\"KANSAS\",\"KENTUCKY\",\"LOUISIANA\",\"MAINE\",\"MARYLAND\",\"MASSACHUSETTS\",\"MICHIGAN\",\"MINNESOTA\",\"MISSISSIPPI\",\"MISSOURI\",\"MONTANA\",\"NEBRASKA\",\"NEVADA\",\"NEW HAMPSHIRE\",\"NEW JERSEY\",\"NEW MEXICO\",\"NORTH CAROLINA\",\"NORTH DAKOTA\",\"OHIO\",\"OKLAHOMA\",\"OREGON\",\"PENNSYLVANIA\",\"RHODE ISLAND\",\"SOUTH CAROLINA\",\"SOUTH DAKOTA\",\"TENNESSEE\",\"TEXAS\",\"UTAH\",\"VERMONT\",\"VIRGINIA\",\"WASHINGTON\",\"WEST VIRGINIA\",\"WISCONSIN\",\"WYOMING\"],\"xaxis\":\"x\",\"y\":[42410.0,2917.0,48292.0,30369.0,232058.0,25075.0,12934.0,6299.0,138915.0,83459.0,7777.0,6693.0,59093.0,42754.0,15918.0,17476.0,26331.0,41214.0,6480.0,31950.0,30716.0,56256.0,22713.0,24969.0,38797.0,4122.0,8945.0,23047.0,4979.0,35883.0,21828.0,56444.0,90182.0,2979.0,91090.0,33512.0,20808.0,52000.0,5621.0,40930.0,3383.0,51334.0,191062.0,13727.0,3352.0,26717.0,58487.0,9908.0,24358.0,1956.0,39715.0,3150.0,43562.0,24790.0,202670.0,23472.0,11955.0,5768.0,143220.0,76428.0,7778.0,6428.0,50008.0,36893.0,14428.0,15828.0,23244.0,38337.0,5030.0,28012.0,24964.0,44184.0,20773.0,24352.0,35258.0,3595.0,7950.0,21927.0,4162.0,31710.0,18505.0,50781.0,79373.0,2707.0,78845.0,29508.0,17230.0,45720.0,4823.0,36721.0,2818.0,46642.0,169234.0,11518.0,2034.0,23122.0,55290.0,8973.0,21216.0,1689.0,35255.0,3511.0,37957.0,22640.0,197404.0,23454.0,10053.0,4773.0,109268.0,66374.0,6557.0,6124.0,46443.0,34410.0,14892.0,15362.0,22260.0,35453.0,4684.0,25678.0,21890.0,40041.0,19299.0,24799.0,34006.0,3838.0,6422.0,22360.0,3467.0,27960.0,17085.0,74841.0,2997.0,69303.0,28406.0,18336.0,39664.0,3947.0,34551.0,2960.0,43247.0,153054.0,12468.0,1968.0,21340.0,50993.0,9170.0,19554.0,1762.0],\"yaxis\":\"y\",\"type\":\"scatter\"}],                        {\"template\":{\"data\":{\"histogram2dcontour\":[{\"type\":\"histogram2dcontour\",\"colorbar\":{\"outlinewidth\":0,\"ticks\":\"\"},\"colorscale\":[[0.0,\"#0d0887\"],[0.1111111111111111,\"#46039f\"],[0.2222222222222222,\"#7201a8\"],[0.3333333333333333,\"#9c179e\"],[0.4444444444444444,\"#bd3786\"],[0.5555555555555556,\"#d8576b\"],[0.6666666666666666,\"#ed7953\"],[0.7777777777777778,\"#fb9f3a\"],[0.8888888888888888,\"#fdca26\"],[1.0,\"#f0f921\"]]}],\"choropleth\":[{\"type\":\"choropleth\",\"colorbar\":{\"outlinewidth\":0,\"ticks\":\"\"}}],\"histogram2d\":[{\"type\":\"histogram2d\",\"colorbar\":{\"outlinewidth\":0,\"ticks\":\"\"},\"colorscale\":[[0.0,\"#0d0887\"],[0.1111111111111111,\"#46039f\"],[0.2222222222222222,\"#7201a8\"],[0.3333333333333333,\"#9c179e\"],[0.4444444444444444,\"#bd3786\"],[0.5555555555555556,\"#d8576b\"],[0.6666666666666666,\"#ed7953\"],[0.7777777777777778,\"#fb9f3a\"],[0.8888888888888888,\"#fdca26\"],[1.0,\"#f0f921\"]]}],\"heatmap\":[{\"type\":\"heatmap\",\"colorbar\":{\"outlinewidth\":0,\"ticks\":\"\"},\"colorscale\":[[0.0,\"#0d0887\"],[0.1111111111111111,\"#46039f\"],[0.2222222222222222,\"#7201a8\"],[0.3333333333333333,\"#9c179e\"],[0.4444444444444444,\"#bd3786\"],[0.5555555555555556,\"#d8576b\"],[0.6666666666666666,\"#ed7953\"],[0.7777777777777778,\"#fb9f3a\"],[0.8888888888888888,\"#fdca26\"],[1.0,\"#f0f921\"]]}],\"heatmapgl\":[{\"type\":\"heatmapgl\",\"colorbar\":{\"outlinewidth\":0,\"ticks\":\"\"},\"colorscale\":[[0.0,\"#0d0887\"],[0.1111111111111111,\"#46039f\"],[0.2222222222222222,\"#7201a8\"],[0.3333333333333333,\"#9c179e\"],[0.4444444444444444,\"#bd3786\"],[0.5555555555555556,\"#d8576b\"],[0.6666666666666666,\"#ed7953\"],[0.7777777777777778,\"#fb9f3a\"],[0.8888888888888888,\"#fdca26\"],[1.0,\"#f0f921\"]]}],\"contourcarpet\":[{\"type\":\"contourcarpet\",\"colorbar\":{\"outlinewidth\":0,\"ticks\":\"\"}}],\"contour\":[{\"type\":\"contour\",\"colorbar\":{\"outlinewidth\":0,\"ticks\":\"\"},\"colorscale\":[[0.0,\"#0d0887\"],[0.1111111111111111,\"#46039f\"],[0.2222222222222222,\"#7201a8\"],[0.3333333333333333,\"#9c179e\"],[0.4444444444444444,\"#bd3786\"],[0.5555555555555556,\"#d8576b\"],[0.6666666666666666,\"#ed7953\"],[0.7777777777777778,\"#fb9f3a\"],[0.8888888888888888,\"#fdca26\"],[1.0,\"#f0f921\"]]}],\"surface\":[{\"type\":\"surface\",\"colorbar\":{\"outlinewidth\":0,\"ticks\":\"\"},\"colorscale\":[[0.0,\"#0d0887\"],[0.1111111111111111,\"#46039f\"],[0.2222222222222222,\"#7201a8\"],[0.3333333333333333,\"#9c179e\"],[0.4444444444444444,\"#bd3786\"],[0.5555555555555556,\"#d8576b\"],[0.6666666666666666,\"#ed7953\"],[0.7777777777777778,\"#fb9f3a\"],[0.8888888888888888,\"#fdca26\"],[1.0,\"#f0f921\"]]}],\"mesh3d\":[{\"type\":\"mesh3d\",\"colorbar\":{\"outlinewidth\":0,\"ticks\":\"\"}}],\"scatter\":[{\"fillpattern\":{\"fillmode\":\"overlay\",\"size\":10,\"solidity\":0.2},\"type\":\"scatter\"}],\"parcoords\":[{\"type\":\"parcoords\",\"line\":{\"colorbar\":{\"outlinewidth\":0,\"ticks\":\"\"}}}],\"scatterpolargl\":[{\"type\":\"scatterpolargl\",\"marker\":{\"colorbar\":{\"outlinewidth\":0,\"ticks\":\"\"}}}],\"bar\":[{\"error_x\":{\"color\":\"#2a3f5f\"},\"error_y\":{\"color\":\"#2a3f5f\"},\"marker\":{\"line\":{\"color\":\"#E5ECF6\",\"width\":0.5},\"pattern\":{\"fillmode\":\"overlay\",\"size\":10,\"solidity\":0.2}},\"type\":\"bar\"}],\"scattergeo\":[{\"type\":\"scattergeo\",\"marker\":{\"colorbar\":{\"outlinewidth\":0,\"ticks\":\"\"}}}],\"scatterpolar\":[{\"type\":\"scatterpolar\",\"marker\":{\"colorbar\":{\"outlinewidth\":0,\"ticks\":\"\"}}}],\"histogram\":[{\"marker\":{\"pattern\":{\"fillmode\":\"overlay\",\"size\":10,\"solidity\":0.2}},\"type\":\"histogram\"}],\"scattergl\":[{\"type\":\"scattergl\",\"marker\":{\"colorbar\":{\"outlinewidth\":0,\"ticks\":\"\"}}}],\"scatter3d\":[{\"type\":\"scatter3d\",\"line\":{\"colorbar\":{\"outlinewidth\":0,\"ticks\":\"\"}},\"marker\":{\"colorbar\":{\"outlinewidth\":0,\"ticks\":\"\"}}}],\"scattermapbox\":[{\"type\":\"scattermapbox\",\"marker\":{\"colorbar\":{\"outlinewidth\":0,\"ticks\":\"\"}}}],\"scatterternary\":[{\"type\":\"scatterternary\",\"marker\":{\"colorbar\":{\"outlinewidth\":0,\"ticks\":\"\"}}}],\"scattercarpet\":[{\"type\":\"scattercarpet\",\"marker\":{\"colorbar\":{\"outlinewidth\":0,\"ticks\":\"\"}}}],\"carpet\":[{\"aaxis\":{\"endlinecolor\":\"#2a3f5f\",\"gridcolor\":\"white\",\"linecolor\":\"white\",\"minorgridcolor\":\"white\",\"startlinecolor\":\"#2a3f5f\"},\"baxis\":{\"endlinecolor\":\"#2a3f5f\",\"gridcolor\":\"white\",\"linecolor\":\"white\",\"minorgridcolor\":\"white\",\"startlinecolor\":\"#2a3f5f\"},\"type\":\"carpet\"}],\"table\":[{\"cells\":{\"fill\":{\"color\":\"#EBF0F8\"},\"line\":{\"color\":\"white\"}},\"header\":{\"fill\":{\"color\":\"#C8D4E3\"},\"line\":{\"color\":\"white\"}},\"type\":\"table\"}],\"barpolar\":[{\"marker\":{\"line\":{\"color\":\"#E5ECF6\",\"width\":0.5},\"pattern\":{\"fillmode\":\"overlay\",\"size\":10,\"solidity\":0.2}},\"type\":\"barpolar\"}],\"pie\":[{\"automargin\":true,\"type\":\"pie\"}]},\"layout\":{\"autotypenumbers\":\"strict\",\"colorway\":[\"#636efa\",\"#EF553B\",\"#00cc96\",\"#ab63fa\",\"#FFA15A\",\"#19d3f3\",\"#FF6692\",\"#B6E880\",\"#FF97FF\",\"#FECB52\"],\"font\":{\"color\":\"#2a3f5f\"},\"hovermode\":\"closest\",\"hoverlabel\":{\"align\":\"left\"},\"paper_bgcolor\":\"white\",\"plot_bgcolor\":\"#E5ECF6\",\"polar\":{\"bgcolor\":\"#E5ECF6\",\"angularaxis\":{\"gridcolor\":\"white\",\"linecolor\":\"white\",\"ticks\":\"\"},\"radialaxis\":{\"gridcolor\":\"white\",\"linecolor\":\"white\",\"ticks\":\"\"}},\"ternary\":{\"bgcolor\":\"#E5ECF6\",\"aaxis\":{\"gridcolor\":\"white\",\"linecolor\":\"white\",\"ticks\":\"\"},\"baxis\":{\"gridcolor\":\"white\",\"linecolor\":\"white\",\"ticks\":\"\"},\"caxis\":{\"gridcolor\":\"white\",\"linecolor\":\"white\",\"ticks\":\"\"}},\"coloraxis\":{\"colorbar\":{\"outlinewidth\":0,\"ticks\":\"\"}},\"colorscale\":{\"sequential\":[[0.0,\"#0d0887\"],[0.1111111111111111,\"#46039f\"],[0.2222222222222222,\"#7201a8\"],[0.3333333333333333,\"#9c179e\"],[0.4444444444444444,\"#bd3786\"],[0.5555555555555556,\"#d8576b\"],[0.6666666666666666,\"#ed7953\"],[0.7777777777777778,\"#fb9f3a\"],[0.8888888888888888,\"#fdca26\"],[1.0,\"#f0f921\"]],\"sequentialminus\":[[0.0,\"#0d0887\"],[0.1111111111111111,\"#46039f\"],[0.2222222222222222,\"#7201a8\"],[0.3333333333333333,\"#9c179e\"],[0.4444444444444444,\"#bd3786\"],[0.5555555555555556,\"#d8576b\"],[0.6666666666666666,\"#ed7953\"],[0.7777777777777778,\"#fb9f3a\"],[0.8888888888888888,\"#fdca26\"],[1.0,\"#f0f921\"]],\"diverging\":[[0,\"#8e0152\"],[0.1,\"#c51b7d\"],[0.2,\"#de77ae\"],[0.3,\"#f1b6da\"],[0.4,\"#fde0ef\"],[0.5,\"#f7f7f7\"],[0.6,\"#e6f5d0\"],[0.7,\"#b8e186\"],[0.8,\"#7fbc41\"],[0.9,\"#4d9221\"],[1,\"#276419\"]]},\"xaxis\":{\"gridcolor\":\"white\",\"linecolor\":\"white\",\"ticks\":\"\",\"title\":{\"standoff\":15},\"zerolinecolor\":\"white\",\"automargin\":true,\"zerolinewidth\":2},\"yaxis\":{\"gridcolor\":\"white\",\"linecolor\":\"white\",\"ticks\":\"\",\"title\":{\"standoff\":15},\"zerolinecolor\":\"white\",\"automargin\":true,\"zerolinewidth\":2},\"scene\":{\"xaxis\":{\"backgroundcolor\":\"#E5ECF6\",\"gridcolor\":\"white\",\"linecolor\":\"white\",\"showbackground\":true,\"ticks\":\"\",\"zerolinecolor\":\"white\",\"gridwidth\":2},\"yaxis\":{\"backgroundcolor\":\"#E5ECF6\",\"gridcolor\":\"white\",\"linecolor\":\"white\",\"showbackground\":true,\"ticks\":\"\",\"zerolinecolor\":\"white\",\"gridwidth\":2},\"zaxis\":{\"backgroundcolor\":\"#E5ECF6\",\"gridcolor\":\"white\",\"linecolor\":\"white\",\"showbackground\":true,\"ticks\":\"\",\"zerolinecolor\":\"white\",\"gridwidth\":2}},\"shapedefaults\":{\"line\":{\"color\":\"#2a3f5f\"}},\"annotationdefaults\":{\"arrowcolor\":\"#2a3f5f\",\"arrowhead\":0,\"arrowwidth\":1},\"geo\":{\"bgcolor\":\"white\",\"landcolor\":\"#E5ECF6\",\"subunitcolor\":\"white\",\"showland\":true,\"showlakes\":true,\"lakecolor\":\"white\"},\"title\":{\"x\":0.05},\"mapbox\":{\"style\":\"light\"}}},\"xaxis\":{\"anchor\":\"y\",\"domain\":[0.0,1.0],\"title\":{\"text\":\"States\"}},\"yaxis\":{\"anchor\":\"x\",\"domain\":[0.0,1.0],\"title\":{\"text\":\"Burglary\"}},\"coloraxis\":{\"colorbar\":{\"title\":{\"text\":\"prisoner_count\"}},\"colorscale\":[[0.0,\"#0d0887\"],[0.1111111111111111,\"#46039f\"],[0.2222222222222222,\"#7201a8\"],[0.3333333333333333,\"#9c179e\"],[0.4444444444444444,\"#bd3786\"],[0.5555555555555556,\"#d8576b\"],[0.6666666666666666,\"#ed7953\"],[0.7777777777777778,\"#fb9f3a\"],[0.8888888888888888,\"#fdca26\"],[1.0,\"#f0f921\"]]},\"legend\":{\"tracegroupgap\":0},\"title\":{\"text\":\"Burglary per State\"}},                        {\"responsive\": true}                    ).then(function(){\n                            \nvar gd = document.getElementById('c308d154-c098-48c9-adff-402ca53cd6b5');\nvar x = new MutationObserver(function (mutations, observer) {{\n        var display = window.getComputedStyle(gd).display;\n        if (!display || display === 'none') {{\n            console.log([gd, 'removed!']);\n            Plotly.purge(gd);\n            observer.disconnect();\n        }}\n}});\n\n// Listen for the removal of the full notebook cells\nvar notebookContainer = gd.closest('#notebook-container');\nif (notebookContainer) {{\n    x.observe(notebookContainer, {childList: true});\n}}\n\n// Listen for the clearing of the current output cell\nvar outputEl = gd.closest('.output');\nif (outputEl) {{\n    x.observe(outputEl, {childList: true});\n}}\n\n                        })                };                            </script>        </div>\n</body>\n</html>"
     },
     "execution_count": 55,
     "metadata": {
     },
     "output_type": "execute_result"
    }
   ],
   "source": [
    "# Plot 3: Burglary per state\n",
    "\n",
    "fig = px.scatter(crime_df, x ='jurisdiction', y = 'burglary', color='prisoner_count', title = \"Burglary per State\", labels = {\"jurisdiction\":\"States\", \"burglary\":\"Burglary\"})\n",
    "fig.show()"
   ]
  },
  {
   "cell_type": "code",
   "execution_count": 15,
   "metadata": {
    "collapsed": false
   },
   "outputs": [
    {
     "data": {
      "text/plain": [
       "([0,\n",
       "  1,\n",
       "  2,\n",
       "  3,\n",
       "  4,\n",
       "  5,\n",
       "  6,\n",
       "  7,\n",
       "  8,\n",
       "  9,\n",
       "  10,\n",
       "  11,\n",
       "  12,\n",
       "  13,\n",
       "  14,\n",
       "  15,\n",
       "  16,\n",
       "  17,\n",
       "  18,\n",
       "  19,\n",
       "  20,\n",
       "  21,\n",
       "  22,\n",
       "  23,\n",
       "  24,\n",
       "  25,\n",
       "  26,\n",
       "  27,\n",
       "  28,\n",
       "  29,\n",
       "  30,\n",
       "  31,\n",
       "  32,\n",
       "  33,\n",
       "  34,\n",
       "  35,\n",
       "  36,\n",
       "  37,\n",
       "  38,\n",
       "  39,\n",
       "  40,\n",
       "  41,\n",
       "  42,\n",
       "  43,\n",
       "  44,\n",
       "  45,\n",
       "  46,\n",
       "  47,\n",
       "  48,\n",
       "  49],\n",
       " [Text(0, 0, ''),\n",
       "  Text(0, 0, ''),\n",
       "  Text(0, 0, ''),\n",
       "  Text(0, 0, ''),\n",
       "  Text(0, 0, ''),\n",
       "  Text(0, 0, ''),\n",
       "  Text(0, 0, ''),\n",
       "  Text(0, 0, ''),\n",
       "  Text(0, 0, ''),\n",
       "  Text(0, 0, ''),\n",
       "  Text(0, 0, ''),\n",
       "  Text(0, 0, ''),\n",
       "  Text(0, 0, ''),\n",
       "  Text(0, 0, ''),\n",
       "  Text(0, 0, ''),\n",
       "  Text(0, 0, ''),\n",
       "  Text(0, 0, ''),\n",
       "  Text(0, 0, ''),\n",
       "  Text(0, 0, ''),\n",
       "  Text(0, 0, ''),\n",
       "  Text(0, 0, ''),\n",
       "  Text(0, 0, ''),\n",
       "  Text(0, 0, ''),\n",
       "  Text(0, 0, ''),\n",
       "  Text(0, 0, ''),\n",
       "  Text(0, 0, ''),\n",
       "  Text(0, 0, ''),\n",
       "  Text(0, 0, ''),\n",
       "  Text(0, 0, ''),\n",
       "  Text(0, 0, ''),\n",
       "  Text(0, 0, ''),\n",
       "  Text(0, 0, ''),\n",
       "  Text(0, 0, ''),\n",
       "  Text(0, 0, ''),\n",
       "  Text(0, 0, ''),\n",
       "  Text(0, 0, ''),\n",
       "  Text(0, 0, ''),\n",
       "  Text(0, 0, ''),\n",
       "  Text(0, 0, ''),\n",
       "  Text(0, 0, ''),\n",
       "  Text(0, 0, ''),\n",
       "  Text(0, 0, ''),\n",
       "  Text(0, 0, ''),\n",
       "  Text(0, 0, ''),\n",
       "  Text(0, 0, ''),\n",
       "  Text(0, 0, ''),\n",
       "  Text(0, 0, ''),\n",
       "  Text(0, 0, ''),\n",
       "  Text(0, 0, ''),\n",
       "  Text(0, 0, '')])"
      ]
     },
     "execution_count": 15,
     "metadata": {
     },
     "output_type": "execute_result"
    },
    {
     "data": {
      "image/png": "[encoded data removed]",
      "text/plain": [
       "<Figure size 2160x720 with 1 Axes>"
      ]
     },
     "execution_count": 15,
     "metadata": {
      "needs_background": "light"
     },
     "output_type": "execute_result"
    }
   ],
   "source": [
    "# Plot 4: Assault per state\n",
    "\n",
    "plt.figure(figsize=(30, 10))\n",
    "plt.bar(crime_df['jurisdiction'], crime_df['agg_assault'])\n",
    "plt.title('agg_assault')\n",
    "plt.ylabel(\"Aggravated Assault\")\n",
    "plt.xlabel(\"States\")\n",
    "plt.xticks(rotation = 90)"
   ]
  },
  {
   "cell_type": "code",
   "execution_count": 81,
   "metadata": {
    "collapsed": false,
    "scrolled": true
   },
   "outputs": [
    {
     "data": {
      "text/html": "<html>\n<head><meta charset=\"utf-8\" /></head>\n<body>\n    <div>            <script src=\"https://cdnjs.cloudflare.com/ajax/libs/mathjax/2.7.5/MathJax.js?config=TeX-AMS-MML_SVG\"></script><script type=\"text/javascript\">if (window.MathJax && window.MathJax.Hub && window.MathJax.Hub.Config) {window.MathJax.Hub.Config({SVG: {font: \"STIX-Web\"}});}</script>                <script type=\"text/javascript\">window.PlotlyConfig = {MathJaxConfig: 'local'};</script>\n        <script src=\"https://cdn.plot.ly/plotly-2.12.1.min.js\"></script>                <div id=\"e4031d10-3c78-4742-b5b1-aa058a1edc09\" class=\"plotly-graph-div\" style=\"height:525px; width:100%;\"></div>            <script type=\"text/javascript\">                                    window.PLOTLYENV=window.PLOTLYENV || {};                                    if (document.getElementById(\"e4031d10-3c78-4742-b5b1-aa058a1edc09\")) {                    Plotly.newPlot(                        \"e4031d10-3c78-4742-b5b1-aa058a1edc09\",                        [{\"alignmentgroup\":\"True\",\"customdata\":[[false,2013],[true,2013],[false,2013],[false,2013],[false,2013],[false,2013],[true,2013],[true,2013],[false,2013],[false,2013],[true,2013],[false,2013],[false,2013],[false,2013],[false,2013],[false,2013],[false,2013],[false,2013],[false,2013],[false,2013],[false,2013],[false,2013],[false,2013],[false,2013],[false,2013],[false,2013],[false,2013],[false,2013],[false,2013],[false,2013],[false,2013],[false,2013],[false,2013],[false,2013],[false,2013],[false,2013],[false,2013],[false,2013],[true,2013],[false,2013],[false,2013],[false,2013],[false,2013],[false,2013],[true,2013],[false,2013],[false,2013],[false,2013],[false,2013],[false,2013],[false,2014],[true,2014],[false,2014],[false,2014],[false,2014],[false,2014],[true,2014],[true,2014],[false,2014],[false,2014],[true,2014],[false,2014],[false,2014],[false,2014],[false,2014],[false,2014],[false,2014],[false,2014],[false,2014],[false,2014],[false,2014],[false,2014],[false,2014],[false,2014],[false,2014],[false,2014],[false,2014],[false,2014],[false,2014],[false,2014],[false,2014],[false,2014],[false,2014],[false,2014],[false,2014],[false,2014],[false,2014],[false,2014],[true,2014],[false,2014],[false,2014],[false,2014],[false,2014],[false,2014],[true,2014],[false,2014],[false,2014],[false,2014],[false,2014],[false,2014],[false,2015],[true,2015],[false,2015],[false,2015],[false,2015],[false,2015],[true,2015],[true,2015],[false,2015],[false,2015],[true,2015],[false,2015],[false,2015],[false,2015],[false,2015],[false,2015],[false,2015],[false,2015],[false,2015],[false,2015],[false,2015],[false,2015],[false,2015],[false,2015],[false,2015],[false,2015],[false,2015],[false,2015],[false,2015],[false,2015],[false,2015],[false,2015],[false,2015],[false,2015],[false,2015],[false,2015],[false,2015],[true,2015],[false,2015],[false,2015],[false,2015],[false,2015],[false,2015],[true,2015],[false,2015],[false,2015],[false,2015],[false,2015],[false,2015]],\"hovertemplate\":\"variable=murder_manslaughter<br>jurisdiction=%{x}<br>value=%{y}<br>includes_jails=%{customdata[0]}<br>year=%{customdata[1]}<extra></extra>\",\"legendgroup\":\"murder_manslaughter\",\"marker\":{\"color\":\"#636efa\",\"pattern\":{\"shape\":\"\"}},\"name\":\"murder_manslaughter\",\"offsetgroup\":\"murder_manslaughter\",\"orientation\":\"v\",\"showlegend\":true,\"textposition\":\"auto\",\"x\":[\"ALABAMA\",\"ALASKA\",\"ARIZONA\",\"ARKANSAS\",\"CALIFORNIA\",\"COLORADO\",\"CONNECTICUT\",\"DELAWARE\",\"FLORIDA\",\"GEORGIA\",\"HAWAII\",\"IDAHO\",\"ILLINOIS\",\"INDIANA\",\"IOWA\",\"KANSAS\",\"KENTUCKY\",\"LOUISIANA\",\"MAINE\",\"MARYLAND\",\"MASSACHUSETTS\",\"MICHIGAN\",\"MINNESOTA\",\"MISSISSIPPI\",\"MISSOURI\",\"MONTANA\",\"NEBRASKA\",\"NEVADA\",\"NEW HAMPSHIRE\",\"NEW JERSEY\",\"NEW MEXICO\",\"NEW YORK\",\"NORTH CAROLINA\",\"NORTH DAKOTA\",\"OHIO\",\"OKLAHOMA\",\"OREGON\",\"PENNSYLVANIA\",\"RHODE ISLAND\",\"SOUTH CAROLINA\",\"SOUTH DAKOTA\",\"TENNESSEE\",\"TEXAS\",\"UTAH\",\"VERMONT\",\"VIRGINIA\",\"WASHINGTON\",\"WEST VIRGINIA\",\"WISCONSIN\",\"WYOMING\",\"ALABAMA\",\"ALASKA\",\"ARIZONA\",\"ARKANSAS\",\"CALIFORNIA\",\"COLORADO\",\"CONNECTICUT\",\"DELAWARE\",\"FLORIDA\",\"GEORGIA\",\"HAWAII\",\"IDAHO\",\"ILLINOIS\",\"INDIANA\",\"IOWA\",\"KANSAS\",\"KENTUCKY\",\"LOUISIANA\",\"MAINE\",\"MARYLAND\",\"MASSACHUSETTS\",\"MICHIGAN\",\"MINNESOTA\",\"MISSISSIPPI\",\"MISSOURI\",\"MONTANA\",\"NEBRASKA\",\"NEVADA\",\"NEW HAMPSHIRE\",\"NEW JERSEY\",\"NEW MEXICO\",\"NEW YORK\",\"NORTH CAROLINA\",\"NORTH DAKOTA\",\"OHIO\",\"OKLAHOMA\",\"OREGON\",\"PENNSYLVANIA\",\"RHODE ISLAND\",\"SOUTH CAROLINA\",\"SOUTH DAKOTA\",\"TENNESSEE\",\"TEXAS\",\"UTAH\",\"VERMONT\",\"VIRGINIA\",\"WASHINGTON\",\"WEST VIRGINIA\",\"WISCONSIN\",\"WYOMING\",\"ALABAMA\",\"ALASKA\",\"ARIZONA\",\"ARKANSAS\",\"CALIFORNIA\",\"COLORADO\",\"CONNECTICUT\",\"DELAWARE\",\"FLORIDA\",\"GEORGIA\",\"HAWAII\",\"IDAHO\",\"ILLINOIS\",\"INDIANA\",\"IOWA\",\"KANSAS\",\"KENTUCKY\",\"LOUISIANA\",\"MAINE\",\"MARYLAND\",\"MASSACHUSETTS\",\"MICHIGAN\",\"MINNESOTA\",\"MISSISSIPPI\",\"MISSOURI\",\"MONTANA\",\"NEBRASKA\",\"NEVADA\",\"NEW HAMPSHIRE\",\"NEW JERSEY\",\"NEW MEXICO\",\"NORTH CAROLINA\",\"NORTH DAKOTA\",\"OHIO\",\"OKLAHOMA\",\"OREGON\",\"PENNSYLVANIA\",\"RHODE ISLAND\",\"SOUTH CAROLINA\",\"SOUTH DAKOTA\",\"TENNESSEE\",\"TEXAS\",\"UTAH\",\"VERMONT\",\"VIRGINIA\",\"WASHINGTON\",\"WEST VIRGINIA\",\"WISCONSIN\",\"WYOMING\"],\"xaxis\":\"x\",\"y\":[346.0,34.0,355.0,158.0,1746.0,174.0,91.0,41.0,972.0,563.0,32.0,29.0,722.0,357.0,41.0,117.0,172.0,494.0,24.0,384.0,138.0,625.0,114.0,217.0,369.0,23.0,56.0,163.0,21.0,404.0,123.0,644.0,463.0,16.0,478.0,198.0,82.0,611.0,31.0,305.0,18.0,335.0,1140.0,51.0,10.0,320.0,167.0,62.0,163.0,17.0,276.0,41.0,319.0,165.0,1699.0,151.0,86.0,54.0,1149.0,580.0,26.0,32.0,685.0,330.0,60.0,91.0,160.0,477.0,21.0,365.0,132.0,535.0,88.0,258.0,403.0,37.0,54.0,170.0,12.0,349.0,101.0,617.0,510.0,22.0,464.0,175.0,81.0,614.0,25.0,311.0,20.0,371.0,1184.0,67.0,10.0,338.0,174.0,74.0,165.0,16.0,348.0,59.0,309.0,181.0,1861.0,176.0,117.0,63.0,1041.0,615.0,19.0,32.0,744.0,373.0,72.0,128.0,209.0,481.0,23.0,516.0,128.0,571.0,133.0,259.0,502.0,36.0,62.0,178.0,14.0,363.0,117.0,517.0,21.0,500.0,234.0,99.0,658.0,29.0,399.0,32.0,406.0,1316.0,54.0,10.0,383.0,211.0,70.0,240.0,16.0],\"yaxis\":\"y\",\"type\":\"bar\"},{\"alignmentgroup\":\"True\",\"customdata\":[[false,2013],[true,2013],[false,2013],[false,2013],[false,2013],[false,2013],[true,2013],[true,2013],[false,2013],[false,2013],[true,2013],[false,2013],[false,2013],[false,2013],[false,2013],[false,2013],[false,2013],[false,2013],[false,2013],[false,2013],[false,2013],[false,2013],[false,2013],[false,2013],[false,2013],[false,2013],[false,2013],[false,2013],[false,2013],[false,2013],[false,2013],[false,2013],[false,2013],[false,2013],[false,2013],[false,2013],[false,2013],[false,2013],[true,2013],[false,2013],[false,2013],[false,2013],[false,2013],[false,2013],[true,2013],[false,2013],[false,2013],[false,2013],[false,2013],[false,2013],[false,2014],[true,2014],[false,2014],[false,2014],[false,2014],[false,2014],[true,2014],[true,2014],[false,2014],[false,2014],[true,2014],[false,2014],[false,2014],[false,2014],[false,2014],[false,2014],[false,2014],[false,2014],[false,2014],[false,2014],[false,2014],[false,2014],[false,2014],[false,2014],[false,2014],[false,2014],[false,2014],[false,2014],[false,2014],[false,2014],[false,2014],[false,2014],[false,2014],[false,2014],[false,2014],[false,2014],[false,2014],[false,2014],[true,2014],[false,2014],[false,2014],[false,2014],[false,2014],[false,2014],[true,2014],[false,2014],[false,2014],[false,2014],[false,2014],[false,2014],[false,2015],[true,2015],[false,2015],[false,2015],[false,2015],[false,2015],[true,2015],[true,2015],[false,2015],[false,2015],[true,2015],[false,2015],[false,2015],[false,2015],[false,2015],[false,2015],[false,2015],[false,2015],[false,2015],[false,2015],[false,2015],[false,2015],[false,2015],[false,2015],[false,2015],[false,2015],[false,2015],[false,2015],[false,2015],[false,2015],[false,2015],[false,2015],[false,2015],[false,2015],[false,2015],[false,2015],[false,2015],[true,2015],[false,2015],[false,2015],[false,2015],[false,2015],[false,2015],[true,2015],[false,2015],[false,2015],[false,2015],[false,2015],[false,2015]],\"hovertemplate\":\"variable=rape_revised<br>jurisdiction=%{x}<br>value=%{y}<br>includes_jails=%{customdata[0]}<br>year=%{customdata[1]}<extra></extra>\",\"legendgroup\":\"rape_revised\",\"marker\":{\"color\":\"#EF553B\",\"pattern\":{\"shape\":\"\"}},\"name\":\"rape_revised\",\"offsetgroup\":\"rape_revised\",\"orientation\":\"v\",\"showlegend\":true,\"textposition\":\"auto\",\"x\":[\"ALABAMA\",\"ALASKA\",\"ARIZONA\",\"ARKANSAS\",\"CALIFORNIA\",\"COLORADO\",\"CONNECTICUT\",\"DELAWARE\",\"FLORIDA\",\"GEORGIA\",\"HAWAII\",\"IDAHO\",\"ILLINOIS\",\"INDIANA\",\"IOWA\",\"KANSAS\",\"KENTUCKY\",\"LOUISIANA\",\"MAINE\",\"MARYLAND\",\"MASSACHUSETTS\",\"MICHIGAN\",\"MINNESOTA\",\"MISSISSIPPI\",\"MISSOURI\",\"MONTANA\",\"NEBRASKA\",\"NEVADA\",\"NEW HAMPSHIRE\",\"NEW JERSEY\",\"NEW MEXICO\",\"NEW YORK\",\"NORTH CAROLINA\",\"NORTH DAKOTA\",\"OHIO\",\"OKLAHOMA\",\"OREGON\",\"PENNSYLVANIA\",\"RHODE ISLAND\",\"SOUTH CAROLINA\",\"SOUTH DAKOTA\",\"TENNESSEE\",\"TEXAS\",\"UTAH\",\"VERMONT\",\"VIRGINIA\",\"WASHINGTON\",\"WEST VIRGINIA\",\"WISCONSIN\",\"WYOMING\",\"ALABAMA\",\"ALASKA\",\"ARIZONA\",\"ARKANSAS\",\"CALIFORNIA\",\"COLORADO\",\"CONNECTICUT\",\"DELAWARE\",\"FLORIDA\",\"GEORGIA\",\"HAWAII\",\"IDAHO\",\"ILLINOIS\",\"INDIANA\",\"IOWA\",\"KANSAS\",\"KENTUCKY\",\"LOUISIANA\",\"MAINE\",\"MARYLAND\",\"MASSACHUSETTS\",\"MICHIGAN\",\"MINNESOTA\",\"MISSISSIPPI\",\"MISSOURI\",\"MONTANA\",\"NEBRASKA\",\"NEVADA\",\"NEW HAMPSHIRE\",\"NEW JERSEY\",\"NEW MEXICO\",\"NEW YORK\",\"NORTH CAROLINA\",\"NORTH DAKOTA\",\"OHIO\",\"OKLAHOMA\",\"OREGON\",\"PENNSYLVANIA\",\"RHODE ISLAND\",\"SOUTH CAROLINA\",\"SOUTH DAKOTA\",\"TENNESSEE\",\"TEXAS\",\"UTAH\",\"VERMONT\",\"VIRGINIA\",\"WASHINGTON\",\"WEST VIRGINIA\",\"WISCONSIN\",\"WYOMING\",\"ALABAMA\",\"ALASKA\",\"ARIZONA\",\"ARKANSAS\",\"CALIFORNIA\",\"COLORADO\",\"CONNECTICUT\",\"DELAWARE\",\"FLORIDA\",\"GEORGIA\",\"HAWAII\",\"IDAHO\",\"ILLINOIS\",\"INDIANA\",\"IOWA\",\"KANSAS\",\"KENTUCKY\",\"LOUISIANA\",\"MAINE\",\"MARYLAND\",\"MASSACHUSETTS\",\"MICHIGAN\",\"MINNESOTA\",\"MISSISSIPPI\",\"MISSOURI\",\"MONTANA\",\"NEBRASKA\",\"NEVADA\",\"NEW HAMPSHIRE\",\"NEW JERSEY\",\"NEW MEXICO\",\"NORTH CAROLINA\",\"NORTH DAKOTA\",\"OHIO\",\"OKLAHOMA\",\"OREGON\",\"PENNSYLVANIA\",\"RHODE ISLAND\",\"SOUTH CAROLINA\",\"SOUTH DAKOTA\",\"TENNESSEE\",\"TEXAS\",\"UTAH\",\"VERMONT\",\"VIRGINIA\",\"WASHINGTON\",\"WEST VIRGINIA\",\"WISCONSIN\",\"WYOMING\"],\"xaxis\":\"x\",\"y\":[2055.0,925.0,3174.0,1490.0,10324.0,2963.0,891.0,399.0,6767.0,2891.0,508.0,674.0,5340.0,2241.0,1133.0,1295.0,1646.0,1763.0,495.0,1679.0,2303.0,6785.0,2014.0,1024.0,2305.0,467.0,847.0,1482.0,778.0,1189.0,1565.0,3548.0,2524.0,355.0,4391.0,2314.0,1464.0,3795.0,449.0,2233.0,507.0,2500.0,10456.0,1522.0,136.0,2350.0,2604.0,700.0,1836.0,204.0,2005.0,771.0,3378.0,1763.0,11527.0,3039.0,782.0,386.0,8563.0,3048.0,445.0,609.0,4159.0,2186.0,1128.0,1411.0,1440.0,1375.0,485.0,1619.0,2180.0,6273.0,2001.0,1058.0,2379.0,541.0,862.0,1357.0,594.0,1274.0,1475.0,5433.0,2420.0,358.0,5042.0,1777.0,1458.0,3827.0,361.0,2068.0,470.0,2531.0,11393.0,1454.0,110.0,2310.0,2695.0,505.0,1674.0,174.0,2039.0,901.0,3108.0,1931.0,12811.0,3257.0,773.0,341.0,7553.0,3224.0,561.0,694.0,4821.0,2404.0,1156.0,1615.0,1492.0,1723.0,474.0,1666.0,2075.0,6450.0,2321.0,1203.0,2553.0,547.0,873.0,1688.0,627.0,1373.0,1672.0,2684.0,345.0,5149.0,1849.0,1593.0,4305.0,459.0,2297.0,495.0,2676.0,12250.0,1645.0,136.0,2340.0,2705.0,672.0,1780.0,173.0],\"yaxis\":\"y\",\"type\":\"bar\"},{\"alignmentgroup\":\"True\",\"customdata\":[[false,2013],[true,2013],[false,2013],[false,2013],[false,2013],[false,2013],[true,2013],[true,2013],[false,2013],[false,2013],[true,2013],[false,2013],[false,2013],[false,2013],[false,2013],[false,2013],[false,2013],[false,2013],[false,2013],[false,2013],[false,2013],[false,2013],[false,2013],[false,2013],[false,2013],[false,2013],[false,2013],[false,2013],[false,2013],[false,2013],[false,2013],[false,2013],[false,2013],[false,2013],[false,2013],[false,2013],[false,2013],[false,2013],[true,2013],[false,2013],[false,2013],[false,2013],[false,2013],[false,2013],[true,2013],[false,2013],[false,2013],[false,2013],[false,2013],[false,2013],[false,2014],[true,2014],[false,2014],[false,2014],[false,2014],[false,2014],[true,2014],[true,2014],[false,2014],[false,2014],[true,2014],[false,2014],[false,2014],[false,2014],[false,2014],[false,2014],[false,2014],[false,2014],[false,2014],[false,2014],[false,2014],[false,2014],[false,2014],[false,2014],[false,2014],[false,2014],[false,2014],[false,2014],[false,2014],[false,2014],[false,2014],[false,2014],[false,2014],[false,2014],[false,2014],[false,2014],[false,2014],[false,2014],[true,2014],[false,2014],[false,2014],[false,2014],[false,2014],[false,2014],[true,2014],[false,2014],[false,2014],[false,2014],[false,2014],[false,2014],[false,2015],[true,2015],[false,2015],[false,2015],[false,2015],[false,2015],[true,2015],[true,2015],[false,2015],[false,2015],[true,2015],[false,2015],[false,2015],[false,2015],[false,2015],[false,2015],[false,2015],[false,2015],[false,2015],[false,2015],[false,2015],[false,2015],[false,2015],[false,2015],[false,2015],[false,2015],[false,2015],[false,2015],[false,2015],[false,2015],[false,2015],[false,2015],[false,2015],[false,2015],[false,2015],[false,2015],[false,2015],[true,2015],[false,2015],[false,2015],[false,2015],[false,2015],[false,2015],[true,2015],[false,2015],[false,2015],[false,2015],[false,2015],[false,2015]],\"hovertemplate\":\"variable=agg_assault<br>jurisdiction=%{x}<br>value=%{y}<br>includes_jails=%{customdata[0]}<br>year=%{customdata[1]}<extra></extra>\",\"legendgroup\":\"agg_assault\",\"marker\":{\"color\":\"#00cc96\",\"pattern\":{\"shape\":\"\"}},\"name\":\"agg_assault\",\"offsetgroup\":\"agg_assault\",\"orientation\":\"v\",\"showlegend\":true,\"textposition\":\"auto\",\"x\":[\"ALABAMA\",\"ALASKA\",\"ARIZONA\",\"ARKANSAS\",\"CALIFORNIA\",\"COLORADO\",\"CONNECTICUT\",\"DELAWARE\",\"FLORIDA\",\"GEORGIA\",\"HAWAII\",\"IDAHO\",\"ILLINOIS\",\"INDIANA\",\"IOWA\",\"KANSAS\",\"KENTUCKY\",\"LOUISIANA\",\"MAINE\",\"MARYLAND\",\"MASSACHUSETTS\",\"MICHIGAN\",\"MINNESOTA\",\"MISSISSIPPI\",\"MISSOURI\",\"MONTANA\",\"NEBRASKA\",\"NEVADA\",\"NEW HAMPSHIRE\",\"NEW JERSEY\",\"NEW MEXICO\",\"NEW YORK\",\"NORTH CAROLINA\",\"NORTH DAKOTA\",\"OHIO\",\"OKLAHOMA\",\"OREGON\",\"PENNSYLVANIA\",\"RHODE ISLAND\",\"SOUTH CAROLINA\",\"SOUTH DAKOTA\",\"TENNESSEE\",\"TEXAS\",\"UTAH\",\"VERMONT\",\"VIRGINIA\",\"WASHINGTON\",\"WEST VIRGINIA\",\"WISCONSIN\",\"WYOMING\",\"ALABAMA\",\"ALASKA\",\"ARIZONA\",\"ARKANSAS\",\"CALIFORNIA\",\"COLORADO\",\"CONNECTICUT\",\"DELAWARE\",\"FLORIDA\",\"GEORGIA\",\"HAWAII\",\"IDAHO\",\"ILLINOIS\",\"INDIANA\",\"IOWA\",\"KANSAS\",\"KENTUCKY\",\"LOUISIANA\",\"MAINE\",\"MARYLAND\",\"MASSACHUSETTS\",\"MICHIGAN\",\"MINNESOTA\",\"MISSISSIPPI\",\"MISSOURI\",\"MONTANA\",\"NEBRASKA\",\"NEVADA\",\"NEW HAMPSHIRE\",\"NEW JERSEY\",\"NEW MEXICO\",\"NEW YORK\",\"NORTH CAROLINA\",\"NORTH DAKOTA\",\"OHIO\",\"OKLAHOMA\",\"OREGON\",\"PENNSYLVANIA\",\"RHODE ISLAND\",\"SOUTH CAROLINA\",\"SOUTH DAKOTA\",\"TENNESSEE\",\"TEXAS\",\"UTAH\",\"VERMONT\",\"VIRGINIA\",\"WASHINGTON\",\"WEST VIRGINIA\",\"WISCONSIN\",\"WYOMING\",\"ALABAMA\",\"ALASKA\",\"ARIZONA\",\"ARKANSAS\",\"CALIFORNIA\",\"COLORADO\",\"CONNECTICUT\",\"DELAWARE\",\"FLORIDA\",\"GEORGIA\",\"HAWAII\",\"IDAHO\",\"ILLINOIS\",\"INDIANA\",\"IOWA\",\"KANSAS\",\"KENTUCKY\",\"LOUISIANA\",\"MAINE\",\"MARYLAND\",\"MASSACHUSETTS\",\"MICHIGAN\",\"MINNESOTA\",\"MISSISSIPPI\",\"MISSOURI\",\"MONTANA\",\"NEBRASKA\",\"NEVADA\",\"NEW HAMPSHIRE\",\"NEW JERSEY\",\"NEW MEXICO\",\"NORTH CAROLINA\",\"NORTH DAKOTA\",\"OHIO\",\"OKLAHOMA\",\"OREGON\",\"PENNSYLVANIA\",\"RHODE ISLAND\",\"SOUTH CAROLINA\",\"SOUTH DAKOTA\",\"TENNESSEE\",\"TEXAS\",\"UTAH\",\"VERMONT\",\"VIRGINIA\",\"WASHINGTON\",\"WEST VIRGINIA\",\"WISCONSIN\",\"WYOMING\"],\"xaxis\":\"x\",\"y\":[13788.0,3127.0,17391.0,9796.0,89029.0,9826.0,4906.0,2960.0,61054.0,21361.0,2111.0,2548.0,28161.0,13915.0,6332.0,7177.0,4215.0,16331.0,907.0,16124.0,18118.0,27254.0,6908.0,4649.0,18056.0,2217.0,3011.0,10060.0,1506.0,12071.0,9470.0,46130.0,21325.0,1447.0,14370.0,11652.0,5596.0,23680.0,1547.0,17760.0,2052.0,27895.0,65351.0,3824.0,554.0,9111.0,11623.0,4242.0,9285.0,917.0,13745.0,3243.0,16970.0,10265.0,91803.0,10325.0,4495.0,2867.0,72895.0,22052.0,2102.0,2623.0,27520.0,14686.0,6264.0,7259.0,4404.0,16387.0,890.0,15133.0,18051.0,27519.0,6729.0,4592.0,18482.0,2532.0,3316.0,10564.0,1459.0,11225.0,8797.0,45303.0,21421.0,1407.0,14771.0,10744.0,5592.0,22189.0,1398.0,17676.0,2096.0,29681.0,65656.0,3513.0,432.0,9400.0,11627.0,4358.0,9809.0,899.0,15954.0,3671.0,18235.0,11316.0,99349.0,10759.0,4063.0,3081.0,63895.0,22557.0,2418.0,2650.0,28879.0,15765.0,6661.0,7792.0,4668.0,17454.0,921.0,15417.0,19071.0,26414.0,7094.0,4498.0,20830.0,2818.0,3283.0,11965.0,1543.0,11414.0,9407.0,22826.0,1298.0,15695.0,11418.0,6630.0,22373.0,1518.0,18073.0,2546.0,29844.0,67727.0,4046.0,492.0,9235.0,12029.0,4729.0,10395.0,1054.0],\"yaxis\":\"y\",\"type\":\"bar\"},{\"alignmentgroup\":\"True\",\"customdata\":[[false,2013],[true,2013],[false,2013],[false,2013],[false,2013],[false,2013],[true,2013],[true,2013],[false,2013],[false,2013],[true,2013],[false,2013],[false,2013],[false,2013],[false,2013],[false,2013],[false,2013],[false,2013],[false,2013],[false,2013],[false,2013],[false,2013],[false,2013],[false,2013],[false,2013],[false,2013],[false,2013],[false,2013],[false,2013],[false,2013],[false,2013],[false,2013],[false,2013],[false,2013],[false,2013],[false,2013],[false,2013],[false,2013],[true,2013],[false,2013],[false,2013],[false,2013],[false,2013],[false,2013],[true,2013],[false,2013],[false,2013],[false,2013],[false,2013],[false,2013],[false,2014],[true,2014],[false,2014],[false,2014],[false,2014],[false,2014],[true,2014],[true,2014],[false,2014],[false,2014],[true,2014],[false,2014],[false,2014],[false,2014],[false,2014],[false,2014],[false,2014],[false,2014],[false,2014],[false,2014],[false,2014],[false,2014],[false,2014],[false,2014],[false,2014],[false,2014],[false,2014],[false,2014],[false,2014],[false,2014],[false,2014],[false,2014],[false,2014],[false,2014],[false,2014],[false,2014],[false,2014],[false,2014],[true,2014],[false,2014],[false,2014],[false,2014],[false,2014],[false,2014],[true,2014],[false,2014],[false,2014],[false,2014],[false,2014],[false,2014],[false,2015],[true,2015],[false,2015],[false,2015],[false,2015],[false,2015],[true,2015],[true,2015],[false,2015],[false,2015],[true,2015],[false,2015],[false,2015],[false,2015],[false,2015],[false,2015],[false,2015],[false,2015],[false,2015],[false,2015],[false,2015],[false,2015],[false,2015],[false,2015],[false,2015],[false,2015],[false,2015],[false,2015],[false,2015],[false,2015],[false,2015],[false,2015],[false,2015],[false,2015],[false,2015],[false,2015],[false,2015],[true,2015],[false,2015],[false,2015],[false,2015],[false,2015],[false,2015],[true,2015],[false,2015],[false,2015],[false,2015],[false,2015],[false,2015]],\"hovertemplate\":\"variable=burglary<br>jurisdiction=%{x}<br>value=%{y}<br>includes_jails=%{customdata[0]}<br>year=%{customdata[1]}<extra></extra>\",\"legendgroup\":\"burglary\",\"marker\":{\"color\":\"#ab63fa\",\"pattern\":{\"shape\":\"\"}},\"name\":\"burglary\",\"offsetgroup\":\"burglary\",\"orientation\":\"v\",\"showlegend\":true,\"textposition\":\"auto\",\"x\":[\"ALABAMA\",\"ALASKA\",\"ARIZONA\",\"ARKANSAS\",\"CALIFORNIA\",\"COLORADO\",\"CONNECTICUT\",\"DELAWARE\",\"FLORIDA\",\"GEORGIA\",\"HAWAII\",\"IDAHO\",\"ILLINOIS\",\"INDIANA\",\"IOWA\",\"KANSAS\",\"KENTUCKY\",\"LOUISIANA\",\"MAINE\",\"MARYLAND\",\"MASSACHUSETTS\",\"MICHIGAN\",\"MINNESOTA\",\"MISSISSIPPI\",\"MISSOURI\",\"MONTANA\",\"NEBRASKA\",\"NEVADA\",\"NEW HAMPSHIRE\",\"NEW JERSEY\",\"NEW MEXICO\",\"NEW YORK\",\"NORTH CAROLINA\",\"NORTH DAKOTA\",\"OHIO\",\"OKLAHOMA\",\"OREGON\",\"PENNSYLVANIA\",\"RHODE ISLAND\",\"SOUTH CAROLINA\",\"SOUTH DAKOTA\",\"TENNESSEE\",\"TEXAS\",\"UTAH\",\"VERMONT\",\"VIRGINIA\",\"WASHINGTON\",\"WEST VIRGINIA\",\"WISCONSIN\",\"WYOMING\",\"ALABAMA\",\"ALASKA\",\"ARIZONA\",\"ARKANSAS\",\"CALIFORNIA\",\"COLORADO\",\"CONNECTICUT\",\"DELAWARE\",\"FLORIDA\",\"GEORGIA\",\"HAWAII\",\"IDAHO\",\"ILLINOIS\",\"INDIANA\",\"IOWA\",\"KANSAS\",\"KENTUCKY\",\"LOUISIANA\",\"MAINE\",\"MARYLAND\",\"MASSACHUSETTS\",\"MICHIGAN\",\"MINNESOTA\",\"MISSISSIPPI\",\"MISSOURI\",\"MONTANA\",\"NEBRASKA\",\"NEVADA\",\"NEW HAMPSHIRE\",\"NEW JERSEY\",\"NEW MEXICO\",\"NEW YORK\",\"NORTH CAROLINA\",\"NORTH DAKOTA\",\"OHIO\",\"OKLAHOMA\",\"OREGON\",\"PENNSYLVANIA\",\"RHODE ISLAND\",\"SOUTH CAROLINA\",\"SOUTH DAKOTA\",\"TENNESSEE\",\"TEXAS\",\"UTAH\",\"VERMONT\",\"VIRGINIA\",\"WASHINGTON\",\"WEST VIRGINIA\",\"WISCONSIN\",\"WYOMING\",\"ALABAMA\",\"ALASKA\",\"ARIZONA\",\"ARKANSAS\",\"CALIFORNIA\",\"COLORADO\",\"CONNECTICUT\",\"DELAWARE\",\"FLORIDA\",\"GEORGIA\",\"HAWAII\",\"IDAHO\",\"ILLINOIS\",\"INDIANA\",\"IOWA\",\"KANSAS\",\"KENTUCKY\",\"LOUISIANA\",\"MAINE\",\"MARYLAND\",\"MASSACHUSETTS\",\"MICHIGAN\",\"MINNESOTA\",\"MISSISSIPPI\",\"MISSOURI\",\"MONTANA\",\"NEBRASKA\",\"NEVADA\",\"NEW HAMPSHIRE\",\"NEW JERSEY\",\"NEW MEXICO\",\"NORTH CAROLINA\",\"NORTH DAKOTA\",\"OHIO\",\"OKLAHOMA\",\"OREGON\",\"PENNSYLVANIA\",\"RHODE ISLAND\",\"SOUTH CAROLINA\",\"SOUTH DAKOTA\",\"TENNESSEE\",\"TEXAS\",\"UTAH\",\"VERMONT\",\"VIRGINIA\",\"WASHINGTON\",\"WEST VIRGINIA\",\"WISCONSIN\",\"WYOMING\"],\"xaxis\":\"x\",\"y\":[42410.0,2917.0,48292.0,30369.0,232058.0,25075.0,12934.0,6299.0,138915.0,83459.0,7777.0,6693.0,59093.0,42754.0,15918.0,17476.0,26331.0,41214.0,6480.0,31950.0,30716.0,56256.0,22713.0,24969.0,38797.0,4122.0,8945.0,23047.0,4979.0,35883.0,21828.0,56444.0,90182.0,2979.0,91090.0,33512.0,20808.0,52000.0,5621.0,40930.0,3383.0,51334.0,191062.0,13727.0,3352.0,26717.0,58487.0,9908.0,24358.0,1956.0,39715.0,3150.0,43562.0,24790.0,202670.0,23472.0,11955.0,5768.0,143220.0,76428.0,7778.0,6428.0,50008.0,36893.0,14428.0,15828.0,23244.0,38337.0,5030.0,28012.0,24964.0,44184.0,20773.0,24352.0,35258.0,3595.0,7950.0,21927.0,4162.0,31710.0,18505.0,50781.0,79373.0,2707.0,78845.0,29508.0,17230.0,45720.0,4823.0,36721.0,2818.0,46642.0,169234.0,11518.0,2034.0,23122.0,55290.0,8973.0,21216.0,1689.0,35255.0,3511.0,37957.0,22640.0,197404.0,23454.0,10053.0,4773.0,109268.0,66374.0,6557.0,6124.0,46443.0,34410.0,14892.0,15362.0,22260.0,35453.0,4684.0,25678.0,21890.0,40041.0,19299.0,24799.0,34006.0,3838.0,6422.0,22360.0,3467.0,27960.0,17085.0,74841.0,2997.0,69303.0,28406.0,18336.0,39664.0,3947.0,34551.0,2960.0,43247.0,153054.0,12468.0,1968.0,21340.0,50993.0,9170.0,19554.0,1762.0],\"yaxis\":\"y\",\"type\":\"bar\"}],                        {\"template\":{\"data\":{\"histogram2dcontour\":[{\"type\":\"histogram2dcontour\",\"colorbar\":{\"outlinewidth\":0,\"ticks\":\"\"},\"colorscale\":[[0.0,\"#0d0887\"],[0.1111111111111111,\"#46039f\"],[0.2222222222222222,\"#7201a8\"],[0.3333333333333333,\"#9c179e\"],[0.4444444444444444,\"#bd3786\"],[0.5555555555555556,\"#d8576b\"],[0.6666666666666666,\"#ed7953\"],[0.7777777777777778,\"#fb9f3a\"],[0.8888888888888888,\"#fdca26\"],[1.0,\"#f0f921\"]]}],\"choropleth\":[{\"type\":\"choropleth\",\"colorbar\":{\"outlinewidth\":0,\"ticks\":\"\"}}],\"histogram2d\":[{\"type\":\"histogram2d\",\"colorbar\":{\"outlinewidth\":0,\"ticks\":\"\"},\"colorscale\":[[0.0,\"#0d0887\"],[0.1111111111111111,\"#46039f\"],[0.2222222222222222,\"#7201a8\"],[0.3333333333333333,\"#9c179e\"],[0.4444444444444444,\"#bd3786\"],[0.5555555555555556,\"#d8576b\"],[0.6666666666666666,\"#ed7953\"],[0.7777777777777778,\"#fb9f3a\"],[0.8888888888888888,\"#fdca26\"],[1.0,\"#f0f921\"]]}],\"heatmap\":[{\"type\":\"heatmap\",\"colorbar\":{\"outlinewidth\":0,\"ticks\":\"\"},\"colorscale\":[[0.0,\"#0d0887\"],[0.1111111111111111,\"#46039f\"],[0.2222222222222222,\"#7201a8\"],[0.3333333333333333,\"#9c179e\"],[0.4444444444444444,\"#bd3786\"],[0.5555555555555556,\"#d8576b\"],[0.6666666666666666,\"#ed7953\"],[0.7777777777777778,\"#fb9f3a\"],[0.8888888888888888,\"#fdca26\"],[1.0,\"#f0f921\"]]}],\"heatmapgl\":[{\"type\":\"heatmapgl\",\"colorbar\":{\"outlinewidth\":0,\"ticks\":\"\"},\"colorscale\":[[0.0,\"#0d0887\"],[0.1111111111111111,\"#46039f\"],[0.2222222222222222,\"#7201a8\"],[0.3333333333333333,\"#9c179e\"],[0.4444444444444444,\"#bd3786\"],[0.5555555555555556,\"#d8576b\"],[0.6666666666666666,\"#ed7953\"],[0.7777777777777778,\"#fb9f3a\"],[0.8888888888888888,\"#fdca26\"],[1.0,\"#f0f921\"]]}],\"contourcarpet\":[{\"type\":\"contourcarpet\",\"colorbar\":{\"outlinewidth\":0,\"ticks\":\"\"}}],\"contour\":[{\"type\":\"contour\",\"colorbar\":{\"outlinewidth\":0,\"ticks\":\"\"},\"colorscale\":[[0.0,\"#0d0887\"],[0.1111111111111111,\"#46039f\"],[0.2222222222222222,\"#7201a8\"],[0.3333333333333333,\"#9c179e\"],[0.4444444444444444,\"#bd3786\"],[0.5555555555555556,\"#d8576b\"],[0.6666666666666666,\"#ed7953\"],[0.7777777777777778,\"#fb9f3a\"],[0.8888888888888888,\"#fdca26\"],[1.0,\"#f0f921\"]]}],\"surface\":[{\"type\":\"surface\",\"colorbar\":{\"outlinewidth\":0,\"ticks\":\"\"},\"colorscale\":[[0.0,\"#0d0887\"],[0.1111111111111111,\"#46039f\"],[0.2222222222222222,\"#7201a8\"],[0.3333333333333333,\"#9c179e\"],[0.4444444444444444,\"#bd3786\"],[0.5555555555555556,\"#d8576b\"],[0.6666666666666666,\"#ed7953\"],[0.7777777777777778,\"#fb9f3a\"],[0.8888888888888888,\"#fdca26\"],[1.0,\"#f0f921\"]]}],\"mesh3d\":[{\"type\":\"mesh3d\",\"colorbar\":{\"outlinewidth\":0,\"ticks\":\"\"}}],\"scatter\":[{\"fillpattern\":{\"fillmode\":\"overlay\",\"size\":10,\"solidity\":0.2},\"type\":\"scatter\"}],\"parcoords\":[{\"type\":\"parcoords\",\"line\":{\"colorbar\":{\"outlinewidth\":0,\"ticks\":\"\"}}}],\"scatterpolargl\":[{\"type\":\"scatterpolargl\",\"marker\":{\"colorbar\":{\"outlinewidth\":0,\"ticks\":\"\"}}}],\"bar\":[{\"error_x\":{\"color\":\"#2a3f5f\"},\"error_y\":{\"color\":\"#2a3f5f\"},\"marker\":{\"line\":{\"color\":\"#E5ECF6\",\"width\":0.5},\"pattern\":{\"fillmode\":\"overlay\",\"size\":10,\"solidity\":0.2}},\"type\":\"bar\"}],\"scattergeo\":[{\"type\":\"scattergeo\",\"marker\":{\"colorbar\":{\"outlinewidth\":0,\"ticks\":\"\"}}}],\"scatterpolar\":[{\"type\":\"scatterpolar\",\"marker\":{\"colorbar\":{\"outlinewidth\":0,\"ticks\":\"\"}}}],\"histogram\":[{\"marker\":{\"pattern\":{\"fillmode\":\"overlay\",\"size\":10,\"solidity\":0.2}},\"type\":\"histogram\"}],\"scattergl\":[{\"type\":\"scattergl\",\"marker\":{\"colorbar\":{\"outlinewidth\":0,\"ticks\":\"\"}}}],\"scatter3d\":[{\"type\":\"scatter3d\",\"line\":{\"colorbar\":{\"outlinewidth\":0,\"ticks\":\"\"}},\"marker\":{\"colorbar\":{\"outlinewidth\":0,\"ticks\":\"\"}}}],\"scattermapbox\":[{\"type\":\"scattermapbox\",\"marker\":{\"colorbar\":{\"outlinewidth\":0,\"ticks\":\"\"}}}],\"scatterternary\":[{\"type\":\"scatterternary\",\"marker\":{\"colorbar\":{\"outlinewidth\":0,\"ticks\":\"\"}}}],\"scattercarpet\":[{\"type\":\"scattercarpet\",\"marker\":{\"colorbar\":{\"outlinewidth\":0,\"ticks\":\"\"}}}],\"carpet\":[{\"aaxis\":{\"endlinecolor\":\"#2a3f5f\",\"gridcolor\":\"white\",\"linecolor\":\"white\",\"minorgridcolor\":\"white\",\"startlinecolor\":\"#2a3f5f\"},\"baxis\":{\"endlinecolor\":\"#2a3f5f\",\"gridcolor\":\"white\",\"linecolor\":\"white\",\"minorgridcolor\":\"white\",\"startlinecolor\":\"#2a3f5f\"},\"type\":\"carpet\"}],\"table\":[{\"cells\":{\"fill\":{\"color\":\"#EBF0F8\"},\"line\":{\"color\":\"white\"}},\"header\":{\"fill\":{\"color\":\"#C8D4E3\"},\"line\":{\"color\":\"white\"}},\"type\":\"table\"}],\"barpolar\":[{\"marker\":{\"line\":{\"color\":\"#E5ECF6\",\"width\":0.5},\"pattern\":{\"fillmode\":\"overlay\",\"size\":10,\"solidity\":0.2}},\"type\":\"barpolar\"}],\"pie\":[{\"automargin\":true,\"type\":\"pie\"}]},\"layout\":{\"autotypenumbers\":\"strict\",\"colorway\":[\"#636efa\",\"#EF553B\",\"#00cc96\",\"#ab63fa\",\"#FFA15A\",\"#19d3f3\",\"#FF6692\",\"#B6E880\",\"#FF97FF\",\"#FECB52\"],\"font\":{\"color\":\"#2a3f5f\"},\"hovermode\":\"closest\",\"hoverlabel\":{\"align\":\"left\"},\"paper_bgcolor\":\"white\",\"plot_bgcolor\":\"#E5ECF6\",\"polar\":{\"bgcolor\":\"#E5ECF6\",\"angularaxis\":{\"gridcolor\":\"white\",\"linecolor\":\"white\",\"ticks\":\"\"},\"radialaxis\":{\"gridcolor\":\"white\",\"linecolor\":\"white\",\"ticks\":\"\"}},\"ternary\":{\"bgcolor\":\"#E5ECF6\",\"aaxis\":{\"gridcolor\":\"white\",\"linecolor\":\"white\",\"ticks\":\"\"},\"baxis\":{\"gridcolor\":\"white\",\"linecolor\":\"white\",\"ticks\":\"\"},\"caxis\":{\"gridcolor\":\"white\",\"linecolor\":\"white\",\"ticks\":\"\"}},\"coloraxis\":{\"colorbar\":{\"outlinewidth\":0,\"ticks\":\"\"}},\"colorscale\":{\"sequential\":[[0.0,\"#0d0887\"],[0.1111111111111111,\"#46039f\"],[0.2222222222222222,\"#7201a8\"],[0.3333333333333333,\"#9c179e\"],[0.4444444444444444,\"#bd3786\"],[0.5555555555555556,\"#d8576b\"],[0.6666666666666666,\"#ed7953\"],[0.7777777777777778,\"#fb9f3a\"],[0.8888888888888888,\"#fdca26\"],[1.0,\"#f0f921\"]],\"sequentialminus\":[[0.0,\"#0d0887\"],[0.1111111111111111,\"#46039f\"],[0.2222222222222222,\"#7201a8\"],[0.3333333333333333,\"#9c179e\"],[0.4444444444444444,\"#bd3786\"],[0.5555555555555556,\"#d8576b\"],[0.6666666666666666,\"#ed7953\"],[0.7777777777777778,\"#fb9f3a\"],[0.8888888888888888,\"#fdca26\"],[1.0,\"#f0f921\"]],\"diverging\":[[0,\"#8e0152\"],[0.1,\"#c51b7d\"],[0.2,\"#de77ae\"],[0.3,\"#f1b6da\"],[0.4,\"#fde0ef\"],[0.5,\"#f7f7f7\"],[0.6,\"#e6f5d0\"],[0.7,\"#b8e186\"],[0.8,\"#7fbc41\"],[0.9,\"#4d9221\"],[1,\"#276419\"]]},\"xaxis\":{\"gridcolor\":\"white\",\"linecolor\":\"white\",\"ticks\":\"\",\"title\":{\"standoff\":15},\"zerolinecolor\":\"white\",\"automargin\":true,\"zerolinewidth\":2},\"yaxis\":{\"gridcolor\":\"white\",\"linecolor\":\"white\",\"ticks\":\"\",\"title\":{\"standoff\":15},\"zerolinecolor\":\"white\",\"automargin\":true,\"zerolinewidth\":2},\"scene\":{\"xaxis\":{\"backgroundcolor\":\"#E5ECF6\",\"gridcolor\":\"white\",\"linecolor\":\"white\",\"showbackground\":true,\"ticks\":\"\",\"zerolinecolor\":\"white\",\"gridwidth\":2},\"yaxis\":{\"backgroundcolor\":\"#E5ECF6\",\"gridcolor\":\"white\",\"linecolor\":\"white\",\"showbackground\":true,\"ticks\":\"\",\"zerolinecolor\":\"white\",\"gridwidth\":2},\"zaxis\":{\"backgroundcolor\":\"#E5ECF6\",\"gridcolor\":\"white\",\"linecolor\":\"white\",\"showbackground\":true,\"ticks\":\"\",\"zerolinecolor\":\"white\",\"gridwidth\":2}},\"shapedefaults\":{\"line\":{\"color\":\"#2a3f5f\"}},\"annotationdefaults\":{\"arrowcolor\":\"#2a3f5f\",\"arrowhead\":0,\"arrowwidth\":1},\"geo\":{\"bgcolor\":\"white\",\"landcolor\":\"#E5ECF6\",\"subunitcolor\":\"white\",\"showland\":true,\"showlakes\":true,\"lakecolor\":\"white\"},\"title\":{\"x\":0.05},\"mapbox\":{\"style\":\"light\"}}},\"xaxis\":{\"anchor\":\"y\",\"domain\":[0.0,1.0],\"title\":{\"text\":\"jurisdiction\"}},\"yaxis\":{\"anchor\":\"x\",\"domain\":[0.0,1.0],\"title\":{\"text\":\"value\"}},\"legend\":{\"title\":{\"text\":\"variable\"},\"tracegroupgap\":0},\"title\":{\"text\":\"Includes jail or not based on the crimes\"},\"barmode\":\"relative\"},                        {\"responsive\": true}                    ).then(function(){\n                            \nvar gd = document.getElementById('e4031d10-3c78-4742-b5b1-aa058a1edc09');\nvar x = new MutationObserver(function (mutations, observer) {{\n        var display = window.getComputedStyle(gd).display;\n        if (!display || display === 'none') {{\n            console.log([gd, 'removed!']);\n            Plotly.purge(gd);\n            observer.disconnect();\n        }}\n}});\n\n// Listen for the removal of the full notebook cells\nvar notebookContainer = gd.closest('#notebook-container');\nif (notebookContainer) {{\n    x.observe(notebookContainer, {childList: true});\n}}\n\n// Listen for the clearing of the current output cell\nvar outputEl = gd.closest('.output');\nif (outputEl) {{\n    x.observe(outputEl, {childList: true});\n}}\n\n                        })                };                            </script>        </div>\n</body>\n</html>"
     },
     "execution_count": 81,
     "metadata": {
     },
     "output_type": "execute_result"
    }
   ],
   "source": [
    "# Plot 5: Includes jail or not based on the crimes\n",
    "\n",
    "path=['murder_manslaughter','rape_revised','agg_assault','burglary']\n",
    "fig = px.bar(crime_df, x=\"jurisdiction\", y=path, hover_data = [\"includes_jails\",\"year\"], title=\"Includes jail or not based on the crimes\")\n",
    "fig.show()"
   ]
  },
  {
   "cell_type": "code",
   "execution_count": 17,
   "metadata": {
    "collapsed": false
   },
   "outputs": [
    {
     "data": {
      "text/plain": [
       "(array([-25000.,      0.,  25000.,  50000.,  75000., 100000., 125000.,\n",
       "        150000., 175000., 200000.]),\n",
       " [Text(0, 0, ''),\n",
       "  Text(0, 0, ''),\n",
       "  Text(0, 0, ''),\n",
       "  Text(0, 0, ''),\n",
       "  Text(0, 0, ''),\n",
       "  Text(0, 0, ''),\n",
       "  Text(0, 0, ''),\n",
       "  Text(0, 0, ''),\n",
       "  Text(0, 0, ''),\n",
       "  Text(0, 0, '')])"
      ]
     },
     "execution_count": 17,
     "metadata": {
     },
     "output_type": "execute_result"
    },
    {
     "data": {
      "image/png": "[encoded data removed]",
      "text/plain": [
       "<Figure size 2160x720 with 1 Axes>"
      ]
     },
     "execution_count": 17,
     "metadata": {
      "needs_background": "light"
     },
     "output_type": "execute_result"
    }
   ],
   "source": [
    "# Plot 6: Total Violent Crime based on the prisoner count\n",
    "plt.figure(figsize=(30, 10))\n",
    "plt.scatter(crime_df['violent_crime_total'], crime_df['prisoner_count'])\n",
    "plt.title('Total Violent Crime based on Prisoner Count')\n",
    "plt.ylabel(\"Violent Crime\")\n",
    "plt.xlabel(\"Prisoner Count\")\n",
    "plt.xticks(rotation = 80)"
   ]
  },
  {
   "cell_type": "code",
   "execution_count": 18,
   "metadata": {
    "collapsed": false
   },
   "outputs": [
    {
     "data": {
      "text/plain": [
       "Text(0.5, 1.0, 'Amount of Prisoners per State')"
      ]
     },
     "execution_count": 18,
     "metadata": {
     },
     "output_type": "execute_result"
    },
    {
     "data": {
      "image/png": "[encoded data removed]",
      "text/plain": [
       "<Figure size 432x288 with 1 Axes>"
      ]
     },
     "execution_count": 18,
     "metadata": {
      "needs_background": "light"
     },
     "output_type": "execute_result"
    }
   ],
   "source": [
    "# Plot 7: Amount of prisoners per state\n",
    "\n",
    "sns.boxplot(x=\"prisoner_count\", data=crime_df.tail(50))\n",
    "plt.xlabel(\"# of Prisoners\")\n",
    "plt.title(\"Amount of Prisoners per State\")"
   ]
  },
  {
   "cell_type": "markdown",
   "metadata": {
    "collapsed": false
   },
   "source": [
    "Data Analysis for the above plot:\n",
    "\n"
   ]
  },
  {
   "cell_type": "markdown",
   "metadata": {
    "collapsed": false
   },
   "source": [
    "#### Correlation Plot\n",
    "\n"
   ]
  },
  {
   "cell_type": "code",
   "execution_count": 85,
   "metadata": {
    "collapsed": false
   },
   "outputs": [
    {
     "data": {
      "text/plain": [
       "Text(0.5, 1.0, 'Correlation Plot')"
      ]
     },
     "execution_count": 85,
     "metadata": {
     },
     "output_type": "execute_result"
    },
    {
     "data": {
      "image/png": "[encoded data removed]",
      "text/plain": [
       "<Figure size 1080x648 with 2 Axes>"
      ]
     },
     "execution_count": 85,
     "metadata": {
      "needs_background": "light"
     },
     "output_type": "execute_result"
    }
   ],
   "source": [
    "plt.figure(figsize = (15,9))\n",
    "ax = plt.subplot()\n",
    "sns.heatmap(crime_df.corr(),annot=True, fmt='.1f', ax=ax)\n",
    "ax.set_title('Correlation Plot')"
   ]
  },
  {
   "cell_type": "markdown",
   "metadata": {
    "collapsed": false
   },
   "source": [
    "## Feature Selection & Extraction\n",
    "\n"
   ]
  },
  {
   "cell_type": "markdown",
   "metadata": {
    "collapsed": false
   },
   "source": [
    "## Models\n",
    "\n"
   ]
  },
  {
   "cell_type": "code",
   "execution_count": 20,
   "metadata": {
    "collapsed": false
   },
   "outputs": [
    {
     "data": {
      "text/html": [
       "<div>\n",
       "<style scoped>\n",
       "    .dataframe tbody tr th:only-of-type {\n",
       "        vertical-align: middle;\n",
       "    }\n",
       "\n",
       "    .dataframe tbody tr th {\n",
       "        vertical-align: top;\n",
       "    }\n",
       "\n",
       "    .dataframe thead th {\n",
       "        text-align: right;\n",
       "    }\n",
       "</style>\n",
       "<table border=\"1\" class=\"dataframe\">\n",
       "  <thead>\n",
       "    <tr style=\"text-align: right;\">\n",
       "      <th></th>\n",
       "      <th>jurisdiction</th>\n",
       "      <th>includes_jails</th>\n",
       "      <th>year</th>\n",
       "      <th>prisoner_count</th>\n",
       "      <th>crime_reporting_change</th>\n",
       "      <th>crimes_estimated</th>\n",
       "      <th>state_population</th>\n",
       "      <th>violent_crime_total</th>\n",
       "      <th>murder_manslaughter</th>\n",
       "      <th>rape_revised</th>\n",
       "      <th>agg_assault</th>\n",
       "      <th>property_crime_total</th>\n",
       "      <th>burglary</th>\n",
       "    </tr>\n",
       "  </thead>\n",
       "  <tbody>\n",
       "    <tr>\n",
       "      <th>613</th>\n",
       "      <td>ALABAMA</td>\n",
       "      <td>False</td>\n",
       "      <td>2013</td>\n",
       "      <td>26825</td>\n",
       "      <td>False</td>\n",
       "      <td>False</td>\n",
       "      <td>4833996.0</td>\n",
       "      <td>20834.0</td>\n",
       "      <td>346.0</td>\n",
       "      <td>2055.0</td>\n",
       "      <td>13788.0</td>\n",
       "      <td>161835.0</td>\n",
       "      <td>42410.0</td>\n",
       "    </tr>\n",
       "    <tr>\n",
       "      <th>614</th>\n",
       "      <td>ALASKA</td>\n",
       "      <td>True</td>\n",
       "      <td>2013</td>\n",
       "      <td>5081</td>\n",
       "      <td>False</td>\n",
       "      <td>False</td>\n",
       "      <td>737259.0</td>\n",
       "      <td>4709.0</td>\n",
       "      <td>34.0</td>\n",
       "      <td>925.0</td>\n",
       "      <td>3127.0</td>\n",
       "      <td>21211.0</td>\n",
       "      <td>2917.0</td>\n",
       "    </tr>\n",
       "    <tr>\n",
       "      <th>615</th>\n",
       "      <td>ARIZONA</td>\n",
       "      <td>False</td>\n",
       "      <td>2013</td>\n",
       "      <td>41031</td>\n",
       "      <td>False</td>\n",
       "      <td>False</td>\n",
       "      <td>6634997.0</td>\n",
       "      <td>27576.0</td>\n",
       "      <td>355.0</td>\n",
       "      <td>3174.0</td>\n",
       "      <td>17391.0</td>\n",
       "      <td>223294.0</td>\n",
       "      <td>48292.0</td>\n",
       "    </tr>\n",
       "    <tr>\n",
       "      <th>616</th>\n",
       "      <td>ARKANSAS</td>\n",
       "      <td>False</td>\n",
       "      <td>2013</td>\n",
       "      <td>14295</td>\n",
       "      <td>False</td>\n",
       "      <td>False</td>\n",
       "      <td>2958765.0</td>\n",
       "      <td>13705.0</td>\n",
       "      <td>158.0</td>\n",
       "      <td>1490.0</td>\n",
       "      <td>9796.0</td>\n",
       "      <td>106477.0</td>\n",
       "      <td>30369.0</td>\n",
       "    </tr>\n",
       "    <tr>\n",
       "      <th>617</th>\n",
       "      <td>CALIFORNIA</td>\n",
       "      <td>False</td>\n",
       "      <td>2013</td>\n",
       "      <td>134339</td>\n",
       "      <td>False</td>\n",
       "      <td>False</td>\n",
       "      <td>38431393.0</td>\n",
       "      <td>154739.0</td>\n",
       "      <td>1746.0</td>\n",
       "      <td>10324.0</td>\n",
       "      <td>89029.0</td>\n",
       "      <td>1018907.0</td>\n",
       "      <td>232058.0</td>\n",
       "    </tr>\n",
       "  </tbody>\n",
       "</table>\n",
       "</div>"
      ],
      "text/plain": [
       "    jurisdiction  includes_jails  year  prisoner_count crime_reporting_change  \\\n",
       "613      ALABAMA           False  2013           26825                  False   \n",
       "614       ALASKA            True  2013            5081                  False   \n",
       "615      ARIZONA           False  2013           41031                  False   \n",
       "616     ARKANSAS           False  2013           14295                  False   \n",
       "617   CALIFORNIA           False  2013          134339                  False   \n",
       "\n",
       "    crimes_estimated  state_population  violent_crime_total  \\\n",
       "613            False         4833996.0              20834.0   \n",
       "614            False          737259.0               4709.0   \n",
       "615            False         6634997.0              27576.0   \n",
       "616            False         2958765.0              13705.0   \n",
       "617            False        38431393.0             154739.0   \n",
       "\n",
       "     murder_manslaughter  rape_revised  agg_assault  property_crime_total  \\\n",
       "613                346.0        2055.0      13788.0              161835.0   \n",
       "614                 34.0         925.0       3127.0               21211.0   \n",
       "615                355.0        3174.0      17391.0              223294.0   \n",
       "616                158.0        1490.0       9796.0              106477.0   \n",
       "617               1746.0       10324.0      89029.0             1018907.0   \n",
       "\n",
       "     burglary  \n",
       "613   42410.0  \n",
       "614    2917.0  \n",
       "615   48292.0  \n",
       "616   30369.0  \n",
       "617  232058.0  "
      ]
     },
     "execution_count": 20,
     "metadata": {
     },
     "output_type": "execute_result"
    }
   ],
   "source": [
    "import numpy as np\n",
    "import pandas as pd\n",
    "import seaborn as sns\n",
    "from matplotlib import pyplot as plt\n",
    "import math\n",
    "\n",
    "from sklearn.preprocessing import LabelEncoder\n",
    "from sklearn.model_selection import train_test_split\n",
    "from sklearn.linear_model import LinearRegression\n",
    "from sklearn.tree import DecisionTreeRegressor\n",
    "from sklearn.ensemble import RandomForestRegressor\n",
    "from sklearn.metrics import mean_squared_error, mean_squared_log_error, mean_absolute_error, accuracy_score\n",
    "\n",
    "from sklearn.metrics import confusion_matrix\n",
    "crime_df.head()"
   ]
  },
  {
   "cell_type": "markdown",
   "metadata": {
    "collapsed": false
   },
   "source": [
    "#### Label Encoding\n",
    "\n"
   ]
  },
  {
   "cell_type": "code",
   "execution_count": 21,
   "metadata": {
    "collapsed": false
   },
   "outputs": [
    {
     "data": {
      "text/html": [
       "<div>\n",
       "<style scoped>\n",
       "    .dataframe tbody tr th:only-of-type {\n",
       "        vertical-align: middle;\n",
       "    }\n",
       "\n",
       "    .dataframe tbody tr th {\n",
       "        vertical-align: top;\n",
       "    }\n",
       "\n",
       "    .dataframe thead th {\n",
       "        text-align: right;\n",
       "    }\n",
       "</style>\n",
       "<table border=\"1\" class=\"dataframe\">\n",
       "  <thead>\n",
       "    <tr style=\"text-align: right;\">\n",
       "      <th></th>\n",
       "      <th>jurisdiction</th>\n",
       "      <th>includes_jails</th>\n",
       "      <th>year</th>\n",
       "      <th>prisoner_count</th>\n",
       "      <th>crime_reporting_change</th>\n",
       "      <th>crimes_estimated</th>\n",
       "      <th>state_population</th>\n",
       "      <th>violent_crime_total</th>\n",
       "      <th>murder_manslaughter</th>\n",
       "      <th>rape_revised</th>\n",
       "      <th>agg_assault</th>\n",
       "      <th>property_crime_total</th>\n",
       "      <th>burglary</th>\n",
       "      <th>jurisdiction Labels</th>\n",
       "      <th>includes_jails Labels</th>\n",
       "    </tr>\n",
       "  </thead>\n",
       "  <tbody>\n",
       "    <tr>\n",
       "      <th>613</th>\n",
       "      <td>0</td>\n",
       "      <td>0</td>\n",
       "      <td>2013</td>\n",
       "      <td>26825</td>\n",
       "      <td>False</td>\n",
       "      <td>False</td>\n",
       "      <td>4833996.0</td>\n",
       "      <td>20834.0</td>\n",
       "      <td>346.0</td>\n",
       "      <td>2055.0</td>\n",
       "      <td>13788.0</td>\n",
       "      <td>161835.0</td>\n",
       "      <td>42410.0</td>\n",
       "      <td>0</td>\n",
       "      <td>0</td>\n",
       "    </tr>\n",
       "    <tr>\n",
       "      <th>614</th>\n",
       "      <td>1</td>\n",
       "      <td>1</td>\n",
       "      <td>2013</td>\n",
       "      <td>5081</td>\n",
       "      <td>False</td>\n",
       "      <td>False</td>\n",
       "      <td>737259.0</td>\n",
       "      <td>4709.0</td>\n",
       "      <td>34.0</td>\n",
       "      <td>925.0</td>\n",
       "      <td>3127.0</td>\n",
       "      <td>21211.0</td>\n",
       "      <td>2917.0</td>\n",
       "      <td>1</td>\n",
       "      <td>1</td>\n",
       "    </tr>\n",
       "    <tr>\n",
       "      <th>615</th>\n",
       "      <td>2</td>\n",
       "      <td>0</td>\n",
       "      <td>2013</td>\n",
       "      <td>41031</td>\n",
       "      <td>False</td>\n",
       "      <td>False</td>\n",
       "      <td>6634997.0</td>\n",
       "      <td>27576.0</td>\n",
       "      <td>355.0</td>\n",
       "      <td>3174.0</td>\n",
       "      <td>17391.0</td>\n",
       "      <td>223294.0</td>\n",
       "      <td>48292.0</td>\n",
       "      <td>2</td>\n",
       "      <td>0</td>\n",
       "    </tr>\n",
       "    <tr>\n",
       "      <th>616</th>\n",
       "      <td>3</td>\n",
       "      <td>0</td>\n",
       "      <td>2013</td>\n",
       "      <td>14295</td>\n",
       "      <td>False</td>\n",
       "      <td>False</td>\n",
       "      <td>2958765.0</td>\n",
       "      <td>13705.0</td>\n",
       "      <td>158.0</td>\n",
       "      <td>1490.0</td>\n",
       "      <td>9796.0</td>\n",
       "      <td>106477.0</td>\n",
       "      <td>30369.0</td>\n",
       "      <td>3</td>\n",
       "      <td>0</td>\n",
       "    </tr>\n",
       "    <tr>\n",
       "      <th>617</th>\n",
       "      <td>4</td>\n",
       "      <td>0</td>\n",
       "      <td>2013</td>\n",
       "      <td>134339</td>\n",
       "      <td>False</td>\n",
       "      <td>False</td>\n",
       "      <td>38431393.0</td>\n",
       "      <td>154739.0</td>\n",
       "      <td>1746.0</td>\n",
       "      <td>10324.0</td>\n",
       "      <td>89029.0</td>\n",
       "      <td>1018907.0</td>\n",
       "      <td>232058.0</td>\n",
       "      <td>4</td>\n",
       "      <td>0</td>\n",
       "    </tr>\n",
       "    <tr>\n",
       "      <th>...</th>\n",
       "      <td>...</td>\n",
       "      <td>...</td>\n",
       "      <td>...</td>\n",
       "      <td>...</td>\n",
       "      <td>...</td>\n",
       "      <td>...</td>\n",
       "      <td>...</td>\n",
       "      <td>...</td>\n",
       "      <td>...</td>\n",
       "      <td>...</td>\n",
       "      <td>...</td>\n",
       "      <td>...</td>\n",
       "      <td>...</td>\n",
       "      <td>...</td>\n",
       "      <td>...</td>\n",
       "    </tr>\n",
       "    <tr>\n",
       "      <th>760</th>\n",
       "      <td>45</td>\n",
       "      <td>0</td>\n",
       "      <td>2015</td>\n",
       "      <td>30430</td>\n",
       "      <td>False</td>\n",
       "      <td>False</td>\n",
       "      <td>8382993.0</td>\n",
       "      <td>16399.0</td>\n",
       "      <td>383.0</td>\n",
       "      <td>2340.0</td>\n",
       "      <td>9235.0</td>\n",
       "      <td>156470.0</td>\n",
       "      <td>21340.0</td>\n",
       "      <td>45</td>\n",
       "      <td>0</td>\n",
       "    </tr>\n",
       "    <tr>\n",
       "      <th>761</th>\n",
       "      <td>46</td>\n",
       "      <td>0</td>\n",
       "      <td>2015</td>\n",
       "      <td>17222</td>\n",
       "      <td>False</td>\n",
       "      <td>False</td>\n",
       "      <td>7170351.0</td>\n",
       "      <td>20394.0</td>\n",
       "      <td>211.0</td>\n",
       "      <td>2705.0</td>\n",
       "      <td>12029.0</td>\n",
       "      <td>248369.0</td>\n",
       "      <td>50993.0</td>\n",
       "      <td>46</td>\n",
       "      <td>0</td>\n",
       "    </tr>\n",
       "    <tr>\n",
       "      <th>762</th>\n",
       "      <td>47</td>\n",
       "      <td>0</td>\n",
       "      <td>2015</td>\n",
       "      <td>5925</td>\n",
       "      <td>False</td>\n",
       "      <td>False</td>\n",
       "      <td>1844128.0</td>\n",
       "      <td>6231.0</td>\n",
       "      <td>70.0</td>\n",
       "      <td>672.0</td>\n",
       "      <td>4729.0</td>\n",
       "      <td>37251.0</td>\n",
       "      <td>9170.0</td>\n",
       "      <td>47</td>\n",
       "      <td>0</td>\n",
       "    </tr>\n",
       "    <tr>\n",
       "      <th>763</th>\n",
       "      <td>48</td>\n",
       "      <td>0</td>\n",
       "      <td>2015</td>\n",
       "      <td>22914</td>\n",
       "      <td>False</td>\n",
       "      <td>False</td>\n",
       "      <td>5771337.0</td>\n",
       "      <td>17647.0</td>\n",
       "      <td>240.0</td>\n",
       "      <td>1780.0</td>\n",
       "      <td>10395.0</td>\n",
       "      <td>113924.0</td>\n",
       "      <td>19554.0</td>\n",
       "      <td>48</td>\n",
       "      <td>0</td>\n",
       "    </tr>\n",
       "    <tr>\n",
       "      <th>764</th>\n",
       "      <td>49</td>\n",
       "      <td>0</td>\n",
       "      <td>2015</td>\n",
       "      <td>2400</td>\n",
       "      <td>False</td>\n",
       "      <td>False</td>\n",
       "      <td>586107.0</td>\n",
       "      <td>1302.0</td>\n",
       "      <td>16.0</td>\n",
       "      <td>173.0</td>\n",
       "      <td>1054.0</td>\n",
       "      <td>11151.0</td>\n",
       "      <td>1762.0</td>\n",
       "      <td>49</td>\n",
       "      <td>0</td>\n",
       "    </tr>\n",
       "  </tbody>\n",
       "</table>\n",
       "<p>149 rows × 15 columns</p>\n",
       "</div>"
      ],
      "text/plain": [
       "     jurisdiction  includes_jails  year  prisoner_count  \\\n",
       "613             0               0  2013           26825   \n",
       "614             1               1  2013            5081   \n",
       "615             2               0  2013           41031   \n",
       "616             3               0  2013           14295   \n",
       "617             4               0  2013          134339   \n",
       "..            ...             ...   ...             ...   \n",
       "760            45               0  2015           30430   \n",
       "761            46               0  2015           17222   \n",
       "762            47               0  2015            5925   \n",
       "763            48               0  2015           22914   \n",
       "764            49               0  2015            2400   \n",
       "\n",
       "    crime_reporting_change crimes_estimated  state_population  \\\n",
       "613                  False            False         4833996.0   \n",
       "614                  False            False          737259.0   \n",
       "615                  False            False         6634997.0   \n",
       "616                  False            False         2958765.0   \n",
       "617                  False            False        38431393.0   \n",
       "..                     ...              ...               ...   \n",
       "760                  False            False         8382993.0   \n",
       "761                  False            False         7170351.0   \n",
       "762                  False            False         1844128.0   \n",
       "763                  False            False         5771337.0   \n",
       "764                  False            False          586107.0   \n",
       "\n",
       "     violent_crime_total  murder_manslaughter  rape_revised  agg_assault  \\\n",
       "613              20834.0                346.0        2055.0      13788.0   \n",
       "614               4709.0                 34.0         925.0       3127.0   \n",
       "615              27576.0                355.0        3174.0      17391.0   \n",
       "616              13705.0                158.0        1490.0       9796.0   \n",
       "617             154739.0               1746.0       10324.0      89029.0   \n",
       "..                   ...                  ...           ...          ...   \n",
       "760              16399.0                383.0        2340.0       9235.0   \n",
       "761              20394.0                211.0        2705.0      12029.0   \n",
       "762               6231.0                 70.0         672.0       4729.0   \n",
       "763              17647.0                240.0        1780.0      10395.0   \n",
       "764               1302.0                 16.0         173.0       1054.0   \n",
       "\n",
       "     property_crime_total  burglary  jurisdiction Labels  \\\n",
       "613              161835.0   42410.0                    0   \n",
       "614               21211.0    2917.0                    1   \n",
       "615              223294.0   48292.0                    2   \n",
       "616              106477.0   30369.0                    3   \n",
       "617             1018907.0  232058.0                    4   \n",
       "..                    ...       ...                  ...   \n",
       "760              156470.0   21340.0                   45   \n",
       "761              248369.0   50993.0                   46   \n",
       "762               37251.0    9170.0                   47   \n",
       "763              113924.0   19554.0                   48   \n",
       "764               11151.0    1762.0                   49   \n",
       "\n",
       "     includes_jails Labels  \n",
       "613                      0  \n",
       "614                      1  \n",
       "615                      0  \n",
       "616                      0  \n",
       "617                      0  \n",
       "..                     ...  \n",
       "760                      0  \n",
       "761                      0  \n",
       "762                      0  \n",
       "763                      0  \n",
       "764                      0  \n",
       "\n",
       "[149 rows x 15 columns]"
      ]
     },
     "execution_count": 21,
     "metadata": {
     },
     "output_type": "execute_result"
    }
   ],
   "source": [
    "labelencoder = LabelEncoder()\n",
    "crime_df['jurisdiction Labels'] = labelencoder.fit_transform(crime_df[\"jurisdiction\"])\n",
    "crime_df['includes_jails Labels'] = labelencoder.fit_transform(crime_df[\"includes_jails\"])\n",
    "crime_df['jurisdiction'] = crime_df['jurisdiction Labels']\n",
    "crime_df['includes_jails'] = crime_df['includes_jails Labels']\n",
    "crime_df"
   ]
  },
  {
   "cell_type": "code",
   "execution_count": 22,
   "metadata": {
    "collapsed": false
   },
   "outputs": [
   ],
   "source": [
    "training_features = ['jurisdiction','includes_jails','state_population','violent_crime_total','murder_manslaughter','rape_revised','agg_assault','property_crime_total','burglary']\n",
    "target = 'prisoner_count'"
   ]
  },
  {
   "cell_type": "code",
   "execution_count": 23,
   "metadata": {
    "collapsed": false
   },
   "outputs": [
    {
     "name": "stdout",
     "output_type": "stream",
     "text": [
      "(119, 9)\n"
     ]
    },
    {
     "data": {
      "text/html": [
       "<div>\n",
       "<style scoped>\n",
       "    .dataframe tbody tr th:only-of-type {\n",
       "        vertical-align: middle;\n",
       "    }\n",
       "\n",
       "    .dataframe tbody tr th {\n",
       "        vertical-align: top;\n",
       "    }\n",
       "\n",
       "    .dataframe thead th {\n",
       "        text-align: right;\n",
       "    }\n",
       "</style>\n",
       "<table border=\"1\" class=\"dataframe\">\n",
       "  <thead>\n",
       "    <tr style=\"text-align: right;\">\n",
       "      <th></th>\n",
       "      <th>jurisdiction</th>\n",
       "      <th>includes_jails</th>\n",
       "      <th>state_population</th>\n",
       "      <th>violent_crime_total</th>\n",
       "      <th>murder_manslaughter</th>\n",
       "      <th>rape_revised</th>\n",
       "      <th>agg_assault</th>\n",
       "      <th>property_crime_total</th>\n",
       "      <th>burglary</th>\n",
       "    </tr>\n",
       "  </thead>\n",
       "  <tbody>\n",
       "    <tr>\n",
       "      <th>633</th>\n",
       "      <td>20</td>\n",
       "      <td>0</td>\n",
       "      <td>6708874.0</td>\n",
       "      <td>27264.0</td>\n",
       "      <td>138.0</td>\n",
       "      <td>2303.0</td>\n",
       "      <td>18118.0</td>\n",
       "      <td>137274.0</td>\n",
       "      <td>30716.0</td>\n",
       "    </tr>\n",
       "    <tr>\n",
       "      <th>701</th>\n",
       "      <td>37</td>\n",
       "      <td>0</td>\n",
       "      <td>12787209.0</td>\n",
       "      <td>40164.0</td>\n",
       "      <td>614.0</td>\n",
       "      <td>3827.0</td>\n",
       "      <td>22189.0</td>\n",
       "      <td>247016.0</td>\n",
       "      <td>45720.0</td>\n",
       "    </tr>\n",
       "    <tr>\n",
       "      <th>652</th>\n",
       "      <td>39</td>\n",
       "      <td>0</td>\n",
       "      <td>4771929.0</td>\n",
       "      <td>24263.0</td>\n",
       "      <td>305.0</td>\n",
       "      <td>2233.0</td>\n",
       "      <td>17760.0</td>\n",
       "      <td>173261.0</td>\n",
       "      <td>40930.0</td>\n",
       "    </tr>\n",
       "    <tr>\n",
       "      <th>713</th>\n",
       "      <td>49</td>\n",
       "      <td>0</td>\n",
       "      <td>584153.0</td>\n",
       "      <td>1142.0</td>\n",
       "      <td>16.0</td>\n",
       "      <td>174.0</td>\n",
       "      <td>899.0</td>\n",
       "      <td>11477.0</td>\n",
       "      <td>1689.0</td>\n",
       "    </tr>\n",
       "    <tr>\n",
       "      <th>729</th>\n",
       "      <td>14</td>\n",
       "      <td>0</td>\n",
       "      <td>3123899.0</td>\n",
       "      <td>8936.0</td>\n",
       "      <td>72.0</td>\n",
       "      <td>1156.0</td>\n",
       "      <td>6661.0</td>\n",
       "      <td>63957.0</td>\n",
       "      <td>14892.0</td>\n",
       "    </tr>\n",
       "    <tr>\n",
       "      <th>...</th>\n",
       "      <td>...</td>\n",
       "      <td>...</td>\n",
       "      <td>...</td>\n",
       "      <td>...</td>\n",
       "      <td>...</td>\n",
       "      <td>...</td>\n",
       "      <td>...</td>\n",
       "      <td>...</td>\n",
       "      <td>...</td>\n",
       "    </tr>\n",
       "    <tr>\n",
       "      <th>646</th>\n",
       "      <td>33</td>\n",
       "      <td>0</td>\n",
       "      <td>723857.0</td>\n",
       "      <td>1979.0</td>\n",
       "      <td>16.0</td>\n",
       "      <td>355.0</td>\n",
       "      <td>1447.0</td>\n",
       "      <td>15356.0</td>\n",
       "      <td>2979.0</td>\n",
       "    </tr>\n",
       "    <tr>\n",
       "      <th>669</th>\n",
       "      <td>5</td>\n",
       "      <td>0</td>\n",
       "      <td>5355866.0</td>\n",
       "      <td>16554.0</td>\n",
       "      <td>151.0</td>\n",
       "      <td>3039.0</td>\n",
       "      <td>10325.0</td>\n",
       "      <td>135510.0</td>\n",
       "      <td>23472.0</td>\n",
       "    </tr>\n",
       "    <tr>\n",
       "      <th>672</th>\n",
       "      <td>8</td>\n",
       "      <td>0</td>\n",
       "      <td>19893297.0</td>\n",
       "      <td>107521.0</td>\n",
       "      <td>1149.0</td>\n",
       "      <td>8563.0</td>\n",
       "      <td>72895.0</td>\n",
       "      <td>679446.0</td>\n",
       "      <td>143220.0</td>\n",
       "    </tr>\n",
       "    <tr>\n",
       "      <th>752</th>\n",
       "      <td>37</td>\n",
       "      <td>0</td>\n",
       "      <td>12802503.0</td>\n",
       "      <td>40339.0</td>\n",
       "      <td>658.0</td>\n",
       "      <td>4305.0</td>\n",
       "      <td>22373.0</td>\n",
       "      <td>232085.0</td>\n",
       "      <td>39664.0</td>\n",
       "    </tr>\n",
       "    <tr>\n",
       "      <th>695</th>\n",
       "      <td>31</td>\n",
       "      <td>0</td>\n",
       "      <td>19746227.0</td>\n",
       "      <td>75398.0</td>\n",
       "      <td>617.0</td>\n",
       "      <td>5433.0</td>\n",
       "      <td>45303.0</td>\n",
       "      <td>339282.0</td>\n",
       "      <td>50781.0</td>\n",
       "    </tr>\n",
       "  </tbody>\n",
       "</table>\n",
       "<p>119 rows × 9 columns</p>\n",
       "</div>"
      ],
      "text/plain": [
       "     jurisdiction  includes_jails  state_population  violent_crime_total  \\\n",
       "633            20               0         6708874.0              27264.0   \n",
       "701            37               0        12787209.0              40164.0   \n",
       "652            39               0         4771929.0              24263.0   \n",
       "713            49               0          584153.0               1142.0   \n",
       "729            14               0         3123899.0               8936.0   \n",
       "..            ...             ...               ...                  ...   \n",
       "646            33               0          723857.0               1979.0   \n",
       "669             5               0         5355866.0              16554.0   \n",
       "672             8               0        19893297.0             107521.0   \n",
       "752            37               0        12802503.0              40339.0   \n",
       "695            31               0        19746227.0              75398.0   \n",
       "\n",
       "     murder_manslaughter  rape_revised  agg_assault  property_crime_total  \\\n",
       "633                138.0        2303.0      18118.0              137274.0   \n",
       "701                614.0        3827.0      22189.0              247016.0   \n",
       "652                305.0        2233.0      17760.0              173261.0   \n",
       "713                 16.0         174.0        899.0               11477.0   \n",
       "729                 72.0        1156.0       6661.0               63957.0   \n",
       "..                   ...           ...          ...                   ...   \n",
       "646                 16.0         355.0       1447.0               15356.0   \n",
       "669                151.0        3039.0      10325.0              135510.0   \n",
       "672               1149.0        8563.0      72895.0              679446.0   \n",
       "752                658.0        4305.0      22373.0              232085.0   \n",
       "695                617.0        5433.0      45303.0              339282.0   \n",
       "\n",
       "     burglary  \n",
       "633   30716.0  \n",
       "701   45720.0  \n",
       "652   40930.0  \n",
       "713    1689.0  \n",
       "729   14892.0  \n",
       "..        ...  \n",
       "646    2979.0  \n",
       "669   23472.0  \n",
       "672  143220.0  \n",
       "752   39664.0  \n",
       "695   50781.0  \n",
       "\n",
       "[119 rows x 9 columns]"
      ]
     },
     "execution_count": 23,
     "metadata": {
     },
     "output_type": "execute_result"
    }
   ],
   "source": [
    "#new_cdf = jurisdiction, includes_jail, state_population, violent_crime_total, rape_revised, murder_manslaughter, agg_assault, property_crime_total, burglary \n",
    "train, test = train_test_split(crime_df, test_size=0.2, shuffle=True)\n",
    "train_X = train[training_features]\n",
    "train_Y = train[target]\n",
    "test_X = test[training_features]\n",
    "test_Y = test[target]\n",
    "print(train_X.shape)\n",
    "train_X"
   ]
  },
  {
   "cell_type": "markdown",
   "metadata": {
    "collapsed": false
   },
   "source": [
    "#### Linear Model\n",
    "\n"
   ]
  },
  {
   "cell_type": "code",
   "execution_count": 24,
   "metadata": {
    "collapsed": false
   },
   "outputs": [
    {
     "data": {
      "text/html": [
       "<style>#sk-container-id-1 {color: black;background-color: white;}#sk-container-id-1 pre{padding: 0;}#sk-container-id-1 div.sk-toggleable {background-color: white;}#sk-container-id-1 label.sk-toggleable__label {cursor: pointer;display: block;width: 100%;margin-bottom: 0;padding: 0.3em;box-sizing: border-box;text-align: center;}#sk-container-id-1 label.sk-toggleable__label-arrow:before {content: \"▸\";float: left;margin-right: 0.25em;color: #696969;}#sk-container-id-1 label.sk-toggleable__label-arrow:hover:before {color: black;}#sk-container-id-1 div.sk-estimator:hover label.sk-toggleable__label-arrow:before {color: black;}#sk-container-id-1 div.sk-toggleable__content {max-height: 0;max-width: 0;overflow: hidden;text-align: left;background-color: #f0f8ff;}#sk-container-id-1 div.sk-toggleable__content pre {margin: 0.2em;color: black;border-radius: 0.25em;background-color: #f0f8ff;}#sk-container-id-1 input.sk-toggleable__control:checked~div.sk-toggleable__content {max-height: 200px;max-width: 100%;overflow: auto;}#sk-container-id-1 input.sk-toggleable__control:checked~label.sk-toggleable__label-arrow:before {content: \"▾\";}#sk-container-id-1 div.sk-estimator input.sk-toggleable__control:checked~label.sk-toggleable__label {background-color: #d4ebff;}#sk-container-id-1 div.sk-label input.sk-toggleable__control:checked~label.sk-toggleable__label {background-color: #d4ebff;}#sk-container-id-1 input.sk-hidden--visually {border: 0;clip: rect(1px 1px 1px 1px);clip: rect(1px, 1px, 1px, 1px);height: 1px;margin: -1px;overflow: hidden;padding: 0;position: absolute;width: 1px;}#sk-container-id-1 div.sk-estimator {font-family: monospace;background-color: #f0f8ff;border: 1px dotted black;border-radius: 0.25em;box-sizing: border-box;margin-bottom: 0.5em;}#sk-container-id-1 div.sk-estimator:hover {background-color: #d4ebff;}#sk-container-id-1 div.sk-parallel-item::after {content: \"\";width: 100%;border-bottom: 1px solid gray;flex-grow: 1;}#sk-container-id-1 div.sk-label:hover label.sk-toggleable__label {background-color: #d4ebff;}#sk-container-id-1 div.sk-serial::before {content: \"\";position: absolute;border-left: 1px solid gray;box-sizing: border-box;top: 0;bottom: 0;left: 50%;z-index: 0;}#sk-container-id-1 div.sk-serial {display: flex;flex-direction: column;align-items: center;background-color: white;padding-right: 0.2em;padding-left: 0.2em;position: relative;}#sk-container-id-1 div.sk-item {position: relative;z-index: 1;}#sk-container-id-1 div.sk-parallel {display: flex;align-items: stretch;justify-content: center;background-color: white;position: relative;}#sk-container-id-1 div.sk-item::before, #sk-container-id-1 div.sk-parallel-item::before {content: \"\";position: absolute;border-left: 1px solid gray;box-sizing: border-box;top: 0;bottom: 0;left: 50%;z-index: -1;}#sk-container-id-1 div.sk-parallel-item {display: flex;flex-direction: column;z-index: 1;position: relative;background-color: white;}#sk-container-id-1 div.sk-parallel-item:first-child::after {align-self: flex-end;width: 50%;}#sk-container-id-1 div.sk-parallel-item:last-child::after {align-self: flex-start;width: 50%;}#sk-container-id-1 div.sk-parallel-item:only-child::after {width: 0;}#sk-container-id-1 div.sk-dashed-wrapped {border: 1px dashed gray;margin: 0 0.4em 0.5em 0.4em;box-sizing: border-box;padding-bottom: 0.4em;background-color: white;}#sk-container-id-1 div.sk-label label {font-family: monospace;font-weight: bold;display: inline-block;line-height: 1.2em;}#sk-container-id-1 div.sk-label-container {text-align: center;}#sk-container-id-1 div.sk-container {/* jupyter's `normalize.less` sets `[hidden] { display: none; }` but bootstrap.min.css set `[hidden] { display: none !important; }` so we also need the `!important` here to be able to override the default hidden behavior on the sphinx rendered scikit-learn.org. See: https://github.com/scikit-learn/scikit-learn/issues/21755 */display: inline-block !important;position: relative;}#sk-container-id-1 div.sk-text-repr-fallback {display: none;}</style><div id=\"sk-container-id-1\" class=\"sk-top-container\"><div class=\"sk-text-repr-fallback\"><pre>LinearRegression()</pre><b>In a Jupyter environment, please rerun this cell to show the HTML representation or trust the notebook. <br />On GitHub, the HTML representation is unable to render, please try loading this page with nbviewer.org.</b></div><div class=\"sk-container\" hidden><div class=\"sk-item\"><div class=\"sk-estimator sk-toggleable\"><input class=\"sk-toggleable__control sk-hidden--visually\" id=\"sk-estimator-id-1\" type=\"checkbox\" checked><label for=\"sk-estimator-id-1\" class=\"sk-toggleable__label sk-toggleable__label-arrow\">LinearRegression</label><div class=\"sk-toggleable__content\"><pre>LinearRegression()</pre></div></div></div></div></div>"
      ],
      "text/plain": [
       "LinearRegression()"
      ]
     },
     "execution_count": 24,
     "metadata": {
     },
     "output_type": "execute_result"
    }
   ],
   "source": [
    "model = LinearRegression()\n",
    "model.fit(train_X, train_Y)"
   ]
  },
  {
   "cell_type": "code",
   "execution_count": 25,
   "metadata": {
    "collapsed": false
   },
   "outputs": [
    {
     "name": "stdout",
     "output_type": "stream",
     "text": [
      "5227.66901933673\n"
     ]
    }
   ],
   "source": [
    "train_pred_Y = model.predict(train_X)\n",
    "test_pred_Y = model.predict(test_X)\n",
    "train_pred_Y = pd.Series(train_pred_Y.clip(0, train_pred_Y.max()), index=train_Y.index)\n",
    "test_pred_Y = pd.Series(test_pred_Y.clip(0, test_pred_Y.max()), index=test_Y.index)\n",
    "\n",
    "print(mean_absolute_error(np.array(test_Y), test_pred_Y))"
   ]
  },
  {
   "cell_type": "code",
   "execution_count": 26,
   "metadata": {
    "collapsed": false
   },
   "outputs": [
    {
     "data": {
      "text/plain": [
       "0.944597693967246"
      ]
     },
     "execution_count": 26,
     "metadata": {
     },
     "output_type": "execute_result"
    }
   ],
   "source": [
    "result = model.score(test_X, test_Y)\n",
    "result"
   ]
  },
  {
   "cell_type": "markdown",
   "metadata": {
    "collapsed": false
   },
   "source": [
    "#### Random Forest Regressor\n",
    "\n"
   ]
  },
  {
   "cell_type": "code",
   "execution_count": 27,
   "metadata": {
    "collapsed": false
   },
   "outputs": [
    {
     "data": {
      "text/html": [
       "<style>#sk-container-id-2 {color: black;background-color: white;}#sk-container-id-2 pre{padding: 0;}#sk-container-id-2 div.sk-toggleable {background-color: white;}#sk-container-id-2 label.sk-toggleable__label {cursor: pointer;display: block;width: 100%;margin-bottom: 0;padding: 0.3em;box-sizing: border-box;text-align: center;}#sk-container-id-2 label.sk-toggleable__label-arrow:before {content: \"▸\";float: left;margin-right: 0.25em;color: #696969;}#sk-container-id-2 label.sk-toggleable__label-arrow:hover:before {color: black;}#sk-container-id-2 div.sk-estimator:hover label.sk-toggleable__label-arrow:before {color: black;}#sk-container-id-2 div.sk-toggleable__content {max-height: 0;max-width: 0;overflow: hidden;text-align: left;background-color: #f0f8ff;}#sk-container-id-2 div.sk-toggleable__content pre {margin: 0.2em;color: black;border-radius: 0.25em;background-color: #f0f8ff;}#sk-container-id-2 input.sk-toggleable__control:checked~div.sk-toggleable__content {max-height: 200px;max-width: 100%;overflow: auto;}#sk-container-id-2 input.sk-toggleable__control:checked~label.sk-toggleable__label-arrow:before {content: \"▾\";}#sk-container-id-2 div.sk-estimator input.sk-toggleable__control:checked~label.sk-toggleable__label {background-color: #d4ebff;}#sk-container-id-2 div.sk-label input.sk-toggleable__control:checked~label.sk-toggleable__label {background-color: #d4ebff;}#sk-container-id-2 input.sk-hidden--visually {border: 0;clip: rect(1px 1px 1px 1px);clip: rect(1px, 1px, 1px, 1px);height: 1px;margin: -1px;overflow: hidden;padding: 0;position: absolute;width: 1px;}#sk-container-id-2 div.sk-estimator {font-family: monospace;background-color: #f0f8ff;border: 1px dotted black;border-radius: 0.25em;box-sizing: border-box;margin-bottom: 0.5em;}#sk-container-id-2 div.sk-estimator:hover {background-color: #d4ebff;}#sk-container-id-2 div.sk-parallel-item::after {content: \"\";width: 100%;border-bottom: 1px solid gray;flex-grow: 1;}#sk-container-id-2 div.sk-label:hover label.sk-toggleable__label {background-color: #d4ebff;}#sk-container-id-2 div.sk-serial::before {content: \"\";position: absolute;border-left: 1px solid gray;box-sizing: border-box;top: 0;bottom: 0;left: 50%;z-index: 0;}#sk-container-id-2 div.sk-serial {display: flex;flex-direction: column;align-items: center;background-color: white;padding-right: 0.2em;padding-left: 0.2em;position: relative;}#sk-container-id-2 div.sk-item {position: relative;z-index: 1;}#sk-container-id-2 div.sk-parallel {display: flex;align-items: stretch;justify-content: center;background-color: white;position: relative;}#sk-container-id-2 div.sk-item::before, #sk-container-id-2 div.sk-parallel-item::before {content: \"\";position: absolute;border-left: 1px solid gray;box-sizing: border-box;top: 0;bottom: 0;left: 50%;z-index: -1;}#sk-container-id-2 div.sk-parallel-item {display: flex;flex-direction: column;z-index: 1;position: relative;background-color: white;}#sk-container-id-2 div.sk-parallel-item:first-child::after {align-self: flex-end;width: 50%;}#sk-container-id-2 div.sk-parallel-item:last-child::after {align-self: flex-start;width: 50%;}#sk-container-id-2 div.sk-parallel-item:only-child::after {width: 0;}#sk-container-id-2 div.sk-dashed-wrapped {border: 1px dashed gray;margin: 0 0.4em 0.5em 0.4em;box-sizing: border-box;padding-bottom: 0.4em;background-color: white;}#sk-container-id-2 div.sk-label label {font-family: monospace;font-weight: bold;display: inline-block;line-height: 1.2em;}#sk-container-id-2 div.sk-label-container {text-align: center;}#sk-container-id-2 div.sk-container {/* jupyter's `normalize.less` sets `[hidden] { display: none; }` but bootstrap.min.css set `[hidden] { display: none !important; }` so we also need the `!important` here to be able to override the default hidden behavior on the sphinx rendered scikit-learn.org. See: https://github.com/scikit-learn/scikit-learn/issues/21755 */display: inline-block !important;position: relative;}#sk-container-id-2 div.sk-text-repr-fallback {display: none;}</style><div id=\"sk-container-id-2\" class=\"sk-top-container\"><div class=\"sk-text-repr-fallback\"><pre>RandomForestRegressor(max_depth=8, n_estimators=5000)</pre><b>In a Jupyter environment, please rerun this cell to show the HTML representation or trust the notebook. <br />On GitHub, the HTML representation is unable to render, please try loading this page with nbviewer.org.</b></div><div class=\"sk-container\" hidden><div class=\"sk-item\"><div class=\"sk-estimator sk-toggleable\"><input class=\"sk-toggleable__control sk-hidden--visually\" id=\"sk-estimator-id-2\" type=\"checkbox\" checked><label for=\"sk-estimator-id-2\" class=\"sk-toggleable__label sk-toggleable__label-arrow\">RandomForestRegressor</label><div class=\"sk-toggleable__content\"><pre>RandomForestRegressor(max_depth=8, n_estimators=5000)</pre></div></div></div></div></div>"
      ],
      "text/plain": [
       "RandomForestRegressor(max_depth=8, n_estimators=5000)"
      ]
     },
     "execution_count": 27,
     "metadata": {
     },
     "output_type": "execute_result"
    }
   ],
   "source": [
    "import numpy as np\n",
    "import matplotlib.pyplot as plt\n",
    "import pandas as pd\n",
    "from sklearn.ensemble import RandomForestRegressor\n",
    "regressor_rf = RandomForestRegressor(n_estimators = 5000, max_depth = 8)\n",
    "regressor_rf.fit(train_X, train_Y) "
   ]
  },
  {
   "cell_type": "code",
   "execution_count": 28,
   "metadata": {
    "collapsed": false
   },
   "outputs": [
    {
     "name": "stdout",
     "output_type": "stream",
     "text": [
      "2945.4966696745064\n"
     ]
    },
    {
     "name": "stdout",
     "output_type": "stream",
     "text": [
      "Accuracy:  0.9775712248847894\n"
     ]
    }
   ],
   "source": [
    "random_result = regressor_rf.predict(test_X)\n",
    "print(mean_absolute_error(np.array(test_Y), random_result))\n",
    "\n",
    "resultrf = regressor_rf.score(test_X, test_Y)\n",
    "print(\"Accuracy: \", resultrf)"
   ]
  },
  {
   "cell_type": "markdown",
   "metadata": {
    "collapsed": false
   },
   "source": [
    "#### Decision Tree Regressor\n",
    "\n"
   ]
  },
  {
   "cell_type": "code",
   "execution_count": 29,
   "metadata": {
    "collapsed": false
   },
   "outputs": [
    {
     "data": {
      "text/html": [
       "<style>#sk-container-id-3 {color: black;background-color: white;}#sk-container-id-3 pre{padding: 0;}#sk-container-id-3 div.sk-toggleable {background-color: white;}#sk-container-id-3 label.sk-toggleable__label {cursor: pointer;display: block;width: 100%;margin-bottom: 0;padding: 0.3em;box-sizing: border-box;text-align: center;}#sk-container-id-3 label.sk-toggleable__label-arrow:before {content: \"▸\";float: left;margin-right: 0.25em;color: #696969;}#sk-container-id-3 label.sk-toggleable__label-arrow:hover:before {color: black;}#sk-container-id-3 div.sk-estimator:hover label.sk-toggleable__label-arrow:before {color: black;}#sk-container-id-3 div.sk-toggleable__content {max-height: 0;max-width: 0;overflow: hidden;text-align: left;background-color: #f0f8ff;}#sk-container-id-3 div.sk-toggleable__content pre {margin: 0.2em;color: black;border-radius: 0.25em;background-color: #f0f8ff;}#sk-container-id-3 input.sk-toggleable__control:checked~div.sk-toggleable__content {max-height: 200px;max-width: 100%;overflow: auto;}#sk-container-id-3 input.sk-toggleable__control:checked~label.sk-toggleable__label-arrow:before {content: \"▾\";}#sk-container-id-3 div.sk-estimator input.sk-toggleable__control:checked~label.sk-toggleable__label {background-color: #d4ebff;}#sk-container-id-3 div.sk-label input.sk-toggleable__control:checked~label.sk-toggleable__label {background-color: #d4ebff;}#sk-container-id-3 input.sk-hidden--visually {border: 0;clip: rect(1px 1px 1px 1px);clip: rect(1px, 1px, 1px, 1px);height: 1px;margin: -1px;overflow: hidden;padding: 0;position: absolute;width: 1px;}#sk-container-id-3 div.sk-estimator {font-family: monospace;background-color: #f0f8ff;border: 1px dotted black;border-radius: 0.25em;box-sizing: border-box;margin-bottom: 0.5em;}#sk-container-id-3 div.sk-estimator:hover {background-color: #d4ebff;}#sk-container-id-3 div.sk-parallel-item::after {content: \"\";width: 100%;border-bottom: 1px solid gray;flex-grow: 1;}#sk-container-id-3 div.sk-label:hover label.sk-toggleable__label {background-color: #d4ebff;}#sk-container-id-3 div.sk-serial::before {content: \"\";position: absolute;border-left: 1px solid gray;box-sizing: border-box;top: 0;bottom: 0;left: 50%;z-index: 0;}#sk-container-id-3 div.sk-serial {display: flex;flex-direction: column;align-items: center;background-color: white;padding-right: 0.2em;padding-left: 0.2em;position: relative;}#sk-container-id-3 div.sk-item {position: relative;z-index: 1;}#sk-container-id-3 div.sk-parallel {display: flex;align-items: stretch;justify-content: center;background-color: white;position: relative;}#sk-container-id-3 div.sk-item::before, #sk-container-id-3 div.sk-parallel-item::before {content: \"\";position: absolute;border-left: 1px solid gray;box-sizing: border-box;top: 0;bottom: 0;left: 50%;z-index: -1;}#sk-container-id-3 div.sk-parallel-item {display: flex;flex-direction: column;z-index: 1;position: relative;background-color: white;}#sk-container-id-3 div.sk-parallel-item:first-child::after {align-self: flex-end;width: 50%;}#sk-container-id-3 div.sk-parallel-item:last-child::after {align-self: flex-start;width: 50%;}#sk-container-id-3 div.sk-parallel-item:only-child::after {width: 0;}#sk-container-id-3 div.sk-dashed-wrapped {border: 1px dashed gray;margin: 0 0.4em 0.5em 0.4em;box-sizing: border-box;padding-bottom: 0.4em;background-color: white;}#sk-container-id-3 div.sk-label label {font-family: monospace;font-weight: bold;display: inline-block;line-height: 1.2em;}#sk-container-id-3 div.sk-label-container {text-align: center;}#sk-container-id-3 div.sk-container {/* jupyter's `normalize.less` sets `[hidden] { display: none; }` but bootstrap.min.css set `[hidden] { display: none !important; }` so we also need the `!important` here to be able to override the default hidden behavior on the sphinx rendered scikit-learn.org. See: https://github.com/scikit-learn/scikit-learn/issues/21755 */display: inline-block !important;position: relative;}#sk-container-id-3 div.sk-text-repr-fallback {display: none;}</style><div id=\"sk-container-id-3\" class=\"sk-top-container\"><div class=\"sk-text-repr-fallback\"><pre>DecisionTreeRegressor(random_state=0)</pre><b>In a Jupyter environment, please rerun this cell to show the HTML representation or trust the notebook. <br />On GitHub, the HTML representation is unable to render, please try loading this page with nbviewer.org.</b></div><div class=\"sk-container\" hidden><div class=\"sk-item\"><div class=\"sk-estimator sk-toggleable\"><input class=\"sk-toggleable__control sk-hidden--visually\" id=\"sk-estimator-id-3\" type=\"checkbox\" checked><label for=\"sk-estimator-id-3\" class=\"sk-toggleable__label sk-toggleable__label-arrow\">DecisionTreeRegressor</label><div class=\"sk-toggleable__content\"><pre>DecisionTreeRegressor(random_state=0)</pre></div></div></div></div></div>"
      ],
      "text/plain": [
       "DecisionTreeRegressor(random_state=0)"
      ]
     },
     "execution_count": 29,
     "metadata": {
     },
     "output_type": "execute_result"
    }
   ],
   "source": [
    "from sklearn.datasets import load_diabetes\n",
    "from sklearn.model_selection import cross_val_score\n",
    "from sklearn.tree import DecisionTreeRegressor\n",
    "\n",
    "from sklearn.datasets import load_iris\n",
    "from sklearn.tree import DecisionTreeClassifier\n",
    "from sklearn.model_selection import train_test_split\n",
    "regressor_dt = DecisionTreeRegressor(random_state = 0) \n",
    "regressor_dt.fit(train_X, train_Y)"
   ]
  },
  {
   "cell_type": "code",
   "execution_count": 30,
   "metadata": {
    "collapsed": false
   },
   "outputs": [
    {
     "name": "stdout",
     "output_type": "stream",
     "text": [
      "983.3666666666667\n",
      "Accuracy:  0.99728060766884\n"
     ]
    }
   ],
   "source": [
    "decision_result = regressor_dt.predict(test_X)\n",
    "print(mean_absolute_error(np.array(test_Y), decision_result))\n",
    "\n",
    "resultdt = regressor_dt.score(test_X, test_Y)\n",
    "print(\"Accuracy: \",resultdt)"
   ]
  },
  {
   "cell_type": "code",
   "execution_count": 31,
   "metadata": {
    "collapsed": false
   },
   "outputs": [
   ],
   "source": [
    "from sklearn.datasets import load_diabetes\n",
    "from sklearn.model_selection import cross_val_score\n",
    "from sklearn.tree import DecisionTreeRegressor\n",
    "\n",
    "from sklearn.datasets import load_iris\n",
    "from sklearn.tree import DecisionTreeClassifier\n",
    "from sklearn.model_selection import train_test_split\n",
    "regressor = DecisionTreeRegressor(random_state = 0) \n",
    "regressor.fit(train_X, train_Y)\n",
    "result = regressor.predict(train_X)"
   ]
  },
  {
   "cell_type": "markdown",
   "metadata": {
    "collapsed": false
   },
   "source": [
    "##### SVM\n",
    "\n"
   ]
  },
  {
   "cell_type": "code",
   "execution_count": 0,
   "metadata": {
    "collapsed": false
   },
   "outputs": [
   ],
   "source": [
   ]
  },
  {
   "cell_type": "code",
   "execution_count": 0,
   "metadata": {
    "collapsed": false
   },
   "outputs": [
   ],
   "source": [
   ]
  }
 ],
 "metadata": {
  "kernelspec": {
   "display_name": "Python (ds_env)",
   "language": "python",
   "metadata": {
    "debugger": true
   },
   "name": "ds_env",
   "resource_dir": "/projects/e5ac326b-8e23-49e3-8a5a-a6f96260b4dc/.local/share/jupyter/kernels/ds_env"
  },
  "language_info": {
   "codemirror_mode": {
    "name": "ipython",
    "version": 3
   },
   "file_extension": ".py",
   "mimetype": "text/x-python",
   "name": "python",
   "nbconvert_exporter": "python",
   "pygments_lexer": "ipython3",
   "version": "3.9.12"
  }
 },
 "nbformat": 4,
 "nbformat_minor": 4
}